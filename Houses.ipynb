{
 "cells": [
  {
   "cell_type": "markdown",
   "metadata": {},
   "source": [
    "# HOUSES REGISTRATION. Load Data"
   ]
  },
  {
   "cell_type": "code",
   "execution_count": 1,
   "metadata": {
    "ExecuteTime": {
     "end_time": "2021-05-07T09:52:20.340043Z",
     "start_time": "2021-05-07T09:52:20.266Z"
    }
   },
   "outputs": [],
   "source": [
    "NewHousesReg <- read.csv('NewHouseRegistrations_Ireland.csv')"
   ]
  },
  {
   "cell_type": "markdown",
   "metadata": {},
   "source": [
    "Load information"
   ]
  },
  {
   "cell_type": "code",
   "execution_count": 2,
   "metadata": {
    "ExecuteTime": {
     "end_time": "2021-05-07T09:52:20.554913Z",
     "start_time": "2021-05-07T09:52:20.274Z"
    }
   },
   "outputs": [
    {
     "name": "stdout",
     "output_type": "stream",
     "text": [
      "  ï..Year NewHouseRegistrations\n",
      "1    1978                  3781\n",
      "2    1979                  5565\n",
      "3    1980                  9609\n",
      "4    1981                 10785\n",
      "5    1982                  9448\n",
      "6    1983                 10830\n"
     ]
    },
    {
     "data": {
      "text/html": [
       "'data.frame'"
      ],
      "text/latex": [
       "'data.frame'"
      ],
      "text/markdown": [
       "'data.frame'"
      ],
      "text/plain": [
       "[1] \"data.frame\""
      ]
     },
     "metadata": {},
     "output_type": "display_data"
    }
   ],
   "source": [
    "print(head(NewHousesReg))\n",
    "class(NewHousesReg)"
   ]
  },
  {
   "cell_type": "code",
   "execution_count": 3,
   "metadata": {
    "ExecuteTime": {
     "end_time": "2021-05-07T09:52:20.637857Z",
     "start_time": "2021-05-07T09:52:20.280Z"
    }
   },
   "outputs": [
    {
     "name": "stdout",
     "output_type": "stream",
     "text": [
      "'data.frame':\t42 obs. of  2 variables:\n",
      " $ ï..Year              : int  1978 1979 1980 1981 1982 1983 1984 1985 1986 1987 ...\n",
      " $ NewHouseRegistrations: int  3781 5565 9609 10785 9448 10830 10422 8819 8249 7099 ...\n"
     ]
    }
   ],
   "source": [
    "str(NewHousesReg)"
   ]
  },
  {
   "cell_type": "code",
   "execution_count": 4,
   "metadata": {
    "ExecuteTime": {
     "end_time": "2021-05-07T09:52:20.715811Z",
     "start_time": "2021-05-07T09:52:20.287Z"
    }
   },
   "outputs": [
    {
     "data": {
      "text/html": [
       "FALSE"
      ],
      "text/latex": [
       "FALSE"
      ],
      "text/markdown": [
       "FALSE"
      ],
      "text/plain": [
       "[1] FALSE"
      ]
     },
     "metadata": {},
     "output_type": "display_data"
    }
   ],
   "source": [
    "is.ts(NewHousesReg)"
   ]
  },
  {
   "cell_type": "code",
   "execution_count": 5,
   "metadata": {
    "ExecuteTime": {
     "end_time": "2021-05-07T09:52:20.770776Z",
     "start_time": "2021-05-07T09:52:20.293Z"
    }
   },
   "outputs": [],
   "source": [
    "names(NewHousesReg)[1] <- \"Year\""
   ]
  },
  {
   "cell_type": "code",
   "execution_count": 6,
   "metadata": {
    "ExecuteTime": {
     "end_time": "2021-05-07T09:52:20.832739Z",
     "start_time": "2021-05-07T09:52:20.298Z"
    }
   },
   "outputs": [
    {
     "name": "stdout",
     "output_type": "stream",
     "text": [
      "'data.frame':\t42 obs. of  2 variables:\n",
      " $ Year                 : int  1978 1979 1980 1981 1982 1983 1984 1985 1986 1987 ...\n",
      " $ NewHouseRegistrations: int  3781 5565 9609 10785 9448 10830 10422 8819 8249 7099 ...\n"
     ]
    }
   ],
   "source": [
    "str(NewHousesReg)"
   ]
  },
  {
   "cell_type": "code",
   "execution_count": 7,
   "metadata": {
    "ExecuteTime": {
     "end_time": "2021-05-07T09:52:20.891704Z",
     "start_time": "2021-05-07T09:52:20.305Z"
    }
   },
   "outputs": [],
   "source": [
    "NewHouses <- ts(NewHousesReg[,2], start=c(1978,1), frequency=1)\n"
   ]
  },
  {
   "cell_type": "code",
   "execution_count": 8,
   "metadata": {
    "ExecuteTime": {
     "end_time": "2021-05-07T09:52:20.946666Z",
     "start_time": "2021-05-07T09:52:20.310Z"
    }
   },
   "outputs": [
    {
     "data": {
      "text/html": [
       "TRUE"
      ],
      "text/latex": [
       "TRUE"
      ],
      "text/markdown": [
       "TRUE"
      ],
      "text/plain": [
       "[1] TRUE"
      ]
     },
     "metadata": {},
     "output_type": "display_data"
    }
   ],
   "source": [
    "is.ts(NewHouses)"
   ]
  },
  {
   "cell_type": "code",
   "execution_count": 9,
   "metadata": {
    "ExecuteTime": {
     "end_time": "2021-05-07T09:52:21.073594Z",
     "start_time": "2021-05-07T09:52:20.316Z"
    }
   },
   "outputs": [
    {
     "data": {
      "image/png": "[encoded data removed]",
      "text/plain": [
       "plot without title"
      ]
     },
     "metadata": {
      "image/png": {
       "height": 420,
       "width": 420
      }
     },
     "output_type": "display_data"
    }
   ],
   "source": [
    "plot(NewHouses)"
   ]
  },
  {
   "cell_type": "code",
   "execution_count": 10,
   "metadata": {
    "ExecuteTime": {
     "end_time": "2021-05-07T09:52:21.125560Z",
     "start_time": "2021-05-07T09:52:20.323Z"
    }
   },
   "outputs": [
    {
     "data": {
      "text/html": [
       "'ts'"
      ],
      "text/latex": [
       "'ts'"
      ],
      "text/markdown": [
       "'ts'"
      ],
      "text/plain": [
       "[1] \"ts\""
      ]
     },
     "metadata": {},
     "output_type": "display_data"
    }
   ],
   "source": [
    "class(NewHouses)"
   ]
  },
  {
   "cell_type": "code",
   "execution_count": 11,
   "metadata": {
    "ExecuteTime": {
     "end_time": "2021-05-07T09:52:21.186520Z",
     "start_time": "2021-05-07T09:52:20.330Z"
    }
   },
   "outputs": [
    {
     "data": {
      "text/html": [
       "1"
      ],
      "text/latex": [
       "1"
      ],
      "text/markdown": [
       "1"
      ],
      "text/plain": [
       "[1] 1"
      ]
     },
     "metadata": {},
     "output_type": "display_data"
    }
   ],
   "source": [
    "frequency(NewHouses)"
   ]
  },
  {
   "cell_type": "code",
   "execution_count": 12,
   "metadata": {
    "ExecuteTime": {
     "end_time": "2021-05-07T09:52:21.242485Z",
     "start_time": "2021-05-07T09:52:20.336Z"
    }
   },
   "outputs": [
    {
     "data": {
      "text/html": [
       "<style>\n",
       ".list-inline {list-style: none; margin:0; padding: 0}\n",
       ".list-inline>li {display: inline-block}\n",
       ".list-inline>li:not(:last-child)::after {content: \"\\00b7\"; padding: 0 .5ex}\n",
       "</style>\n",
       "<ol class=list-inline><li>1978</li><li>1</li></ol>\n"
      ],
      "text/latex": [
       "\\begin{enumerate*}\n",
       "\\item 1978\n",
       "\\item 1\n",
       "\\end{enumerate*}\n"
      ],
      "text/markdown": [
       "1. 1978\n",
       "2. 1\n",
       "\n",
       "\n"
      ],
      "text/plain": [
       "[1] 1978    1"
      ]
     },
     "metadata": {},
     "output_type": "display_data"
    }
   ],
   "source": [
    "start(NewHouses)"
   ]
  },
  {
   "cell_type": "code",
   "execution_count": 13,
   "metadata": {
    "ExecuteTime": {
     "end_time": "2021-05-07T09:52:21.302450Z",
     "start_time": "2021-05-07T09:52:20.342Z"
    }
   },
   "outputs": [
    {
     "data": {
      "text/html": [
       "<style>\n",
       ".list-inline {list-style: none; margin:0; padding: 0}\n",
       ".list-inline>li {display: inline-block}\n",
       ".list-inline>li:not(:last-child)::after {content: \"\\00b7\"; padding: 0 .5ex}\n",
       "</style>\n",
       "<ol class=list-inline><li>2019</li><li>1</li></ol>\n"
      ],
      "text/latex": [
       "\\begin{enumerate*}\n",
       "\\item 2019\n",
       "\\item 1\n",
       "\\end{enumerate*}\n"
      ],
      "text/markdown": [
       "1. 2019\n",
       "2. 1\n",
       "\n",
       "\n"
      ],
      "text/plain": [
       "[1] 2019    1"
      ]
     },
     "metadata": {},
     "output_type": "display_data"
    }
   ],
   "source": [
    "end(NewHouses)"
   ]
  },
  {
   "cell_type": "code",
   "execution_count": 14,
   "metadata": {
    "ExecuteTime": {
     "end_time": "2021-05-07T09:52:21.374404Z",
     "start_time": "2021-05-07T09:52:20.351Z"
    }
   },
   "outputs": [
    {
     "data": {
      "text/html": [
       "A Time Series:<br><style>\n",
       ".list-inline {list-style: none; margin:0; padding: 0}\n",
       ".list-inline>li {display: inline-block}\n",
       ".list-inline>li:not(:last-child)::after {content: \"\\00b7\"; padding: 0 .5ex}\n",
       "</style>\n",
       "<ol class=list-inline><li>1</li><li>1</li><li>1</li><li>1</li><li>1</li><li>1</li><li>1</li><li>1</li><li>1</li><li>1</li><li>1</li><li>1</li><li>1</li><li>1</li><li>1</li><li>1</li><li>1</li><li>1</li><li>1</li><li>1</li><li>1</li><li>1</li><li>1</li><li>1</li><li>1</li><li>1</li><li>1</li><li>1</li><li>1</li><li>1</li><li>1</li><li>1</li><li>1</li><li>1</li><li>1</li><li>1</li><li>1</li><li>1</li><li>1</li><li>1</li><li>1</li><li>1</li></ol>\n"
      ],
      "text/latex": [
       "A Time Series:\\\\\\begin{enumerate*}\n",
       "\\item 1\n",
       "\\item 1\n",
       "\\item 1\n",
       "\\item 1\n",
       "\\item 1\n",
       "\\item 1\n",
       "\\item 1\n",
       "\\item 1\n",
       "\\item 1\n",
       "\\item 1\n",
       "\\item 1\n",
       "\\item 1\n",
       "\\item 1\n",
       "\\item 1\n",
       "\\item 1\n",
       "\\item 1\n",
       "\\item 1\n",
       "\\item 1\n",
       "\\item 1\n",
       "\\item 1\n",
       "\\item 1\n",
       "\\item 1\n",
       "\\item 1\n",
       "\\item 1\n",
       "\\item 1\n",
       "\\item 1\n",
       "\\item 1\n",
       "\\item 1\n",
       "\\item 1\n",
       "\\item 1\n",
       "\\item 1\n",
       "\\item 1\n",
       "\\item 1\n",
       "\\item 1\n",
       "\\item 1\n",
       "\\item 1\n",
       "\\item 1\n",
       "\\item 1\n",
       "\\item 1\n",
       "\\item 1\n",
       "\\item 1\n",
       "\\item 1\n",
       "\\end{enumerate*}\n"
      ],
      "text/markdown": [
       "A Time Series:  \n",
       "1. 1\n",
       "2. 1\n",
       "3. 1\n",
       "4. 1\n",
       "5. 1\n",
       "6. 1\n",
       "7. 1\n",
       "8. 1\n",
       "9. 1\n",
       "10. 1\n",
       "11. 1\n",
       "12. 1\n",
       "13. 1\n",
       "14. 1\n",
       "15. 1\n",
       "16. 1\n",
       "17. 1\n",
       "18. 1\n",
       "19. 1\n",
       "20. 1\n",
       "21. 1\n",
       "22. 1\n",
       "23. 1\n",
       "24. 1\n",
       "25. 1\n",
       "26. 1\n",
       "27. 1\n",
       "28. 1\n",
       "29. 1\n",
       "30. 1\n",
       "31. 1\n",
       "32. 1\n",
       "33. 1\n",
       "34. 1\n",
       "35. 1\n",
       "36. 1\n",
       "37. 1\n",
       "38. 1\n",
       "39. 1\n",
       "40. 1\n",
       "41. 1\n",
       "42. 1\n",
       "\n",
       "\n"
      ],
      "text/plain": [
       "A Time Series:\n",
       " [1] 1 1 1 1 1 1 1 1 1 1 1 1 1 1 1 1 1 1 1 1 1 1 1 1 1 1 1 1 1 1 1 1 1 1 1 1 1 1\n",
       "[39] 1 1 1 1"
      ]
     },
     "metadata": {},
     "output_type": "display_data"
    }
   ],
   "source": [
    "cycle(NewHouses)"
   ]
  },
  {
   "cell_type": "code",
   "execution_count": 15,
   "metadata": {
    "ExecuteTime": {
     "end_time": "2021-05-07T09:52:21.434365Z",
     "start_time": "2021-05-07T09:52:20.360Z"
    }
   },
   "outputs": [
    {
     "data": {
      "text/html": [
       "A Time Series:<br><style>\n",
       ".list-inline {list-style: none; margin:0; padding: 0}\n",
       ".list-inline>li {display: inline-block}\n",
       ".list-inline>li:not(:last-child)::after {content: \"\\00b7\"; padding: 0 .5ex}\n",
       "</style>\n",
       "<ol class=list-inline><li>1978</li><li>1979</li><li>1980</li><li>1981</li><li>1982</li><li>1983</li><li>1984</li><li>1985</li><li>1986</li><li>1987</li><li>1988</li><li>1989</li><li>1990</li><li>1991</li><li>1992</li><li>1993</li><li>1994</li><li>1995</li><li>1996</li><li>1997</li><li>1998</li><li>1999</li><li>2000</li><li>2001</li><li>2002</li><li>2003</li><li>2004</li><li>2005</li><li>2006</li><li>2007</li><li>2008</li><li>2009</li><li>2010</li><li>2011</li><li>2012</li><li>2013</li><li>2014</li><li>2015</li><li>2016</li><li>2017</li><li>2018</li><li>2019</li></ol>\n"
      ],
      "text/latex": [
       "A Time Series:\\\\\\begin{enumerate*}\n",
       "\\item 1978\n",
       "\\item 1979\n",
       "\\item 1980\n",
       "\\item 1981\n",
       "\\item 1982\n",
       "\\item 1983\n",
       "\\item 1984\n",
       "\\item 1985\n",
       "\\item 1986\n",
       "\\item 1987\n",
       "\\item 1988\n",
       "\\item 1989\n",
       "\\item 1990\n",
       "\\item 1991\n",
       "\\item 1992\n",
       "\\item 1993\n",
       "\\item 1994\n",
       "\\item 1995\n",
       "\\item 1996\n",
       "\\item 1997\n",
       "\\item 1998\n",
       "\\item 1999\n",
       "\\item 2000\n",
       "\\item 2001\n",
       "\\item 2002\n",
       "\\item 2003\n",
       "\\item 2004\n",
       "\\item 2005\n",
       "\\item 2006\n",
       "\\item 2007\n",
       "\\item 2008\n",
       "\\item 2009\n",
       "\\item 2010\n",
       "\\item 2011\n",
       "\\item 2012\n",
       "\\item 2013\n",
       "\\item 2014\n",
       "\\item 2015\n",
       "\\item 2016\n",
       "\\item 2017\n",
       "\\item 2018\n",
       "\\item 2019\n",
       "\\end{enumerate*}\n"
      ],
      "text/markdown": [
       "A Time Series:  \n",
       "1. 1978\n",
       "2. 1979\n",
       "3. 1980\n",
       "4. 1981\n",
       "5. 1982\n",
       "6. 1983\n",
       "7. 1984\n",
       "8. 1985\n",
       "9. 1986\n",
       "10. 1987\n",
       "11. 1988\n",
       "12. 1989\n",
       "13. 1990\n",
       "14. 1991\n",
       "15. 1992\n",
       "16. 1993\n",
       "17. 1994\n",
       "18. 1995\n",
       "19. 1996\n",
       "20. 1997\n",
       "21. 1998\n",
       "22. 1999\n",
       "23. 2000\n",
       "24. 2001\n",
       "25. 2002\n",
       "26. 2003\n",
       "27. 2004\n",
       "28. 2005\n",
       "29. 2006\n",
       "30. 2007\n",
       "31. 2008\n",
       "32. 2009\n",
       "33. 2010\n",
       "34. 2011\n",
       "35. 2012\n",
       "36. 2013\n",
       "37. 2014\n",
       "38. 2015\n",
       "39. 2016\n",
       "40. 2017\n",
       "41. 2018\n",
       "42. 2019\n",
       "\n",
       "\n"
      ],
      "text/plain": [
       "A Time Series:\n",
       " [1] 1978 1979 1980 1981 1982 1983 1984 1985 1986 1987 1988 1989 1990 1991 1992\n",
       "[16] 1993 1994 1995 1996 1997 1998 1999 2000 2001 2002 2003 2004 2005 2006 2007\n",
       "[31] 2008 2009 2010 2011 2012 2013 2014 2015 2016 2017 2018 2019"
      ]
     },
     "metadata": {},
     "output_type": "display_data"
    }
   ],
   "source": [
    "time(NewHouses)"
   ]
  },
  {
   "cell_type": "code",
   "execution_count": 16,
   "metadata": {
    "ExecuteTime": {
     "end_time": "2021-05-07T09:52:24.046880Z",
     "start_time": "2021-05-07T09:52:20.372Z"
    }
   },
   "outputs": [
    {
     "name": "stderr",
     "output_type": "stream",
     "text": [
      "Warning message:\n",
      "\"package 'fpp2' was built under R version 4.0.5\"\n",
      "Registered S3 method overwritten by 'quantmod':\n",
      "  method            from\n",
      "  as.zoo.data.frame zoo \n",
      "\n",
      "-- \u001b[1mAttaching packages\u001b[22m ---------------------------------------------- fpp2 2.4 --\n",
      "\n",
      "\u001b[32mv\u001b[39m \u001b[34mggplot2  \u001b[39m 3.3.3     \u001b[32mv\u001b[39m \u001b[34mfma      \u001b[39m 2.4  \n",
      "\u001b[32mv\u001b[39m \u001b[34mforecast \u001b[39m 8.14      \u001b[32mv\u001b[39m \u001b[34mexpsmooth\u001b[39m 2.3  \n",
      "\n",
      "\n",
      "\n"
     ]
    }
   ],
   "source": [
    "library('fpp2')\n",
    "library('forecast')\n",
    "library('tseries')"
   ]
  },
  {
   "cell_type": "markdown",
   "metadata": {},
   "source": [
    "# Somoothing Time series"
   ]
  },
  {
   "cell_type": "code",
   "execution_count": 17,
   "metadata": {
    "ExecuteTime": {
     "end_time": "2021-05-07T09:52:24.125176Z",
     "start_time": "2021-05-07T09:52:20.383Z"
    }
   },
   "outputs": [
    {
     "data": {
      "text/plain": [
       "\n",
       "\tAugmented Dickey-Fuller Test\n",
       "\n",
       "data:  NewHouses\n",
       "Dickey-Fuller = -2.1252, Lag order = 3, p-value = 0.5243\n",
       "alternative hypothesis: stationary\n"
      ]
     },
     "metadata": {},
     "output_type": "display_data"
    }
   ],
   "source": [
    "adf.test(NewHouses)"
   ]
  },
  {
   "cell_type": "markdown",
   "metadata": {},
   "source": [
    "Compute yearly averages"
   ]
  },
  {
   "cell_type": "code",
   "execution_count": 18,
   "metadata": {
    "ExecuteTime": {
     "end_time": "2021-05-07T09:52:24.188142Z",
     "start_time": "2021-05-07T09:52:20.393Z"
    }
   },
   "outputs": [
    {
     "data": {
      "text/html": [
       "A Time Series:<br><style>\n",
       ".list-inline {list-style: none; margin:0; padding: 0}\n",
       ".list-inline>li {display: inline-block}\n",
       ".list-inline>li:not(:last-child)::after {content: \"\\00b7\"; padding: 0 .5ex}\n",
       "</style>\n",
       "<ol class=list-inline><li>3781</li><li>5565</li><li>9609</li><li>10785</li><li>9448</li><li>10830</li><li>10422</li><li>8819</li><li>8249</li><li>7099</li><li>8297</li><li>11627</li><li>11346</li><li>10658</li><li>12748</li><li>13666</li><li>17822</li><li>19727</li><li>23769</li><li>27080</li><li>29067</li><li>33852</li><li>34613</li><li>28845</li><li>51017</li><li>56859</li><li>60782</li><li>62284</li><li>66649</li><li>38351</li><li>12676</li><li>3743</li><li>1680</li><li>834</li><li>627</li><li>1326</li><li>2574</li><li>4297</li><li>5626</li><li>9466</li><li>10265</li><li>10784</li></ol>\n"
      ],
      "text/latex": [
       "A Time Series:\\\\\\begin{enumerate*}\n",
       "\\item 3781\n",
       "\\item 5565\n",
       "\\item 9609\n",
       "\\item 10785\n",
       "\\item 9448\n",
       "\\item 10830\n",
       "\\item 10422\n",
       "\\item 8819\n",
       "\\item 8249\n",
       "\\item 7099\n",
       "\\item 8297\n",
       "\\item 11627\n",
       "\\item 11346\n",
       "\\item 10658\n",
       "\\item 12748\n",
       "\\item 13666\n",
       "\\item 17822\n",
       "\\item 19727\n",
       "\\item 23769\n",
       "\\item 27080\n",
       "\\item 29067\n",
       "\\item 33852\n",
       "\\item 34613\n",
       "\\item 28845\n",
       "\\item 51017\n",
       "\\item 56859\n",
       "\\item 60782\n",
       "\\item 62284\n",
       "\\item 66649\n",
       "\\item 38351\n",
       "\\item 12676\n",
       "\\item 3743\n",
       "\\item 1680\n",
       "\\item 834\n",
       "\\item 627\n",
       "\\item 1326\n",
       "\\item 2574\n",
       "\\item 4297\n",
       "\\item 5626\n",
       "\\item 9466\n",
       "\\item 10265\n",
       "\\item 10784\n",
       "\\end{enumerate*}\n"
      ],
      "text/markdown": [
       "A Time Series:  \n",
       "1. 3781\n",
       "2. 5565\n",
       "3. 9609\n",
       "4. 10785\n",
       "5. 9448\n",
       "6. 10830\n",
       "7. 10422\n",
       "8. 8819\n",
       "9. 8249\n",
       "10. 7099\n",
       "11. 8297\n",
       "12. 11627\n",
       "13. 11346\n",
       "14. 10658\n",
       "15. 12748\n",
       "16. 13666\n",
       "17. 17822\n",
       "18. 19727\n",
       "19. 23769\n",
       "20. 27080\n",
       "21. 29067\n",
       "22. 33852\n",
       "23. 34613\n",
       "24. 28845\n",
       "25. 51017\n",
       "26. 56859\n",
       "27. 60782\n",
       "28. 62284\n",
       "29. 66649\n",
       "30. 38351\n",
       "31. 12676\n",
       "32. 3743\n",
       "33. 1680\n",
       "34. 834\n",
       "35. 627\n",
       "36. 1326\n",
       "37. 2574\n",
       "38. 4297\n",
       "39. 5626\n",
       "40. 9466\n",
       "41. 10265\n",
       "42. 10784\n",
       "\n",
       "\n"
      ],
      "text/plain": [
       "A Time Series:\n",
       " [1]  3781  5565  9609 10785  9448 10830 10422  8819  8249  7099  8297 11627\n",
       "[13] 11346 10658 12748 13666 17822 19727 23769 27080 29067 33852 34613 28845\n",
       "[25] 51017 56859 60782 62284 66649 38351 12676  3743  1680   834   627  1326\n",
       "[37]  2574  4297  5626  9466 10265 10784"
      ]
     },
     "metadata": {},
     "output_type": "display_data"
    }
   ],
   "source": [
    "NH_avg <- aggregate(NewHouses, FUN=mean)\n",
    "NH_avg"
   ]
  },
  {
   "cell_type": "code",
   "execution_count": 19,
   "metadata": {
    "ExecuteTime": {
     "end_time": "2021-05-07T09:52:24.327059Z",
     "start_time": "2021-05-07T09:52:20.401Z"
    }
   },
   "outputs": [
    {
     "data": {
      "image/png": "[encoded data removed]",
      "text/plain": [
       "plot without title"
      ]
     },
     "metadata": {
      "image/png": {
       "height": 420,
       "width": 420
      }
     },
     "output_type": "display_data"
    }
   ],
   "source": [
    "plot(NewHouses, col='red')\n",
    "lines(NH_avg, col='blue', lw=4)"
   ]
  },
  {
   "cell_type": "code",
   "execution_count": 20,
   "metadata": {
    "ExecuteTime": {
     "end_time": "2021-05-07T09:52:24.441984Z",
     "start_time": "2021-05-07T09:52:20.408Z"
    }
   },
   "outputs": [
    {
     "data": {
      "image/png": "[encoded data removed]",
      "text/plain": [
       "plot without title"
      ]
     },
     "metadata": {
      "image/png": {
       "height": 420,
       "width": 420
      }
     },
     "output_type": "display_data"
    }
   ],
   "source": [
    "boxplot(NewHouses ~ cycle(NewHouses))"
   ]
  },
  {
   "cell_type": "markdown",
   "metadata": {},
   "source": [
    "## Moving Average"
   ]
  },
  {
   "cell_type": "code",
   "execution_count": 21,
   "metadata": {
    "ExecuteTime": {
     "end_time": "2021-05-07T09:52:24.504942Z",
     "start_time": "2021-05-07T09:52:20.420Z"
    }
   },
   "outputs": [
    {
     "data": {
      "text/html": [
       "A Time Series:<br><style>\n",
       ".list-inline {list-style: none; margin:0; padding: 0}\n",
       ".list-inline>li {display: inline-block}\n",
       ".list-inline>li:not(:last-child)::after {content: \"\\00b7\"; padding: 0 .5ex}\n",
       "</style>\n",
       "<ol class=list-inline><li>&lt;NA&gt;</li><li>&lt;NA&gt;</li><li>7837.6</li><li>9247.4</li><li>10218.8</li><li>10060.8</li><li>9553.6</li><li>9083.8</li><li>8577.2</li><li>8818.2</li><li>9323.6</li><li>9805.4</li><li>10935.2</li><li>12009</li><li>13248</li><li>14924.2</li><li>17546.4</li><li>20412.8</li><li>23493</li><li>26699</li><li>29676.2</li><li>30691.4</li><li>35478.8</li><li>41037.2</li><li>46423.2</li><li>51957.4</li><li>59518.2</li><li>56985</li><li>48148.4</li><li>36740.6</li><li>24619.8</li><li>11456.8</li><li>3912</li><li>1642</li><li>1408.2</li><li>1931.6</li><li>2890</li><li>4657.8</li><li>6445.6</li><li>8087.6</li><li>&lt;NA&gt;</li><li>&lt;NA&gt;</li></ol>\n"
      ],
      "text/latex": [
       "A Time Series:\\\\\\begin{enumerate*}\n",
       "\\item <NA>\n",
       "\\item <NA>\n",
       "\\item 7837.6\n",
       "\\item 9247.4\n",
       "\\item 10218.8\n",
       "\\item 10060.8\n",
       "\\item 9553.6\n",
       "\\item 9083.8\n",
       "\\item 8577.2\n",
       "\\item 8818.2\n",
       "\\item 9323.6\n",
       "\\item 9805.4\n",
       "\\item 10935.2\n",
       "\\item 12009\n",
       "\\item 13248\n",
       "\\item 14924.2\n",
       "\\item 17546.4\n",
       "\\item 20412.8\n",
       "\\item 23493\n",
       "\\item 26699\n",
       "\\item 29676.2\n",
       "\\item 30691.4\n",
       "\\item 35478.8\n",
       "\\item 41037.2\n",
       "\\item 46423.2\n",
       "\\item 51957.4\n",
       "\\item 59518.2\n",
       "\\item 56985\n",
       "\\item 48148.4\n",
       "\\item 36740.6\n",
       "\\item 24619.8\n",
       "\\item 11456.8\n",
       "\\item 3912\n",
       "\\item 1642\n",
       "\\item 1408.2\n",
       "\\item 1931.6\n",
       "\\item 2890\n",
       "\\item 4657.8\n",
       "\\item 6445.6\n",
       "\\item 8087.6\n",
       "\\item <NA>\n",
       "\\item <NA>\n",
       "\\end{enumerate*}\n"
      ],
      "text/markdown": [
       "A Time Series:  \n",
       "1. &lt;NA&gt;\n",
       "2. &lt;NA&gt;\n",
       "3. 7837.6\n",
       "4. 9247.4\n",
       "5. 10218.8\n",
       "6. 10060.8\n",
       "7. 9553.6\n",
       "8. 9083.8\n",
       "9. 8577.2\n",
       "10. 8818.2\n",
       "11. 9323.6\n",
       "12. 9805.4\n",
       "13. 10935.2\n",
       "14. 12009\n",
       "15. 13248\n",
       "16. 14924.2\n",
       "17. 17546.4\n",
       "18. 20412.8\n",
       "19. 23493\n",
       "20. 26699\n",
       "21. 29676.2\n",
       "22. 30691.4\n",
       "23. 35478.8\n",
       "24. 41037.2\n",
       "25. 46423.2\n",
       "26. 51957.4\n",
       "27. 59518.2\n",
       "28. 56985\n",
       "29. 48148.4\n",
       "30. 36740.6\n",
       "31. 24619.8\n",
       "32. 11456.8\n",
       "33. 3912\n",
       "34. 1642\n",
       "35. 1408.2\n",
       "36. 1931.6\n",
       "37. 2890\n",
       "38. 4657.8\n",
       "39. 6445.6\n",
       "40. 8087.6\n",
       "41. &lt;NA&gt;\n",
       "42. &lt;NA&gt;\n",
       "\n",
       "\n"
      ],
      "text/plain": [
       "A Time Series:\n",
       " [1]      NA      NA  7837.6  9247.4 10218.8 10060.8  9553.6  9083.8  8577.2\n",
       "[10]  8818.2  9323.6  9805.4 10935.2 12009.0 13248.0 14924.2 17546.4 20412.8\n",
       "[19] 23493.0 26699.0 29676.2 30691.4 35478.8 41037.2 46423.2 51957.4 59518.2\n",
       "[28] 56985.0 48148.4 36740.6 24619.8 11456.8  3912.0  1642.0  1408.2  1931.6\n",
       "[37]  2890.0  4657.8  6445.6  8087.6      NA      NA"
      ]
     },
     "metadata": {},
     "output_type": "display_data"
    }
   ],
   "source": [
    "ma(NewHouses, order=5)"
   ]
  },
  {
   "cell_type": "code",
   "execution_count": 22,
   "metadata": {
    "ExecuteTime": {
     "end_time": "2021-05-07T09:52:24.559911Z",
     "start_time": "2021-05-07T09:52:20.430Z"
    }
   },
   "outputs": [
    {
     "data": {
      "text/html": [
       "A Time Series:<br><style>\n",
       ".list-inline {list-style: none; margin:0; padding: 0}\n",
       ".list-inline>li {display: inline-block}\n",
       ".list-inline>li:not(:last-child)::after {content: \"\\00b7\"; padding: 0 .5ex}\n",
       "</style>\n",
       "<ol class=list-inline><li>&lt;NA&gt;</li><li>&lt;NA&gt;</li><li>&lt;NA&gt;</li><li>&lt;NA&gt;</li><li>&lt;NA&gt;</li><li>8686.5</li><li>9215.4</li><li>9605.35</li><li>9685.85</li><li>9844.5</li><li>10151.3</li><li>10663.1</li><li>11578.5</li><li>12899.9</li><li>14674.95</li><li>16712.5</li><li>18862.25</li><li>21136.85</li><li>23209.55</li><li>26032.35</li><li>30105.45</li><li>34413.1</li><li>38688.95</li><li>42960.8</li><li>45668.35</li><li>45412.35</li><li>43087.35</li><li>39935.25</li><li>36888.05</li><li>32968</li><li>27671.85</li><li>21984.8</li><li>16175.05</li><li>10224.55</li><li>5729.15</li><li>4164.35</li><li>4395.85</li><li>&lt;NA&gt;</li><li>&lt;NA&gt;</li><li>&lt;NA&gt;</li><li>&lt;NA&gt;</li><li>&lt;NA&gt;</li></ol>\n"
      ],
      "text/latex": [
       "A Time Series:\\\\\\begin{enumerate*}\n",
       "\\item <NA>\n",
       "\\item <NA>\n",
       "\\item <NA>\n",
       "\\item <NA>\n",
       "\\item <NA>\n",
       "\\item 8686.5\n",
       "\\item 9215.4\n",
       "\\item 9605.35\n",
       "\\item 9685.85\n",
       "\\item 9844.5\n",
       "\\item 10151.3\n",
       "\\item 10663.1\n",
       "\\item 11578.5\n",
       "\\item 12899.9\n",
       "\\item 14674.95\n",
       "\\item 16712.5\n",
       "\\item 18862.25\n",
       "\\item 21136.85\n",
       "\\item 23209.55\n",
       "\\item 26032.35\n",
       "\\item 30105.45\n",
       "\\item 34413.1\n",
       "\\item 38688.95\n",
       "\\item 42960.8\n",
       "\\item 45668.35\n",
       "\\item 45412.35\n",
       "\\item 43087.35\n",
       "\\item 39935.25\n",
       "\\item 36888.05\n",
       "\\item 32968\n",
       "\\item 27671.85\n",
       "\\item 21984.8\n",
       "\\item 16175.05\n",
       "\\item 10224.55\n",
       "\\item 5729.15\n",
       "\\item 4164.35\n",
       "\\item 4395.85\n",
       "\\item <NA>\n",
       "\\item <NA>\n",
       "\\item <NA>\n",
       "\\item <NA>\n",
       "\\item <NA>\n",
       "\\end{enumerate*}\n"
      ],
      "text/markdown": [
       "A Time Series:  \n",
       "1. &lt;NA&gt;\n",
       "2. &lt;NA&gt;\n",
       "3. &lt;NA&gt;\n",
       "4. &lt;NA&gt;\n",
       "5. &lt;NA&gt;\n",
       "6. 8686.5\n",
       "7. 9215.4\n",
       "8. 9605.35\n",
       "9. 9685.85\n",
       "10. 9844.5\n",
       "11. 10151.3\n",
       "12. 10663.1\n",
       "13. 11578.5\n",
       "14. 12899.9\n",
       "15. 14674.95\n",
       "16. 16712.5\n",
       "17. 18862.25\n",
       "18. 21136.85\n",
       "19. 23209.55\n",
       "20. 26032.35\n",
       "21. 30105.45\n",
       "22. 34413.1\n",
       "23. 38688.95\n",
       "24. 42960.8\n",
       "25. 45668.35\n",
       "26. 45412.35\n",
       "27. 43087.35\n",
       "28. 39935.25\n",
       "29. 36888.05\n",
       "30. 32968\n",
       "31. 27671.85\n",
       "32. 21984.8\n",
       "33. 16175.05\n",
       "34. 10224.55\n",
       "35. 5729.15\n",
       "36. 4164.35\n",
       "37. 4395.85\n",
       "38. &lt;NA&gt;\n",
       "39. &lt;NA&gt;\n",
       "40. &lt;NA&gt;\n",
       "41. &lt;NA&gt;\n",
       "42. &lt;NA&gt;\n",
       "\n",
       "\n"
      ],
      "text/plain": [
       "A Time Series:\n",
       " [1]       NA       NA       NA       NA       NA  8686.50  9215.40  9605.35\n",
       " [9]  9685.85  9844.50 10151.30 10663.10 11578.50 12899.90 14674.95 16712.50\n",
       "[17] 18862.25 21136.85 23209.55 26032.35 30105.45 34413.10 38688.95 42960.80\n",
       "[25] 45668.35 45412.35 43087.35 39935.25 36888.05 32968.00 27671.85 21984.80\n",
       "[33] 16175.05 10224.55  5729.15  4164.35  4395.85       NA       NA       NA\n",
       "[41]       NA       NA"
      ]
     },
     "metadata": {},
     "output_type": "display_data"
    }
   ],
   "source": [
    "ma(NewHouses, order=10)"
   ]
  },
  {
   "cell_type": "code",
   "execution_count": 23,
   "metadata": {
    "ExecuteTime": {
     "end_time": "2021-05-07T09:52:24.657850Z",
     "start_time": "2021-05-07T09:52:20.435Z"
    }
   },
   "outputs": [
    {
     "data": {
      "image/png": "[encoded data removed]",
      "text/plain": [
       "plot without title"
      ]
     },
     "metadata": {
      "image/png": {
       "height": 420,
       "width": 420
      }
     },
     "output_type": "display_data"
    }
   ],
   "source": [
    "plot(ma(NewHouses, order = 5))"
   ]
  },
  {
   "cell_type": "code",
   "execution_count": 24,
   "metadata": {
    "ExecuteTime": {
     "end_time": "2021-05-07T09:52:24.759787Z",
     "start_time": "2021-05-07T09:52:20.443Z"
    }
   },
   "outputs": [
    {
     "data": {
      "image/png": "[encoded data removed]",
      "text/plain": [
       "plot without title"
      ]
     },
     "metadata": {
      "image/png": {
       "height": 420,
       "width": 420
      }
     },
     "output_type": "display_data"
    }
   ],
   "source": [
    "plot(ma(NewHouses, order = 10))"
   ]
  },
  {
   "cell_type": "code",
   "execution_count": 25,
   "metadata": {
    "ExecuteTime": {
     "end_time": "2021-05-07T09:52:24.918692Z",
     "start_time": "2021-05-07T09:52:20.450Z"
    }
   },
   "outputs": [
    {
     "data": {
      "image/png": "[encoded data removed]",
      "text/plain": [
       "plot without title"
      ]
     },
     "metadata": {
      "image/png": {
       "height": 420,
       "width": 420
      }
     },
     "output_type": "display_data"
    }
   ],
   "source": [
    "plot(NewHouses, col='blue')\n",
    "x <- as.vector(time(NewHouses))\n",
    "y <- ma(NewHouses, order=12)\n",
    "#lines(x, y, col='black', lw=4)\n",
    "\n",
    "y <- ma(NewHouses, order=12)\n",
    "lines(x, y, col='green', lw=4)\n",
    "\n",
    "y <- ma(NewHouses, order=8)\n",
    "#lines(x, y, col='darkgreen', lw=4)\n",
    "\n",
    "y <- ma(NewHouses, order=6)\n",
    "#lines(x, y, col='orange', lw=4)\n",
    "\n",
    "y <- ma(NewHouses, order=5)\n",
    "#lines(x, y, col='green', lw=4)\n",
    "\n",
    "y <- ma(NewHouses, order=4)\n",
    "#lines(x, y, col='pink', lw=4)\n",
    "\n",
    "y <- ma(NewHouses, order=20)\n",
    "lines(x, y, col='yellow', lw=4)\n",
    "\n",
    "y <- ma(ma(NewHouses, order=4),order=2)\n",
    "lines(x, y, col='red', lw=4)\n",
    "\n",
    "legend(1, 95, legend=c(\"Red\", \"Green\", \"Yellow\"),\n",
    "       col=c(\"red\", \"blue\"), lty=1:2, cex=0.8,\n",
    "       title=\"Line types\", text.font=4, bg='lightblue')"
   ]
  },
  {
   "cell_type": "markdown",
   "metadata": {
    "heading_collapsed": true
   },
   "source": [
    "# Linear Model"
   ]
  },
  {
   "cell_type": "code",
   "execution_count": 26,
   "metadata": {
    "ExecuteTime": {
     "end_time": "2021-05-07T09:52:24.968662Z",
     "start_time": "2021-05-07T09:52:20.457Z"
    },
    "hidden": true
   },
   "outputs": [],
   "source": [
    "NH_LM <- lm(NewHouses ~ time(NewHouses))"
   ]
  },
  {
   "cell_type": "code",
   "execution_count": 27,
   "metadata": {
    "ExecuteTime": {
     "end_time": "2021-05-07T09:52:25.091583Z",
     "start_time": "2021-05-07T09:52:20.465Z"
    },
    "hidden": true
   },
   "outputs": [
    {
     "name": "stderr",
     "output_type": "stream",
     "text": [
      "Warning message in plot.xy(xy.coords(x, y), type = type, ...):\n",
      "\"\"coll\" is not a graphical parameter\"\n"
     ]
    },
    {
     "data": {
      "image/png": "[encoded data removed]",
      "text/plain": [
       "plot without title"
      ]
     },
     "metadata": {
      "image/png": {
       "height": 420,
       "width": 420
      }
     },
     "output_type": "display_data"
    }
   ],
   "source": [
    "plot(NewHouses, col='blue')\n",
    "x <- as.vector(time(NewHouses))\n",
    "y <- predict.lm(NH_LM)\n",
    "lines(x, y, coll='red', lw=4)"
   ]
  },
  {
   "cell_type": "markdown",
   "metadata": {
    "heading_collapsed": true
   },
   "source": [
    "# Seasonal Decomposition"
   ]
  },
  {
   "cell_type": "code",
   "execution_count": 28,
   "metadata": {
    "ExecuteTime": {
     "end_time": "2021-05-07T09:52:25.146548Z",
     "start_time": "2021-05-07T09:52:20.473Z"
    },
    "hidden": true
   },
   "outputs": [
    {
     "ename": "ERROR",
     "evalue": "Error in decompose(NewHouses, type = \"multiplicative\"): time series has no or less than 2 periods\n",
     "output_type": "error",
     "traceback": [
      "Error in decompose(NewHouses, type = \"multiplicative\"): time series has no or less than 2 periods\nTraceback:\n",
      "1. decompose(NewHouses, type = \"multiplicative\")",
      "2. stop(\"time series has no or less than 2 periods\")"
     ]
    }
   ],
   "source": [
    "NH_fit_mult <- decompose(NewHouses, type = 'multiplicative')\n",
    "plot(NH_fit_mult)"
   ]
  },
  {
   "cell_type": "code",
   "execution_count": null,
   "metadata": {
    "ExecuteTime": {
     "end_time": "2021-05-07T09:52:25.154550Z",
     "start_time": "2021-05-07T09:52:20.479Z"
    },
    "hidden": true
   },
   "outputs": [],
   "source": [
    "NH_fit_add <- decompose(NewHouses, type = 'additive')\n",
    "plot(NH_fit_mult)"
   ]
  },
  {
   "cell_type": "code",
   "execution_count": null,
   "metadata": {
    "ExecuteTime": {
     "end_time": "2021-05-07T09:52:25.162544Z",
     "start_time": "2021-05-07T09:52:20.485Z"
    },
    "hidden": true
   },
   "outputs": [],
   "source": [
    "components(NewHouses)"
   ]
  },
  {
   "cell_type": "markdown",
   "metadata": {},
   "source": [
    "# Forecast"
   ]
  },
  {
   "cell_type": "markdown",
   "metadata": {
    "heading_collapsed": true
   },
   "source": [
    "## Forecasting using Mean Model"
   ]
  },
  {
   "cell_type": "code",
   "execution_count": null,
   "metadata": {
    "ExecuteTime": {
     "end_time": "2021-05-07T09:52:25.169537Z",
     "start_time": "2021-05-07T09:52:20.494Z"
    },
    "hidden": true
   },
   "outputs": [],
   "source": [
    "fcst.mean <- meanf(NewHouses, h=3)\n",
    "fcst.mean"
   ]
  },
  {
   "cell_type": "code",
   "execution_count": null,
   "metadata": {
    "ExecuteTime": {
     "end_time": "2021-05-07T09:52:25.176532Z",
     "start_time": "2021-05-07T09:52:20.499Z"
    },
    "hidden": true
   },
   "outputs": [],
   "source": [
    "plot(fcst.mean)"
   ]
  },
  {
   "cell_type": "code",
   "execution_count": null,
   "metadata": {
    "ExecuteTime": {
     "end_time": "2021-05-07T09:52:25.184525Z",
     "start_time": "2021-05-07T09:52:20.505Z"
    },
    "hidden": true
   },
   "outputs": [],
   "source": [
    "summary(fcst.mean)"
   ]
  },
  {
   "cell_type": "code",
   "execution_count": null,
   "metadata": {
    "ExecuteTime": {
     "end_time": "2021-05-07T09:52:25.191524Z",
     "start_time": "2021-05-07T09:52:20.513Z"
    },
    "hidden": true
   },
   "outputs": [],
   "source": [
    "names(fcst.mean)"
   ]
  },
  {
   "cell_type": "markdown",
   "metadata": {
    "heading_collapsed": true
   },
   "source": [
    "## Forecasting using naive method"
   ]
  },
  {
   "cell_type": "code",
   "execution_count": null,
   "metadata": {
    "ExecuteTime": {
     "end_time": "2021-05-07T09:52:25.198518Z",
     "start_time": "2021-05-07T09:52:20.519Z"
    },
    "hidden": true
   },
   "outputs": [],
   "source": [
    "fcst.naive <- naive(NewHouses, h=3)\n",
    "fcst.naive"
   ]
  },
  {
   "cell_type": "code",
   "execution_count": null,
   "metadata": {
    "ExecuteTime": {
     "end_time": "2021-05-07T09:52:25.207516Z",
     "start_time": "2021-05-07T09:52:20.527Z"
    },
    "hidden": true
   },
   "outputs": [],
   "source": [
    "plot(fcst.naive)"
   ]
  },
  {
   "cell_type": "code",
   "execution_count": null,
   "metadata": {
    "ExecuteTime": {
     "end_time": "2021-05-07T09:52:25.214509Z",
     "start_time": "2021-05-07T09:52:20.532Z"
    },
    "hidden": true
   },
   "outputs": [],
   "source": [
    "summary(fcst.naive)"
   ]
  },
  {
   "cell_type": "code",
   "execution_count": null,
   "metadata": {
    "ExecuteTime": {
     "end_time": "2021-05-07T09:52:25.221506Z",
     "start_time": "2021-05-07T09:52:20.538Z"
    },
    "hidden": true
   },
   "outputs": [],
   "source": [
    "fcst.snaive <- snaive(NewHouses, h=10)\n",
    "fcst.snaive"
   ]
  },
  {
   "cell_type": "code",
   "execution_count": null,
   "metadata": {
    "ExecuteTime": {
     "end_time": "2021-05-07T09:52:25.228501Z",
     "start_time": "2021-05-07T09:52:20.550Z"
    },
    "hidden": true
   },
   "outputs": [],
   "source": [
    "plot(fcst.snaive)"
   ]
  },
  {
   "cell_type": "markdown",
   "metadata": {
    "heading_collapsed": true
   },
   "source": [
    "## Forecast using Drift Model"
   ]
  },
  {
   "cell_type": "code",
   "execution_count": null,
   "metadata": {
    "ExecuteTime": {
     "end_time": "2021-05-07T09:52:25.235493Z",
     "start_time": "2021-05-07T09:52:20.557Z"
    },
    "hidden": true
   },
   "outputs": [],
   "source": [
    "fcst.drift <- rwf(NewHouses, h=3, drift = TRUE)\n",
    "fcst.drift"
   ]
  },
  {
   "cell_type": "code",
   "execution_count": null,
   "metadata": {
    "ExecuteTime": {
     "end_time": "2021-05-07T09:52:25.242491Z",
     "start_time": "2021-05-07T09:52:20.563Z"
    },
    "hidden": true
   },
   "outputs": [],
   "source": [
    "plot(fcst.drift)"
   ]
  },
  {
   "cell_type": "code",
   "execution_count": null,
   "metadata": {
    "ExecuteTime": {
     "end_time": "2021-05-07T09:52:25.252489Z",
     "start_time": "2021-05-07T09:52:20.570Z"
    },
    "hidden": true
   },
   "outputs": [],
   "source": [
    "summary(fcst.drift)"
   ]
  },
  {
   "cell_type": "markdown",
   "metadata": {
    "heading_collapsed": true
   },
   "source": [
    "## Forecasting using Simple Exponential Smoothing"
   ]
  },
  {
   "cell_type": "code",
   "execution_count": null,
   "metadata": {
    "ExecuteTime": {
     "end_time": "2021-05-07T09:52:25.259480Z",
     "start_time": "2021-05-07T09:52:20.580Z"
    },
    "hidden": true
   },
   "outputs": [],
   "source": [
    "?ses"
   ]
  },
  {
   "cell_type": "code",
   "execution_count": null,
   "metadata": {
    "ExecuteTime": {
     "end_time": "2021-05-07T09:52:25.266474Z",
     "start_time": "2021-05-07T09:52:20.588Z"
    },
    "hidden": true
   },
   "outputs": [],
   "source": [
    "fcst.ese <- ses(NewHouses, h=3)\n",
    "fcst.ese\n"
   ]
  },
  {
   "cell_type": "code",
   "execution_count": null,
   "metadata": {
    "ExecuteTime": {
     "end_time": "2021-05-07T09:52:25.274471Z",
     "start_time": "2021-05-07T09:52:20.594Z"
    },
    "hidden": true
   },
   "outputs": [],
   "source": [
    "plot(fcst.ese)"
   ]
  },
  {
   "cell_type": "code",
   "execution_count": null,
   "metadata": {
    "ExecuteTime": {
     "end_time": "2021-05-07T09:52:25.281466Z",
     "start_time": "2021-05-07T09:52:20.599Z"
    },
    "hidden": true
   },
   "outputs": [],
   "source": [
    "summary(fcst.ese)"
   ]
  },
  {
   "cell_type": "code",
   "execution_count": null,
   "metadata": {
    "ExecuteTime": {
     "end_time": "2021-05-07T09:52:25.289463Z",
     "start_time": "2021-05-07T09:52:20.605Z"
    },
    "hidden": true
   },
   "outputs": [],
   "source": [
    "autoplot(fcst.ese)+autolayer(fitted(fcst.ese), series = 'Fitted')"
   ]
  },
  {
   "cell_type": "code",
   "execution_count": null,
   "metadata": {
    "ExecuteTime": {
     "end_time": "2021-05-07T09:52:25.296457Z",
     "start_time": "2021-05-07T09:52:20.613Z"
    },
    "hidden": true
   },
   "outputs": [],
   "source": [
    "y <- ma(NewHouses, order=10)\n",
    "autoplot(fcst.ese)+autolayer(fitted(fcst.ese), series = 'Fitted')"
   ]
  },
  {
   "cell_type": "markdown",
   "metadata": {},
   "source": [
    "## Forecasting using ETS"
   ]
  },
  {
   "cell_type": "markdown",
   "metadata": {
    "heading_collapsed": true
   },
   "source": [
    "### Model='ZZZ'"
   ]
  },
  {
   "cell_type": "code",
   "execution_count": null,
   "metadata": {
    "ExecuteTime": {
     "end_time": "2021-05-07T09:52:25.305450Z",
     "start_time": "2021-05-07T09:52:20.622Z"
    },
    "hidden": true
   },
   "outputs": [],
   "source": [
    "ets.fit <- ets(NewHouses, model='ZZZ')\n",
    "ets.fit"
   ]
  },
  {
   "cell_type": "code",
   "execution_count": null,
   "metadata": {
    "ExecuteTime": {
     "end_time": "2021-05-07T09:52:25.332433Z",
     "start_time": "2021-05-07T09:52:20.630Z"
    },
    "hidden": true
   },
   "outputs": [],
   "source": [
    "summary(ets.fit)"
   ]
  },
  {
   "cell_type": "code",
   "execution_count": null,
   "metadata": {
    "ExecuteTime": {
     "end_time": "2021-05-07T09:52:25.339433Z",
     "start_time": "2021-05-07T09:52:20.638Z"
    },
    "hidden": true
   },
   "outputs": [],
   "source": [
    "plot(ets.fit)"
   ]
  },
  {
   "cell_type": "code",
   "execution_count": null,
   "metadata": {
    "ExecuteTime": {
     "end_time": "2021-05-07T09:52:25.346426Z",
     "start_time": "2021-05-07T09:52:20.645Z"
    },
    "hidden": true
   },
   "outputs": [],
   "source": [
    "plot(forecast(ets.fit, h=3))"
   ]
  },
  {
   "cell_type": "code",
   "execution_count": null,
   "metadata": {
    "ExecuteTime": {
     "end_time": "2021-05-07T09:52:25.353421Z",
     "start_time": "2021-05-07T09:52:20.654Z"
    },
    "hidden": true
   },
   "outputs": [],
   "source": [
    "fct.ses = forecast(ets.fit, h=3)"
   ]
  },
  {
   "cell_type": "code",
   "execution_count": null,
   "metadata": {
    "ExecuteTime": {
     "end_time": "2021-05-07T09:52:25.362421Z",
     "start_time": "2021-05-07T09:52:20.662Z"
    },
    "hidden": true
   },
   "outputs": [],
   "source": [
    "summary(fct.ses)"
   ]
  },
  {
   "cell_type": "code",
   "execution_count": null,
   "metadata": {
    "ExecuteTime": {
     "end_time": "2021-05-07T09:52:25.370417Z",
     "start_time": "2021-05-07T09:52:20.669Z"
    },
    "hidden": true
   },
   "outputs": [],
   "source": [
    "ets.fit$fitted"
   ]
  },
  {
   "cell_type": "markdown",
   "metadata": {
    "heading_collapsed": true
   },
   "source": [
    "### Model='ANN'"
   ]
  },
  {
   "cell_type": "code",
   "execution_count": null,
   "metadata": {
    "ExecuteTime": {
     "end_time": "2021-05-07T09:52:25.379410Z",
     "start_time": "2021-05-07T09:52:20.679Z"
    },
    "hidden": true
   },
   "outputs": [],
   "source": [
    "ets.fit.ann <- ets(NewHouses, model='ANN')\n",
    "ets.fit.ann"
   ]
  },
  {
   "cell_type": "code",
   "execution_count": null,
   "metadata": {
    "ExecuteTime": {
     "end_time": "2021-05-07T09:52:25.386403Z",
     "start_time": "2021-05-07T09:52:20.684Z"
    },
    "hidden": true
   },
   "outputs": [],
   "source": [
    "summary(ets.fit.ann)"
   ]
  },
  {
   "cell_type": "code",
   "execution_count": null,
   "metadata": {
    "ExecuteTime": {
     "end_time": "2021-05-07T09:52:25.395400Z",
     "start_time": "2021-05-07T09:52:20.692Z"
    },
    "hidden": true
   },
   "outputs": [],
   "source": [
    "plot(ets.fit.ann)"
   ]
  },
  {
   "cell_type": "code",
   "execution_count": null,
   "metadata": {
    "ExecuteTime": {
     "end_time": "2021-05-07T09:52:25.404392Z",
     "start_time": "2021-05-07T09:52:20.699Z"
    },
    "hidden": true
   },
   "outputs": [],
   "source": [
    "plot(forecast(ets.fit.ann, h=3))"
   ]
  },
  {
   "cell_type": "code",
   "execution_count": null,
   "metadata": {
    "ExecuteTime": {
     "end_time": "2021-05-07T09:52:25.413383Z",
     "start_time": "2021-05-07T09:52:20.707Z"
    },
    "hidden": true
   },
   "outputs": [],
   "source": [
    "summary(forecast(ets.fit.ann, h=3))"
   ]
  },
  {
   "cell_type": "markdown",
   "metadata": {
    "heading_collapsed": true
   },
   "source": [
    "### Model='AAN'"
   ]
  },
  {
   "cell_type": "markdown",
   "metadata": {
    "hidden": true
   },
   "source": [
    "Equivalent to Holt Linear exponential smoothing. When there is linear tren and no seasonality"
   ]
  },
  {
   "cell_type": "code",
   "execution_count": null,
   "metadata": {
    "ExecuteTime": {
     "end_time": "2021-05-07T09:52:25.423377Z",
     "start_time": "2021-05-07T09:52:20.715Z"
    },
    "hidden": true
   },
   "outputs": [],
   "source": [
    "ets.fit.aan <- ets(NewHouses, model='AAN')\n",
    "ets.fit.aan"
   ]
  },
  {
   "cell_type": "code",
   "execution_count": null,
   "metadata": {
    "ExecuteTime": {
     "end_time": "2021-05-07T09:52:25.430377Z",
     "start_time": "2021-05-07T09:52:20.720Z"
    },
    "hidden": true
   },
   "outputs": [],
   "source": [
    "summary(ets.fit.aan)"
   ]
  },
  {
   "cell_type": "code",
   "execution_count": null,
   "metadata": {
    "ExecuteTime": {
     "end_time": "2021-05-07T09:52:25.438375Z",
     "start_time": "2021-05-07T09:52:20.727Z"
    },
    "hidden": true
   },
   "outputs": [],
   "source": [
    "plot(ets.fit.aan)"
   ]
  },
  {
   "cell_type": "code",
   "execution_count": null,
   "metadata": {
    "ExecuteTime": {
     "end_time": "2021-05-07T09:52:25.445367Z",
     "start_time": "2021-05-07T09:52:20.732Z"
    },
    "hidden": true
   },
   "outputs": [],
   "source": [
    "?ets"
   ]
  },
  {
   "cell_type": "code",
   "execution_count": null,
   "metadata": {
    "ExecuteTime": {
     "end_time": "2021-05-07T09:52:25.453366Z",
     "start_time": "2021-05-07T09:52:20.740Z"
    },
    "hidden": true
   },
   "outputs": [],
   "source": [
    "plot(forecast(ets.fit.aan, h=3))\n"
   ]
  },
  {
   "cell_type": "code",
   "execution_count": null,
   "metadata": {
    "ExecuteTime": {
     "end_time": "2021-05-07T09:52:25.460356Z",
     "start_time": "2021-05-07T09:52:20.746Z"
    },
    "hidden": true
   },
   "outputs": [],
   "source": [
    "summary(forecast(ets.fit.aan, h=3))"
   ]
  },
  {
   "cell_type": "markdown",
   "metadata": {
    "heading_collapsed": true
   },
   "source": [
    "## Accuracy of forecasts"
   ]
  },
  {
   "cell_type": "code",
   "execution_count": null,
   "metadata": {
    "ExecuteTime": {
     "end_time": "2021-05-07T09:52:25.467353Z",
     "start_time": "2021-05-07T09:52:20.752Z"
    },
    "hidden": true
   },
   "outputs": [],
   "source": [
    "print(accuracy(fcst.mean))\n",
    "print(accuracy(fcst.naive))\n",
    "print(accuracy(fcst.snaive))\n",
    "print(accuracy(fcst.drift))\n",
    "print(accuracy(fcst.ese))\n",
    "print(accuracy(ets.fit))\n",
    "print(accuracy(ets.fit.ann))\n",
    "print(accuracy(ets.fit.aan))"
   ]
  },
  {
   "cell_type": "markdown",
   "metadata": {},
   "source": [
    "# Window"
   ]
  },
  {
   "cell_type": "markdown",
   "metadata": {
    "heading_collapsed": true
   },
   "source": [
    "## Create Window series "
   ]
  },
  {
   "cell_type": "code",
   "execution_count": 31,
   "metadata": {
    "ExecuteTime": {
     "end_time": "2021-05-07T09:52:50.978758Z",
     "start_time": "2021-05-07T09:52:50.940Z"
    },
    "hidden": true
   },
   "outputs": [],
   "source": [
    "subNH <- window(NewHouses, start = 1978, end= 2006)"
   ]
  },
  {
   "cell_type": "code",
   "execution_count": 32,
   "metadata": {
    "ExecuteTime": {
     "end_time": "2021-05-07T09:52:52.669414Z",
     "start_time": "2021-05-07T09:52:52.572Z"
    },
    "hidden": true
   },
   "outputs": [
    {
     "data": {
      "image/png": "[encoded data removed]",
      "text/plain": [
       "plot without title"
      ]
     },
     "metadata": {
      "image/png": {
       "height": 420,
       "width": 420
      }
     },
     "output_type": "display_data"
    }
   ],
   "source": [
    "plot(subNH)"
   ]
  },
  {
   "cell_type": "code",
   "execution_count": 33,
   "metadata": {
    "ExecuteTime": {
     "end_time": "2021-05-07T09:52:54.814251Z",
     "start_time": "2021-05-07T09:52:54.715Z"
    },
    "hidden": true
   },
   "outputs": [
    {
     "data": {
      "image/png": "[encoded data removed]",
      "text/plain": [
       "plot without title"
      ]
     },
     "metadata": {
      "image/png": {
       "height": 420,
       "width": 420
      }
     },
     "output_type": "display_data"
    }
   ],
   "source": [
    "boxplot(subNH)"
   ]
  },
  {
   "cell_type": "code",
   "execution_count": 34,
   "metadata": {
    "ExecuteTime": {
     "end_time": "2021-05-07T09:52:56.866203Z",
     "start_time": "2021-05-07T09:52:56.740Z"
    },
    "hidden": true
   },
   "outputs": [
    {
     "data": {
      "image/png": "[encoded data removed]",
      "text/plain": [
       "Plot with title \"Forecasts from Holt's method\""
      ]
     },
     "metadata": {
      "image/png": {
       "height": 420,
       "width": 420
      }
     },
     "output_type": "display_data"
    }
   ],
   "source": [
    "plot(holt(subNH, h=3))"
   ]
  },
  {
   "cell_type": "markdown",
   "metadata": {
    "hidden": true
   },
   "source": [
    "Smoothed out version of the curve. Two equations for level and slope"
   ]
  },
  {
   "cell_type": "code",
   "execution_count": 35,
   "metadata": {
    "ExecuteTime": {
     "end_time": "2021-05-07T09:52:58.796443Z",
     "start_time": "2021-05-07T09:52:58.750Z"
    },
    "hidden": true
   },
   "outputs": [],
   "source": [
    "# 3 years forecast\n",
    "Holt.fcst.window = holt(subNH, h=3)"
   ]
  },
  {
   "cell_type": "code",
   "execution_count": 36,
   "metadata": {
    "ExecuteTime": {
     "end_time": "2021-05-07T09:53:00.922914Z",
     "start_time": "2021-05-07T09:53:00.853Z"
    },
    "hidden": true
   },
   "outputs": [
    {
     "data": {
      "text/html": [
       "<table class=\"dataframe\">\n",
       "<caption>A matrix: 1 × 7 of type dbl</caption>\n",
       "<thead>\n",
       "\t<tr><th></th><th scope=col>ME</th><th scope=col>RMSE</th><th scope=col>MAE</th><th scope=col>MPE</th><th scope=col>MAPE</th><th scope=col>MASE</th><th scope=col>ACF1</th></tr>\n",
       "</thead>\n",
       "<tbody>\n",
       "\t<tr><th scope=row>Training set</th><td>874.3065</td><td>4502.276</td><td>2888.344</td><td>-1.317716</td><td>17.28546</td><td>0.9351932</td><td>0.04080714</td></tr>\n",
       "</tbody>\n",
       "</table>\n"
      ],
      "text/latex": [
       "A matrix: 1 × 7 of type dbl\n",
       "\\begin{tabular}{r|lllllll}\n",
       "  & ME & RMSE & MAE & MPE & MAPE & MASE & ACF1\\\\\n",
       "\\hline\n",
       "\tTraining set & 874.3065 & 4502.276 & 2888.344 & -1.317716 & 17.28546 & 0.9351932 & 0.04080714\\\\\n",
       "\\end{tabular}\n"
      ],
      "text/markdown": [
       "\n",
       "A matrix: 1 × 7 of type dbl\n",
       "\n",
       "| <!--/--> | ME | RMSE | MAE | MPE | MAPE | MASE | ACF1 |\n",
       "|---|---|---|---|---|---|---|---|\n",
       "| Training set | 874.3065 | 4502.276 | 2888.344 | -1.317716 | 17.28546 | 0.9351932 | 0.04080714 |\n",
       "\n"
      ],
      "text/plain": [
       "             ME       RMSE     MAE      MPE       MAPE     MASE      ACF1      \n",
       "Training set 874.3065 4502.276 2888.344 -1.317716 17.28546 0.9351932 0.04080714"
      ]
     },
     "metadata": {},
     "output_type": "display_data"
    }
   ],
   "source": [
    "accuracy(Holt.fcst.window)"
   ]
  },
  {
   "cell_type": "markdown",
   "metadata": {
    "hidden": true
   },
   "source": [
    "Holt Model: Exponential Somoothing model with a trend and without the season"
   ]
  },
  {
   "cell_type": "markdown",
   "metadata": {
    "heading_collapsed": true
   },
   "source": [
    "## Create linear model"
   ]
  },
  {
   "cell_type": "code",
   "execution_count": 37,
   "metadata": {
    "ExecuteTime": {
     "end_time": "2021-05-07T09:53:03.857207Z",
     "start_time": "2021-05-07T09:53:03.704Z"
    },
    "hidden": true
   },
   "outputs": [
    {
     "data": {
      "image/png": "[encoded data removed]",
      "text/plain": [
       "plot without title"
      ]
     },
     "metadata": {
      "image/png": {
       "height": 420,
       "width": 420
      }
     },
     "output_type": "display_data"
    }
   ],
   "source": [
    "window.LM <- lm(subNH ~ time(subNH))\n",
    "plot(subNH, col='blue', lw=4)\n",
    "x <- as.vector(time(subNH))\n",
    "y <- predict.lm(window.LM)\n",
    "lines(x, y, col='red', lw=4)"
   ]
  },
  {
   "cell_type": "code",
   "execution_count": 38,
   "metadata": {
    "ExecuteTime": {
     "end_time": "2021-05-07T09:53:05.974611Z",
     "start_time": "2021-05-07T09:53:05.923Z"
    },
    "hidden": true
   },
   "outputs": [
    {
     "data": {
      "text/html": [
       "-1.96318057595786e-13"
      ],
      "text/latex": [
       "-1.96318057595786e-13"
      ],
      "text/markdown": [
       "-1.96318057595786e-13"
      ],
      "text/plain": [
       "[1] -1.963181e-13"
      ]
     },
     "metadata": {},
     "output_type": "display_data"
    }
   ],
   "source": [
    "mean(residuals(window.LM))"
   ]
  },
  {
   "cell_type": "markdown",
   "metadata": {
    "heading_collapsed": true
   },
   "source": [
    "## Contruct a Holt Model"
   ]
  },
  {
   "cell_type": "code",
   "execution_count": 39,
   "metadata": {
    "ExecuteTime": {
     "end_time": "2021-05-07T09:53:07.706204Z",
     "start_time": "2021-05-07T09:53:07.659Z"
    },
    "hidden": true
   },
   "outputs": [],
   "source": [
    "year <- 3\n",
    "HM <- holt(subNH, h=year)\n"
   ]
  },
  {
   "cell_type": "code",
   "execution_count": 40,
   "metadata": {
    "ExecuteTime": {
     "end_time": "2021-05-07T09:53:10.296056Z",
     "start_time": "2021-05-07T09:53:10.196Z"
    },
    "hidden": true
   },
   "outputs": [
    {
     "data": {
      "image/png": "[encoded data removed]",
      "text/plain": [
       "Plot with title \"Forecasts from Holt's method\""
      ]
     },
     "metadata": {
      "image/png": {
       "height": 420,
       "width": 420
      }
     },
     "output_type": "display_data"
    }
   ],
   "source": [
    "plot(HM, lw=4, col='red')"
   ]
  },
  {
   "cell_type": "markdown",
   "metadata": {
    "hidden": true
   },
   "source": [
    "### Overlay original data with HM"
   ]
  },
  {
   "cell_type": "code",
   "execution_count": 41,
   "metadata": {
    "ExecuteTime": {
     "end_time": "2021-05-07T09:53:12.368736Z",
     "start_time": "2021-05-07T09:53:12.259Z"
    },
    "hidden": true
   },
   "outputs": [
    {
     "data": {
      "image/png": "[encoded data removed]",
      "text/plain": [
       "plot without title"
      ]
     },
     "metadata": {
      "image/png": {
       "height": 420,
       "width": 420
      }
     },
     "output_type": "display_data"
    }
   ],
   "source": [
    "plot(subNH, col='blue', lw=4)\n",
    "x <- as.vector(time(subNH))\n",
    "y <- as.vector(HM$fitted)\n",
    "lines(x,y, col='red', lw=4)"
   ]
  },
  {
   "cell_type": "markdown",
   "metadata": {
    "hidden": true
   },
   "source": [
    "Smoothed version"
   ]
  },
  {
   "cell_type": "markdown",
   "metadata": {
    "hidden": true
   },
   "source": [
    "### Overlay between Holt Model and Linear Model"
   ]
  },
  {
   "cell_type": "code",
   "execution_count": 42,
   "metadata": {
    "ExecuteTime": {
     "end_time": "2021-05-07T09:53:15.117531Z",
     "start_time": "2021-05-07T09:53:15.076Z"
    },
    "hidden": true
   },
   "outputs": [],
   "source": [
    "predict <- function (t, model) {window.LM$coefficients[[1]]+t*(window.LM$coefficients[[2]])}"
   ]
  },
  {
   "cell_type": "code",
   "execution_count": 51,
   "metadata": {
    "ExecuteTime": {
     "end_time": "2021-05-07T09:54:10.556312Z",
     "start_time": "2021-05-07T09:54:10.420Z"
    },
    "hidden": true
   },
   "outputs": [
    {
     "data": {
      "image/png": "[encoded data removed]",
      "text/plain": [
       "Plot with title \"Forecasts from Holt's method\""
      ]
     },
     "metadata": {
      "image/png": {
       "height": 360,
       "width": 600
      }
     },
     "output_type": "display_data"
    }
   ],
   "source": [
    "years=3\n",
    "HM <- holt(subNH, h=years)\n",
    "plot(HM, col='blue', lw=4)\n",
    "x <- c(start(subNH)[1], end(subNH)[1] + years)\n",
    "y <- predict(x)\n",
    "lines(x, y, col='red', lw=4)\n",
    "\n",
    "\n",
    "          "
   ]
  },
  {
   "cell_type": "code",
   "execution_count": 44,
   "metadata": {
    "ExecuteTime": {
     "end_time": "2021-05-07T09:53:28.629404Z",
     "start_time": "2021-05-07T09:53:28.580Z"
    },
    "hidden": true
   },
   "outputs": [
    {
     "data": {
      "text/plain": [
       "     Point Forecast    Lo 80    Hi 80    Lo 95    Hi 95\n",
       "2007       71750.48 65536.11 77964.85 62246.42 81254.54\n",
       "2008       76334.88 68361.43 84308.33 64140.54 88529.22\n",
       "2009       80919.28 71010.90 90827.67 65765.72 96072.85"
      ]
     },
     "metadata": {},
     "output_type": "display_data"
    }
   ],
   "source": [
    "HM"
   ]
  },
  {
   "cell_type": "code",
   "execution_count": 45,
   "metadata": {
    "ExecuteTime": {
     "end_time": "2021-05-07T09:53:31.274864Z",
     "start_time": "2021-05-07T09:53:31.219Z"
    },
    "hidden": true
   },
   "outputs": [
    {
     "name": "stdout",
     "output_type": "stream",
     "text": [
      "\n",
      "Forecast method: Holt's method\n",
      "\n",
      "Model Information:\n",
      "Holt's method \n",
      "\n",
      "Call:\n",
      " holt(y = subNH, h = years) \n",
      "\n",
      "  Smoothing parameters:\n",
      "    alpha = 0.6613 \n",
      "    beta  = 0.1426 \n",
      "\n",
      "  Initial states:\n",
      "    l = 6960.9505 \n",
      "    b = 967.6725 \n",
      "\n",
      "  sigma:  4849.1\n",
      "\n",
      "     AIC     AICc      BIC \n",
      "595.5672 598.1759 602.4037 \n",
      "\n",
      "Error measures:\n",
      "                   ME     RMSE      MAE       MPE     MAPE      MASE       ACF1\n",
      "Training set 874.3065 4502.276 2888.344 -1.317716 17.28546 0.9351932 0.04080714\n",
      "\n",
      "Forecasts:\n",
      "     Point Forecast    Lo 80    Hi 80    Lo 95    Hi 95\n",
      "2007       71750.48 65536.11 77964.85 62246.42 81254.54\n",
      "2008       76334.88 68361.43 84308.33 64140.54 88529.22\n",
      "2009       80919.28 71010.90 90827.67 65765.72 96072.85\n"
     ]
    }
   ],
   "source": [
    "summary(HM)"
   ]
  },
  {
   "cell_type": "markdown",
   "metadata": {
    "hidden": true
   },
   "source": [
    "### Holt Model with Dampening"
   ]
  },
  {
   "cell_type": "code",
   "execution_count": 46,
   "metadata": {
    "ExecuteTime": {
     "end_time": "2021-05-07T09:53:44.662125Z",
     "start_time": "2021-05-07T09:53:44.532Z"
    },
    "hidden": true
   },
   "outputs": [
    {
     "data": {
      "image/png": "[encoded data removed]",
      "text/plain": [
       "Plot with title \"Forecasts from Damped Holt's method\""
      ]
     },
     "metadata": {
      "image/png": {
       "height": 420,
       "width": 420
      }
     },
     "output_type": "display_data"
    }
   ],
   "source": [
    "years=30\n",
    "HM <- holt(subNH, h=years, damped=TRUE)\n",
    "plot(HM, col='blue', lw=4)\n",
    "x <- c(start(subNH)[1], end(subNH)[1] + years)\n",
    "y <- predict(x)\n",
    "lines(x, y, col='red', lw=4)"
   ]
  },
  {
   "cell_type": "code",
   "execution_count": 47,
   "metadata": {
    "ExecuteTime": {
     "end_time": "2021-05-07T09:53:45.742728Z",
     "start_time": "2021-05-07T09:53:45.683Z"
    },
    "hidden": true
   },
   "outputs": [
    {
     "data": {
      "text/plain": [
       "     Point Forecast    Lo 80     Hi 80    Lo 95     Hi 95\n",
       "2007       71270.77 64884.33  77657.20 61503.56  81037.98\n",
       "2008       75438.43 67135.76  83741.10 62740.59  88136.27\n",
       "2009       79522.74 69128.54  89916.93 63626.19  95419.29\n",
       "2010       83525.36 70891.04  96159.68 64202.83 102847.89\n",
       "2011       87447.93 72443.94 102451.92 64501.31 110394.55\n",
       "2012       91292.05 73803.48 108780.62 64545.58 118038.51\n",
       "2013       95059.28 74982.99 115135.57 64355.24 125763.32\n",
       "2014       98751.17 75993.85 121508.49 63946.86 133555.49\n",
       "2015      102369.23 76845.97 127892.48 63334.78 141403.68\n",
       "2016      105914.92 77548.13 134281.70 62531.66 149298.17\n",
       "2017      109389.70 78108.24 140671.16 61548.83 157230.56\n",
       "2018      112794.98 78533.46 147056.50 60396.50 165193.46\n",
       "2019      116132.16 78830.36 153433.95 59083.98 173180.33\n",
       "2020      119402.59 79005.01 159800.17 57619.82 181185.36\n",
       "2021      122607.61 79063.01 166152.22 56011.88 189203.34\n",
       "2022      125748.54 79009.59 172487.49 54267.48 197229.59\n",
       "2023      128826.64 78849.63 178803.65 52393.40 205259.88\n",
       "2024      131843.18 78587.73 185098.64 50395.99 213290.38\n",
       "2025      134799.40 78228.19 191370.60 48281.20 221317.59\n",
       "2026      137696.49 77775.08 197617.89 46054.61 229338.36\n",
       "2027      140535.63 77232.26 203839.01 43721.47 237349.79\n",
       "2028      143317.99 76603.35 210032.64 41286.75 245349.24\n",
       "2029      146044.71 75891.83 216197.59 38755.14 253334.28\n",
       "2030      148716.89 75100.98 222332.80 36131.08 261302.71\n",
       "2031      151335.63 74233.94 228437.32 33418.77 269252.49\n",
       "2032      153901.99 73293.68 234510.30 30622.22 277181.77\n",
       "2033      156417.03 72283.06 240551.00 27745.23 285088.83\n",
       "2034      158881.76 71204.80 246558.72 24791.42 292972.10\n",
       "2035      161297.20 70061.51 252532.90 21764.25 300830.16\n",
       "2036      163664.34 68855.67 258473.00 18666.99 308661.68"
      ]
     },
     "metadata": {},
     "output_type": "display_data"
    }
   ],
   "source": [
    "HM"
   ]
  },
  {
   "cell_type": "markdown",
   "metadata": {
    "ExecuteTime": {
     "end_time": "2021-05-05T16:27:52.899029Z",
     "start_time": "2021-05-05T16:27:52.860Z"
    }
   },
   "source": [
    "## Logarithmic Linear Model"
   ]
  },
  {
   "cell_type": "code",
   "execution_count": 50,
   "metadata": {
    "ExecuteTime": {
     "end_time": "2021-05-07T09:54:05.533634Z",
     "start_time": "2021-05-07T09:54:05.491Z"
    }
   },
   "outputs": [],
   "source": [
    "options(repr.plot.width=10, repr.plot.height=6)"
   ]
  },
  {
   "cell_type": "code",
   "execution_count": 67,
   "metadata": {
    "ExecuteTime": {
     "end_time": "2021-05-07T10:01:51.575406Z",
     "start_time": "2021-05-07T10:01:51.456Z"
    }
   },
   "outputs": [
    {
     "data": {
      "image/png": "[encoded data removed]",
      "text/plain": [
       "plot without title"
      ]
     },
     "metadata": {
      "image/png": {
       "height": 360,
       "width": 600
      }
     },
     "output_type": "display_data"
    }
   ],
   "source": [
    "NH.LG.LM <- lm(log(subNH) ~ time(subNH))\n",
    "plot(subNH, col='blue', lw=4)\n",
    "x <- as.vector(time(subNH))\n",
    "y <- exp(predict.lm(NH.LG.LM))\n",
    "lines(x, y, col='red', lw=4)"
   ]
  },
  {
   "cell_type": "code",
   "execution_count": 68,
   "metadata": {
    "ExecuteTime": {
     "end_time": "2021-05-07T10:01:55.211297Z",
     "start_time": "2021-05-07T10:01:55.159Z"
    }
   },
   "outputs": [
    {
     "data": {
      "text/plain": [
       "\n",
       "Call:\n",
       "lm(formula = log(subNH) ~ time(subNH))\n",
       "\n",
       "Coefficients:\n",
       "(Intercept)  time(subNH)  \n",
       " -164.82467      0.08763  \n"
      ]
     },
     "metadata": {},
     "output_type": "display_data"
    }
   ],
   "source": [
    "NH.LG.LM"
   ]
  },
  {
   "cell_type": "markdown",
   "metadata": {},
   "source": [
    "Log-Linear model (RED)\n",
    "Actual NewHouses Data (Blue)"
   ]
  },
  {
   "cell_type": "code",
   "execution_count": 69,
   "metadata": {
    "ExecuteTime": {
     "end_time": "2021-05-07T10:01:57.223392Z",
     "start_time": "2021-05-07T10:01:57.177Z"
    }
   },
   "outputs": [
    {
     "data": {
      "text/plain": [
       "\n",
       "Call:\n",
       "lm(formula = log(subNH) ~ time(subNH))\n",
       "\n",
       "Residuals:\n",
       "     Min       1Q   Median       3Q      Max \n",
       "-0.42843 -0.22241  0.01665  0.21842  0.51555 \n",
       "\n",
       "Coefficients:\n",
       "              Estimate Std. Error t value Pr(>|t|)    \n",
       "(Intercept) -1.648e+02  1.162e+01  -14.18 4.99e-14 ***\n",
       "time(subNH)  8.763e-02  5.836e-03   15.02 1.25e-14 ***\n",
       "---\n",
       "Signif. codes:  0 '***' 0.001 '**' 0.01 '*' 0.05 '.' 0.1 ' ' 1\n",
       "\n",
       "Residual standard error: 0.2629 on 27 degrees of freedom\n",
       "Multiple R-squared:  0.8931,\tAdjusted R-squared:  0.8891 \n",
       "F-statistic: 225.5 on 1 and 27 DF,  p-value: 1.253e-14\n"
      ]
     },
     "metadata": {},
     "output_type": "display_data"
    }
   ],
   "source": [
    "summary(NH.LG.LM)"
   ]
  },
  {
   "cell_type": "code",
   "execution_count": 54,
   "metadata": {
    "ExecuteTime": {
     "end_time": "2021-05-07T09:56:38.904640Z",
     "start_time": "2021-05-07T09:56:38.854Z"
    }
   },
   "outputs": [
    {
     "data": {
      "text/html": [
       "1.03310715885106"
      ],
      "text/latex": [
       "1.03310715885106"
      ],
      "text/markdown": [
       "1.03310715885106"
      ],
      "text/plain": [
       "[1] 1.033107"
      ]
     },
     "metadata": {},
     "output_type": "display_data"
    }
   ],
   "source": [
    "mean(exp(residuals(NH.LG.LM)))"
   ]
  },
  {
   "cell_type": "code",
   "execution_count": 55,
   "metadata": {
    "ExecuteTime": {
     "end_time": "2021-05-07T09:56:41.365386Z",
     "start_time": "2021-05-07T09:56:41.236Z"
    }
   },
   "outputs": [
    {
     "data": {
      "image/png": "[encoded data removed]",
      "text/plain": [
       "plot without title"
      ]
     },
     "metadata": {
      "image/png": {
       "height": 360,
       "width": 600
      }
     },
     "output_type": "display_data"
    }
   ],
   "source": [
    "NH.LG.LG.LM <- lm(log(subNH) ~ time(subNH))\n",
    "plot(log(subNH), col='blue', lw=4)\n",
    "x <- as.vector(time(subNH))\n",
    "y <- predict.lm(NH.LG.LG.LM)\n",
    "lines(x, y, col='red', lw=4)"
   ]
  },
  {
   "cell_type": "code",
   "execution_count": 56,
   "metadata": {
    "ExecuteTime": {
     "end_time": "2021-05-07T09:56:43.353274Z",
     "start_time": "2021-05-07T09:56:43.307Z"
    }
   },
   "outputs": [
    {
     "data": {
      "text/html": [
       "1.03310715885106"
      ],
      "text/latex": [
       "1.03310715885106"
      ],
      "text/markdown": [
       "1.03310715885106"
      ],
      "text/plain": [
       "[1] 1.033107"
      ]
     },
     "metadata": {},
     "output_type": "display_data"
    }
   ],
   "source": [
    "mean(exp(residuals(NH.LG.LG.LM)))"
   ]
  },
  {
   "cell_type": "code",
   "execution_count": 57,
   "metadata": {
    "ExecuteTime": {
     "end_time": "2021-05-07T09:56:44.793422Z",
     "start_time": "2021-05-07T09:56:44.747Z"
    }
   },
   "outputs": [
    {
     "data": {
      "text/plain": [
       "\n",
       "Call:\n",
       "lm(formula = log(subNH) ~ time(subNH))\n",
       "\n",
       "Residuals:\n",
       "     Min       1Q   Median       3Q      Max \n",
       "-0.42843 -0.22241  0.01665  0.21842  0.51555 \n",
       "\n",
       "Coefficients:\n",
       "              Estimate Std. Error t value Pr(>|t|)    \n",
       "(Intercept) -1.648e+02  1.162e+01  -14.18 4.99e-14 ***\n",
       "time(subNH)  8.763e-02  5.836e-03   15.02 1.25e-14 ***\n",
       "---\n",
       "Signif. codes:  0 '***' 0.001 '**' 0.01 '*' 0.05 '.' 0.1 ' ' 1\n",
       "\n",
       "Residual standard error: 0.2629 on 27 degrees of freedom\n",
       "Multiple R-squared:  0.8931,\tAdjusted R-squared:  0.8891 \n",
       "F-statistic: 225.5 on 1 and 27 DF,  p-value: 1.253e-14\n"
      ]
     },
     "metadata": {},
     "output_type": "display_data"
    }
   ],
   "source": [
    "summary(NH.LG.LM)"
   ]
  },
  {
   "cell_type": "markdown",
   "metadata": {},
   "source": [
    "Same plot but in Logaritnmic scale"
   ]
  },
  {
   "cell_type": "markdown",
   "metadata": {},
   "source": [
    "### Construct a Logarithmic Holt Model"
   ]
  },
  {
   "cell_type": "code",
   "execution_count": 70,
   "metadata": {
    "ExecuteTime": {
     "end_time": "2021-05-07T10:02:06.366494Z",
     "start_time": "2021-05-07T10:02:06.319Z"
    }
   },
   "outputs": [],
   "source": [
    "years=3\n",
    "LHM <- holt(log(subNH), h=years)"
   ]
  },
  {
   "cell_type": "code",
   "execution_count": 71,
   "metadata": {
    "ExecuteTime": {
     "end_time": "2021-05-07T10:02:08.827050Z",
     "start_time": "2021-05-07T10:02:08.690Z"
    }
   },
   "outputs": [
    {
     "data": {
      "image/png": "[encoded data removed]",
      "text/plain": [
       "Plot with title \"Forecasts from Holt's method\""
      ]
     },
     "metadata": {
      "image/png": {
       "height": 360,
       "width": 600
      }
     },
     "output_type": "display_data"
    }
   ],
   "source": [
    "plot(LHM, lw=2)"
   ]
  },
  {
   "cell_type": "code",
   "execution_count": 72,
   "metadata": {
    "ExecuteTime": {
     "end_time": "2021-05-07T10:02:14.449299Z",
     "start_time": "2021-05-07T10:02:14.398Z"
    }
   },
   "outputs": [
    {
     "name": "stdout",
     "output_type": "stream",
     "text": [
      "\n",
      "Forecast method: Holt's method\n",
      "\n",
      "Model Information:\n",
      "Holt's method \n",
      "\n",
      "Call:\n",
      " holt(y = log(subNH), h = years) \n",
      "\n",
      "  Smoothing parameters:\n",
      "    alpha = 0.9995 \n",
      "    beta  = 1e-04 \n",
      "\n",
      "  Initial states:\n",
      "    l = 8.135 \n",
      "    b = 0.1023 \n",
      "\n",
      "  sigma:  0.198\n",
      "\n",
      "      AIC      AICc       BIC \n",
      " 9.425787 12.034483 16.262266 \n",
      "\n",
      "Error measures:\n",
      "                       ME     RMSE       MAE          MPE     MAPE      MASE\n",
      "Training set 0.0001782857 0.183866 0.1336921 -0.008439438 1.401606 0.8286366\n",
      "                  ACF1\n",
      "Training set 0.1079681\n",
      "\n",
      "Forecasts:\n",
      "     Point Forecast    Lo 80    Hi 80    Lo 95    Hi 95\n",
      "2007       11.20952 10.95573 11.46331 10.82139 11.59765\n",
      "2008       11.31183 10.95300 11.67066 10.76304 11.86061\n",
      "2009       11.41413 10.97467 11.85359 10.74204 12.08623\n"
     ]
    }
   ],
   "source": [
    "summary(LHM)"
   ]
  },
  {
   "cell_type": "code",
   "execution_count": 73,
   "metadata": {
    "ExecuteTime": {
     "end_time": "2021-05-07T10:02:16.838210Z",
     "start_time": "2021-05-07T10:02:16.791Z"
    }
   },
   "outputs": [
    {
     "data": {
      "text/html": [
       "1.01809476262962"
      ],
      "text/latex": [
       "1.01809476262962"
      ],
      "text/markdown": [
       "1.01809476262962"
      ],
      "text/plain": [
       "[1] 1.018095"
      ]
     },
     "metadata": {},
     "output_type": "display_data"
    }
   ],
   "source": [
    "mean(exp(residuals(LHM)))"
   ]
  },
  {
   "cell_type": "code",
   "execution_count": 74,
   "metadata": {
    "ExecuteTime": {
     "end_time": "2021-05-07T10:02:18.696069Z",
     "start_time": "2021-05-07T10:02:18.638Z"
    }
   },
   "outputs": [
    {
     "data": {
      "text/html": [
       "A Time Series:<br><style>\n",
       ".list-inline {list-style: none; margin:0; padding: 0}\n",
       ".list-inline>li {display: inline-block}\n",
       ".list-inline>li:not(:last-child)::after {content: \"\\00b7\"; padding: 0 .5ex}\n",
       "</style>\n",
       "<ol class=list-inline><li>73829.9806508981</li><li>81783.1738240798</li><li>90593.1094898407</li></ol>\n"
      ],
      "text/latex": [
       "A Time Series:\\\\\\begin{enumerate*}\n",
       "\\item 73829.9806508981\n",
       "\\item 81783.1738240798\n",
       "\\item 90593.1094898407\n",
       "\\end{enumerate*}\n"
      ],
      "text/markdown": [
       "A Time Series:  \n",
       "1. 73829.9806508981\n",
       "2. 81783.1738240798\n",
       "3. 90593.1094898407\n",
       "\n",
       "\n"
      ],
      "text/plain": [
       "A Time Series:\n",
       "[1] 73829.98 81783.17 90593.11"
      ]
     },
     "metadata": {},
     "output_type": "display_data"
    }
   ],
   "source": [
    "exp(LHM$mean)"
   ]
  },
  {
   "cell_type": "markdown",
   "metadata": {},
   "source": [
    "### Overlay Between Logarithmic Holt Model and Log-Linear Model"
   ]
  },
  {
   "cell_type": "code",
   "execution_count": 76,
   "metadata": {
    "ExecuteTime": {
     "end_time": "2021-05-07T10:06:07.291883Z",
     "start_time": "2021-05-07T10:06:07.157Z"
    }
   },
   "outputs": [
    {
     "data": {
      "image/png": "[encoded data removed]",
      "text/plain": [
       "Plot with title \"Forecasts from Holt's method\""
      ]
     },
     "metadata": {
      "image/png": {
       "height": 360,
       "width": 600
      }
     },
     "output_type": "display_data"
    }
   ],
   "source": [
    "years <- 3\n",
    "LHM <- holt(log(subNH), h=years)\n",
    "predict <- function(t) {NH.LG.LG.LM$coefficients[[1]]+t*NH.LG.LG.LM$coefficients[[2]]}\n",
    "plot(LHM, col='blue',lw=4)\n",
    "x <- seq(start(subNH)[1], end(subNH)[1]+years)\n",
    "y <- predict(x)\n",
    "lines(x, y, col='red', lw=4)"
   ]
  },
  {
   "cell_type": "code",
   "execution_count": 77,
   "metadata": {
    "ExecuteTime": {
     "end_time": "2021-05-07T10:06:10.955260Z",
     "start_time": "2021-05-07T10:06:10.910Z"
    }
   },
   "outputs": [
    {
     "data": {
      "text/html": [
       "1.01809476262962"
      ],
      "text/latex": [
       "1.01809476262962"
      ],
      "text/markdown": [
       "1.01809476262962"
      ],
      "text/plain": [
       "[1] 1.018095"
      ]
     },
     "metadata": {},
     "output_type": "display_data"
    }
   ],
   "source": [
    "mean(exp(residuals(LHM)))"
   ]
  },
  {
   "cell_type": "code",
   "execution_count": 78,
   "metadata": {
    "ExecuteTime": {
     "end_time": "2021-05-07T10:06:12.903084Z",
     "start_time": "2021-05-07T10:06:12.853Z"
    }
   },
   "outputs": [
    {
     "data": {
      "text/plain": [
       "     Point Forecast    Lo 80    Hi 80    Lo 95    Hi 95\n",
       "2007       11.20952 10.95573 11.46331 10.82139 11.59765\n",
       "2008       11.31183 10.95300 11.67066 10.76304 11.86061\n",
       "2009       11.41413 10.97467 11.85359 10.74204 12.08623"
      ]
     },
     "metadata": {},
     "output_type": "display_data"
    }
   ],
   "source": [
    "LHM"
   ]
  },
  {
   "cell_type": "code",
   "execution_count": 79,
   "metadata": {
    "ExecuteTime": {
     "end_time": "2021-05-07T10:06:16.033315Z",
     "start_time": "2021-05-07T10:06:15.990Z"
    }
   },
   "outputs": [
    {
     "data": {
      "text/html": [
       "A Time Series:<br><style>\n",
       ".list-inline {list-style: none; margin:0; padding: 0}\n",
       ".list-inline>li {display: inline-block}\n",
       ".list-inline>li:not(:last-child)::after {content: \"\\00b7\"; padding: 0 .5ex}\n",
       "</style>\n",
       "<ol class=list-inline><li>73829.9806508981</li><li>81783.1738240798</li><li>90593.1094898407</li></ol>\n"
      ],
      "text/latex": [
       "A Time Series:\\\\\\begin{enumerate*}\n",
       "\\item 73829.9806508981\n",
       "\\item 81783.1738240798\n",
       "\\item 90593.1094898407\n",
       "\\end{enumerate*}\n"
      ],
      "text/markdown": [
       "A Time Series:  \n",
       "1. 73829.9806508981\n",
       "2. 81783.1738240798\n",
       "3. 90593.1094898407\n",
       "\n",
       "\n"
      ],
      "text/plain": [
       "A Time Series:\n",
       "[1] 73829.98 81783.17 90593.11"
      ]
     },
     "metadata": {},
     "output_type": "display_data"
    }
   ],
   "source": [
    "exp(LHM$mean)"
   ]
  },
  {
   "cell_type": "markdown",
   "metadata": {},
   "source": [
    "Forecasted Values"
   ]
  },
  {
   "cell_type": "code",
   "execution_count": 80,
   "metadata": {
    "ExecuteTime": {
     "end_time": "2021-05-07T10:06:23.056468Z",
     "start_time": "2021-05-07T10:06:23.006Z"
    }
   },
   "outputs": [
    {
     "data": {
      "text/html": [
       "A Time Series:<br><style>\n",
       ".list-inline {list-style: none; margin:0; padding: 0}\n",
       ".list-inline>li {display: inline-block}\n",
       ".list-inline>li:not(:last-child)::after {content: \"\\00b7\"; padding: 0 .5ex}\n",
       "</style>\n",
       "<ol class=list-inline><li>73829.9806508981</li><li>81783.1738240798</li><li>90593.1094898407</li></ol>\n"
      ],
      "text/latex": [
       "A Time Series:\\\\\\begin{enumerate*}\n",
       "\\item 73829.9806508981\n",
       "\\item 81783.1738240798\n",
       "\\item 90593.1094898407\n",
       "\\end{enumerate*}\n"
      ],
      "text/markdown": [
       "A Time Series:  \n",
       "1. 73829.9806508981\n",
       "2. 81783.1738240798\n",
       "3. 90593.1094898407\n",
       "\n",
       "\n"
      ],
      "text/plain": [
       "A Time Series:\n",
       "[1] 73829.98 81783.17 90593.11"
      ]
     },
     "metadata": {},
     "output_type": "display_data"
    }
   ],
   "source": [
    "exp(LHM$mean)"
   ]
  },
  {
   "cell_type": "code",
   "execution_count": 81,
   "metadata": {
    "ExecuteTime": {
     "end_time": "2021-05-07T10:06:26.709999Z",
     "start_time": "2021-05-07T10:06:26.654Z"
    }
   },
   "outputs": [
    {
     "name": "stdout",
     "output_type": "stream",
     "text": [
      "\n",
      "Forecast method: Holt's method\n",
      "\n",
      "Model Information:\n",
      "Holt's method \n",
      "\n",
      "Call:\n",
      " holt(y = log(subNH), h = years) \n",
      "\n",
      "  Smoothing parameters:\n",
      "    alpha = 0.9995 \n",
      "    beta  = 1e-04 \n",
      "\n",
      "  Initial states:\n",
      "    l = 8.135 \n",
      "    b = 0.1023 \n",
      "\n",
      "  sigma:  0.198\n",
      "\n",
      "      AIC      AICc       BIC \n",
      " 9.425787 12.034483 16.262266 \n",
      "\n",
      "Error measures:\n",
      "                       ME     RMSE       MAE          MPE     MAPE      MASE\n",
      "Training set 0.0001782857 0.183866 0.1336921 -0.008439438 1.401606 0.8286366\n",
      "                  ACF1\n",
      "Training set 0.1079681\n",
      "\n",
      "Forecasts:\n",
      "     Point Forecast    Lo 80    Hi 80    Lo 95    Hi 95\n",
      "2007       11.20952 10.95573 11.46331 10.82139 11.59765\n",
      "2008       11.31183 10.95300 11.67066 10.76304 11.86061\n",
      "2009       11.41413 10.97467 11.85359 10.74204 12.08623\n"
     ]
    }
   ],
   "source": [
    "summary(LHM)"
   ]
  },
  {
   "cell_type": "markdown",
   "metadata": {},
   "source": [
    "### Comparison to Holt Model for Original Data"
   ]
  },
  {
   "cell_type": "code",
   "execution_count": 82,
   "metadata": {
    "ExecuteTime": {
     "end_time": "2021-05-07T10:06:45.160981Z",
     "start_time": "2021-05-07T10:06:45.029Z"
    }
   },
   "outputs": [
    {
     "data": {
      "image/png": "[encoded data removed]",
      "text/plain": [
       "Plot with title \"Forecasts from Holt's method\""
      ]
     },
     "metadata": {
      "image/png": {
       "height": 360,
       "width": 600
      }
     },
     "output_type": "display_data"
    }
   ],
   "source": [
    "years <- 3\n",
    "NHLM <- lm(subNH ~ time(subNH))\n",
    "NHHM <- holt(subNH, h=years)\n",
    "plot(NHHM)\n",
    "predict <- function(t) {NHLM$coefficients[[1]]+t*NHLM$coefficients[[2]]}\n",
    "x <- seq(start(subNH)[1], end(subNH)[1]+years)\n",
    "y <- predict(x)\n",
    "lines(x, y, col='red', lw=4)"
   ]
  },
  {
   "cell_type": "code",
   "execution_count": 83,
   "metadata": {
    "ExecuteTime": {
     "end_time": "2021-05-07T10:06:58.373121Z",
     "start_time": "2021-05-07T10:06:58.316Z"
    }
   },
   "outputs": [
    {
     "data": {
      "text/html": [
       "A Time Series:<br><style>\n",
       ".list-inline {list-style: none; margin:0; padding: 0}\n",
       ".list-inline>li {display: inline-block}\n",
       ".list-inline>li:not(:last-child)::after {content: \"\\00b7\"; padding: 0 .5ex}\n",
       "</style>\n",
       "<ol class=list-inline><li>71750.4806711412</li><li>76334.8824008299</li><li>80919.2841305187</li></ol>\n"
      ],
      "text/latex": [
       "A Time Series:\\\\\\begin{enumerate*}\n",
       "\\item 71750.4806711412\n",
       "\\item 76334.8824008299\n",
       "\\item 80919.2841305187\n",
       "\\end{enumerate*}\n"
      ],
      "text/markdown": [
       "A Time Series:  \n",
       "1. 71750.4806711412\n",
       "2. 76334.8824008299\n",
       "3. 80919.2841305187\n",
       "\n",
       "\n"
      ],
      "text/plain": [
       "A Time Series:\n",
       "[1] 71750.48 76334.88 80919.28"
      ]
     },
     "metadata": {},
     "output_type": "display_data"
    }
   ],
   "source": [
    "NHHM$mean"
   ]
  },
  {
   "cell_type": "markdown",
   "metadata": {},
   "source": [
    "## ARIMA"
   ]
  },
  {
   "cell_type": "markdown",
   "metadata": {},
   "source": [
    "### Differencing"
   ]
  },
  {
   "cell_type": "code",
   "execution_count": 141,
   "metadata": {
    "ExecuteTime": {
     "end_time": "2021-05-07T16:14:29.818491Z",
     "start_time": "2021-05-07T16:14:29.662Z"
    }
   },
   "outputs": [
    {
     "data": {
      "image/png": "[encoded data removed]",
      "text/plain": [
       "plot without title"
      ]
     },
     "metadata": {
      "image/png": {
       "height": 360,
       "width": 600
      }
     },
     "output_type": "display_data"
    }
   ],
   "source": [
    "NH_diff = diff(NewHouses)\n",
    "plot(diff(NewHouses))"
   ]
  },
  {
   "cell_type": "code",
   "execution_count": 142,
   "metadata": {
    "ExecuteTime": {
     "end_time": "2021-05-07T16:14:45.375432Z",
     "start_time": "2021-05-07T16:14:45.191Z"
    }
   },
   "outputs": [
    {
     "data": {
      "image/png": "[encoded data removed]",
      "text/plain": [
       "plot without title"
      ]
     },
     "metadata": {
      "image/png": {
       "height": 360,
       "width": 600
      }
     },
     "output_type": "display_data"
    }
   ],
   "source": [
    "Window_diff = diff(subNH)\n",
    "plot(diff(subNH))"
   ]
  },
  {
   "cell_type": "code",
   "execution_count": 144,
   "metadata": {
    "ExecuteTime": {
     "end_time": "2021-05-07T16:15:12.220319Z",
     "start_time": "2021-05-07T16:15:12.174Z"
    }
   },
   "outputs": [
    {
     "data": {
      "text/html": [
       "22941.8965517241"
      ],
      "text/latex": [
       "22941.8965517241"
      ],
      "text/markdown": [
       "22941.8965517241"
      ],
      "text/plain": [
       "[1] 22941.9"
      ]
     },
     "metadata": {},
     "output_type": "display_data"
    }
   ],
   "source": [
    "mean(subNH)"
   ]
  },
  {
   "cell_type": "markdown",
   "metadata": {},
   "source": [
    "### Original Data Set\n"
   ]
  },
  {
   "cell_type": "code",
   "execution_count": 90,
   "metadata": {
    "ExecuteTime": {
     "end_time": "2021-05-07T14:29:02.997514Z",
     "start_time": "2021-05-07T14:29:02.810Z"
    }
   },
   "outputs": [],
   "source": [
    "NH.arima.auto = auto.arima(NewHouses)"
   ]
  },
  {
   "cell_type": "code",
   "execution_count": 91,
   "metadata": {
    "ExecuteTime": {
     "end_time": "2021-05-07T14:29:14.304322Z",
     "start_time": "2021-05-07T14:29:11.803Z"
    }
   },
   "outputs": [
    {
     "name": "stdout",
     "output_type": "stream",
     "text": [
      "Series: NewHouses \n",
      "ARIMA(2,0,0) with non-zero mean \n",
      "\n",
      "Coefficients:\n",
      "         ar1      ar2       mean\n",
      "      1.3346  -0.4665  16791.106\n",
      "s.e.  0.1315   0.1319   6985.181\n",
      "\n",
      "sigma^2 estimated as 43317727:  log likelihood=-428.43\n",
      "AIC=864.86   AICc=865.94   BIC=871.81\n",
      "\n",
      "Training set error measures:\n",
      "                   ME     RMSE      MAE       MPE     MAPE      MASE\n",
      "Training set 207.1252 6342.208 3464.418 -20.20197 35.95662 0.8732557\n",
      "                     ACF1\n",
      "Training set -0.007018081\n"
     ]
    }
   ],
   "source": [
    "summary(NH.arima.auto)"
   ]
  },
  {
   "cell_type": "code",
   "execution_count": 92,
   "metadata": {
    "ExecuteTime": {
     "end_time": "2021-05-07T14:29:34.245450Z",
     "start_time": "2021-05-07T14:29:34.200Z"
    }
   },
   "outputs": [],
   "source": [
    "NH.fcst.arima = forecast(NH.arima.auto, h=3)"
   ]
  },
  {
   "cell_type": "code",
   "execution_count": 93,
   "metadata": {
    "ExecuteTime": {
     "end_time": "2021-05-07T14:29:44.037179Z",
     "start_time": "2021-05-07T14:29:43.631Z"
    }
   },
   "outputs": [
    {
     "data": {
      "image/png": "[encoded data removed]",
      "text/plain": [
       "plot without title"
      ]
     },
     "metadata": {
      "image/png": {
       "height": 360,
       "width": 600
      }
     },
     "output_type": "display_data"
    }
   ],
   "source": [
    "autoplot(NH.fcst.arima)"
   ]
  },
  {
   "cell_type": "code",
   "execution_count": 94,
   "metadata": {
    "ExecuteTime": {
     "end_time": "2021-05-07T14:30:20.525027Z",
     "start_time": "2021-05-07T14:30:18.624Z"
    }
   },
   "outputs": [
    {
     "name": "stdout",
     "output_type": "stream",
     "text": [
      "\n",
      "Forecast method: ARIMA(2,0,0) with non-zero mean\n",
      "\n",
      "Model Information:\n",
      "Series: NewHouses \n",
      "ARIMA(2,0,0) with non-zero mean \n",
      "\n",
      "Coefficients:\n",
      "         ar1      ar2       mean\n",
      "      1.3346  -0.4665  16791.106\n",
      "s.e.  0.1315   0.1319   6985.181\n",
      "\n",
      "sigma^2 estimated as 43317727:  log likelihood=-428.43\n",
      "AIC=864.86   AICc=865.94   BIC=871.81\n",
      "\n",
      "Error measures:\n",
      "                   ME     RMSE      MAE       MPE     MAPE      MASE\n",
      "Training set 207.1252 6342.208 3464.418 -20.20197 35.95662 0.8732557\n",
      "                     ACF1\n",
      "Training set -0.007018081\n",
      "\n",
      "Forecasts:\n",
      "     Point Forecast     Lo 80    Hi 80      Lo 95    Hi 95\n",
      "2020       11818.59  3383.902 20253.27  -1081.151 24718.33\n",
      "2021       12957.23 -1109.161 27023.62  -8555.457 34469.91\n",
      "2022       13994.20 -3917.264 31905.66 -13399.019 41387.42\n"
     ]
    }
   ],
   "source": [
    "summary(NH.fcst.arima)"
   ]
  },
  {
   "cell_type": "code",
   "execution_count": 96,
   "metadata": {
    "ExecuteTime": {
     "end_time": "2021-05-07T14:30:55.327681Z",
     "start_time": "2021-05-07T14:30:54.528Z"
    }
   },
   "outputs": [
    {
     "name": "stdout",
     "output_type": "stream",
     "text": [
      "\n",
      "\tLjung-Box test\n",
      "\n",
      "data:  Residuals from ARIMA(2,0,0) with non-zero mean\n",
      "Q* = 6.8201, df = 5, p-value = 0.2344\n",
      "\n",
      "Model df: 3.   Total lags used: 8\n",
      "\n"
     ]
    },
    {
     "data": {
      "image/png": "[encoded data removed]",
      "text/plain": [
       "plot without title"
      ]
     },
     "metadata": {
      "image/png": {
       "height": 360,
       "width": 600
      }
     },
     "output_type": "display_data"
    }
   ],
   "source": [
    "checkresiduals(NH.fcst.arima)"
   ]
  },
  {
   "cell_type": "markdown",
   "metadata": {},
   "source": [
    "### Windows Dataset"
   ]
  },
  {
   "cell_type": "code",
   "execution_count": 84,
   "metadata": {
    "ExecuteTime": {
     "end_time": "2021-05-07T10:19:00.534183Z",
     "start_time": "2021-05-07T10:19:00.336Z"
    }
   },
   "outputs": [],
   "source": [
    "arima.auto = auto.arima(subNH)"
   ]
  },
  {
   "cell_type": "code",
   "execution_count": 85,
   "metadata": {
    "ExecuteTime": {
     "end_time": "2021-05-07T10:19:01.456995Z",
     "start_time": "2021-05-07T10:19:01.384Z"
    }
   },
   "outputs": [
    {
     "name": "stdout",
     "output_type": "stream",
     "text": [
      "Series: subNH \n",
      "ARIMA(0,1,0) with drift \n",
      "\n",
      "Coefficients:\n",
      "          drift\n",
      "      2245.2857\n",
      "s.e.   858.2239\n",
      "\n",
      "sigma^2 estimated as 21387113:  log likelihood=-275.52\n",
      "AIC=555.03   AICc=555.51   BIC=557.7\n",
      "\n",
      "Training set error measures:\n",
      "                     ME     RMSE      MAE      MPE     MAPE      MASE\n",
      "Training set 0.05295564 4462.302 2587.442 -7.42159 14.94795 0.8377666\n",
      "                    ACF1\n",
      "Training set -0.06004158\n"
     ]
    }
   ],
   "source": [
    "summary(arima.auto)"
   ]
  },
  {
   "cell_type": "code",
   "execution_count": 86,
   "metadata": {
    "ExecuteTime": {
     "end_time": "2021-05-07T10:19:03.751660Z",
     "start_time": "2021-05-07T10:19:03.701Z"
    }
   },
   "outputs": [],
   "source": [
    "fcst.arima = forecast(arima.auto, h=3)"
   ]
  },
  {
   "cell_type": "code",
   "execution_count": 87,
   "metadata": {
    "ExecuteTime": {
     "end_time": "2021-05-07T10:19:05.249933Z",
     "start_time": "2021-05-07T10:19:04.717Z"
    }
   },
   "outputs": [
    {
     "data": {
      "image/png": "[encoded data removed]",
      "text/plain": [
       "plot without title"
      ]
     },
     "metadata": {
      "image/png": {
       "height": 360,
       "width": 600
      }
     },
     "output_type": "display_data"
    }
   ],
   "source": [
    "autoplot(fcst.arima)"
   ]
  },
  {
   "cell_type": "code",
   "execution_count": 88,
   "metadata": {
    "ExecuteTime": {
     "end_time": "2021-05-07T10:19:10.252594Z",
     "start_time": "2021-05-07T10:19:10.199Z"
    }
   },
   "outputs": [
    {
     "name": "stdout",
     "output_type": "stream",
     "text": [
      "\n",
      "Forecast method: ARIMA(0,1,0) with drift\n",
      "\n",
      "Model Information:\n",
      "Series: subNH \n",
      "ARIMA(0,1,0) with drift \n",
      "\n",
      "Coefficients:\n",
      "          drift\n",
      "      2245.2857\n",
      "s.e.   858.2239\n",
      "\n",
      "sigma^2 estimated as 21387113:  log likelihood=-275.52\n",
      "AIC=555.03   AICc=555.51   BIC=557.7\n",
      "\n",
      "Error measures:\n",
      "                     ME     RMSE      MAE      MPE     MAPE      MASE\n",
      "Training set 0.05295564 4462.302 2587.442 -7.42159 14.94795 0.8377666\n",
      "                    ACF1\n",
      "Training set -0.06004158\n",
      "\n",
      "Forecasts:\n",
      "     Point Forecast    Lo 80    Hi 80    Lo 95    Hi 95\n",
      "2007       68894.29 62967.60 74820.98 59830.20 77958.37\n",
      "2008       71139.57 62757.97 79521.18 58321.01 83958.13\n",
      "2009       73384.86 63119.53 83650.18 57685.39 89084.32\n"
     ]
    }
   ],
   "source": [
    "summary(fcst.arima)"
   ]
  },
  {
   "cell_type": "code",
   "execution_count": 89,
   "metadata": {
    "ExecuteTime": {
     "end_time": "2021-05-07T14:22:57.031816Z",
     "start_time": "2021-05-07T14:22:56.243Z"
    }
   },
   "outputs": [
    {
     "name": "stdout",
     "output_type": "stream",
     "text": [
      "\n",
      "\tLjung-Box test\n",
      "\n",
      "data:  Residuals from ARIMA(0,1,0) with drift\n",
      "Q* = 1.2967, df = 5, p-value = 0.9353\n",
      "\n",
      "Model df: 1.   Total lags used: 6\n",
      "\n"
     ]
    },
    {
     "data": {
      "image/png": "[encoded data removed]",
      "text/plain": [
       "plot without title"
      ]
     },
     "metadata": {
      "image/png": {
       "height": 360,
       "width": 600
      }
     },
     "output_type": "display_data"
    }
   ],
   "source": [
    "checkresiduals(fcst.arima)"
   ]
  }
 ],
 "metadata": {
  "kernelspec": {
   "display_name": "R",
   "language": "R",
   "name": "ir"
  },
  "language_info": {
   "codemirror_mode": "r",
   "file_extension": ".r",
   "mimetype": "text/x-r-source",
   "name": "R",
   "pygments_lexer": "r",
   "version": "4.0.4"
  },
  "toc": {
   "base_numbering": 1,
   "nav_menu": {},
   "number_sections": true,
   "sideBar": true,
   "skip_h1_title": false,
   "title_cell": "Table of Contents",
   "title_sidebar": "Contents",
   "toc_cell": false,
   "toc_position": {
    "height": "659.6px",
    "left": "10px",
    "top": "150px",
    "width": "363.475px"
   },
   "toc_section_display": true,
   "toc_window_display": true
  },
  "varInspector": {
   "cols": {
    "lenName": 16,
    "lenType": 16,
    "lenVar": 40
   },
   "kernels_config": {
    "python": {
     "delete_cmd_postfix": "",
     "delete_cmd_prefix": "del ",
     "library": "var_list.py",
     "varRefreshCmd": "print(var_dic_list())"
    },
    "r": {
     "delete_cmd_postfix": ") ",
     "delete_cmd_prefix": "rm(",
     "library": "var_list.r",
     "varRefreshCmd": "cat(var_dic_list()) "
    }
   },
   "types_to_exclude": [
    "module",
    "function",
    "builtin_function_or_method",
    "instance",
    "_Feature"
   ],
   "window_display": false
  }
 },
 "nbformat": 4,
 "nbformat_minor": 4
}
