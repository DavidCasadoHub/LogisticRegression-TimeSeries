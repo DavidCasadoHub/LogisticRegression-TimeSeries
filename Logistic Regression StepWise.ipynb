{
 "cells": [
  {
   "cell_type": "markdown",
   "metadata": {
    "ExecuteTime": {
     "end_time": "2021-05-08T08:57:47.850784Z",
     "start_time": "2021-05-08T08:57:47.802Z"
    }
   },
   "source": [
    "# Load Data and format it"
   ]
  },
  {
   "cell_type": "code",
   "execution_count": 126,
   "metadata": {
    "ExecuteTime": {
     "end_time": "2021-05-10T15:57:55.365988Z",
     "start_time": "2021-05-10T15:57:39.866Z"
    }
   },
   "outputs": [
    {
     "name": "stderr",
     "output_type": "stream",
     "text": [
      "Installing package into 'C:/Users/david/OneDrive/Documentos/R/win-library/4.0'\n",
      "(as 'lib' is unspecified)\n",
      "\n"
     ]
    },
    {
     "name": "stdout",
     "output_type": "stream",
     "text": [
      "\n",
      "  There is a binary version available but the source version is later:\n",
      "         binary source needs_compilation\n",
      "corrplot   0.84   0.87             FALSE\n",
      "\n"
     ]
    },
    {
     "name": "stderr",
     "output_type": "stream",
     "text": [
      "installing the source package 'corrplot'\n",
      "\n",
      "\n"
     ]
    }
   ],
   "source": [
    "install.packages(\"corrplot\")"
   ]
  },
  {
   "cell_type": "code",
   "execution_count": 53,
   "metadata": {
    "ExecuteTime": {
     "end_time": "2021-05-12T09:57:26.326556Z",
     "start_time": "2021-05-12T09:57:26.284Z"
    }
   },
   "outputs": [],
   "source": [
    " data <- read.csv(\"Childbirths.csv\")"
   ]
  },
  {
   "cell_type": "code",
   "execution_count": 54,
   "metadata": {
    "ExecuteTime": {
     "end_time": "2021-05-12T09:57:27.498584Z",
     "start_time": "2021-05-12T09:57:27.343Z"
    }
   },
   "outputs": [
    {
     "data": {
      "text/html": [
       "<table class=\"dataframe\">\n",
       "<caption>A data.frame: 42 × 16</caption>\n",
       "<thead>\n",
       "\t<tr><th scope=col>ï..ID</th><th scope=col>Length</th><th scope=col>Birthweight</th><th scope=col>Headcirc</th><th scope=col>Gestation</th><th scope=col>smoker</th><th scope=col>mage</th><th scope=col>mnocig</th><th scope=col>mheight</th><th scope=col>mppwt</th><th scope=col>fage</th><th scope=col>fedyrs</th><th scope=col>fnocig</th><th scope=col>fheight</th><th scope=col>lowbwt</th><th scope=col>mage35</th></tr>\n",
       "\t<tr><th scope=col>&lt;int&gt;</th><th scope=col>&lt;int&gt;</th><th scope=col>&lt;dbl&gt;</th><th scope=col>&lt;int&gt;</th><th scope=col>&lt;int&gt;</th><th scope=col>&lt;int&gt;</th><th scope=col>&lt;int&gt;</th><th scope=col>&lt;int&gt;</th><th scope=col>&lt;int&gt;</th><th scope=col>&lt;int&gt;</th><th scope=col>&lt;int&gt;</th><th scope=col>&lt;int&gt;</th><th scope=col>&lt;int&gt;</th><th scope=col>&lt;int&gt;</th><th scope=col>&lt;int&gt;</th><th scope=col>&lt;int&gt;</th></tr>\n",
       "</thead>\n",
       "<tbody>\n",
       "\t<tr><td>1360</td><td>56</td><td>4.55</td><td>34</td><td>44</td><td>0</td><td>20</td><td> 0</td><td>162</td><td>57</td><td>23</td><td>10</td><td>35</td><td>179</td><td>0</td><td>0</td></tr>\n",
       "\t<tr><td>1016</td><td>53</td><td>4.32</td><td>36</td><td>40</td><td>0</td><td>19</td><td> 0</td><td>171</td><td>62</td><td>19</td><td>12</td><td> 0</td><td>183</td><td>0</td><td>0</td></tr>\n",
       "\t<tr><td> 462</td><td>58</td><td>4.10</td><td>39</td><td>41</td><td>0</td><td>35</td><td> 0</td><td>172</td><td>58</td><td>31</td><td>16</td><td>25</td><td>185</td><td>0</td><td>1</td></tr>\n",
       "\t<tr><td>1187</td><td>53</td><td>4.07</td><td>38</td><td>44</td><td>0</td><td>20</td><td> 0</td><td>174</td><td>68</td><td>26</td><td>14</td><td>25</td><td>189</td><td>0</td><td>0</td></tr>\n",
       "\t<tr><td> 553</td><td>54</td><td>3.94</td><td>37</td><td>42</td><td>0</td><td>24</td><td> 0</td><td>175</td><td>66</td><td>30</td><td>12</td><td> 0</td><td>184</td><td>0</td><td>0</td></tr>\n",
       "\t<tr><td>1636</td><td>51</td><td>3.93</td><td>38</td><td>38</td><td>0</td><td>29</td><td> 0</td><td>165</td><td>61</td><td>31</td><td>16</td><td> 0</td><td>180</td><td>0</td><td>0</td></tr>\n",
       "\t<tr><td> 820</td><td>52</td><td>3.77</td><td>34</td><td>40</td><td>0</td><td>24</td><td> 0</td><td>157</td><td>50</td><td>31</td><td>16</td><td> 0</td><td>173</td><td>0</td><td>0</td></tr>\n",
       "\t<tr><td>1191</td><td>53</td><td>3.65</td><td>33</td><td>42</td><td>0</td><td>21</td><td> 0</td><td>165</td><td>61</td><td>21</td><td>10</td><td>25</td><td>185</td><td>0</td><td>0</td></tr>\n",
       "\t<tr><td>1081</td><td>54</td><td>3.63</td><td>38</td><td>38</td><td>0</td><td>18</td><td> 0</td><td>172</td><td>50</td><td>20</td><td>12</td><td> 7</td><td>172</td><td>0</td><td>0</td></tr>\n",
       "\t<tr><td> 822</td><td>50</td><td>3.42</td><td>35</td><td>38</td><td>0</td><td>20</td><td> 0</td><td>157</td><td>48</td><td>22</td><td>14</td><td> 0</td><td>179</td><td>0</td><td>0</td></tr>\n",
       "\t<tr><td>1683</td><td>53</td><td>3.35</td><td>33</td><td>41</td><td>0</td><td>27</td><td> 0</td><td>164</td><td>62</td><td>37</td><td>14</td><td> 0</td><td>170</td><td>0</td><td>0</td></tr>\n",
       "\t<tr><td>1088</td><td>51</td><td>3.27</td><td>36</td><td>40</td><td>0</td><td>24</td><td> 0</td><td>168</td><td>53</td><td>29</td><td>16</td><td> 0</td><td>181</td><td>0</td><td>0</td></tr>\n",
       "\t<tr><td>1107</td><td>52</td><td>3.23</td><td>36</td><td>38</td><td>0</td><td>31</td><td> 0</td><td>164</td><td>57</td><td>35</td><td>16</td><td> 0</td><td>183</td><td>0</td><td>0</td></tr>\n",
       "\t<tr><td> 755</td><td>53</td><td>3.20</td><td>33</td><td>41</td><td>0</td><td>21</td><td> 0</td><td>155</td><td>55</td><td>25</td><td>14</td><td>25</td><td>183</td><td>0</td><td>0</td></tr>\n",
       "\t<tr><td>1058</td><td>53</td><td>3.15</td><td>34</td><td>40</td><td>0</td><td>29</td><td> 0</td><td>167</td><td>60</td><td>30</td><td>16</td><td>25</td><td>182</td><td>0</td><td>0</td></tr>\n",
       "\t<tr><td> 321</td><td>48</td><td>3.11</td><td>33</td><td>37</td><td>0</td><td>28</td><td> 0</td><td>158</td><td>54</td><td>39</td><td>10</td><td> 0</td><td>171</td><td>0</td><td>0</td></tr>\n",
       "\t<tr><td> 697</td><td>48</td><td>3.03</td><td>35</td><td>39</td><td>0</td><td>27</td><td> 0</td><td>162</td><td>62</td><td>27</td><td>14</td><td> 0</td><td>178</td><td>0</td><td>0</td></tr>\n",
       "\t<tr><td> 808</td><td>48</td><td>2.92</td><td>33</td><td>34</td><td>0</td><td>26</td><td> 0</td><td>167</td><td>64</td><td>25</td><td>12</td><td>25</td><td>175</td><td>0</td><td>0</td></tr>\n",
       "\t<tr><td>1600</td><td>53</td><td>2.90</td><td>34</td><td>39</td><td>0</td><td>19</td><td> 0</td><td>165</td><td>57</td><td>23</td><td>14</td><td> 2</td><td>193</td><td>0</td><td>0</td></tr>\n",
       "\t<tr><td>1313</td><td>43</td><td>2.65</td><td>32</td><td>33</td><td>0</td><td>24</td><td> 0</td><td>149</td><td>45</td><td>26</td><td>16</td><td> 0</td><td>169</td><td>1</td><td>0</td></tr>\n",
       "\t<tr><td> 792</td><td>53</td><td>3.64</td><td>38</td><td>40</td><td>1</td><td>20</td><td> 2</td><td>170</td><td>59</td><td>24</td><td>12</td><td>12</td><td>185</td><td>0</td><td>0</td></tr>\n",
       "\t<tr><td>1388</td><td>51</td><td>3.14</td><td>33</td><td>41</td><td>1</td><td>22</td><td> 7</td><td>160</td><td>53</td><td>24</td><td>16</td><td>12</td><td>176</td><td>0</td><td>0</td></tr>\n",
       "\t<tr><td> 575</td><td>50</td><td>2.78</td><td>30</td><td>37</td><td>1</td><td>19</td><td> 7</td><td>165</td><td>60</td><td>20</td><td>14</td><td> 0</td><td>183</td><td>0</td><td>0</td></tr>\n",
       "\t<tr><td> 569</td><td>50</td><td>2.51</td><td>35</td><td>39</td><td>1</td><td>22</td><td> 7</td><td>159</td><td>52</td><td>23</td><td>14</td><td>25</td><td>200</td><td>1</td><td>0</td></tr>\n",
       "\t<tr><td>1363</td><td>48</td><td>2.37</td><td>30</td><td>37</td><td>1</td><td>20</td><td> 7</td><td>163</td><td>47</td><td>20</td><td>10</td><td>35</td><td>185</td><td>1</td><td>0</td></tr>\n",
       "\t<tr><td> 300</td><td>46</td><td>2.05</td><td>32</td><td>35</td><td>1</td><td>41</td><td> 7</td><td>166</td><td>57</td><td>37</td><td>14</td><td>25</td><td>173</td><td>1</td><td>1</td></tr>\n",
       "\t<tr><td> 431</td><td>48</td><td>1.92</td><td>30</td><td>33</td><td>1</td><td>20</td><td> 7</td><td>161</td><td>50</td><td>20</td><td>10</td><td>35</td><td>180</td><td>1</td><td>0</td></tr>\n",
       "\t<tr><td>1764</td><td>58</td><td>4.57</td><td>39</td><td>41</td><td>1</td><td>32</td><td>12</td><td>173</td><td>70</td><td>38</td><td>14</td><td>25</td><td>180</td><td>0</td><td>0</td></tr>\n",
       "\t<tr><td> 532</td><td>53</td><td>3.59</td><td>34</td><td>40</td><td>1</td><td>31</td><td>12</td><td>163</td><td>49</td><td>41</td><td>12</td><td>50</td><td>191</td><td>0</td><td>0</td></tr>\n",
       "\t<tr><td> 752</td><td>49</td><td>3.32</td><td>36</td><td>40</td><td>1</td><td>27</td><td>12</td><td>152</td><td>48</td><td>37</td><td>12</td><td>25</td><td>170</td><td>0</td><td>0</td></tr>\n",
       "\t<tr><td>1023</td><td>52</td><td>3.00</td><td>35</td><td>38</td><td>1</td><td>30</td><td>12</td><td>165</td><td>64</td><td>38</td><td>14</td><td>50</td><td>180</td><td>0</td><td>0</td></tr>\n",
       "\t<tr><td>  57</td><td>51</td><td>3.32</td><td>38</td><td>39</td><td>1</td><td>23</td><td>17</td><td>157</td><td>48</td><td>32</td><td>12</td><td>25</td><td>169</td><td>0</td><td>0</td></tr>\n",
       "\t<tr><td>1522</td><td>50</td><td>2.74</td><td>33</td><td>39</td><td>1</td><td>21</td><td>17</td><td>156</td><td>53</td><td>24</td><td>12</td><td> 7</td><td>179</td><td>0</td><td>0</td></tr>\n",
       "\t<tr><td> 223</td><td>50</td><td>3.87</td><td>33</td><td>45</td><td>1</td><td>28</td><td>25</td><td>163</td><td>54</td><td>30</td><td>16</td><td> 0</td><td>183</td><td>0</td><td>0</td></tr>\n",
       "\t<tr><td> 272</td><td>52</td><td>3.86</td><td>36</td><td>39</td><td>1</td><td>30</td><td>25</td><td>170</td><td>78</td><td>40</td><td>16</td><td>50</td><td>178</td><td>0</td><td>0</td></tr>\n",
       "\t<tr><td>  27</td><td>53</td><td>3.55</td><td>37</td><td>41</td><td>1</td><td>37</td><td>25</td><td>161</td><td>66</td><td>46</td><td>16</td><td> 0</td><td>175</td><td>0</td><td>1</td></tr>\n",
       "\t<tr><td> 365</td><td>52</td><td>3.53</td><td>37</td><td>40</td><td>1</td><td>26</td><td>25</td><td>170</td><td>62</td><td>30</td><td>10</td><td>25</td><td>181</td><td>0</td><td>0</td></tr>\n",
       "\t<tr><td> 619</td><td>52</td><td>3.41</td><td>33</td><td>39</td><td>1</td><td>23</td><td>25</td><td>181</td><td>69</td><td>23</td><td>16</td><td> 2</td><td>181</td><td>0</td><td>0</td></tr>\n",
       "\t<tr><td>1369</td><td>49</td><td>3.18</td><td>34</td><td>38</td><td>1</td><td>31</td><td>25</td><td>162</td><td>57</td><td>32</td><td>16</td><td>50</td><td>194</td><td>0</td><td>0</td></tr>\n",
       "\t<tr><td>1262</td><td>53</td><td>3.19</td><td>34</td><td>41</td><td>1</td><td>27</td><td>35</td><td>163</td><td>51</td><td>31</td><td>16</td><td>25</td><td>185</td><td>0</td><td>0</td></tr>\n",
       "\t<tr><td> 516</td><td>47</td><td>2.66</td><td>33</td><td>35</td><td>1</td><td>20</td><td>35</td><td>170</td><td>57</td><td>23</td><td>12</td><td>50</td><td>186</td><td>1</td><td>0</td></tr>\n",
       "\t<tr><td>1272</td><td>53</td><td>2.75</td><td>32</td><td>40</td><td>1</td><td>37</td><td>50</td><td>168</td><td>61</td><td>31</td><td>16</td><td> 0</td><td>173</td><td>0</td><td>1</td></tr>\n",
       "</tbody>\n",
       "</table>\n"
      ],
      "text/latex": [
       "A data.frame: 42 × 16\n",
       "\\begin{tabular}{llllllllllllllll}\n",
       " ï..ID & Length & Birthweight & Headcirc & Gestation & smoker & mage & mnocig & mheight & mppwt & fage & fedyrs & fnocig & fheight & lowbwt & mage35\\\\\n",
       " <int> & <int> & <dbl> & <int> & <int> & <int> & <int> & <int> & <int> & <int> & <int> & <int> & <int> & <int> & <int> & <int>\\\\\n",
       "\\hline\n",
       "\t 1360 & 56 & 4.55 & 34 & 44 & 0 & 20 &  0 & 162 & 57 & 23 & 10 & 35 & 179 & 0 & 0\\\\\n",
       "\t 1016 & 53 & 4.32 & 36 & 40 & 0 & 19 &  0 & 171 & 62 & 19 & 12 &  0 & 183 & 0 & 0\\\\\n",
       "\t  462 & 58 & 4.10 & 39 & 41 & 0 & 35 &  0 & 172 & 58 & 31 & 16 & 25 & 185 & 0 & 1\\\\\n",
       "\t 1187 & 53 & 4.07 & 38 & 44 & 0 & 20 &  0 & 174 & 68 & 26 & 14 & 25 & 189 & 0 & 0\\\\\n",
       "\t  553 & 54 & 3.94 & 37 & 42 & 0 & 24 &  0 & 175 & 66 & 30 & 12 &  0 & 184 & 0 & 0\\\\\n",
       "\t 1636 & 51 & 3.93 & 38 & 38 & 0 & 29 &  0 & 165 & 61 & 31 & 16 &  0 & 180 & 0 & 0\\\\\n",
       "\t  820 & 52 & 3.77 & 34 & 40 & 0 & 24 &  0 & 157 & 50 & 31 & 16 &  0 & 173 & 0 & 0\\\\\n",
       "\t 1191 & 53 & 3.65 & 33 & 42 & 0 & 21 &  0 & 165 & 61 & 21 & 10 & 25 & 185 & 0 & 0\\\\\n",
       "\t 1081 & 54 & 3.63 & 38 & 38 & 0 & 18 &  0 & 172 & 50 & 20 & 12 &  7 & 172 & 0 & 0\\\\\n",
       "\t  822 & 50 & 3.42 & 35 & 38 & 0 & 20 &  0 & 157 & 48 & 22 & 14 &  0 & 179 & 0 & 0\\\\\n",
       "\t 1683 & 53 & 3.35 & 33 & 41 & 0 & 27 &  0 & 164 & 62 & 37 & 14 &  0 & 170 & 0 & 0\\\\\n",
       "\t 1088 & 51 & 3.27 & 36 & 40 & 0 & 24 &  0 & 168 & 53 & 29 & 16 &  0 & 181 & 0 & 0\\\\\n",
       "\t 1107 & 52 & 3.23 & 36 & 38 & 0 & 31 &  0 & 164 & 57 & 35 & 16 &  0 & 183 & 0 & 0\\\\\n",
       "\t  755 & 53 & 3.20 & 33 & 41 & 0 & 21 &  0 & 155 & 55 & 25 & 14 & 25 & 183 & 0 & 0\\\\\n",
       "\t 1058 & 53 & 3.15 & 34 & 40 & 0 & 29 &  0 & 167 & 60 & 30 & 16 & 25 & 182 & 0 & 0\\\\\n",
       "\t  321 & 48 & 3.11 & 33 & 37 & 0 & 28 &  0 & 158 & 54 & 39 & 10 &  0 & 171 & 0 & 0\\\\\n",
       "\t  697 & 48 & 3.03 & 35 & 39 & 0 & 27 &  0 & 162 & 62 & 27 & 14 &  0 & 178 & 0 & 0\\\\\n",
       "\t  808 & 48 & 2.92 & 33 & 34 & 0 & 26 &  0 & 167 & 64 & 25 & 12 & 25 & 175 & 0 & 0\\\\\n",
       "\t 1600 & 53 & 2.90 & 34 & 39 & 0 & 19 &  0 & 165 & 57 & 23 & 14 &  2 & 193 & 0 & 0\\\\\n",
       "\t 1313 & 43 & 2.65 & 32 & 33 & 0 & 24 &  0 & 149 & 45 & 26 & 16 &  0 & 169 & 1 & 0\\\\\n",
       "\t  792 & 53 & 3.64 & 38 & 40 & 1 & 20 &  2 & 170 & 59 & 24 & 12 & 12 & 185 & 0 & 0\\\\\n",
       "\t 1388 & 51 & 3.14 & 33 & 41 & 1 & 22 &  7 & 160 & 53 & 24 & 16 & 12 & 176 & 0 & 0\\\\\n",
       "\t  575 & 50 & 2.78 & 30 & 37 & 1 & 19 &  7 & 165 & 60 & 20 & 14 &  0 & 183 & 0 & 0\\\\\n",
       "\t  569 & 50 & 2.51 & 35 & 39 & 1 & 22 &  7 & 159 & 52 & 23 & 14 & 25 & 200 & 1 & 0\\\\\n",
       "\t 1363 & 48 & 2.37 & 30 & 37 & 1 & 20 &  7 & 163 & 47 & 20 & 10 & 35 & 185 & 1 & 0\\\\\n",
       "\t  300 & 46 & 2.05 & 32 & 35 & 1 & 41 &  7 & 166 & 57 & 37 & 14 & 25 & 173 & 1 & 1\\\\\n",
       "\t  431 & 48 & 1.92 & 30 & 33 & 1 & 20 &  7 & 161 & 50 & 20 & 10 & 35 & 180 & 1 & 0\\\\\n",
       "\t 1764 & 58 & 4.57 & 39 & 41 & 1 & 32 & 12 & 173 & 70 & 38 & 14 & 25 & 180 & 0 & 0\\\\\n",
       "\t  532 & 53 & 3.59 & 34 & 40 & 1 & 31 & 12 & 163 & 49 & 41 & 12 & 50 & 191 & 0 & 0\\\\\n",
       "\t  752 & 49 & 3.32 & 36 & 40 & 1 & 27 & 12 & 152 & 48 & 37 & 12 & 25 & 170 & 0 & 0\\\\\n",
       "\t 1023 & 52 & 3.00 & 35 & 38 & 1 & 30 & 12 & 165 & 64 & 38 & 14 & 50 & 180 & 0 & 0\\\\\n",
       "\t   57 & 51 & 3.32 & 38 & 39 & 1 & 23 & 17 & 157 & 48 & 32 & 12 & 25 & 169 & 0 & 0\\\\\n",
       "\t 1522 & 50 & 2.74 & 33 & 39 & 1 & 21 & 17 & 156 & 53 & 24 & 12 &  7 & 179 & 0 & 0\\\\\n",
       "\t  223 & 50 & 3.87 & 33 & 45 & 1 & 28 & 25 & 163 & 54 & 30 & 16 &  0 & 183 & 0 & 0\\\\\n",
       "\t  272 & 52 & 3.86 & 36 & 39 & 1 & 30 & 25 & 170 & 78 & 40 & 16 & 50 & 178 & 0 & 0\\\\\n",
       "\t   27 & 53 & 3.55 & 37 & 41 & 1 & 37 & 25 & 161 & 66 & 46 & 16 &  0 & 175 & 0 & 1\\\\\n",
       "\t  365 & 52 & 3.53 & 37 & 40 & 1 & 26 & 25 & 170 & 62 & 30 & 10 & 25 & 181 & 0 & 0\\\\\n",
       "\t  619 & 52 & 3.41 & 33 & 39 & 1 & 23 & 25 & 181 & 69 & 23 & 16 &  2 & 181 & 0 & 0\\\\\n",
       "\t 1369 & 49 & 3.18 & 34 & 38 & 1 & 31 & 25 & 162 & 57 & 32 & 16 & 50 & 194 & 0 & 0\\\\\n",
       "\t 1262 & 53 & 3.19 & 34 & 41 & 1 & 27 & 35 & 163 & 51 & 31 & 16 & 25 & 185 & 0 & 0\\\\\n",
       "\t  516 & 47 & 2.66 & 33 & 35 & 1 & 20 & 35 & 170 & 57 & 23 & 12 & 50 & 186 & 1 & 0\\\\\n",
       "\t 1272 & 53 & 2.75 & 32 & 40 & 1 & 37 & 50 & 168 & 61 & 31 & 16 &  0 & 173 & 0 & 1\\\\\n",
       "\\end{tabular}\n"
      ],
      "text/markdown": [
       "\n",
       "A data.frame: 42 × 16\n",
       "\n",
       "| ï..ID &lt;int&gt; | Length &lt;int&gt; | Birthweight &lt;dbl&gt; | Headcirc &lt;int&gt; | Gestation &lt;int&gt; | smoker &lt;int&gt; | mage &lt;int&gt; | mnocig &lt;int&gt; | mheight &lt;int&gt; | mppwt &lt;int&gt; | fage &lt;int&gt; | fedyrs &lt;int&gt; | fnocig &lt;int&gt; | fheight &lt;int&gt; | lowbwt &lt;int&gt; | mage35 &lt;int&gt; |\n",
       "|---|---|---|---|---|---|---|---|---|---|---|---|---|---|---|---|\n",
       "| 1360 | 56 | 4.55 | 34 | 44 | 0 | 20 |  0 | 162 | 57 | 23 | 10 | 35 | 179 | 0 | 0 |\n",
       "| 1016 | 53 | 4.32 | 36 | 40 | 0 | 19 |  0 | 171 | 62 | 19 | 12 |  0 | 183 | 0 | 0 |\n",
       "|  462 | 58 | 4.10 | 39 | 41 | 0 | 35 |  0 | 172 | 58 | 31 | 16 | 25 | 185 | 0 | 1 |\n",
       "| 1187 | 53 | 4.07 | 38 | 44 | 0 | 20 |  0 | 174 | 68 | 26 | 14 | 25 | 189 | 0 | 0 |\n",
       "|  553 | 54 | 3.94 | 37 | 42 | 0 | 24 |  0 | 175 | 66 | 30 | 12 |  0 | 184 | 0 | 0 |\n",
       "| 1636 | 51 | 3.93 | 38 | 38 | 0 | 29 |  0 | 165 | 61 | 31 | 16 |  0 | 180 | 0 | 0 |\n",
       "|  820 | 52 | 3.77 | 34 | 40 | 0 | 24 |  0 | 157 | 50 | 31 | 16 |  0 | 173 | 0 | 0 |\n",
       "| 1191 | 53 | 3.65 | 33 | 42 | 0 | 21 |  0 | 165 | 61 | 21 | 10 | 25 | 185 | 0 | 0 |\n",
       "| 1081 | 54 | 3.63 | 38 | 38 | 0 | 18 |  0 | 172 | 50 | 20 | 12 |  7 | 172 | 0 | 0 |\n",
       "|  822 | 50 | 3.42 | 35 | 38 | 0 | 20 |  0 | 157 | 48 | 22 | 14 |  0 | 179 | 0 | 0 |\n",
       "| 1683 | 53 | 3.35 | 33 | 41 | 0 | 27 |  0 | 164 | 62 | 37 | 14 |  0 | 170 | 0 | 0 |\n",
       "| 1088 | 51 | 3.27 | 36 | 40 | 0 | 24 |  0 | 168 | 53 | 29 | 16 |  0 | 181 | 0 | 0 |\n",
       "| 1107 | 52 | 3.23 | 36 | 38 | 0 | 31 |  0 | 164 | 57 | 35 | 16 |  0 | 183 | 0 | 0 |\n",
       "|  755 | 53 | 3.20 | 33 | 41 | 0 | 21 |  0 | 155 | 55 | 25 | 14 | 25 | 183 | 0 | 0 |\n",
       "| 1058 | 53 | 3.15 | 34 | 40 | 0 | 29 |  0 | 167 | 60 | 30 | 16 | 25 | 182 | 0 | 0 |\n",
       "|  321 | 48 | 3.11 | 33 | 37 | 0 | 28 |  0 | 158 | 54 | 39 | 10 |  0 | 171 | 0 | 0 |\n",
       "|  697 | 48 | 3.03 | 35 | 39 | 0 | 27 |  0 | 162 | 62 | 27 | 14 |  0 | 178 | 0 | 0 |\n",
       "|  808 | 48 | 2.92 | 33 | 34 | 0 | 26 |  0 | 167 | 64 | 25 | 12 | 25 | 175 | 0 | 0 |\n",
       "| 1600 | 53 | 2.90 | 34 | 39 | 0 | 19 |  0 | 165 | 57 | 23 | 14 |  2 | 193 | 0 | 0 |\n",
       "| 1313 | 43 | 2.65 | 32 | 33 | 0 | 24 |  0 | 149 | 45 | 26 | 16 |  0 | 169 | 1 | 0 |\n",
       "|  792 | 53 | 3.64 | 38 | 40 | 1 | 20 |  2 | 170 | 59 | 24 | 12 | 12 | 185 | 0 | 0 |\n",
       "| 1388 | 51 | 3.14 | 33 | 41 | 1 | 22 |  7 | 160 | 53 | 24 | 16 | 12 | 176 | 0 | 0 |\n",
       "|  575 | 50 | 2.78 | 30 | 37 | 1 | 19 |  7 | 165 | 60 | 20 | 14 |  0 | 183 | 0 | 0 |\n",
       "|  569 | 50 | 2.51 | 35 | 39 | 1 | 22 |  7 | 159 | 52 | 23 | 14 | 25 | 200 | 1 | 0 |\n",
       "| 1363 | 48 | 2.37 | 30 | 37 | 1 | 20 |  7 | 163 | 47 | 20 | 10 | 35 | 185 | 1 | 0 |\n",
       "|  300 | 46 | 2.05 | 32 | 35 | 1 | 41 |  7 | 166 | 57 | 37 | 14 | 25 | 173 | 1 | 1 |\n",
       "|  431 | 48 | 1.92 | 30 | 33 | 1 | 20 |  7 | 161 | 50 | 20 | 10 | 35 | 180 | 1 | 0 |\n",
       "| 1764 | 58 | 4.57 | 39 | 41 | 1 | 32 | 12 | 173 | 70 | 38 | 14 | 25 | 180 | 0 | 0 |\n",
       "|  532 | 53 | 3.59 | 34 | 40 | 1 | 31 | 12 | 163 | 49 | 41 | 12 | 50 | 191 | 0 | 0 |\n",
       "|  752 | 49 | 3.32 | 36 | 40 | 1 | 27 | 12 | 152 | 48 | 37 | 12 | 25 | 170 | 0 | 0 |\n",
       "| 1023 | 52 | 3.00 | 35 | 38 | 1 | 30 | 12 | 165 | 64 | 38 | 14 | 50 | 180 | 0 | 0 |\n",
       "|   57 | 51 | 3.32 | 38 | 39 | 1 | 23 | 17 | 157 | 48 | 32 | 12 | 25 | 169 | 0 | 0 |\n",
       "| 1522 | 50 | 2.74 | 33 | 39 | 1 | 21 | 17 | 156 | 53 | 24 | 12 |  7 | 179 | 0 | 0 |\n",
       "|  223 | 50 | 3.87 | 33 | 45 | 1 | 28 | 25 | 163 | 54 | 30 | 16 |  0 | 183 | 0 | 0 |\n",
       "|  272 | 52 | 3.86 | 36 | 39 | 1 | 30 | 25 | 170 | 78 | 40 | 16 | 50 | 178 | 0 | 0 |\n",
       "|   27 | 53 | 3.55 | 37 | 41 | 1 | 37 | 25 | 161 | 66 | 46 | 16 |  0 | 175 | 0 | 1 |\n",
       "|  365 | 52 | 3.53 | 37 | 40 | 1 | 26 | 25 | 170 | 62 | 30 | 10 | 25 | 181 | 0 | 0 |\n",
       "|  619 | 52 | 3.41 | 33 | 39 | 1 | 23 | 25 | 181 | 69 | 23 | 16 |  2 | 181 | 0 | 0 |\n",
       "| 1369 | 49 | 3.18 | 34 | 38 | 1 | 31 | 25 | 162 | 57 | 32 | 16 | 50 | 194 | 0 | 0 |\n",
       "| 1262 | 53 | 3.19 | 34 | 41 | 1 | 27 | 35 | 163 | 51 | 31 | 16 | 25 | 185 | 0 | 0 |\n",
       "|  516 | 47 | 2.66 | 33 | 35 | 1 | 20 | 35 | 170 | 57 | 23 | 12 | 50 | 186 | 1 | 0 |\n",
       "| 1272 | 53 | 2.75 | 32 | 40 | 1 | 37 | 50 | 168 | 61 | 31 | 16 |  0 | 173 | 0 | 1 |\n",
       "\n"
      ],
      "text/plain": [
       "   ï..ID Length Birthweight Headcirc Gestation smoker mage mnocig mheight mppwt\n",
       "1  1360  56     4.55        34       44        0      20    0     162     57   \n",
       "2  1016  53     4.32        36       40        0      19    0     171     62   \n",
       "3   462  58     4.10        39       41        0      35    0     172     58   \n",
       "4  1187  53     4.07        38       44        0      20    0     174     68   \n",
       "5   553  54     3.94        37       42        0      24    0     175     66   \n",
       "6  1636  51     3.93        38       38        0      29    0     165     61   \n",
       "7   820  52     3.77        34       40        0      24    0     157     50   \n",
       "8  1191  53     3.65        33       42        0      21    0     165     61   \n",
       "9  1081  54     3.63        38       38        0      18    0     172     50   \n",
       "10  822  50     3.42        35       38        0      20    0     157     48   \n",
       "11 1683  53     3.35        33       41        0      27    0     164     62   \n",
       "12 1088  51     3.27        36       40        0      24    0     168     53   \n",
       "13 1107  52     3.23        36       38        0      31    0     164     57   \n",
       "14  755  53     3.20        33       41        0      21    0     155     55   \n",
       "15 1058  53     3.15        34       40        0      29    0     167     60   \n",
       "16  321  48     3.11        33       37        0      28    0     158     54   \n",
       "17  697  48     3.03        35       39        0      27    0     162     62   \n",
       "18  808  48     2.92        33       34        0      26    0     167     64   \n",
       "19 1600  53     2.90        34       39        0      19    0     165     57   \n",
       "20 1313  43     2.65        32       33        0      24    0     149     45   \n",
       "21  792  53     3.64        38       40        1      20    2     170     59   \n",
       "22 1388  51     3.14        33       41        1      22    7     160     53   \n",
       "23  575  50     2.78        30       37        1      19    7     165     60   \n",
       "24  569  50     2.51        35       39        1      22    7     159     52   \n",
       "25 1363  48     2.37        30       37        1      20    7     163     47   \n",
       "26  300  46     2.05        32       35        1      41    7     166     57   \n",
       "27  431  48     1.92        30       33        1      20    7     161     50   \n",
       "28 1764  58     4.57        39       41        1      32   12     173     70   \n",
       "29  532  53     3.59        34       40        1      31   12     163     49   \n",
       "30  752  49     3.32        36       40        1      27   12     152     48   \n",
       "31 1023  52     3.00        35       38        1      30   12     165     64   \n",
       "32   57  51     3.32        38       39        1      23   17     157     48   \n",
       "33 1522  50     2.74        33       39        1      21   17     156     53   \n",
       "34  223  50     3.87        33       45        1      28   25     163     54   \n",
       "35  272  52     3.86        36       39        1      30   25     170     78   \n",
       "36   27  53     3.55        37       41        1      37   25     161     66   \n",
       "37  365  52     3.53        37       40        1      26   25     170     62   \n",
       "38  619  52     3.41        33       39        1      23   25     181     69   \n",
       "39 1369  49     3.18        34       38        1      31   25     162     57   \n",
       "40 1262  53     3.19        34       41        1      27   35     163     51   \n",
       "41  516  47     2.66        33       35        1      20   35     170     57   \n",
       "42 1272  53     2.75        32       40        1      37   50     168     61   \n",
       "   fage fedyrs fnocig fheight lowbwt mage35\n",
       "1  23   10     35     179     0      0     \n",
       "2  19   12      0     183     0      0     \n",
       "3  31   16     25     185     0      1     \n",
       "4  26   14     25     189     0      0     \n",
       "5  30   12      0     184     0      0     \n",
       "6  31   16      0     180     0      0     \n",
       "7  31   16      0     173     0      0     \n",
       "8  21   10     25     185     0      0     \n",
       "9  20   12      7     172     0      0     \n",
       "10 22   14      0     179     0      0     \n",
       "11 37   14      0     170     0      0     \n",
       "12 29   16      0     181     0      0     \n",
       "13 35   16      0     183     0      0     \n",
       "14 25   14     25     183     0      0     \n",
       "15 30   16     25     182     0      0     \n",
       "16 39   10      0     171     0      0     \n",
       "17 27   14      0     178     0      0     \n",
       "18 25   12     25     175     0      0     \n",
       "19 23   14      2     193     0      0     \n",
       "20 26   16      0     169     1      0     \n",
       "21 24   12     12     185     0      0     \n",
       "22 24   16     12     176     0      0     \n",
       "23 20   14      0     183     0      0     \n",
       "24 23   14     25     200     1      0     \n",
       "25 20   10     35     185     1      0     \n",
       "26 37   14     25     173     1      1     \n",
       "27 20   10     35     180     1      0     \n",
       "28 38   14     25     180     0      0     \n",
       "29 41   12     50     191     0      0     \n",
       "30 37   12     25     170     0      0     \n",
       "31 38   14     50     180     0      0     \n",
       "32 32   12     25     169     0      0     \n",
       "33 24   12      7     179     0      0     \n",
       "34 30   16      0     183     0      0     \n",
       "35 40   16     50     178     0      0     \n",
       "36 46   16      0     175     0      1     \n",
       "37 30   10     25     181     0      0     \n",
       "38 23   16      2     181     0      0     \n",
       "39 32   16     50     194     0      0     \n",
       "40 31   16     25     185     0      0     \n",
       "41 23   12     50     186     1      0     \n",
       "42 31   16      0     173     0      1     "
      ]
     },
     "metadata": {},
     "output_type": "display_data"
    }
   ],
   "source": [
    "data"
   ]
  },
  {
   "cell_type": "code",
   "execution_count": 3,
   "metadata": {
    "ExecuteTime": {
     "end_time": "2021-05-12T08:54:21.487988Z",
     "start_time": "2021-05-12T08:54:21.425Z"
    }
   },
   "outputs": [
    {
     "name": "stdout",
     "output_type": "stream",
     "text": [
      "'data.frame':\t42 obs. of  16 variables:\n",
      " $ ï..ID      : int  1360 1016 462 1187 553 1636 820 1191 1081 822 ...\n",
      " $ Length     : int  56 53 58 53 54 51 52 53 54 50 ...\n",
      " $ Birthweight: num  4.55 4.32 4.1 4.07 3.94 3.93 3.77 3.65 3.63 3.42 ...\n",
      " $ Headcirc   : int  34 36 39 38 37 38 34 33 38 35 ...\n",
      " $ Gestation  : int  44 40 41 44 42 38 40 42 38 38 ...\n",
      " $ smoker     : int  0 0 0 0 0 0 0 0 0 0 ...\n",
      " $ mage       : int  20 19 35 20 24 29 24 21 18 20 ...\n",
      " $ mnocig     : int  0 0 0 0 0 0 0 0 0 0 ...\n",
      " $ mheight    : int  162 171 172 174 175 165 157 165 172 157 ...\n",
      " $ mppwt      : int  57 62 58 68 66 61 50 61 50 48 ...\n",
      " $ fage       : int  23 19 31 26 30 31 31 21 20 22 ...\n",
      " $ fedyrs     : int  10 12 16 14 12 16 16 10 12 14 ...\n",
      " $ fnocig     : int  35 0 25 25 0 0 0 25 7 0 ...\n",
      " $ fheight    : int  179 183 185 189 184 180 173 185 172 179 ...\n",
      " $ lowbwt     : int  0 0 0 0 0 0 0 0 0 0 ...\n",
      " $ mage35     : int  0 0 1 0 0 0 0 0 0 0 ...\n"
     ]
    }
   ],
   "source": [
    "str(data)"
   ]
  },
  {
   "cell_type": "code",
   "execution_count": 89,
   "metadata": {
    "ExecuteTime": {
     "end_time": "2021-05-10T14:29:24.034218Z",
     "start_time": "2021-05-10T14:29:23.977Z"
    }
   },
   "outputs": [
    {
     "data": {
      "text/plain": [
       "     ï..ID            Length       Birthweight       Headcirc   \n",
       " Min.   :  27.0   Min.   :43.00   Min.   :1.920   Min.   :30.0  \n",
       " 1st Qu.: 537.2   1st Qu.:50.00   1st Qu.:2.940   1st Qu.:33.0  \n",
       " Median : 821.0   Median :52.00   Median :3.295   Median :34.0  \n",
       " Mean   : 894.1   Mean   :51.33   Mean   :3.313   Mean   :34.6  \n",
       " 3rd Qu.:1269.5   3rd Qu.:53.00   3rd Qu.:3.647   3rd Qu.:36.0  \n",
       " Max.   :1764.0   Max.   :58.00   Max.   :4.570   Max.   :39.0  \n",
       "   Gestation         smoker            mage           mnocig      \n",
       " Min.   :33.00   Min.   :0.0000   Min.   :18.00   Min.   : 0.000  \n",
       " 1st Qu.:38.00   1st Qu.:0.0000   1st Qu.:20.25   1st Qu.: 0.000  \n",
       " Median :39.50   Median :1.0000   Median :24.00   Median : 4.500  \n",
       " Mean   :39.19   Mean   :0.5238   Mean   :25.55   Mean   : 9.429  \n",
       " 3rd Qu.:41.00   3rd Qu.:1.0000   3rd Qu.:29.00   3rd Qu.:15.750  \n",
       " Max.   :45.00   Max.   :1.0000   Max.   :41.00   Max.   :50.000  \n",
       "    mheight          mppwt            fage          fedyrs          fnocig     \n",
       " Min.   :149.0   Min.   :45.00   Min.   :19.0   Min.   :10.00   Min.   : 0.00  \n",
       " 1st Qu.:161.0   1st Qu.:52.25   1st Qu.:23.0   1st Qu.:12.00   1st Qu.: 0.00  \n",
       " Median :164.5   Median :57.00   Median :29.5   Median :14.00   Median :18.50  \n",
       " Mean   :164.5   Mean   :57.50   Mean   :28.9   Mean   :13.67   Mean   :17.19  \n",
       " 3rd Qu.:169.5   3rd Qu.:62.00   3rd Qu.:32.0   3rd Qu.:16.00   3rd Qu.:25.00  \n",
       " Max.   :181.0   Max.   :78.00   Max.   :46.0   Max.   :16.00   Max.   :50.00  \n",
       "    fheight          lowbwt           mage35       \n",
       " Min.   :169.0   Min.   :0.0000   Min.   :0.00000  \n",
       " 1st Qu.:175.2   1st Qu.:0.0000   1st Qu.:0.00000  \n",
       " Median :180.5   Median :0.0000   Median :0.00000  \n",
       " Mean   :180.5   Mean   :0.1429   Mean   :0.09524  \n",
       " 3rd Qu.:184.8   3rd Qu.:0.0000   3rd Qu.:0.00000  \n",
       " Max.   :200.0   Max.   :1.0000   Max.   :1.00000  "
      ]
     },
     "metadata": {},
     "output_type": "display_data"
    }
   ],
   "source": [
    "summary(data)"
   ]
  },
  {
   "cell_type": "code",
   "execution_count": 5,
   "metadata": {
    "ExecuteTime": {
     "end_time": "2021-05-10T07:39:27.896969Z",
     "start_time": "2021-05-10T07:39:27.826Z"
    }
   },
   "outputs": [
    {
     "data": {
      "text/html": [
       "<table class=\"dataframe\">\n",
       "<caption>A data.frame: 6 × 15</caption>\n",
       "<thead>\n",
       "\t<tr><th></th><th scope=col>Length</th><th scope=col>Birthweight</th><th scope=col>Headcirc</th><th scope=col>Gestation</th><th scope=col>smoker</th><th scope=col>mage</th><th scope=col>mnocig</th><th scope=col>mheight</th><th scope=col>mppwt</th><th scope=col>fage</th><th scope=col>fedyrs</th><th scope=col>fnocig</th><th scope=col>fheight</th><th scope=col>lowbwt</th><th scope=col>mage35</th></tr>\n",
       "\t<tr><th></th><th scope=col>&lt;int&gt;</th><th scope=col>&lt;dbl&gt;</th><th scope=col>&lt;int&gt;</th><th scope=col>&lt;int&gt;</th><th scope=col>&lt;int&gt;</th><th scope=col>&lt;int&gt;</th><th scope=col>&lt;int&gt;</th><th scope=col>&lt;int&gt;</th><th scope=col>&lt;int&gt;</th><th scope=col>&lt;int&gt;</th><th scope=col>&lt;int&gt;</th><th scope=col>&lt;int&gt;</th><th scope=col>&lt;int&gt;</th><th scope=col>&lt;int&gt;</th><th scope=col>&lt;int&gt;</th></tr>\n",
       "</thead>\n",
       "<tbody>\n",
       "\t<tr><th scope=row>1</th><td>56</td><td>4.55</td><td>34</td><td>44</td><td>0</td><td>20</td><td>0</td><td>162</td><td>57</td><td>23</td><td>10</td><td>35</td><td>179</td><td>0</td><td>0</td></tr>\n",
       "\t<tr><th scope=row>2</th><td>53</td><td>4.32</td><td>36</td><td>40</td><td>0</td><td>19</td><td>0</td><td>171</td><td>62</td><td>19</td><td>12</td><td> 0</td><td>183</td><td>0</td><td>0</td></tr>\n",
       "\t<tr><th scope=row>3</th><td>58</td><td>4.10</td><td>39</td><td>41</td><td>0</td><td>35</td><td>0</td><td>172</td><td>58</td><td>31</td><td>16</td><td>25</td><td>185</td><td>0</td><td>1</td></tr>\n",
       "\t<tr><th scope=row>4</th><td>53</td><td>4.07</td><td>38</td><td>44</td><td>0</td><td>20</td><td>0</td><td>174</td><td>68</td><td>26</td><td>14</td><td>25</td><td>189</td><td>0</td><td>0</td></tr>\n",
       "\t<tr><th scope=row>5</th><td>54</td><td>3.94</td><td>37</td><td>42</td><td>0</td><td>24</td><td>0</td><td>175</td><td>66</td><td>30</td><td>12</td><td> 0</td><td>184</td><td>0</td><td>0</td></tr>\n",
       "\t<tr><th scope=row>6</th><td>51</td><td>3.93</td><td>38</td><td>38</td><td>0</td><td>29</td><td>0</td><td>165</td><td>61</td><td>31</td><td>16</td><td> 0</td><td>180</td><td>0</td><td>0</td></tr>\n",
       "</tbody>\n",
       "</table>\n"
      ],
      "text/latex": [
       "A data.frame: 6 × 15\n",
       "\\begin{tabular}{r|lllllllllllllll}\n",
       "  & Length & Birthweight & Headcirc & Gestation & smoker & mage & mnocig & mheight & mppwt & fage & fedyrs & fnocig & fheight & lowbwt & mage35\\\\\n",
       "  & <int> & <dbl> & <int> & <int> & <int> & <int> & <int> & <int> & <int> & <int> & <int> & <int> & <int> & <int> & <int>\\\\\n",
       "\\hline\n",
       "\t1 & 56 & 4.55 & 34 & 44 & 0 & 20 & 0 & 162 & 57 & 23 & 10 & 35 & 179 & 0 & 0\\\\\n",
       "\t2 & 53 & 4.32 & 36 & 40 & 0 & 19 & 0 & 171 & 62 & 19 & 12 &  0 & 183 & 0 & 0\\\\\n",
       "\t3 & 58 & 4.10 & 39 & 41 & 0 & 35 & 0 & 172 & 58 & 31 & 16 & 25 & 185 & 0 & 1\\\\\n",
       "\t4 & 53 & 4.07 & 38 & 44 & 0 & 20 & 0 & 174 & 68 & 26 & 14 & 25 & 189 & 0 & 0\\\\\n",
       "\t5 & 54 & 3.94 & 37 & 42 & 0 & 24 & 0 & 175 & 66 & 30 & 12 &  0 & 184 & 0 & 0\\\\\n",
       "\t6 & 51 & 3.93 & 38 & 38 & 0 & 29 & 0 & 165 & 61 & 31 & 16 &  0 & 180 & 0 & 0\\\\\n",
       "\\end{tabular}\n"
      ],
      "text/markdown": [
       "\n",
       "A data.frame: 6 × 15\n",
       "\n",
       "| <!--/--> | Length &lt;int&gt; | Birthweight &lt;dbl&gt; | Headcirc &lt;int&gt; | Gestation &lt;int&gt; | smoker &lt;int&gt; | mage &lt;int&gt; | mnocig &lt;int&gt; | mheight &lt;int&gt; | mppwt &lt;int&gt; | fage &lt;int&gt; | fedyrs &lt;int&gt; | fnocig &lt;int&gt; | fheight &lt;int&gt; | lowbwt &lt;int&gt; | mage35 &lt;int&gt; |\n",
       "|---|---|---|---|---|---|---|---|---|---|---|---|---|---|---|---|\n",
       "| 1 | 56 | 4.55 | 34 | 44 | 0 | 20 | 0 | 162 | 57 | 23 | 10 | 35 | 179 | 0 | 0 |\n",
       "| 2 | 53 | 4.32 | 36 | 40 | 0 | 19 | 0 | 171 | 62 | 19 | 12 |  0 | 183 | 0 | 0 |\n",
       "| 3 | 58 | 4.10 | 39 | 41 | 0 | 35 | 0 | 172 | 58 | 31 | 16 | 25 | 185 | 0 | 1 |\n",
       "| 4 | 53 | 4.07 | 38 | 44 | 0 | 20 | 0 | 174 | 68 | 26 | 14 | 25 | 189 | 0 | 0 |\n",
       "| 5 | 54 | 3.94 | 37 | 42 | 0 | 24 | 0 | 175 | 66 | 30 | 12 |  0 | 184 | 0 | 0 |\n",
       "| 6 | 51 | 3.93 | 38 | 38 | 0 | 29 | 0 | 165 | 61 | 31 | 16 |  0 | 180 | 0 | 0 |\n",
       "\n"
      ],
      "text/plain": [
       "  Length Birthweight Headcirc Gestation smoker mage mnocig mheight mppwt fage\n",
       "1 56     4.55        34       44        0      20   0      162     57    23  \n",
       "2 53     4.32        36       40        0      19   0      171     62    19  \n",
       "3 58     4.10        39       41        0      35   0      172     58    31  \n",
       "4 53     4.07        38       44        0      20   0      174     68    26  \n",
       "5 54     3.94        37       42        0      24   0      175     66    30  \n",
       "6 51     3.93        38       38        0      29   0      165     61    31  \n",
       "  fedyrs fnocig fheight lowbwt mage35\n",
       "1 10     35     179     0      0     \n",
       "2 12      0     183     0      0     \n",
       "3 16     25     185     0      1     \n",
       "4 14     25     189     0      0     \n",
       "5 12      0     184     0      0     \n",
       "6 16      0     180     0      0     "
      ]
     },
     "metadata": {},
     "output_type": "display_data"
    }
   ],
   "source": [
    "head(data)"
   ]
  },
  {
   "cell_type": "code",
   "execution_count": 4,
   "metadata": {
    "ExecuteTime": {
     "end_time": "2021-05-12T08:54:26.634607Z",
     "start_time": "2021-05-12T08:54:26.586Z"
    }
   },
   "outputs": [
    {
     "data": {
      "text/html": [
       "<style>\n",
       ".list-inline {list-style: none; margin:0; padding: 0}\n",
       ".list-inline>li {display: inline-block}\n",
       ".list-inline>li:not(:last-child)::after {content: \"\\00b7\"; padding: 0 .5ex}\n",
       "</style>\n",
       "<ol class=list-inline><li>169</li><li>200</li></ol>\n"
      ],
      "text/latex": [
       "\\begin{enumerate*}\n",
       "\\item 169\n",
       "\\item 200\n",
       "\\end{enumerate*}\n"
      ],
      "text/markdown": [
       "1. 169\n",
       "2. 200\n",
       "\n",
       "\n"
      ],
      "text/plain": [
       "[1] 169 200"
      ]
     },
     "metadata": {},
     "output_type": "display_data"
    }
   ],
   "source": [
    "range(data$fheight)"
   ]
  },
  {
   "cell_type": "code",
   "execution_count": 5,
   "metadata": {
    "ExecuteTime": {
     "end_time": "2021-05-12T08:54:27.940438Z",
     "start_time": "2021-05-12T08:54:27.889Z"
    }
   },
   "outputs": [
    {
     "data": {
      "text/html": [
       "6.97818901658729"
      ],
      "text/latex": [
       "6.97818901658729"
      ],
      "text/markdown": [
       "6.97818901658729"
      ],
      "text/plain": [
       "[1] 6.978189"
      ]
     },
     "metadata": {},
     "output_type": "display_data"
    }
   ],
   "source": [
    "sd(data$fheight)"
   ]
  },
  {
   "cell_type": "markdown",
   "metadata": {},
   "source": [
    "# Descriptive Analysis"
   ]
  },
  {
   "cell_type": "code",
   "execution_count": 68,
   "metadata": {
    "ExecuteTime": {
     "end_time": "2021-05-10T08:45:26.251401Z",
     "start_time": "2021-05-10T08:45:26.158Z"
    }
   },
   "outputs": [
    {
     "data": {
      "text/html": [
       "<table class=\"dataframe\">\n",
       "<caption>A matrix: 15 × 15 of type dbl</caption>\n",
       "<thead>\n",
       "\t<tr><th></th><th scope=col>Length</th><th scope=col>Birthweight</th><th scope=col>Headcirc</th><th scope=col>Gestation</th><th scope=col>smoker</th><th scope=col>mage</th><th scope=col>mnocig</th><th scope=col>mheight</th><th scope=col>mppwt</th><th scope=col>fage</th><th scope=col>fedyrs</th><th scope=col>fnocig</th><th scope=col>fheight</th><th scope=col>lowbwt</th><th scope=col>mage35</th></tr>\n",
       "</thead>\n",
       "<tbody>\n",
       "\t<tr><th scope=row>Length</th><td> 1.000000000</td><td> 0.7268334848</td><td> 0.56317161</td><td> 0.705110591</td><td>-0.1534061527</td><td> 0.0752683574</td><td>-0.03984276</td><td> 0.4849924026</td><td> 0.39819740</td><td> 0.13718437</td><td> 0.07948457</td><td> 0.008800476</td><td> 0.20835843</td><td>-0.60992834</td><td> 0.130502048</td></tr>\n",
       "\t<tr><th scope=row>Birthweight</th><td> 0.726833485</td><td> 1.0000000000</td><td> 0.68461562</td><td> 0.708302894</td><td>-0.3142339464</td><td> 0.0001731023</td><td>-0.15233518</td><td> 0.3630551926</td><td> 0.40088563</td><td> 0.17570999</td><td> 0.07104523</td><td>-0.093135762</td><td> 0.03102250</td><td>-0.65196373</td><td>-0.108946754</td></tr>\n",
       "\t<tr><th scope=row>Headcirc</th><td> 0.563171606</td><td> 0.6846156185</td><td> 1.00000000</td><td> 0.404634772</td><td>-0.1828718541</td><td> 0.1458415206</td><td>-0.13298772</td><td> 0.3370468163</td><td> 0.30285407</td><td> 0.30115080</td><td> 0.12389250</td><td>-0.046836781</td><td> 0.04150923</td><td>-0.44684892</td><td> 0.055385612</td></tr>\n",
       "\t<tr><th scope=row>Gestation</th><td> 0.705110591</td><td> 0.7083028937</td><td> 0.40463477</td><td> 1.000000000</td><td>-0.0947460785</td><td> 0.0107784551</td><td> 0.04319486</td><td> 0.2105031792</td><td> 0.25508237</td><td> 0.14217533</td><td> 0.13098664</td><td>-0.113830614</td><td> 0.20759684</td><td>-0.60293498</td><td> 0.007394508</td></tr>\n",
       "\t<tr><th scope=row>smoker</th><td>-0.153406153</td><td>-0.3142339464</td><td>-0.18287185</td><td>-0.094746078</td><td> 1.0000000000</td><td> 0.2124787863</td><td> 0.72721809</td><td> 0.0003532676</td><td> 0.00000000</td><td> 0.19750145</td><td>-0.01489058</td><td> 0.417632959</td><td> 0.11063273</td><td> 0.25301216</td><td> 0.146938453</td></tr>\n",
       "\t<tr><th scope=row>mage</th><td> 0.075268357</td><td> 0.0001731023</td><td> 0.14584152</td><td> 0.010778455</td><td> 0.2124787863</td><td> 1.0000000000</td><td> 0.34029438</td><td> 0.0599563823</td><td> 0.27416768</td><td> 0.80658442</td><td> 0.44168266</td><td> 0.090926636</td><td>-0.19954686</td><td>-0.07639372</td><td> 0.692663889</td></tr>\n",
       "\t<tr><th scope=row>mnocig</th><td>-0.039842761</td><td>-0.1523351845</td><td>-0.13298772</td><td> 0.043194856</td><td> 0.7272180924</td><td> 0.3402943777</td><td> 1.00000000</td><td> 0.1264388844</td><td> 0.14894461</td><td> 0.24842538</td><td> 0.19852620</td><td> 0.257307386</td><td> 0.02067224</td><td> 0.03538366</td><td> 0.290574154</td></tr>\n",
       "\t<tr><th scope=row>mheight</th><td> 0.484992403</td><td> 0.3630551926</td><td> 0.33704682</td><td> 0.210503179</td><td> 0.0003532676</td><td> 0.0599563823</td><td> 0.12643888</td><td> 1.0000000000</td><td> 0.68062174</td><td>-0.07986989</td><td> 0.03529702</td><td> 0.048398059</td><td> 0.27433793</td><td>-0.19815078</td><td> 0.116002043</td></tr>\n",
       "\t<tr><th scope=row>mppwt</th><td> 0.398197402</td><td> 0.4008856280</td><td> 0.30285407</td><td> 0.255082369</td><td> 0.0000000000</td><td> 0.2741676755</td><td> 0.14894461</td><td> 0.6806217412</td><td> 1.00000000</td><td> 0.25570584</td><td> 0.18037409</td><td> 0.057162540</td><td> 0.09298347</td><td>-0.35397381</td><td> 0.136853443</td></tr>\n",
       "\t<tr><th scope=row>fage</th><td> 0.137184365</td><td> 0.1757099933</td><td> 0.30115080</td><td> 0.142175334</td><td> 0.1975014481</td><td> 0.8065844174</td><td> 0.24842538</td><td>-0.0798698948</td><td> 0.25570584</td><td> 1.00000000</td><td> 0.30047147</td><td> 0.135862017</td><td>-0.26937685</td><td>-0.24509537</td><td> 0.351405036</td></tr>\n",
       "\t<tr><th scope=row>fedyrs</th><td> 0.079484567</td><td> 0.0710452258</td><td> 0.12389250</td><td> 0.130986636</td><td>-0.0148905839</td><td> 0.4416826598</td><td> 0.19852620</td><td> 0.0352970193</td><td> 0.18037409</td><td> 0.30047147</td><td> 1.00000000</td><td>-0.263103019</td><td> 0.01779765</td><td>-0.19127301</td><td> 0.278682026</td></tr>\n",
       "\t<tr><th scope=row>fnocig</th><td> 0.008800476</td><td>-0.0931357623</td><td>-0.04683678</td><td>-0.113830614</td><td> 0.4176329588</td><td> 0.0909266363</td><td> 0.25730739</td><td> 0.0483980589</td><td> 0.05716254</td><td> 0.13586202</td><td>-0.26310302</td><td> 1.000000000</td><td> 0.32936416</td><td> 0.26601285</td><td>-0.088989100</td></tr>\n",
       "\t<tr><th scope=row>fheight</th><td> 0.208358435</td><td> 0.0310224972</td><td> 0.04150923</td><td> 0.207596835</td><td> 0.1106327308</td><td>-0.1995468633</td><td> 0.02067224</td><td> 0.2743379320</td><td> 0.09298347</td><td>-0.26937685</td><td> 0.01779765</td><td> 0.329364159</td><td> 1.00000000</td><td> 0.09868772</td><td>-0.188229712</td></tr>\n",
       "\t<tr><th scope=row>lowbwt</th><td>-0.609928339</td><td>-0.6519637293</td><td>-0.44684892</td><td>-0.602934976</td><td> 0.2530121569</td><td>-0.0763937244</td><td> 0.03538366</td><td>-0.1981507848</td><td>-0.35397381</td><td>-0.24509537</td><td>-0.19127301</td><td> 0.266012851</td><td> 0.09868772</td><td> 1.00000000</td><td> 0.099339927</td></tr>\n",
       "\t<tr><th scope=row>mage35</th><td> 0.130502048</td><td>-0.1089467536</td><td> 0.05538561</td><td> 0.007394508</td><td> 0.1469384534</td><td> 0.6926638891</td><td> 0.29057415</td><td> 0.1160020427</td><td> 0.13685344</td><td> 0.35140504</td><td> 0.27868203</td><td>-0.088989100</td><td>-0.18822971</td><td> 0.09933993</td><td> 1.000000000</td></tr>\n",
       "</tbody>\n",
       "</table>\n"
      ],
      "text/latex": [
       "A matrix: 15 × 15 of type dbl\n",
       "\\begin{tabular}{r|lllllllllllllll}\n",
       "  & Length & Birthweight & Headcirc & Gestation & smoker & mage & mnocig & mheight & mppwt & fage & fedyrs & fnocig & fheight & lowbwt & mage35\\\\\n",
       "\\hline\n",
       "\tLength &  1.000000000 &  0.7268334848 &  0.56317161 &  0.705110591 & -0.1534061527 &  0.0752683574 & -0.03984276 &  0.4849924026 &  0.39819740 &  0.13718437 &  0.07948457 &  0.008800476 &  0.20835843 & -0.60992834 &  0.130502048\\\\\n",
       "\tBirthweight &  0.726833485 &  1.0000000000 &  0.68461562 &  0.708302894 & -0.3142339464 &  0.0001731023 & -0.15233518 &  0.3630551926 &  0.40088563 &  0.17570999 &  0.07104523 & -0.093135762 &  0.03102250 & -0.65196373 & -0.108946754\\\\\n",
       "\tHeadcirc &  0.563171606 &  0.6846156185 &  1.00000000 &  0.404634772 & -0.1828718541 &  0.1458415206 & -0.13298772 &  0.3370468163 &  0.30285407 &  0.30115080 &  0.12389250 & -0.046836781 &  0.04150923 & -0.44684892 &  0.055385612\\\\\n",
       "\tGestation &  0.705110591 &  0.7083028937 &  0.40463477 &  1.000000000 & -0.0947460785 &  0.0107784551 &  0.04319486 &  0.2105031792 &  0.25508237 &  0.14217533 &  0.13098664 & -0.113830614 &  0.20759684 & -0.60293498 &  0.007394508\\\\\n",
       "\tsmoker & -0.153406153 & -0.3142339464 & -0.18287185 & -0.094746078 &  1.0000000000 &  0.2124787863 &  0.72721809 &  0.0003532676 &  0.00000000 &  0.19750145 & -0.01489058 &  0.417632959 &  0.11063273 &  0.25301216 &  0.146938453\\\\\n",
       "\tmage &  0.075268357 &  0.0001731023 &  0.14584152 &  0.010778455 &  0.2124787863 &  1.0000000000 &  0.34029438 &  0.0599563823 &  0.27416768 &  0.80658442 &  0.44168266 &  0.090926636 & -0.19954686 & -0.07639372 &  0.692663889\\\\\n",
       "\tmnocig & -0.039842761 & -0.1523351845 & -0.13298772 &  0.043194856 &  0.7272180924 &  0.3402943777 &  1.00000000 &  0.1264388844 &  0.14894461 &  0.24842538 &  0.19852620 &  0.257307386 &  0.02067224 &  0.03538366 &  0.290574154\\\\\n",
       "\tmheight &  0.484992403 &  0.3630551926 &  0.33704682 &  0.210503179 &  0.0003532676 &  0.0599563823 &  0.12643888 &  1.0000000000 &  0.68062174 & -0.07986989 &  0.03529702 &  0.048398059 &  0.27433793 & -0.19815078 &  0.116002043\\\\\n",
       "\tmppwt &  0.398197402 &  0.4008856280 &  0.30285407 &  0.255082369 &  0.0000000000 &  0.2741676755 &  0.14894461 &  0.6806217412 &  1.00000000 &  0.25570584 &  0.18037409 &  0.057162540 &  0.09298347 & -0.35397381 &  0.136853443\\\\\n",
       "\tfage &  0.137184365 &  0.1757099933 &  0.30115080 &  0.142175334 &  0.1975014481 &  0.8065844174 &  0.24842538 & -0.0798698948 &  0.25570584 &  1.00000000 &  0.30047147 &  0.135862017 & -0.26937685 & -0.24509537 &  0.351405036\\\\\n",
       "\tfedyrs &  0.079484567 &  0.0710452258 &  0.12389250 &  0.130986636 & -0.0148905839 &  0.4416826598 &  0.19852620 &  0.0352970193 &  0.18037409 &  0.30047147 &  1.00000000 & -0.263103019 &  0.01779765 & -0.19127301 &  0.278682026\\\\\n",
       "\tfnocig &  0.008800476 & -0.0931357623 & -0.04683678 & -0.113830614 &  0.4176329588 &  0.0909266363 &  0.25730739 &  0.0483980589 &  0.05716254 &  0.13586202 & -0.26310302 &  1.000000000 &  0.32936416 &  0.26601285 & -0.088989100\\\\\n",
       "\tfheight &  0.208358435 &  0.0310224972 &  0.04150923 &  0.207596835 &  0.1106327308 & -0.1995468633 &  0.02067224 &  0.2743379320 &  0.09298347 & -0.26937685 &  0.01779765 &  0.329364159 &  1.00000000 &  0.09868772 & -0.188229712\\\\\n",
       "\tlowbwt & -0.609928339 & -0.6519637293 & -0.44684892 & -0.602934976 &  0.2530121569 & -0.0763937244 &  0.03538366 & -0.1981507848 & -0.35397381 & -0.24509537 & -0.19127301 &  0.266012851 &  0.09868772 &  1.00000000 &  0.099339927\\\\\n",
       "\tmage35 &  0.130502048 & -0.1089467536 &  0.05538561 &  0.007394508 &  0.1469384534 &  0.6926638891 &  0.29057415 &  0.1160020427 &  0.13685344 &  0.35140504 &  0.27868203 & -0.088989100 & -0.18822971 &  0.09933993 &  1.000000000\\\\\n",
       "\\end{tabular}\n"
      ],
      "text/markdown": [
       "\n",
       "A matrix: 15 × 15 of type dbl\n",
       "\n",
       "| <!--/--> | Length | Birthweight | Headcirc | Gestation | smoker | mage | mnocig | mheight | mppwt | fage | fedyrs | fnocig | fheight | lowbwt | mage35 |\n",
       "|---|---|---|---|---|---|---|---|---|---|---|---|---|---|---|---|\n",
       "| Length |  1.000000000 |  0.7268334848 |  0.56317161 |  0.705110591 | -0.1534061527 |  0.0752683574 | -0.03984276 |  0.4849924026 |  0.39819740 |  0.13718437 |  0.07948457 |  0.008800476 |  0.20835843 | -0.60992834 |  0.130502048 |\n",
       "| Birthweight |  0.726833485 |  1.0000000000 |  0.68461562 |  0.708302894 | -0.3142339464 |  0.0001731023 | -0.15233518 |  0.3630551926 |  0.40088563 |  0.17570999 |  0.07104523 | -0.093135762 |  0.03102250 | -0.65196373 | -0.108946754 |\n",
       "| Headcirc |  0.563171606 |  0.6846156185 |  1.00000000 |  0.404634772 | -0.1828718541 |  0.1458415206 | -0.13298772 |  0.3370468163 |  0.30285407 |  0.30115080 |  0.12389250 | -0.046836781 |  0.04150923 | -0.44684892 |  0.055385612 |\n",
       "| Gestation |  0.705110591 |  0.7083028937 |  0.40463477 |  1.000000000 | -0.0947460785 |  0.0107784551 |  0.04319486 |  0.2105031792 |  0.25508237 |  0.14217533 |  0.13098664 | -0.113830614 |  0.20759684 | -0.60293498 |  0.007394508 |\n",
       "| smoker | -0.153406153 | -0.3142339464 | -0.18287185 | -0.094746078 |  1.0000000000 |  0.2124787863 |  0.72721809 |  0.0003532676 |  0.00000000 |  0.19750145 | -0.01489058 |  0.417632959 |  0.11063273 |  0.25301216 |  0.146938453 |\n",
       "| mage |  0.075268357 |  0.0001731023 |  0.14584152 |  0.010778455 |  0.2124787863 |  1.0000000000 |  0.34029438 |  0.0599563823 |  0.27416768 |  0.80658442 |  0.44168266 |  0.090926636 | -0.19954686 | -0.07639372 |  0.692663889 |\n",
       "| mnocig | -0.039842761 | -0.1523351845 | -0.13298772 |  0.043194856 |  0.7272180924 |  0.3402943777 |  1.00000000 |  0.1264388844 |  0.14894461 |  0.24842538 |  0.19852620 |  0.257307386 |  0.02067224 |  0.03538366 |  0.290574154 |\n",
       "| mheight |  0.484992403 |  0.3630551926 |  0.33704682 |  0.210503179 |  0.0003532676 |  0.0599563823 |  0.12643888 |  1.0000000000 |  0.68062174 | -0.07986989 |  0.03529702 |  0.048398059 |  0.27433793 | -0.19815078 |  0.116002043 |\n",
       "| mppwt |  0.398197402 |  0.4008856280 |  0.30285407 |  0.255082369 |  0.0000000000 |  0.2741676755 |  0.14894461 |  0.6806217412 |  1.00000000 |  0.25570584 |  0.18037409 |  0.057162540 |  0.09298347 | -0.35397381 |  0.136853443 |\n",
       "| fage |  0.137184365 |  0.1757099933 |  0.30115080 |  0.142175334 |  0.1975014481 |  0.8065844174 |  0.24842538 | -0.0798698948 |  0.25570584 |  1.00000000 |  0.30047147 |  0.135862017 | -0.26937685 | -0.24509537 |  0.351405036 |\n",
       "| fedyrs |  0.079484567 |  0.0710452258 |  0.12389250 |  0.130986636 | -0.0148905839 |  0.4416826598 |  0.19852620 |  0.0352970193 |  0.18037409 |  0.30047147 |  1.00000000 | -0.263103019 |  0.01779765 | -0.19127301 |  0.278682026 |\n",
       "| fnocig |  0.008800476 | -0.0931357623 | -0.04683678 | -0.113830614 |  0.4176329588 |  0.0909266363 |  0.25730739 |  0.0483980589 |  0.05716254 |  0.13586202 | -0.26310302 |  1.000000000 |  0.32936416 |  0.26601285 | -0.088989100 |\n",
       "| fheight |  0.208358435 |  0.0310224972 |  0.04150923 |  0.207596835 |  0.1106327308 | -0.1995468633 |  0.02067224 |  0.2743379320 |  0.09298347 | -0.26937685 |  0.01779765 |  0.329364159 |  1.00000000 |  0.09868772 | -0.188229712 |\n",
       "| lowbwt | -0.609928339 | -0.6519637293 | -0.44684892 | -0.602934976 |  0.2530121569 | -0.0763937244 |  0.03538366 | -0.1981507848 | -0.35397381 | -0.24509537 | -0.19127301 |  0.266012851 |  0.09868772 |  1.00000000 |  0.099339927 |\n",
       "| mage35 |  0.130502048 | -0.1089467536 |  0.05538561 |  0.007394508 |  0.1469384534 |  0.6926638891 |  0.29057415 |  0.1160020427 |  0.13685344 |  0.35140504 |  0.27868203 | -0.088989100 | -0.18822971 |  0.09933993 |  1.000000000 |\n",
       "\n"
      ],
      "text/plain": [
       "            Length       Birthweight   Headcirc    Gestation    smoker       \n",
       "Length       1.000000000  0.7268334848  0.56317161  0.705110591 -0.1534061527\n",
       "Birthweight  0.726833485  1.0000000000  0.68461562  0.708302894 -0.3142339464\n",
       "Headcirc     0.563171606  0.6846156185  1.00000000  0.404634772 -0.1828718541\n",
       "Gestation    0.705110591  0.7083028937  0.40463477  1.000000000 -0.0947460785\n",
       "smoker      -0.153406153 -0.3142339464 -0.18287185 -0.094746078  1.0000000000\n",
       "mage         0.075268357  0.0001731023  0.14584152  0.010778455  0.2124787863\n",
       "mnocig      -0.039842761 -0.1523351845 -0.13298772  0.043194856  0.7272180924\n",
       "mheight      0.484992403  0.3630551926  0.33704682  0.210503179  0.0003532676\n",
       "mppwt        0.398197402  0.4008856280  0.30285407  0.255082369  0.0000000000\n",
       "fage         0.137184365  0.1757099933  0.30115080  0.142175334  0.1975014481\n",
       "fedyrs       0.079484567  0.0710452258  0.12389250  0.130986636 -0.0148905839\n",
       "fnocig       0.008800476 -0.0931357623 -0.04683678 -0.113830614  0.4176329588\n",
       "fheight      0.208358435  0.0310224972  0.04150923  0.207596835  0.1106327308\n",
       "lowbwt      -0.609928339 -0.6519637293 -0.44684892 -0.602934976  0.2530121569\n",
       "mage35       0.130502048 -0.1089467536  0.05538561  0.007394508  0.1469384534\n",
       "            mage          mnocig      mheight       mppwt       fage       \n",
       "Length       0.0752683574 -0.03984276  0.4849924026  0.39819740  0.13718437\n",
       "Birthweight  0.0001731023 -0.15233518  0.3630551926  0.40088563  0.17570999\n",
       "Headcirc     0.1458415206 -0.13298772  0.3370468163  0.30285407  0.30115080\n",
       "Gestation    0.0107784551  0.04319486  0.2105031792  0.25508237  0.14217533\n",
       "smoker       0.2124787863  0.72721809  0.0003532676  0.00000000  0.19750145\n",
       "mage         1.0000000000  0.34029438  0.0599563823  0.27416768  0.80658442\n",
       "mnocig       0.3402943777  1.00000000  0.1264388844  0.14894461  0.24842538\n",
       "mheight      0.0599563823  0.12643888  1.0000000000  0.68062174 -0.07986989\n",
       "mppwt        0.2741676755  0.14894461  0.6806217412  1.00000000  0.25570584\n",
       "fage         0.8065844174  0.24842538 -0.0798698948  0.25570584  1.00000000\n",
       "fedyrs       0.4416826598  0.19852620  0.0352970193  0.18037409  0.30047147\n",
       "fnocig       0.0909266363  0.25730739  0.0483980589  0.05716254  0.13586202\n",
       "fheight     -0.1995468633  0.02067224  0.2743379320  0.09298347 -0.26937685\n",
       "lowbwt      -0.0763937244  0.03538366 -0.1981507848 -0.35397381 -0.24509537\n",
       "mage35       0.6926638891  0.29057415  0.1160020427  0.13685344  0.35140504\n",
       "            fedyrs      fnocig       fheight     lowbwt      mage35      \n",
       "Length       0.07948457  0.008800476  0.20835843 -0.60992834  0.130502048\n",
       "Birthweight  0.07104523 -0.093135762  0.03102250 -0.65196373 -0.108946754\n",
       "Headcirc     0.12389250 -0.046836781  0.04150923 -0.44684892  0.055385612\n",
       "Gestation    0.13098664 -0.113830614  0.20759684 -0.60293498  0.007394508\n",
       "smoker      -0.01489058  0.417632959  0.11063273  0.25301216  0.146938453\n",
       "mage         0.44168266  0.090926636 -0.19954686 -0.07639372  0.692663889\n",
       "mnocig       0.19852620  0.257307386  0.02067224  0.03538366  0.290574154\n",
       "mheight      0.03529702  0.048398059  0.27433793 -0.19815078  0.116002043\n",
       "mppwt        0.18037409  0.057162540  0.09298347 -0.35397381  0.136853443\n",
       "fage         0.30047147  0.135862017 -0.26937685 -0.24509537  0.351405036\n",
       "fedyrs       1.00000000 -0.263103019  0.01779765 -0.19127301  0.278682026\n",
       "fnocig      -0.26310302  1.000000000  0.32936416  0.26601285 -0.088989100\n",
       "fheight      0.01779765  0.329364159  1.00000000  0.09868772 -0.188229712\n",
       "lowbwt      -0.19127301  0.266012851  0.09868772  1.00000000  0.099339927\n",
       "mage35       0.27868203 -0.088989100 -0.18822971  0.09933993  1.000000000"
      ]
     },
     "metadata": {},
     "output_type": "display_data"
    }
   ],
   "source": [
    "cor(data)"
   ]
  },
  {
   "cell_type": "code",
   "execution_count": 127,
   "metadata": {
    "ExecuteTime": {
     "end_time": "2021-05-10T15:58:02.647059Z",
     "start_time": "2021-05-10T15:58:02.569Z"
    }
   },
   "outputs": [
    {
     "name": "stderr",
     "output_type": "stream",
     "text": [
      "corrplot 0.87 loaded\n",
      "\n"
     ]
    }
   ],
   "source": [
    "library(corrplot)"
   ]
  },
  {
   "cell_type": "code",
   "execution_count": 139,
   "metadata": {
    "ExecuteTime": {
     "end_time": "2021-05-10T16:00:27.256510Z",
     "start_time": "2021-05-10T16:00:26.975Z"
    }
   },
   "outputs": [
    {
     "data": {
      "image/png": "[encoded data removed]",
      "text/plain": [
       "Plot with title \"\""
      ]
     },
     "metadata": {
      "image/png": {
       "height": 420,
       "width": 420
      }
     },
     "output_type": "display_data"
    }
   ],
   "source": [
    "corrplot(cor(data), type='lower', method='color', col=gray.colors(100), addCoef.col=\"white\", tl.col=\"black\", tl.srt=45)"
   ]
  },
  {
   "cell_type": "code",
   "execution_count": 131,
   "metadata": {
    "ExecuteTime": {
     "end_time": "2021-05-10T15:58:52.910989Z",
     "start_time": "2021-05-10T15:58:52.849Z"
    }
   },
   "outputs": [
    {
     "name": "stdout",
     "output_type": "stream",
     "text": [
      "'data.frame':\t42 obs. of  16 variables:\n",
      " $ ï..ID      : int  1360 1016 462 1187 553 1636 820 1191 1081 822 ...\n",
      " $ Length     : int  56 53 58 53 54 51 52 53 54 50 ...\n",
      " $ Birthweight: num  4.55 4.32 4.1 4.07 3.94 3.93 3.77 3.65 3.63 3.42 ...\n",
      " $ Headcirc   : int  34 36 39 38 37 38 34 33 38 35 ...\n",
      " $ Gestation  : int  44 40 41 44 42 38 40 42 38 38 ...\n",
      " $ smoker     : int  0 0 0 0 0 0 0 0 0 0 ...\n",
      " $ mage       : int  20 19 35 20 24 29 24 21 18 20 ...\n",
      " $ mnocig     : int  0 0 0 0 0 0 0 0 0 0 ...\n",
      " $ mheight    : int  162 171 172 174 175 165 157 165 172 157 ...\n",
      " $ mppwt      : int  57 62 58 68 66 61 50 61 50 48 ...\n",
      " $ fage       : int  23 19 31 26 30 31 31 21 20 22 ...\n",
      " $ fedyrs     : int  10 12 16 14 12 16 16 10 12 14 ...\n",
      " $ fnocig     : int  35 0 25 25 0 0 0 25 7 0 ...\n",
      " $ fheight    : int  179 183 185 189 184 180 173 185 172 179 ...\n",
      " $ lowbwt     : int  0 0 0 0 0 0 0 0 0 0 ...\n",
      " $ mage35     : int  0 0 1 0 0 0 0 0 0 0 ...\n"
     ]
    }
   ],
   "source": [
    "str(data)"
   ]
  },
  {
   "cell_type": "code",
   "execution_count": 132,
   "metadata": {
    "ExecuteTime": {
     "end_time": "2021-05-10T15:58:55.558237Z",
     "start_time": "2021-05-10T15:58:55.498Z"
    }
   },
   "outputs": [
    {
     "data": {
      "text/plain": [
       "     ï..ID            Length       Birthweight       Headcirc   \n",
       " Min.   :  27.0   Min.   :43.00   Min.   :1.920   Min.   :30.0  \n",
       " 1st Qu.: 537.2   1st Qu.:50.00   1st Qu.:2.940   1st Qu.:33.0  \n",
       " Median : 821.0   Median :52.00   Median :3.295   Median :34.0  \n",
       " Mean   : 894.1   Mean   :51.33   Mean   :3.313   Mean   :34.6  \n",
       " 3rd Qu.:1269.5   3rd Qu.:53.00   3rd Qu.:3.647   3rd Qu.:36.0  \n",
       " Max.   :1764.0   Max.   :58.00   Max.   :4.570   Max.   :39.0  \n",
       "   Gestation         smoker            mage           mnocig      \n",
       " Min.   :33.00   Min.   :0.0000   Min.   :18.00   Min.   : 0.000  \n",
       " 1st Qu.:38.00   1st Qu.:0.0000   1st Qu.:20.25   1st Qu.: 0.000  \n",
       " Median :39.50   Median :1.0000   Median :24.00   Median : 4.500  \n",
       " Mean   :39.19   Mean   :0.5238   Mean   :25.55   Mean   : 9.429  \n",
       " 3rd Qu.:41.00   3rd Qu.:1.0000   3rd Qu.:29.00   3rd Qu.:15.750  \n",
       " Max.   :45.00   Max.   :1.0000   Max.   :41.00   Max.   :50.000  \n",
       "    mheight          mppwt            fage          fedyrs          fnocig     \n",
       " Min.   :149.0   Min.   :45.00   Min.   :19.0   Min.   :10.00   Min.   : 0.00  \n",
       " 1st Qu.:161.0   1st Qu.:52.25   1st Qu.:23.0   1st Qu.:12.00   1st Qu.: 0.00  \n",
       " Median :164.5   Median :57.00   Median :29.5   Median :14.00   Median :18.50  \n",
       " Mean   :164.5   Mean   :57.50   Mean   :28.9   Mean   :13.67   Mean   :17.19  \n",
       " 3rd Qu.:169.5   3rd Qu.:62.00   3rd Qu.:32.0   3rd Qu.:16.00   3rd Qu.:25.00  \n",
       " Max.   :181.0   Max.   :78.00   Max.   :46.0   Max.   :16.00   Max.   :50.00  \n",
       "    fheight          lowbwt           mage35       \n",
       " Min.   :169.0   Min.   :0.0000   Min.   :0.00000  \n",
       " 1st Qu.:175.2   1st Qu.:0.0000   1st Qu.:0.00000  \n",
       " Median :180.5   Median :0.0000   Median :0.00000  \n",
       " Mean   :180.5   Mean   :0.1429   Mean   :0.09524  \n",
       " 3rd Qu.:184.8   3rd Qu.:0.0000   3rd Qu.:0.00000  \n",
       " Max.   :200.0   Max.   :1.0000   Max.   :1.00000  "
      ]
     },
     "metadata": {},
     "output_type": "display_data"
    }
   ],
   "source": [
    "summary(data)"
   ]
  },
  {
   "cell_type": "code",
   "execution_count": 122,
   "metadata": {
    "ExecuteTime": {
     "end_time": "2021-05-10T15:12:24.748692Z",
     "start_time": "2021-05-10T15:12:24.637Z"
    }
   },
   "outputs": [
    {
     "data": {
      "image/png": "[encoded data removed]",
      "text/plain": [
       "Plot with title \"Boxplot: BirthWeight Vs Mum Smoker\""
      ]
     },
     "metadata": {
      "image/png": {
       "height": 420,
       "width": 420
      }
     },
     "output_type": "display_data"
    }
   ],
   "source": [
    "boxplot(data$Birthweight ~ smoker,\n",
    "        main = 'Boxplot: BirthWeight Vs Mum Smoker',\n",
    "            names = c('Non Smoker', 'Smoker'),\n",
    "        xlab = 'Mum',\n",
    "        ylab = 'Weight of baby (Kg)')"
   ]
  },
  {
   "cell_type": "code",
   "execution_count": 123,
   "metadata": {
    "ExecuteTime": {
     "end_time": "2021-05-10T15:20:33.019248Z",
     "start_time": "2021-05-10T15:20:32.906Z"
    }
   },
   "outputs": [
    {
     "data": {
      "image/png": "[encoded data removed]",
      "text/plain": [
       "Plot with title \"Boxplot: BirthWeight Vs Low Weight\""
      ]
     },
     "metadata": {
      "image/png": {
       "height": 420,
       "width": 420
      }
     },
     "output_type": "display_data"
    }
   ],
   "source": [
    "boxplot(data$Birthweight ~ lowbwt,\n",
    "        main = 'Boxplot: BirthWeight Vs Low Weight',\n",
    "            names = c('No Low Weight', 'Low Weigth'),\n",
    "        xlab = 'Low Weigth',\n",
    "        ylab = 'Weight of baby (Kg)')"
   ]
  },
  {
   "cell_type": "code",
   "execution_count": 124,
   "metadata": {
    "ExecuteTime": {
     "end_time": "2021-05-10T15:23:37.647867Z",
     "start_time": "2021-05-10T15:23:37.520Z"
    }
   },
   "outputs": [
    {
     "data": {
      "image/png": "[encoded data removed]",
      "text/plain": [
       "Plot with title \"Boxplot: BirthWeight Vs Mother over 35\""
      ]
     },
     "metadata": {
      "image/png": {
       "height": 420,
       "width": 420
      }
     },
     "output_type": "display_data"
    }
   ],
   "source": [
    "boxplot(data$Birthweight ~ mage35,\n",
    "        main = 'Boxplot: BirthWeight Vs Mother over 35',\n",
    "            names = c('Not Over 35', 'Over 35'),\n",
    "        xlab = 'Mother age',\n",
    "        ylab = 'Weight of baby (Kg)')"
   ]
  },
  {
   "cell_type": "code",
   "execution_count": 6,
   "metadata": {
    "ExecuteTime": {
     "end_time": "2021-05-12T08:54:42.167743Z",
     "start_time": "2021-05-12T08:54:42.121Z"
    }
   },
   "outputs": [],
   "source": [
    "data <- subset(data, select=-c( ï..ID))"
   ]
  },
  {
   "cell_type": "markdown",
   "metadata": {},
   "source": [
    "# Variable Selection Stepwise"
   ]
  },
  {
   "cell_type": "code",
   "execution_count": 3,
   "metadata": {
    "ExecuteTime": {
     "end_time": "2021-05-11T15:40:14.301768Z",
     "start_time": "2021-05-11T15:40:14.235Z"
    }
   },
   "outputs": [
    {
     "data": {
      "text/plain": [
       "\n",
       "Call:\n",
       "glm(formula = data$lowbwt ~ 0)\n",
       "\n",
       "Deviance Residuals: \n",
       "   Min      1Q  Median      3Q     Max  \n",
       "     0       0       0       0       1  \n",
       "\n",
       "No Coefficients\n",
       "\n",
       "(Dispersion parameter for gaussian family taken to be 0.1428571)\n",
       "\n",
       "    Null deviance: 6  on 42  degrees of freedom\n",
       "Residual deviance: 6  on 42  degrees of freedom\n",
       "AIC: 39.463\n",
       "\n",
       "Number of Fisher Scoring iterations: 0\n"
      ]
     },
     "metadata": {},
     "output_type": "display_data"
    }
   ],
   "source": [
    "lm0 <- glm(data$lowbwt ~ 0)\n",
    "summary(lm0)"
   ]
  },
  {
   "cell_type": "code",
   "execution_count": 4,
   "metadata": {
    "ExecuteTime": {
     "end_time": "2021-05-11T15:40:15.286351Z",
     "start_time": "2021-05-11T15:40:15.182Z"
    }
   },
   "outputs": [
    {
     "name": "stdout",
     "output_type": "stream",
     "text": [
      "ï..ID      -0.008079381\n",
      "Headcirc   0.1796658\n",
      "smoker     0.04061553\n",
      "mage       -0.0190181\n",
      "mnocig     -0.0237167\n",
      "mheight    0.01524533\n",
      "mppwt      0.1034299\n",
      "fage       0.03657353\n",
      "fedyrs     0.0125\n",
      "fnocig     0.04753191\n",
      "fheight    -0.01501725\n",
      "mage35     -0.01488487\n"
     ]
    }
   ],
   "source": [
    "for (col in 1:ncol(data))\n",
    "{\n",
    "    if ( class(data[,col]) != 'character' && names(data)[col]!='lowbwt' && names(data)[col]!='Birthweight'\n",
    "                                               && names(data)[col]!='Length' && names(data)[col]!='Gestation')\n",
    "    {\n",
    "        cat(format(names(data)[col], width=10, justify='left'),\n",
    "            summary(lm(data$lowbwt ~ \n",
    "                       data[,col]))$adj.r.squared,\n",
    "            fill=TRUE)\n",
    "    }\n",
    "}"
   ]
  },
  {
   "cell_type": "code",
   "execution_count": 5,
   "metadata": {
    "ExecuteTime": {
     "end_time": "2021-05-11T15:40:16.040602Z",
     "start_time": "2021-05-11T15:40:15.968Z"
    }
   },
   "outputs": [
    {
     "data": {
      "text/plain": [
       "\n",
       "Call:\n",
       "glm(formula = data$lowbwt ~ data$Birthweight)\n",
       "\n",
       "Deviance Residuals: \n",
       "     Min        1Q    Median        3Q       Max  \n",
       "-0.36189  -0.19270  -0.05601   0.13422   0.60752  \n",
       "\n",
       "Coefficients:\n",
       "                 Estimate Std. Error t value Pr(>|t|)    \n",
       "(Intercept)       1.40956    0.23668   5.955 5.46e-07 ***\n",
       "data$Birthweight -0.38236    0.07031  -5.438 2.91e-06 ***\n",
       "---\n",
       "Signif. codes:  0 '***' 0.001 '**' 0.01 '*' 0.05 '.' 0.1 ' ' 1\n",
       "\n",
       "(Dispersion parameter for gaussian family taken to be 0.07392128)\n",
       "\n",
       "    Null deviance: 5.1429  on 41  degrees of freedom\n",
       "Residual deviance: 2.9569  on 40  degrees of freedom\n",
       "AIC: 13.742\n",
       "\n",
       "Number of Fisher Scoring iterations: 2\n"
      ]
     },
     "metadata": {},
     "output_type": "display_data"
    }
   ],
   "source": [
    "lm1 <- glm(data$lowbwt ~ data$Birthweight)\n",
    "summary(lm1)"
   ]
  },
  {
   "cell_type": "code",
   "execution_count": 6,
   "metadata": {
    "ExecuteTime": {
     "end_time": "2021-05-11T15:40:16.912926Z",
     "start_time": "2021-05-11T15:40:16.855Z"
    }
   },
   "outputs": [
    {
     "data": {
      "text/plain": [
       "\n",
       "Call:\n",
       "glm(formula = data$lowbwt ~ data$Birthweight + data$Length)\n",
       "\n",
       "Deviance Residuals: \n",
       "     Min        1Q    Median        3Q       Max  \n",
       "-0.36076  -0.18536  -0.05403   0.11236   0.60248  \n",
       "\n",
       "Coefficients:\n",
       "                 Estimate Std. Error t value Pr(>|t|)   \n",
       "(Intercept)       2.78856    0.84801   3.288  0.00214 **\n",
       "data$Birthweight -0.25941    0.10008  -2.592  0.01336 * \n",
       "data$Length      -0.03480    0.02059  -1.690  0.09895 . \n",
       "---\n",
       "Signif. codes:  0 '***' 0.001 '**' 0.01 '*' 0.05 '.' 0.1 ' ' 1\n",
       "\n",
       "(Dispersion parameter for gaussian family taken to be 0.0706416)\n",
       "\n",
       "    Null deviance: 5.1429  on 41  degrees of freedom\n",
       "Residual deviance: 2.7550  on 39  degrees of freedom\n",
       "AIC: 12.773\n",
       "\n",
       "Number of Fisher Scoring iterations: 2\n"
      ]
     },
     "metadata": {},
     "output_type": "display_data"
    }
   ],
   "source": [
    "lm2 <- glm(data$lowbwt ~ data$Birthweight + data$Length)\n",
    "summary(lm2)"
   ]
  },
  {
   "cell_type": "code",
   "execution_count": 7,
   "metadata": {
    "ExecuteTime": {
     "end_time": "2021-05-11T15:40:17.854341Z",
     "start_time": "2021-05-11T15:40:17.777Z"
    }
   },
   "outputs": [
    {
     "data": {
      "text/plain": [
       "\n",
       "Call:\n",
       "glm(formula = data$lowbwt ~ data$Birthweight + data$Length + \n",
       "    data$Gestation)\n",
       "\n",
       "Deviance Residuals: \n",
       "     Min        1Q    Median        3Q       Max  \n",
       "-0.45030  -0.17692  -0.04924   0.13185   0.65053  \n",
       "\n",
       "Coefficients:\n",
       "                 Estimate Std. Error t value Pr(>|t|)   \n",
       "(Intercept)       3.18680    0.91445   3.485  0.00126 **\n",
       "data$Birthweight -0.20959    0.10889  -1.925  0.06176 . \n",
       "data$Length      -0.02484    0.02230  -1.114  0.27232   \n",
       "data$Gestation   -0.02742    0.02410  -1.138  0.26230   \n",
       "---\n",
       "Signif. codes:  0 '***' 0.001 '**' 0.01 '*' 0.05 '.' 0.1 ' ' 1\n",
       "\n",
       "(Dispersion parameter for gaussian family taken to be 0.07011169)\n",
       "\n",
       "    Null deviance: 5.1429  on 41  degrees of freedom\n",
       "Residual deviance: 2.6642  on 38  degrees of freedom\n",
       "AIC: 13.365\n",
       "\n",
       "Number of Fisher Scoring iterations: 2\n"
      ]
     },
     "metadata": {},
     "output_type": "display_data"
    }
   ],
   "source": [
    "lm3 <- glm(data$lowbwt ~ data$Birthweight + data$Length + data$Gestation)\n",
    "summary(lm3)"
   ]
  },
  {
   "cell_type": "code",
   "execution_count": 8,
   "metadata": {
    "ExecuteTime": {
     "end_time": "2021-05-11T15:40:19.060592Z",
     "start_time": "2021-05-11T15:40:18.825Z"
    }
   },
   "outputs": [
    {
     "data": {
      "text/plain": [
       "\n",
       "Call:\n",
       "glm(formula = data$lowbwt ~ data$Birthweight + data$Length + \n",
       "    data$Gestation + data$Headcirc)\n",
       "\n",
       "Deviance Residuals: \n",
       "    Min       1Q   Median       3Q      Max  \n",
       "-0.4514  -0.1751  -0.0493   0.1321   0.6534  \n",
       "\n",
       "Coefficients:\n",
       "                  Estimate Std. Error t value Pr(>|t|)   \n",
       "(Intercept)       3.211774   1.107236   2.901  0.00623 **\n",
       "data$Birthweight -0.206794   0.129574  -1.596  0.11901   \n",
       "data$Length      -0.024638   0.023122  -1.066  0.29352   \n",
       "data$Gestation   -0.027653   0.025076  -1.103  0.27725   \n",
       "data$Headcirc    -0.001023   0.024816  -0.041  0.96734   \n",
       "---\n",
       "Signif. codes:  0 '***' 0.001 '**' 0.01 '*' 0.05 '.' 0.1 ' ' 1\n",
       "\n",
       "(Dispersion parameter for gaussian family taken to be 0.0720033)\n",
       "\n",
       "    Null deviance: 5.1429  on 41  degrees of freedom\n",
       "Residual deviance: 2.6641  on 37  degrees of freedom\n",
       "AIC: 15.363\n",
       "\n",
       "Number of Fisher Scoring iterations: 2\n"
      ]
     },
     "metadata": {},
     "output_type": "display_data"
    }
   ],
   "source": [
    "lm4 <- glm(data$lowbwt ~ data$Birthweight + data$Length + data$Gestation + data$Headcirc)\n",
    "summary(lm4)"
   ]
  },
  {
   "cell_type": "code",
   "execution_count": 68,
   "metadata": {
    "ExecuteTime": {
     "end_time": "2021-05-11T18:02:35.126926Z",
     "start_time": "2021-05-11T18:02:35.069Z"
    }
   },
   "outputs": [
    {
     "data": {
      "text/plain": [
       "\n",
       "Call:\n",
       "glm(formula = data$lowbwt ~ data$Length + data$Gestation + data$Headcirc, \n",
       "    family = \"binomial\")\n",
       "\n",
       "Deviance Residuals: \n",
       "     Min        1Q    Median        3Q       Max  \n",
       "-1.15732  -0.14412  -0.08095  -0.02324   2.56718  \n",
       "\n",
       "Coefficients:\n",
       "               Estimate Std. Error z value Pr(>|z|)  \n",
       "(Intercept)    64.37759   29.68476   2.169   0.0301 *\n",
       "data$Length    -1.01666    0.66891  -1.520   0.1285  \n",
       "data$Gestation -0.07813    0.39686  -0.197   0.8439  \n",
       "data$Headcirc  -0.39301    0.42794  -0.918   0.3584  \n",
       "---\n",
       "Signif. codes:  0 '***' 0.001 '**' 0.01 '*' 0.05 '.' 0.1 ' ' 1\n",
       "\n",
       "(Dispersion parameter for binomial family taken to be 1)\n",
       "\n",
       "    Null deviance: 34.450  on 41  degrees of freedom\n",
       "Residual deviance: 13.218  on 38  degrees of freedom\n",
       "AIC: 21.218\n",
       "\n",
       "Number of Fisher Scoring iterations: 8\n"
      ]
     },
     "metadata": {},
     "output_type": "display_data"
    }
   ],
   "source": [
    "lm.test <- glm(data$lowbwt ~ data$Length + data$Gestation + data$Headcirc, family=\"binomial\")\n",
    "summary(lm.test)"
   ]
  },
  {
   "cell_type": "markdown",
   "metadata": {},
   "source": [
    "# Variable selection"
   ]
  },
  {
   "cell_type": "code",
   "execution_count": 69,
   "metadata": {
    "ExecuteTime": {
     "end_time": "2021-05-12T10:01:52.772511Z",
     "start_time": "2021-05-12T10:01:52.723Z"
    }
   },
   "outputs": [
    {
     "name": "stderr",
     "output_type": "stream",
     "text": [
      "The following objects are masked from data (pos = 3):\n",
      "\n",
      "    Birthweight, fage, fedyrs, fheight, fnocig, Gestation, Headcirc,\n",
      "    Length, lowbwt, mage, mage35, mheight, mnocig, mppwt, smoker\n",
      "\n",
      "\n"
     ]
    }
   ],
   "source": [
    "attach(data)"
   ]
  },
  {
   "cell_type": "code",
   "execution_count": 70,
   "metadata": {
    "ExecuteTime": {
     "end_time": "2021-05-12T10:01:54.516460Z",
     "start_time": "2021-05-12T10:01:54.135Z"
    }
   },
   "outputs": [
    {
     "data": {
      "text/plain": [
       "\n",
       "Call:\n",
       "glm(formula = lowbwt ~ Length + Birthweight + Headcirc + Gestation + \n",
       "    mage + mheight + mppwt + fage + fedyrs + fheight + mage35, \n",
       "    data = data)\n",
       "\n",
       "Deviance Residuals: \n",
       "     Min        1Q    Median        3Q       Max  \n",
       "-0.38440  -0.12444  -0.03892   0.08399   0.49929  \n",
       "\n",
       "Coefficients:\n",
       "             Estimate Std. Error t value Pr(>|t|)  \n",
       "(Intercept)  1.748628   1.662367   1.052   0.3012  \n",
       "Length      -0.051273   0.025477  -2.013   0.0532 .\n",
       "Birthweight -0.036964   0.144441  -0.256   0.7998  \n",
       "Headcirc    -0.008392   0.026155  -0.321   0.7505  \n",
       "Gestation   -0.036131   0.026421  -1.368   0.1816  \n",
       "mage        -0.011385   0.021139  -0.539   0.5941  \n",
       "mheight      0.007629   0.010657   0.716   0.4796  \n",
       "mppwt       -0.009322   0.008805  -1.059   0.2981  \n",
       "fage         0.003950   0.014271   0.277   0.7838  \n",
       "fedyrs      -0.020725   0.021825  -0.950   0.3499  \n",
       "fheight      0.014164   0.007027   2.016   0.0529 .\n",
       "mage35       0.416975   0.245593   1.698   0.0999 .\n",
       "---\n",
       "Signif. codes:  0 '***' 0.001 '**' 0.01 '*' 0.05 '.' 0.1 ' ' 1\n",
       "\n",
       "(Dispersion parameter for gaussian family taken to be 0.06698835)\n",
       "\n",
       "    Null deviance: 5.1429  on 41  degrees of freedom\n",
       "Residual deviance: 2.0097  on 30  degrees of freedom\n",
       "AIC: 17.523\n",
       "\n",
       "Number of Fisher Scoring iterations: 2\n"
      ]
     },
     "metadata": {},
     "output_type": "display_data"
    }
   ],
   "source": [
    "lmAll <- glm(lowbwt ~ Length + Birthweight + Headcirc + Gestation + mage + mheight + mppwt + fage +\n",
    "             fedyrs + fheight + mage35, data=data)\n",
    "summary(lmAll)"
   ]
  },
  {
   "cell_type": "code",
   "execution_count": 71,
   "metadata": {
    "ExecuteTime": {
     "end_time": "2021-05-12T10:01:56.581051Z",
     "start_time": "2021-05-12T10:01:56.533Z"
    }
   },
   "outputs": [
    {
     "data": {
      "text/plain": [
       "\n",
       "Call:\n",
       "glm(formula = lowbwt ~ 0, data = data)\n",
       "\n",
       "Deviance Residuals: \n",
       "   Min      1Q  Median      3Q     Max  \n",
       "     0       0       0       0       1  \n",
       "\n",
       "No Coefficients\n",
       "\n",
       "(Dispersion parameter for gaussian family taken to be 0.1428571)\n",
       "\n",
       "    Null deviance: 6  on 42  degrees of freedom\n",
       "Residual deviance: 6  on 42  degrees of freedom\n",
       "AIC: 39.463\n",
       "\n",
       "Number of Fisher Scoring iterations: 0\n"
      ]
     },
     "metadata": {},
     "output_type": "display_data"
    }
   ],
   "source": [
    "lmEmpty <- glm(lowbwt ~ 0, data=data)\n",
    "summary(lmEmpty)"
   ]
  },
  {
   "cell_type": "code",
   "execution_count": 15,
   "metadata": {
    "ExecuteTime": {
     "end_time": "2021-05-11T15:40:41.314562Z",
     "start_time": "2021-05-11T15:40:40.255Z"
    }
   },
   "outputs": [],
   "source": [
    "?step"
   ]
  },
  {
   "cell_type": "code",
   "execution_count": 72,
   "metadata": {
    "ExecuteTime": {
     "end_time": "2021-05-12T10:01:59.323406Z",
     "start_time": "2021-05-12T10:01:59.189Z"
    }
   },
   "outputs": [
    {
     "name": "stdout",
     "output_type": "stream",
     "text": [
      "Start:  AIC=39.46\n",
      "lowbwt ~ 0\n",
      "\n",
      "              Df Deviance    AIC\n",
      "+ fheight      1   5.1282 34.869\n",
      "+ mheight      1   5.1763 35.261\n",
      "+ mage         1   5.2478 35.837\n",
      "+ Headcirc     1   5.2701 36.014\n",
      "+ fedyrs       1   5.2812 36.103\n",
      "+ Length       1   5.2837 36.123\n",
      "+ Gestation    1   5.3064 36.303\n",
      "+ mppwt        1   5.3271 36.467\n",
      "+ fage         1   5.4003 37.040\n",
      "+ Birthweight  1   5.5787 38.405\n",
      "<none>             6.0000 39.463\n",
      "+ mage35       1   5.7500 39.675\n",
      "\n",
      "Step:  AIC=34.87\n",
      "lowbwt ~ fheight - 1\n",
      "\n",
      "              Df Deviance    AIC\n",
      "+ Birthweight  1   2.8904 12.787\n",
      "+ Gestation    1   3.1123 15.895\n",
      "+ Length       1   3.1675 16.633\n",
      "+ Headcirc     1   4.1363 27.840\n",
      "+ mppwt        1   4.4087 30.519\n",
      "+ fage         1   4.8295 34.348\n",
      "+ mheight      1   4.8367 34.410\n",
      "<none>             5.1282 34.869\n",
      "+ fedyrs       1   4.9086 35.030\n",
      "+ mage35       1   5.0757 36.437\n",
      "+ mage         1   5.0922 36.573\n",
      "\n",
      "Step:  AIC=12.79\n",
      "lowbwt ~ fheight + Birthweight - 1\n",
      "\n",
      "            Df Deviance    AIC\n",
      "+ Gestation  1   2.6521 11.173\n",
      "+ Length     1   2.6884 11.745\n",
      "<none>           2.8904 12.787\n",
      "+ fedyrs     1   2.7941 13.364\n",
      "+ mppwt      1   2.8333 13.950\n",
      "+ fage       1   2.8556 14.279\n",
      "+ mage35     1   2.8732 14.536\n",
      "+ mage       1   2.8830 14.679\n",
      "+ mheight    1   2.8867 14.733\n",
      "+ Headcirc   1   2.8895 14.774\n",
      "\n",
      "Step:  AIC=11.17\n",
      "lowbwt ~ fheight + Birthweight + Gestation - 1\n",
      "\n",
      "           Df Deviance    AIC\n",
      "<none>          2.6521 11.173\n",
      "+ Length    1   2.5835 12.072\n",
      "+ mage35    1   2.5880 12.146\n",
      "+ mppwt     1   2.5912 12.198\n",
      "+ fedyrs    1   2.5996 12.333\n",
      "+ mheight   1   2.6435 13.036\n",
      "+ fage      1   2.6454 13.067\n",
      "+ Headcirc  1   2.6509 13.155\n",
      "+ mage      1   2.6521 13.173\n"
     ]
    },
    {
     "data": {
      "text/plain": [
       "\n",
       "Call:  glm(formula = lowbwt ~ fheight + Birthweight + Gestation - 1, \n",
       "    data = data)\n",
       "\n",
       "Coefficients:\n",
       "    fheight  Birthweight    Gestation  \n",
       "    0.01407     -0.25041     -0.04004  \n",
       "\n",
       "Degrees of Freedom: 42 Total (i.e. Null);  39 Residual\n",
       "Null Deviance:\t    6 \n",
       "Residual Deviance: 2.652 \tAIC: 11.17"
      ]
     },
     "metadata": {},
     "output_type": "display_data"
    }
   ],
   "source": [
    "step(lmEmpty, direction = \"forward\", scope=formula(lmAll))"
   ]
  },
  {
   "cell_type": "code",
   "execution_count": 17,
   "metadata": {
    "ExecuteTime": {
     "end_time": "2021-05-11T15:40:47.962079Z",
     "start_time": "2021-05-11T15:40:47.902Z"
    }
   },
   "outputs": [
    {
     "data": {
      "text/plain": [
       "\n",
       "Call:\n",
       "glm(formula = lowbwt ~ fheight + Birthweight + Gestation)\n",
       "\n",
       "Deviance Residuals: \n",
       "     Min        1Q    Median        3Q       Max  \n",
       "-0.43024  -0.15890  -0.04499   0.11163   0.51410  \n",
       "\n",
       "Coefficients:\n",
       "             Estimate Std. Error t value Pr(>|t|)  \n",
       "(Intercept)  1.094926   1.133992   0.966   0.3404  \n",
       "fheight      0.009360   0.006057   1.545   0.1306  \n",
       "Birthweight -0.239514   0.096996  -2.469   0.0181 *\n",
       "Gestation   -0.047156   0.022642  -2.083   0.0441 *\n",
       "---\n",
       "Signif. codes:  0 '***' 0.001 '**' 0.01 '*' 0.05 '.' 0.1 ' ' 1\n",
       "\n",
       "(Dispersion parameter for gaussian family taken to be 0.06812068)\n",
       "\n",
       "    Null deviance: 5.1429  on 41  degrees of freedom\n",
       "Residual deviance: 2.5886  on 38  degrees of freedom\n",
       "AIC: 12.155\n",
       "\n",
       "Number of Fisher Scoring iterations: 2\n"
      ]
     },
     "metadata": {},
     "output_type": "display_data"
    }
   ],
   "source": [
    "glm1 <- glm(lowbwt ~ fheight + Birthweight + Gestation)\n",
    "summary(glm1)"
   ]
  },
  {
   "cell_type": "code",
   "execution_count": 19,
   "metadata": {
    "ExecuteTime": {
     "end_time": "2021-05-11T15:40:53.843880Z",
     "start_time": "2021-05-11T15:40:53.788Z"
    }
   },
   "outputs": [
    {
     "data": {
      "text/plain": [
       "\n",
       "Call:\n",
       "glm(formula = lowbwt ~ fheight + Birthweight + Gestation)\n",
       "\n",
       "Deviance Residuals: \n",
       "     Min        1Q    Median        3Q       Max  \n",
       "-0.43024  -0.15890  -0.04499   0.11163   0.51410  \n",
       "\n",
       "Coefficients:\n",
       "             Estimate Std. Error t value Pr(>|t|)  \n",
       "(Intercept)  1.094926   1.133992   0.966   0.3404  \n",
       "fheight      0.009360   0.006057   1.545   0.1306  \n",
       "Birthweight -0.239514   0.096996  -2.469   0.0181 *\n",
       "Gestation   -0.047156   0.022642  -2.083   0.0441 *\n",
       "---\n",
       "Signif. codes:  0 '***' 0.001 '**' 0.01 '*' 0.05 '.' 0.1 ' ' 1\n",
       "\n",
       "(Dispersion parameter for gaussian family taken to be 0.06812068)\n",
       "\n",
       "    Null deviance: 5.1429  on 41  degrees of freedom\n",
       "Residual deviance: 2.5886  on 38  degrees of freedom\n",
       "AIC: 12.155\n",
       "\n",
       "Number of Fisher Scoring iterations: 2\n"
      ]
     },
     "metadata": {},
     "output_type": "display_data"
    }
   ],
   "source": [
    "glm1new <- glm(lowbwt ~ fheight + Birthweight + Gestation)\n",
    "summary(glm1new)"
   ]
  },
  {
   "cell_type": "code",
   "execution_count": 18,
   "metadata": {
    "ExecuteTime": {
     "end_time": "2021-05-11T15:40:49.699738Z",
     "start_time": "2021-05-11T15:40:49.598Z"
    }
   },
   "outputs": [
    {
     "data": {
      "text/plain": [
       "\n",
       "Call:\n",
       "glm(formula = lowbwt ~ Birthweight + Gestation)\n",
       "\n",
       "Deviance Residuals: \n",
       "    Min       1Q   Median       3Q      Max  \n",
       "-0.4438  -0.1586  -0.0595   0.1494   0.6374  \n",
       "\n",
       "Coefficients:\n",
       "            Estimate Std. Error t value Pr(>|t|)    \n",
       "(Intercept)  2.50711    0.68319   3.670 0.000725 ***\n",
       "Birthweight -0.26470    0.09730  -2.720 0.009691 ** \n",
       "Gestation   -0.03795    0.02223  -1.707 0.095729 .  \n",
       "---\n",
       "Signif. codes:  0 '***' 0.001 '**' 0.01 '*' 0.05 '.' 0.1 ' ' 1\n",
       "\n",
       "(Dispersion parameter for gaussian family taken to be 0.07054455)\n",
       "\n",
       "    Null deviance: 5.1429  on 41  degrees of freedom\n",
       "Residual deviance: 2.7512  on 39  degrees of freedom\n",
       "AIC: 12.715\n",
       "\n",
       "Number of Fisher Scoring iterations: 2\n"
      ]
     },
     "metadata": {},
     "output_type": "display_data"
    }
   ],
   "source": [
    "glm2 <- glm(lowbwt ~ Birthweight + Gestation) \n",
    "summary(glm2)"
   ]
  },
  {
   "cell_type": "code",
   "execution_count": 20,
   "metadata": {
    "ExecuteTime": {
     "end_time": "2021-05-11T15:40:58.861733Z",
     "start_time": "2021-05-11T15:40:58.783Z"
    }
   },
   "outputs": [
    {
     "name": "stderr",
     "output_type": "stream",
     "text": [
      "Warning message:\n",
      "\"glm.fit: algorithm did not converge\"\n",
      "Warning message:\n",
      "\"glm.fit: fitted probabilities numerically 0 or 1 occurred\"\n"
     ]
    },
    {
     "data": {
      "text/plain": [
       "\n",
       "Call:  glm(formula = lowbwt ~ Birthweight + Gestation, family = \"binomial\")\n",
       "\n",
       "Coefficients:\n",
       "(Intercept)  Birthweight    Gestation  \n",
       "    846.172     -210.189       -7.616  \n",
       "\n",
       "Degrees of Freedom: 41 Total (i.e. Null);  39 Residual\n",
       "Null Deviance:\t    34.45 \n",
       "Residual Deviance: 7.699e-09 \tAIC: 6"
      ]
     },
     "metadata": {},
     "output_type": "display_data"
    }
   ],
   "source": [
    "logit2 <- glm(lowbwt ~ Birthweight + Gestation, family=\"binomial\")\n",
    "logit2"
   ]
  },
  {
   "cell_type": "code",
   "execution_count": 73,
   "metadata": {
    "ExecuteTime": {
     "end_time": "2021-05-12T10:02:11.379432Z",
     "start_time": "2021-05-12T10:02:11.317Z"
    }
   },
   "outputs": [
    {
     "name": "stderr",
     "output_type": "stream",
     "text": [
      "Warning message:\n",
      "\"glm.fit: algorithm did not converge\"\n",
      "Warning message:\n",
      "\"glm.fit: fitted probabilities numerically 0 or 1 occurred\"\n"
     ]
    },
    {
     "data": {
      "text/plain": [
       "\n",
       "Call:\n",
       "glm(formula = lowbwt ~ Birthweight, family = \"binomial\")\n",
       "\n",
       "Deviance Residuals: \n",
       "       Min          1Q      Median          3Q         Max  \n",
       "-1.101e-04  -2.100e-08  -2.100e-08  -2.100e-08   1.004e-04  \n",
       "\n",
       "Coefficients:\n",
       "            Estimate Std. Error z value Pr(>|z|)\n",
       "(Intercept)   1283.5   388198.6   0.003    0.997\n",
       "Birthweight   -475.4   143565.7  -0.003    0.997\n",
       "\n",
       "(Dispersion parameter for binomial family taken to be 1)\n",
       "\n",
       "    Null deviance: 3.4450e+01  on 41  degrees of freedom\n",
       "Residual deviance: 2.2384e-08  on 40  degrees of freedom\n",
       "AIC: 4\n",
       "\n",
       "Number of Fisher Scoring iterations: 25\n"
      ]
     },
     "metadata": {},
     "output_type": "display_data"
    }
   ],
   "source": [
    "logit <- glm(lowbwt ~ Birthweight, family=\"binomial\")\n",
    "summary(logit)"
   ]
  },
  {
   "cell_type": "code",
   "execution_count": 47,
   "metadata": {
    "ExecuteTime": {
     "end_time": "2021-05-12T09:28:16.440982Z",
     "start_time": "2021-05-12T09:28:16.316Z"
    }
   },
   "outputs": [
    {
     "data": {
      "image/png": "[encoded data removed]",
      "text/plain": [
       "Plot with title \"Histogram of logit$residuals\""
      ]
     },
     "metadata": {
      "image/png": {
       "height": 420,
       "width": 420
      }
     },
     "output_type": "display_data"
    }
   ],
   "source": [
    "hist(logit$residuals)"
   ]
  },
  {
   "cell_type": "code",
   "execution_count": 9,
   "metadata": {
    "ExecuteTime": {
     "end_time": "2021-05-12T08:55:32.925611Z",
     "start_time": "2021-05-12T08:55:32.879Z"
    }
   },
   "outputs": [
    {
     "ename": "ERROR",
     "evalue": "Error in eval(predvars, data, env): object 'lowbwt' not found\n",
     "output_type": "error",
     "traceback": [
      "Error in eval(predvars, data, env): object 'lowbwt' not found\nTraceback:\n",
      "1. glm(lowbwt ~ Birthweight)",
      "2. eval(mf, parent.frame())",
      "3. eval(mf, parent.frame())",
      "4. stats::model.frame(formula = lowbwt ~ Birthweight, drop.unused.levels = TRUE)",
      "5. model.frame.default(formula = lowbwt ~ Birthweight, drop.unused.levels = TRUE)",
      "6. eval(predvars, data, env)",
      "7. eval(predvars, data, env)"
     ]
    }
   ],
   "source": [
    "logit <- glm(lowbwt ~ Birthweight)\n",
    "logit"
   ]
  },
  {
   "cell_type": "markdown",
   "metadata": {},
   "source": [
    "## Coefficients"
   ]
  },
  {
   "cell_type": "code",
   "execution_count": 74,
   "metadata": {
    "ExecuteTime": {
     "end_time": "2021-05-12T10:02:20.625509Z",
     "start_time": "2021-05-12T10:02:20.565Z"
    }
   },
   "outputs": [
    {
     "data": {
      "text/html": [
       "<style>\n",
       ".dl-inline {width: auto; margin:0; padding: 0}\n",
       ".dl-inline>dt, .dl-inline>dd {float: none; width: auto; display: inline-block}\n",
       ".dl-inline>dt::after {content: \":\\0020\"; padding-right: .5ex}\n",
       ".dl-inline>dt:not(:first-of-type) {padding-left: .5ex}\n",
       "</style><dl class=dl-inline><dt>(Intercept)</dt><dd>1283.53715393683</dd><dt>Birthweight</dt><dd>-475.350059532715</dd></dl>\n"
      ],
      "text/latex": [
       "\\begin{description*}\n",
       "\\item[(Intercept)] 1283.53715393683\n",
       "\\item[Birthweight] -475.350059532715\n",
       "\\end{description*}\n"
      ],
      "text/markdown": [
       "(Intercept)\n",
       ":   1283.53715393683Birthweight\n",
       ":   -475.350059532715\n",
       "\n"
      ],
      "text/plain": [
       "(Intercept) Birthweight \n",
       "  1283.5372   -475.3501 "
      ]
     },
     "metadata": {},
     "output_type": "display_data"
    },
    {
     "data": {
      "text/html": [
       "<style>\n",
       ".dl-inline {width: auto; margin:0; padding: 0}\n",
       ".dl-inline>dt, .dl-inline>dd {float: none; width: auto; display: inline-block}\n",
       ".dl-inline>dt::after {content: \":\\0020\"; padding-right: .5ex}\n",
       ".dl-inline>dt:not(:first-of-type) {padding-left: .5ex}\n",
       "</style><dl class=dl-inline><dt>(Intercept)</dt><dd>1283.53715393683</dd><dt>Birthweight</dt><dd>-475.350059532715</dd></dl>\n"
      ],
      "text/latex": [
       "\\begin{description*}\n",
       "\\item[(Intercept)] 1283.53715393683\n",
       "\\item[Birthweight] -475.350059532715\n",
       "\\end{description*}\n"
      ],
      "text/markdown": [
       "(Intercept)\n",
       ":   1283.53715393683Birthweight\n",
       ":   -475.350059532715\n",
       "\n"
      ],
      "text/plain": [
       "(Intercept) Birthweight \n",
       "  1283.5372   -475.3501 "
      ]
     },
     "metadata": {},
     "output_type": "display_data"
    }
   ],
   "source": [
    "coef(logit)\n",
    "logit$coefficients\n",
    "\n",
    "\n",
    "\n"
   ]
  },
  {
   "cell_type": "code",
   "execution_count": 75,
   "metadata": {
    "ExecuteTime": {
     "end_time": "2021-05-12T10:02:27.228626Z",
     "start_time": "2021-05-12T10:02:27.173Z"
    }
   },
   "outputs": [
    {
     "data": {
      "text/html": [
       "<strong>(Intercept):</strong> 1283.53715393683"
      ],
      "text/latex": [
       "\\textbf{(Intercept):} 1283.53715393683"
      ],
      "text/markdown": [
       "**(Intercept):** 1283.53715393683"
      ],
      "text/plain": [
       "(Intercept) \n",
       "   1283.537 "
      ]
     },
     "metadata": {},
     "output_type": "display_data"
    }
   ],
   "source": [
    "# Intercept\n",
    "\n",
    "b0<- logit$coef[1]\n",
    "b0"
   ]
  },
  {
   "cell_type": "code",
   "execution_count": 76,
   "metadata": {
    "ExecuteTime": {
     "end_time": "2021-05-12T10:02:29.248414Z",
     "start_time": "2021-05-12T10:02:28.725Z"
    }
   },
   "outputs": [
    {
     "data": {
      "text/html": [
       "<strong>Birthweight:</strong> -475.350059532715"
      ],
      "text/latex": [
       "\\textbf{Birthweight:} -475.350059532715"
      ],
      "text/markdown": [
       "**Birthweight:** -475.350059532715"
      ],
      "text/plain": [
       "Birthweight \n",
       "  -475.3501 "
      ]
     },
     "metadata": {},
     "output_type": "display_data"
    }
   ],
   "source": [
    "birth<- logit$coef[2]\n",
    "birth"
   ]
  },
  {
   "cell_type": "code",
   "execution_count": 77,
   "metadata": {
    "ExecuteTime": {
     "end_time": "2021-05-12T10:02:48.617461Z",
     "start_time": "2021-05-12T10:02:48.567Z"
    }
   },
   "outputs": [
    {
     "data": {
      "text/html": [
       "<style>\n",
       ".dl-inline {width: auto; margin:0; padding: 0}\n",
       ".dl-inline>dt, .dl-inline>dd {float: none; width: auto; display: inline-block}\n",
       ".dl-inline>dt::after {content: \":\\0020\"; padding-right: .5ex}\n",
       ".dl-inline>dt:not(:first-of-type) {padding-left: .5ex}\n",
       "</style><dl class=dl-inline><dt>(Intercept)</dt><dd>1283.53715393683</dd><dt>Birthweight</dt><dd>-475.350059532715</dd></dl>\n"
      ],
      "text/latex": [
       "\\begin{description*}\n",
       "\\item[(Intercept)] 1283.53715393683\n",
       "\\item[Birthweight] -475.350059532715\n",
       "\\end{description*}\n"
      ],
      "text/markdown": [
       "(Intercept)\n",
       ":   1283.53715393683Birthweight\n",
       ":   -475.350059532715\n",
       "\n"
      ],
      "text/plain": [
       "(Intercept) Birthweight \n",
       "  1283.5372   -475.3501 "
      ]
     },
     "metadata": {},
     "output_type": "display_data"
    },
    {
     "data": {
      "text/html": [
       "<style>\n",
       ".dl-inline {width: auto; margin:0; padding: 0}\n",
       ".dl-inline>dt, .dl-inline>dd {float: none; width: auto; display: inline-block}\n",
       ".dl-inline>dt::after {content: \":\\0020\"; padding-right: .5ex}\n",
       ".dl-inline>dt:not(:first-of-type) {padding-left: .5ex}\n",
       "</style><dl class=dl-inline><dt>(Intercept)</dt><dd>3215.54955615714</dd><dt>Gestation</dt><dd>-109.957705816368</dd><dt>fheight</dt><dd>11.8450490629103</dd><dt>mppwt</dt><dd>-24.5153190079156</dd></dl>\n"
      ],
      "text/latex": [
       "\\begin{description*}\n",
       "\\item[(Intercept)] 3215.54955615714\n",
       "\\item[Gestation] -109.957705816368\n",
       "\\item[fheight] 11.8450490629103\n",
       "\\item[mppwt] -24.5153190079156\n",
       "\\end{description*}\n"
      ],
      "text/markdown": [
       "(Intercept)\n",
       ":   3215.54955615714Gestation\n",
       ":   -109.957705816368fheight\n",
       ":   11.8450490629103mppwt\n",
       ":   -24.5153190079156\n",
       "\n"
      ],
      "text/plain": [
       "(Intercept)   Gestation     fheight       mppwt \n",
       " 3215.54956  -109.95771    11.84505   -24.51532 "
      ]
     },
     "metadata": {},
     "output_type": "display_data"
    }
   ],
   "source": [
    "coef(logit)\n",
    "glmNew$coefficients"
   ]
  },
  {
   "cell_type": "code",
   "execution_count": 78,
   "metadata": {
    "ExecuteTime": {
     "end_time": "2021-05-12T10:02:50.643552Z",
     "start_time": "2021-05-12T10:02:50.550Z"
    }
   },
   "outputs": [
    {
     "name": "stderr",
     "output_type": "stream",
     "text": [
      "Waiting for profiling to be done...\n",
      "\n",
      "Warning message:\n",
      "\"glm.fit: fitted probabilities numerically 0 or 1 occurred\"\n",
      "Warning message:\n",
      "\"glm.fit: fitted probabilities numerically 0 or 1 occurred\"\n",
      "Warning message:\n",
      "\"glm.fit: fitted probabilities numerically 0 or 1 occurred\"\n",
      "Warning message:\n",
      "\"glm.fit: fitted probabilities numerically 0 or 1 occurred\"\n",
      "Warning message:\n",
      "\"glm.fit: fitted probabilities numerically 0 or 1 occurred\"\n",
      "Warning message:\n",
      "\"glm.fit: fitted probabilities numerically 0 or 1 occurred\"\n"
     ]
    },
    {
     "data": {
      "text/html": [
       "<table class=\"dataframe\">\n",
       "<caption>A matrix: 2 × 2 of type dbl</caption>\n",
       "<thead>\n",
       "\t<tr><th></th><th scope=col>2.5 %</th><th scope=col>97.5 %</th></tr>\n",
       "</thead>\n",
       "<tbody>\n",
       "\t<tr><th scope=row>(Intercept)</th><td>-48841.35</td><td>245329.55</td></tr>\n",
       "\t<tr><th scope=row>Birthweight</th><td>-90729.80</td><td> 18062.11</td></tr>\n",
       "</tbody>\n",
       "</table>\n"
      ],
      "text/latex": [
       "A matrix: 2 × 2 of type dbl\n",
       "\\begin{tabular}{r|ll}\n",
       "  & 2.5 \\% & 97.5 \\%\\\\\n",
       "\\hline\n",
       "\t(Intercept) & -48841.35 & 245329.55\\\\\n",
       "\tBirthweight & -90729.80 &  18062.11\\\\\n",
       "\\end{tabular}\n"
      ],
      "text/markdown": [
       "\n",
       "A matrix: 2 × 2 of type dbl\n",
       "\n",
       "| <!--/--> | 2.5 % | 97.5 % |\n",
       "|---|---|---|\n",
       "| (Intercept) | -48841.35 | 245329.55 |\n",
       "| Birthweight | -90729.80 |  18062.11 |\n",
       "\n"
      ],
      "text/plain": [
       "            2.5 %     97.5 %   \n",
       "(Intercept) -48841.35 245329.55\n",
       "Birthweight -90729.80  18062.11"
      ]
     },
     "metadata": {},
     "output_type": "display_data"
    }
   ],
   "source": [
    "confint(logit)"
   ]
  },
  {
   "cell_type": "code",
   "execution_count": 79,
   "metadata": {
    "ExecuteTime": {
     "end_time": "2021-05-12T10:02:53.844916Z",
     "start_time": "2021-05-12T10:02:53.758Z"
    }
   },
   "outputs": [
    {
     "name": "stderr",
     "output_type": "stream",
     "text": [
      "Waiting for profiling to be done...\n",
      "\n",
      "Warning message:\n",
      "\"glm.fit: fitted probabilities numerically 0 or 1 occurred\"\n",
      "Warning message:\n",
      "\"glm.fit: fitted probabilities numerically 0 or 1 occurred\"\n",
      "Warning message:\n",
      "\"glm.fit: fitted probabilities numerically 0 or 1 occurred\"\n",
      "Warning message:\n",
      "\"glm.fit: fitted probabilities numerically 0 or 1 occurred\"\n",
      "Warning message:\n",
      "\"glm.fit: fitted probabilities numerically 0 or 1 occurred\"\n",
      "Warning message:\n",
      "\"glm.fit: fitted probabilities numerically 0 or 1 occurred\"\n"
     ]
    },
    {
     "data": {
      "text/html": [
       "<table class=\"dataframe\">\n",
       "<caption>A matrix: 2 × 2 of type dbl</caption>\n",
       "<thead>\n",
       "\t<tr><th></th><th scope=col>2.5 %</th><th scope=col>97.5 %</th></tr>\n",
       "</thead>\n",
       "<tbody>\n",
       "\t<tr><th scope=row>(Intercept)</th><td>-48841.35</td><td>245329.55</td></tr>\n",
       "\t<tr><th scope=row>Birthweight</th><td>-90729.80</td><td> 18062.11</td></tr>\n",
       "</tbody>\n",
       "</table>\n"
      ],
      "text/latex": [
       "A matrix: 2 × 2 of type dbl\n",
       "\\begin{tabular}{r|ll}\n",
       "  & 2.5 \\% & 97.5 \\%\\\\\n",
       "\\hline\n",
       "\t(Intercept) & -48841.35 & 245329.55\\\\\n",
       "\tBirthweight & -90729.80 &  18062.11\\\\\n",
       "\\end{tabular}\n"
      ],
      "text/markdown": [
       "\n",
       "A matrix: 2 × 2 of type dbl\n",
       "\n",
       "| <!--/--> | 2.5 % | 97.5 % |\n",
       "|---|---|---|\n",
       "| (Intercept) | -48841.35 | 245329.55 |\n",
       "| Birthweight | -90729.80 |  18062.11 |\n",
       "\n"
      ],
      "text/plain": [
       "            2.5 %     97.5 %   \n",
       "(Intercept) -48841.35 245329.55\n",
       "Birthweight -90729.80  18062.11"
      ]
     },
     "metadata": {},
     "output_type": "display_data"
    }
   ],
   "source": [
    "confint(logit)"
   ]
  },
  {
   "cell_type": "code",
   "execution_count": 80,
   "metadata": {
    "ExecuteTime": {
     "end_time": "2021-05-12T10:02:58.326297Z",
     "start_time": "2021-05-12T10:02:58.221Z"
    }
   },
   "outputs": [
    {
     "name": "stderr",
     "output_type": "stream",
     "text": [
      "Waiting for profiling to be done...\n",
      "\n",
      "Warning message:\n",
      "\"glm.fit: fitted probabilities numerically 0 or 1 occurred\"\n",
      "Warning message:\n",
      "\"glm.fit: fitted probabilities numerically 0 or 1 occurred\"\n",
      "Warning message:\n",
      "\"glm.fit: fitted probabilities numerically 0 or 1 occurred\"\n",
      "Warning message:\n",
      "\"glm.fit: fitted probabilities numerically 0 or 1 occurred\"\n",
      "Warning message:\n",
      "\"glm.fit: fitted probabilities numerically 0 or 1 occurred\"\n",
      "Warning message:\n",
      "\"glm.fit: fitted probabilities numerically 0 or 1 occurred\"\n"
     ]
    },
    {
     "data": {
      "text/html": [
       "<table class=\"dataframe\">\n",
       "<caption>A matrix: 2 × 3 of type dbl</caption>\n",
       "<thead>\n",
       "\t<tr><th></th><th scope=col></th><th scope=col>2.5 %</th><th scope=col>97.5 %</th></tr>\n",
       "</thead>\n",
       "<tbody>\n",
       "\t<tr><th scope=row>(Intercept)</th><td>1283.5372</td><td>-48841.35</td><td>245329.55</td></tr>\n",
       "\t<tr><th scope=row>Birthweight</th><td>-475.3501</td><td>-90729.80</td><td> 18062.11</td></tr>\n",
       "</tbody>\n",
       "</table>\n"
      ],
      "text/latex": [
       "A matrix: 2 × 3 of type dbl\n",
       "\\begin{tabular}{r|lll}\n",
       "  &  & 2.5 \\% & 97.5 \\%\\\\\n",
       "\\hline\n",
       "\t(Intercept) & 1283.5372 & -48841.35 & 245329.55\\\\\n",
       "\tBirthweight & -475.3501 & -90729.80 &  18062.11\\\\\n",
       "\\end{tabular}\n"
      ],
      "text/markdown": [
       "\n",
       "A matrix: 2 × 3 of type dbl\n",
       "\n",
       "| <!--/--> | <!----> | 2.5 % | 97.5 % |\n",
       "|---|---|---|---|\n",
       "| (Intercept) | 1283.5372 | -48841.35 | 245329.55 |\n",
       "| Birthweight | -475.3501 | -90729.80 |  18062.11 |\n",
       "\n"
      ],
      "text/plain": [
       "                      2.5 %     97.5 %   \n",
       "(Intercept) 1283.5372 -48841.35 245329.55\n",
       "Birthweight -475.3501 -90729.80  18062.11"
      ]
     },
     "metadata": {},
     "output_type": "display_data"
    }
   ],
   "source": [
    "cbind(coef(logit), confint(logit))"
   ]
  },
  {
   "cell_type": "code",
   "execution_count": 81,
   "metadata": {
    "ExecuteTime": {
     "end_time": "2021-05-12T10:03:01.857568Z",
     "start_time": "2021-05-12T10:03:01.743Z"
    }
   },
   "outputs": [
    {
     "name": "stderr",
     "output_type": "stream",
     "text": [
      "Waiting for profiling to be done...\n",
      "\n",
      "Warning message:\n",
      "\"glm.fit: fitted probabilities numerically 0 or 1 occurred\"\n",
      "Warning message:\n",
      "\"glm.fit: fitted probabilities numerically 0 or 1 occurred\"\n",
      "Warning message:\n",
      "\"glm.fit: fitted probabilities numerically 0 or 1 occurred\"\n",
      "Warning message:\n",
      "\"glm.fit: fitted probabilities numerically 0 or 1 occurred\"\n",
      "Warning message:\n",
      "\"glm.fit: fitted probabilities numerically 0 or 1 occurred\"\n",
      "Warning message:\n",
      "\"glm.fit: fitted probabilities numerically 0 or 1 occurred\"\n"
     ]
    },
    {
     "data": {
      "text/html": [
       "<table class=\"dataframe\">\n",
       "<caption>A matrix: 2 × 3 of type dbl</caption>\n",
       "<thead>\n",
       "\t<tr><th></th><th scope=col></th><th scope=col>2.5 %</th><th scope=col>97.5 %</th></tr>\n",
       "</thead>\n",
       "<tbody>\n",
       "\t<tr><th scope=row>(Intercept)</th><td>1283.5372</td><td>-48841.35</td><td>245329.55</td></tr>\n",
       "\t<tr><th scope=row>Birthweight</th><td>-475.3501</td><td>-90729.80</td><td> 18062.11</td></tr>\n",
       "</tbody>\n",
       "</table>\n"
      ],
      "text/latex": [
       "A matrix: 2 × 3 of type dbl\n",
       "\\begin{tabular}{r|lll}\n",
       "  &  & 2.5 \\% & 97.5 \\%\\\\\n",
       "\\hline\n",
       "\t(Intercept) & 1283.5372 & -48841.35 & 245329.55\\\\\n",
       "\tBirthweight & -475.3501 & -90729.80 &  18062.11\\\\\n",
       "\\end{tabular}\n"
      ],
      "text/markdown": [
       "\n",
       "A matrix: 2 × 3 of type dbl\n",
       "\n",
       "| <!--/--> | <!----> | 2.5 % | 97.5 % |\n",
       "|---|---|---|---|\n",
       "| (Intercept) | 1283.5372 | -48841.35 | 245329.55 |\n",
       "| Birthweight | -475.3501 | -90729.80 |  18062.11 |\n",
       "\n"
      ],
      "text/plain": [
       "                      2.5 %     97.5 %   \n",
       "(Intercept) 1283.5372 -48841.35 245329.55\n",
       "Birthweight -475.3501 -90729.80  18062.11"
      ]
     },
     "metadata": {},
     "output_type": "display_data"
    }
   ],
   "source": [
    "cbind(coef(logit), confint(logit))"
   ]
  },
  {
   "cell_type": "code",
   "execution_count": 106,
   "metadata": {
    "ExecuteTime": {
     "end_time": "2021-05-11T19:28:21.002732Z",
     "start_time": "2021-05-11T19:28:20.865Z"
    }
   },
   "outputs": [
    {
     "name": "stderr",
     "output_type": "stream",
     "text": [
      "Waiting for profiling to be done...\n",
      "\n",
      "Warning message:\n",
      "\"glm.fit: fitted probabilities numerically 0 or 1 occurred\"\n",
      "Warning message:\n",
      "\"glm.fit: fitted probabilities numerically 0 or 1 occurred\"\n",
      "Warning message:\n",
      "\"glm.fit: fitted probabilities numerically 0 or 1 occurred\"\n",
      "Warning message:\n",
      "\"glm.fit: fitted probabilities numerically 0 or 1 occurred\"\n",
      "Warning message:\n",
      "\"glm.fit: fitted probabilities numerically 0 or 1 occurred\"\n",
      "Warning message:\n",
      "\"glm.fit: fitted probabilities numerically 0 or 1 occurred\"\n",
      "Warning message:\n",
      "\"glm.fit: fitted probabilities numerically 0 or 1 occurred\"\n",
      "Warning message:\n",
      "\"glm.fit: fitted probabilities numerically 0 or 1 occurred\"\n",
      "Warning message:\n",
      "\"glm.fit: fitted probabilities numerically 0 or 1 occurred\"\n",
      "Warning message:\n",
      "\"glm.fit: fitted probabilities numerically 0 or 1 occurred\"\n",
      "Warning message:\n",
      "\"glm.fit: fitted probabilities numerically 0 or 1 occurred\"\n",
      "Warning message:\n",
      "\"glm.fit: fitted probabilities numerically 0 or 1 occurred\"\n"
     ]
    },
    {
     "data": {
      "text/html": [
       "<table class=\"dataframe\">\n",
       "<caption>A matrix: 4 × 3 of type dbl</caption>\n",
       "<thead>\n",
       "\t<tr><th></th><th scope=col></th><th scope=col>2.5 %</th><th scope=col>97.5 %</th></tr>\n",
       "</thead>\n",
       "<tbody>\n",
       "\t<tr><th scope=row>(Intercept)</th><td>3215.54956</td><td>-164919.9144</td><td>521131.1394</td></tr>\n",
       "\t<tr><th scope=row>Gestation</th><td>-109.95771</td><td> -17780.3285</td><td>  3841.3001</td></tr>\n",
       "\t<tr><th scope=row>fheight</th><td>  11.84505</td><td>   -864.3378</td><td>  2226.6886</td></tr>\n",
       "\t<tr><th scope=row>mppwt</th><td> -24.51532</td><td>  -4078.7950</td><td>   897.2107</td></tr>\n",
       "</tbody>\n",
       "</table>\n"
      ],
      "text/latex": [
       "A matrix: 4 × 3 of type dbl\n",
       "\\begin{tabular}{r|lll}\n",
       "  &  & 2.5 \\% & 97.5 \\%\\\\\n",
       "\\hline\n",
       "\t(Intercept) & 3215.54956 & -164919.9144 & 521131.1394\\\\\n",
       "\tGestation & -109.95771 &  -17780.3285 &   3841.3001\\\\\n",
       "\tfheight &   11.84505 &    -864.3378 &   2226.6886\\\\\n",
       "\tmppwt &  -24.51532 &   -4078.7950 &    897.2107\\\\\n",
       "\\end{tabular}\n"
      ],
      "text/markdown": [
       "\n",
       "A matrix: 4 × 3 of type dbl\n",
       "\n",
       "| <!--/--> | <!----> | 2.5 % | 97.5 % |\n",
       "|---|---|---|---|\n",
       "| (Intercept) | 3215.54956 | -164919.9144 | 521131.1394 |\n",
       "| Gestation | -109.95771 |  -17780.3285 |   3841.3001 |\n",
       "| fheight |   11.84505 |    -864.3378 |   2226.6886 |\n",
       "| mppwt |  -24.51532 |   -4078.7950 |    897.2107 |\n",
       "\n"
      ],
      "text/plain": [
       "                       2.5 %        97.5 %     \n",
       "(Intercept) 3215.54956 -164919.9144 521131.1394\n",
       "Gestation   -109.95771  -17780.3285   3841.3001\n",
       "fheight       11.84505    -864.3378   2226.6886\n",
       "mppwt        -24.51532   -4078.7950    897.2107"
      ]
     },
     "metadata": {},
     "output_type": "display_data"
    }
   ],
   "source": [
    "cbind(coef(glmNew), confint(glmNew))"
   ]
  },
  {
   "cell_type": "markdown",
   "metadata": {},
   "source": [
    "## Fitted Values"
   ]
  },
  {
   "cell_type": "code",
   "execution_count": 82,
   "metadata": {
    "ExecuteTime": {
     "end_time": "2021-05-12T10:03:06.195476Z",
     "start_time": "2021-05-12T10:03:06.128Z"
    }
   },
   "outputs": [
    {
     "data": {
      "text/html": [
       "<style>\n",
       ".dl-inline {width: auto; margin:0; padding: 0}\n",
       ".dl-inline>dt, .dl-inline>dd {float: none; width: auto; display: inline-block}\n",
       ".dl-inline>dt::after {content: \":\\0020\"; padding-right: .5ex}\n",
       ".dl-inline>dt:not(:first-of-type) {padding-left: .5ex}\n",
       "</style><dl class=dl-inline><dt>1</dt><dd>2.22044604925031e-16</dd><dt>2</dt><dd>2.22044604925031e-16</dd><dt>3</dt><dd>2.22044604925031e-16</dd><dt>4</dt><dd>2.22044604925031e-16</dd><dt>5</dt><dd>2.22044604925031e-16</dd><dt>6</dt><dd>2.22044604925031e-16</dd></dl>\n"
      ],
      "text/latex": [
       "\\begin{description*}\n",
       "\\item[1] 2.22044604925031e-16\n",
       "\\item[2] 2.22044604925031e-16\n",
       "\\item[3] 2.22044604925031e-16\n",
       "\\item[4] 2.22044604925031e-16\n",
       "\\item[5] 2.22044604925031e-16\n",
       "\\item[6] 2.22044604925031e-16\n",
       "\\end{description*}\n"
      ],
      "text/markdown": [
       "1\n",
       ":   2.22044604925031e-162\n",
       ":   2.22044604925031e-163\n",
       ":   2.22044604925031e-164\n",
       ":   2.22044604925031e-165\n",
       ":   2.22044604925031e-166\n",
       ":   2.22044604925031e-16\n",
       "\n"
      ],
      "text/plain": [
       "           1            2            3            4            5            6 \n",
       "2.220446e-16 2.220446e-16 2.220446e-16 2.220446e-16 2.220446e-16 2.220446e-16 "
      ]
     },
     "metadata": {},
     "output_type": "display_data"
    },
    {
     "data": {
      "text/html": [
       "<style>\n",
       ".dl-inline {width: auto; margin:0; padding: 0}\n",
       ".dl-inline>dt, .dl-inline>dd {float: none; width: auto; display: inline-block}\n",
       ".dl-inline>dt::after {content: \":\\0020\"; padding-right: .5ex}\n",
       ".dl-inline>dt:not(:first-of-type) {padding-left: .5ex}\n",
       "</style><dl class=dl-inline><dt>1</dt><dd>2.22044604925031e-16</dd><dt>2</dt><dd>2.22044604925031e-16</dd><dt>3</dt><dd>2.22044604925031e-16</dd><dt>4</dt><dd>2.22044604925031e-16</dd><dt>5</dt><dd>2.22044604925031e-16</dd><dt>6</dt><dd>2.22044604925031e-16</dd></dl>\n"
      ],
      "text/latex": [
       "\\begin{description*}\n",
       "\\item[1] 2.22044604925031e-16\n",
       "\\item[2] 2.22044604925031e-16\n",
       "\\item[3] 2.22044604925031e-16\n",
       "\\item[4] 2.22044604925031e-16\n",
       "\\item[5] 2.22044604925031e-16\n",
       "\\item[6] 2.22044604925031e-16\n",
       "\\end{description*}\n"
      ],
      "text/markdown": [
       "1\n",
       ":   2.22044604925031e-162\n",
       ":   2.22044604925031e-163\n",
       ":   2.22044604925031e-164\n",
       ":   2.22044604925031e-165\n",
       ":   2.22044604925031e-166\n",
       ":   2.22044604925031e-16\n",
       "\n"
      ],
      "text/plain": [
       "           1            2            3            4            5            6 \n",
       "2.220446e-16 2.220446e-16 2.220446e-16 2.220446e-16 2.220446e-16 2.220446e-16 "
      ]
     },
     "metadata": {},
     "output_type": "display_data"
    },
    {
     "data": {
      "text/html": [
       "<style>\n",
       ".dl-inline {width: auto; margin:0; padding: 0}\n",
       ".dl-inline>dt, .dl-inline>dd {float: none; width: auto; display: inline-block}\n",
       ".dl-inline>dt::after {content: \":\\0020\"; padding-right: .5ex}\n",
       ".dl-inline>dt:not(:first-of-type) {padding-left: .5ex}\n",
       "</style><dl class=dl-inline><dt>1</dt><dd>2.22044604925031e-16</dd><dt>2</dt><dd>2.22044604925031e-16</dd><dt>3</dt><dd>2.22044604925031e-16</dd><dt>4</dt><dd>2.22044604925031e-16</dd><dt>5</dt><dd>2.22044604925031e-16</dd><dt>6</dt><dd>2.22044604925031e-16</dd></dl>\n"
      ],
      "text/latex": [
       "\\begin{description*}\n",
       "\\item[1] 2.22044604925031e-16\n",
       "\\item[2] 2.22044604925031e-16\n",
       "\\item[3] 2.22044604925031e-16\n",
       "\\item[4] 2.22044604925031e-16\n",
       "\\item[5] 2.22044604925031e-16\n",
       "\\item[6] 2.22044604925031e-16\n",
       "\\end{description*}\n"
      ],
      "text/markdown": [
       "1\n",
       ":   2.22044604925031e-162\n",
       ":   2.22044604925031e-163\n",
       ":   2.22044604925031e-164\n",
       ":   2.22044604925031e-165\n",
       ":   2.22044604925031e-166\n",
       ":   2.22044604925031e-16\n",
       "\n"
      ],
      "text/plain": [
       "           1            2            3            4            5            6 \n",
       "2.220446e-16 2.220446e-16 2.220446e-16 2.220446e-16 2.220446e-16 2.220446e-16 "
      ]
     },
     "metadata": {},
     "output_type": "display_data"
    }
   ],
   "source": [
    "head(fitted(logit))\n",
    "head(fitted.values(logit))\n",
    "head(logit$fitted.values)"
   ]
  },
  {
   "cell_type": "code",
   "execution_count": 107,
   "metadata": {
    "ExecuteTime": {
     "end_time": "2021-05-11T19:28:46.321288Z",
     "start_time": "2021-05-11T19:28:46.250Z"
    }
   },
   "outputs": [
    {
     "data": {
      "text/html": [
       "<style>\n",
       ".dl-inline {width: auto; margin:0; padding: 0}\n",
       ".dl-inline>dt, .dl-inline>dd {float: none; width: auto; display: inline-block}\n",
       ".dl-inline>dt::after {content: \":\\0020\"; padding-right: .5ex}\n",
       ".dl-inline>dt:not(:first-of-type) {padding-left: .5ex}\n",
       "</style><dl class=dl-inline><dt>1</dt><dd>2.22044604925031e-16</dd><dt>2</dt><dd>2.22044604925031e-16</dd><dt>3</dt><dd>2.22044604925031e-16</dd><dt>4</dt><dd>2.22044604925031e-16</dd><dt>5</dt><dd>2.22044604925031e-16</dd><dt>6</dt><dd>2.22044604925031e-16</dd></dl>\n"
      ],
      "text/latex": [
       "\\begin{description*}\n",
       "\\item[1] 2.22044604925031e-16\n",
       "\\item[2] 2.22044604925031e-16\n",
       "\\item[3] 2.22044604925031e-16\n",
       "\\item[4] 2.22044604925031e-16\n",
       "\\item[5] 2.22044604925031e-16\n",
       "\\item[6] 2.22044604925031e-16\n",
       "\\end{description*}\n"
      ],
      "text/markdown": [
       "1\n",
       ":   2.22044604925031e-162\n",
       ":   2.22044604925031e-163\n",
       ":   2.22044604925031e-164\n",
       ":   2.22044604925031e-165\n",
       ":   2.22044604925031e-166\n",
       ":   2.22044604925031e-16\n",
       "\n"
      ],
      "text/plain": [
       "           1            2            3            4            5            6 \n",
       "2.220446e-16 2.220446e-16 2.220446e-16 2.220446e-16 2.220446e-16 2.220446e-16 "
      ]
     },
     "metadata": {},
     "output_type": "display_data"
    },
    {
     "data": {
      "text/html": [
       "<style>\n",
       ".dl-inline {width: auto; margin:0; padding: 0}\n",
       ".dl-inline>dt, .dl-inline>dd {float: none; width: auto; display: inline-block}\n",
       ".dl-inline>dt::after {content: \":\\0020\"; padding-right: .5ex}\n",
       ".dl-inline>dt:not(:first-of-type) {padding-left: .5ex}\n",
       "</style><dl class=dl-inline><dt>1</dt><dd>2.22044604925031e-16</dd><dt>2</dt><dd>2.22044604925031e-16</dd><dt>3</dt><dd>2.22044604925031e-16</dd><dt>4</dt><dd>2.22044604925031e-16</dd><dt>5</dt><dd>2.22044604925031e-16</dd><dt>6</dt><dd>2.22044604925031e-16</dd></dl>\n"
      ],
      "text/latex": [
       "\\begin{description*}\n",
       "\\item[1] 2.22044604925031e-16\n",
       "\\item[2] 2.22044604925031e-16\n",
       "\\item[3] 2.22044604925031e-16\n",
       "\\item[4] 2.22044604925031e-16\n",
       "\\item[5] 2.22044604925031e-16\n",
       "\\item[6] 2.22044604925031e-16\n",
       "\\end{description*}\n"
      ],
      "text/markdown": [
       "1\n",
       ":   2.22044604925031e-162\n",
       ":   2.22044604925031e-163\n",
       ":   2.22044604925031e-164\n",
       ":   2.22044604925031e-165\n",
       ":   2.22044604925031e-166\n",
       ":   2.22044604925031e-16\n",
       "\n"
      ],
      "text/plain": [
       "           1            2            3            4            5            6 \n",
       "2.220446e-16 2.220446e-16 2.220446e-16 2.220446e-16 2.220446e-16 2.220446e-16 "
      ]
     },
     "metadata": {},
     "output_type": "display_data"
    },
    {
     "data": {
      "text/html": [
       "<style>\n",
       ".dl-inline {width: auto; margin:0; padding: 0}\n",
       ".dl-inline>dt, .dl-inline>dd {float: none; width: auto; display: inline-block}\n",
       ".dl-inline>dt::after {content: \":\\0020\"; padding-right: .5ex}\n",
       ".dl-inline>dt:not(:first-of-type) {padding-left: .5ex}\n",
       "</style><dl class=dl-inline><dt>1</dt><dd>2.22044604925031e-16</dd><dt>2</dt><dd>2.22044604925031e-16</dd><dt>3</dt><dd>2.22044604925031e-16</dd><dt>4</dt><dd>2.22044604925031e-16</dd><dt>5</dt><dd>2.22044604925031e-16</dd><dt>6</dt><dd>2.22044604925031e-16</dd></dl>\n"
      ],
      "text/latex": [
       "\\begin{description*}\n",
       "\\item[1] 2.22044604925031e-16\n",
       "\\item[2] 2.22044604925031e-16\n",
       "\\item[3] 2.22044604925031e-16\n",
       "\\item[4] 2.22044604925031e-16\n",
       "\\item[5] 2.22044604925031e-16\n",
       "\\item[6] 2.22044604925031e-16\n",
       "\\end{description*}\n"
      ],
      "text/markdown": [
       "1\n",
       ":   2.22044604925031e-162\n",
       ":   2.22044604925031e-163\n",
       ":   2.22044604925031e-164\n",
       ":   2.22044604925031e-165\n",
       ":   2.22044604925031e-166\n",
       ":   2.22044604925031e-16\n",
       "\n"
      ],
      "text/plain": [
       "           1            2            3            4            5            6 \n",
       "2.220446e-16 2.220446e-16 2.220446e-16 2.220446e-16 2.220446e-16 2.220446e-16 "
      ]
     },
     "metadata": {},
     "output_type": "display_data"
    }
   ],
   "source": [
    "head(fitted(glmNew))\n",
    "head(fitted.values(glmNew))\n",
    "head(glmNew$fitted.values)"
   ]
  },
  {
   "cell_type": "code",
   "execution_count": 83,
   "metadata": {
    "ExecuteTime": {
     "end_time": "2021-05-12T10:03:11.108450Z",
     "start_time": "2021-05-12T10:03:11.055Z"
    }
   },
   "outputs": [
    {
     "data": {
      "text/plain": [
       "\n",
       " 0  1 \n",
       "36  6 "
      ]
     },
     "metadata": {},
     "output_type": "display_data"
    }
   ],
   "source": [
    "table(round(fitted(logit)))"
   ]
  },
  {
   "cell_type": "code",
   "execution_count": 108,
   "metadata": {
    "ExecuteTime": {
     "end_time": "2021-05-11T19:28:57.791069Z",
     "start_time": "2021-05-11T19:28:57.746Z"
    }
   },
   "outputs": [
    {
     "data": {
      "text/plain": [
       "\n",
       " 0  1 \n",
       "36  6 "
      ]
     },
     "metadata": {},
     "output_type": "display_data"
    }
   ],
   "source": [
    "table(round(fitted(glmNew)))"
   ]
  },
  {
   "cell_type": "markdown",
   "metadata": {},
   "source": [
    "## Deviance"
   ]
  },
  {
   "cell_type": "code",
   "execution_count": 84,
   "metadata": {
    "ExecuteTime": {
     "end_time": "2021-05-12T10:05:12.486432Z",
     "start_time": "2021-05-12T10:05:12.439Z"
    }
   },
   "outputs": [
    {
     "data": {
      "text/html": [
       "2.23844941960867e-08"
      ],
      "text/latex": [
       "2.23844941960867e-08"
      ],
      "text/markdown": [
       "2.23844941960867e-08"
      ],
      "text/plain": [
       "[1] 2.238449e-08"
      ]
     },
     "metadata": {},
     "output_type": "display_data"
    }
   ],
   "source": [
    "logit$deviance"
   ]
  },
  {
   "cell_type": "code",
   "execution_count": 46,
   "metadata": {
    "ExecuteTime": {
     "end_time": "2021-05-11T15:43:33.619816Z",
     "start_time": "2021-05-11T15:43:31.635Z"
    }
   },
   "outputs": [
    {
     "data": {
      "text/html": [
       "34.4497707362263"
      ],
      "text/latex": [
       "34.4497707362263"
      ],
      "text/markdown": [
       "34.4497707362263"
      ],
      "text/plain": [
       "[1] 34.44977"
      ]
     },
     "metadata": {},
     "output_type": "display_data"
    }
   ],
   "source": [
    "logit$null.deviance"
   ]
  },
  {
   "cell_type": "markdown",
   "metadata": {},
   "source": [
    "## Residuals"
   ]
  },
  {
   "cell_type": "code",
   "execution_count": 47,
   "metadata": {
    "ExecuteTime": {
     "end_time": "2021-05-11T15:43:36.254178Z",
     "start_time": "2021-05-11T15:43:34.804Z"
    }
   },
   "outputs": [
    {
     "data": {
      "text/html": [
       "<style>\n",
       ".dl-inline {width: auto; margin:0; padding: 0}\n",
       ".dl-inline>dt, .dl-inline>dd {float: none; width: auto; display: inline-block}\n",
       ".dl-inline>dt::after {content: \":\\0020\"; padding-right: .5ex}\n",
       ".dl-inline>dt:not(:first-of-type) {padding-left: .5ex}\n",
       "</style><dl class=dl-inline><dt>1</dt><dd>-2.1073424255447e-08</dd><dt>2</dt><dd>-2.1073424255447e-08</dd><dt>3</dt><dd>-2.1073424255447e-08</dd><dt>4</dt><dd>-2.1073424255447e-08</dd><dt>5</dt><dd>-2.1073424255447e-08</dd><dt>6</dt><dd>-2.1073424255447e-08</dd></dl>\n"
      ],
      "text/latex": [
       "\\begin{description*}\n",
       "\\item[1] -2.1073424255447e-08\n",
       "\\item[2] -2.1073424255447e-08\n",
       "\\item[3] -2.1073424255447e-08\n",
       "\\item[4] -2.1073424255447e-08\n",
       "\\item[5] -2.1073424255447e-08\n",
       "\\item[6] -2.1073424255447e-08\n",
       "\\end{description*}\n"
      ],
      "text/markdown": [
       "1\n",
       ":   -2.1073424255447e-082\n",
       ":   -2.1073424255447e-083\n",
       ":   -2.1073424255447e-084\n",
       ":   -2.1073424255447e-085\n",
       ":   -2.1073424255447e-086\n",
       ":   -2.1073424255447e-08\n",
       "\n"
      ],
      "text/plain": [
       "            1             2             3             4             5 \n",
       "-2.107342e-08 -2.107342e-08 -2.107342e-08 -2.107342e-08 -2.107342e-08 \n",
       "            6 \n",
       "-2.107342e-08 "
      ]
     },
     "metadata": {},
     "output_type": "display_data"
    },
    {
     "data": {
      "text/html": [
       "<style>\n",
       ".dl-inline {width: auto; margin:0; padding: 0}\n",
       ".dl-inline>dt, .dl-inline>dd {float: none; width: auto; display: inline-block}\n",
       ".dl-inline>dt::after {content: \":\\0020\"; padding-right: .5ex}\n",
       ".dl-inline>dt:not(:first-of-type) {padding-left: .5ex}\n",
       "</style><dl class=dl-inline><dt>1</dt><dd>-2.1073424255447e-08</dd><dt>2</dt><dd>-2.1073424255447e-08</dd><dt>3</dt><dd>-2.1073424255447e-08</dd><dt>4</dt><dd>-2.1073424255447e-08</dd><dt>5</dt><dd>-2.1073424255447e-08</dd><dt>6</dt><dd>-2.1073424255447e-08</dd></dl>\n"
      ],
      "text/latex": [
       "\\begin{description*}\n",
       "\\item[1] -2.1073424255447e-08\n",
       "\\item[2] -2.1073424255447e-08\n",
       "\\item[3] -2.1073424255447e-08\n",
       "\\item[4] -2.1073424255447e-08\n",
       "\\item[5] -2.1073424255447e-08\n",
       "\\item[6] -2.1073424255447e-08\n",
       "\\end{description*}\n"
      ],
      "text/markdown": [
       "1\n",
       ":   -2.1073424255447e-082\n",
       ":   -2.1073424255447e-083\n",
       ":   -2.1073424255447e-084\n",
       ":   -2.1073424255447e-085\n",
       ":   -2.1073424255447e-086\n",
       ":   -2.1073424255447e-08\n",
       "\n"
      ],
      "text/plain": [
       "            1             2             3             4             5 \n",
       "-2.107342e-08 -2.107342e-08 -2.107342e-08 -2.107342e-08 -2.107342e-08 \n",
       "            6 \n",
       "-2.107342e-08 "
      ]
     },
     "metadata": {},
     "output_type": "display_data"
    },
    {
     "data": {
      "text/html": [
       "<style>\n",
       ".dl-inline {width: auto; margin:0; padding: 0}\n",
       ".dl-inline>dt, .dl-inline>dd {float: none; width: auto; display: inline-block}\n",
       ".dl-inline>dt::after {content: \":\\0020\"; padding-right: .5ex}\n",
       ".dl-inline>dt:not(:first-of-type) {padding-left: .5ex}\n",
       "</style><dl class=dl-inline><dt>1</dt><dd>-2.22044604925031e-16</dd><dt>2</dt><dd>-2.22044604925031e-16</dd><dt>3</dt><dd>-2.22044604925031e-16</dd><dt>4</dt><dd>-2.22044604925031e-16</dd><dt>5</dt><dd>-2.22044604925031e-16</dd><dt>6</dt><dd>-2.22044604925031e-16</dd></dl>\n"
      ],
      "text/latex": [
       "\\begin{description*}\n",
       "\\item[1] -2.22044604925031e-16\n",
       "\\item[2] -2.22044604925031e-16\n",
       "\\item[3] -2.22044604925031e-16\n",
       "\\item[4] -2.22044604925031e-16\n",
       "\\item[5] -2.22044604925031e-16\n",
       "\\item[6] -2.22044604925031e-16\n",
       "\\end{description*}\n"
      ],
      "text/markdown": [
       "1\n",
       ":   -2.22044604925031e-162\n",
       ":   -2.22044604925031e-163\n",
       ":   -2.22044604925031e-164\n",
       ":   -2.22044604925031e-165\n",
       ":   -2.22044604925031e-166\n",
       ":   -2.22044604925031e-16\n",
       "\n"
      ],
      "text/plain": [
       "            1             2             3             4             5 \n",
       "-2.220446e-16 -2.220446e-16 -2.220446e-16 -2.220446e-16 -2.220446e-16 \n",
       "            6 \n",
       "-2.220446e-16 "
      ]
     },
     "metadata": {},
     "output_type": "display_data"
    },
    {
     "data": {
      "text/html": [
       "<style>\n",
       ".dl-inline {width: auto; margin:0; padding: 0}\n",
       ".dl-inline>dt, .dl-inline>dd {float: none; width: auto; display: inline-block}\n",
       ".dl-inline>dt::after {content: \":\\0020\"; padding-right: .5ex}\n",
       ".dl-inline>dt:not(:first-of-type) {padding-left: .5ex}\n",
       "</style><dl class=dl-inline><dt>1</dt><dd>-1.49011611938477e-08</dd><dt>2</dt><dd>-1.49011611938477e-08</dd><dt>3</dt><dd>-1.49011611938477e-08</dd><dt>4</dt><dd>-1.49011611938477e-08</dd><dt>5</dt><dd>-1.49011611938477e-08</dd><dt>6</dt><dd>-1.49011611938477e-08</dd></dl>\n"
      ],
      "text/latex": [
       "\\begin{description*}\n",
       "\\item[1] -1.49011611938477e-08\n",
       "\\item[2] -1.49011611938477e-08\n",
       "\\item[3] -1.49011611938477e-08\n",
       "\\item[4] -1.49011611938477e-08\n",
       "\\item[5] -1.49011611938477e-08\n",
       "\\item[6] -1.49011611938477e-08\n",
       "\\end{description*}\n"
      ],
      "text/markdown": [
       "1\n",
       ":   -1.49011611938477e-082\n",
       ":   -1.49011611938477e-083\n",
       ":   -1.49011611938477e-084\n",
       ":   -1.49011611938477e-085\n",
       ":   -1.49011611938477e-086\n",
       ":   -1.49011611938477e-08\n",
       "\n"
      ],
      "text/plain": [
       "            1             2             3             4             5 \n",
       "-1.490116e-08 -1.490116e-08 -1.490116e-08 -1.490116e-08 -1.490116e-08 \n",
       "            6 \n",
       "-1.490116e-08 "
      ]
     },
     "metadata": {},
     "output_type": "display_data"
    }
   ],
   "source": [
    "head(residuals(logit))\n",
    "head(residuals(logit, type='deviance'))\n",
    "head(residuals(logit, type='response'))\n",
    "head(residuals(logit, type='pearson'))"
   ]
  },
  {
   "cell_type": "code",
   "execution_count": 32,
   "metadata": {
    "ExecuteTime": {
     "end_time": "2021-05-11T15:42:41.183629Z",
     "start_time": "2021-05-11T15:42:41.139Z"
    }
   },
   "outputs": [
    {
     "data": {
      "text/html": [
       "<style>\n",
       ".dl-inline {width: auto; margin:0; padding: 0}\n",
       ".dl-inline>dt, .dl-inline>dd {float: none; width: auto; display: inline-block}\n",
       ".dl-inline>dt::after {content: \":\\0020\"; padding-right: .5ex}\n",
       ".dl-inline>dt:not(:first-of-type) {padding-left: .5ex}\n",
       "</style><dl class=dl-inline><dt>1</dt><dd>0.330176619296847</dd><dt>2</dt><dd>0.242233852891775</dd><dt>3</dt><dd>0.158114685026054</dd><dt>4</dt><dd>0.146643889408001</dd><dt>5</dt><dd>0.0969371083964385</dd><dt>6</dt><dd>0.0931135098570877</dd></dl>\n"
      ],
      "text/latex": [
       "\\begin{description*}\n",
       "\\item[1] 0.330176619296847\n",
       "\\item[2] 0.242233852891775\n",
       "\\item[3] 0.158114685026054\n",
       "\\item[4] 0.146643889408001\n",
       "\\item[5] 0.0969371083964385\n",
       "\\item[6] 0.0931135098570877\n",
       "\\end{description*}\n"
      ],
      "text/markdown": [
       "1\n",
       ":   0.3301766192968472\n",
       ":   0.2422338528917753\n",
       ":   0.1581146850260544\n",
       ":   0.1466438894080015\n",
       ":   0.09693710839643856\n",
       ":   0.0931135098570877\n",
       "\n"
      ],
      "text/plain": [
       "         1          2          3          4          5          6 \n",
       "0.33017662 0.24223385 0.15811469 0.14664389 0.09693711 0.09311351 "
      ]
     },
     "metadata": {},
     "output_type": "display_data"
    }
   ],
   "source": [
    "head(logit$residuals)"
   ]
  },
  {
   "cell_type": "markdown",
   "metadata": {},
   "source": [
    "## Linear Prediction"
   ]
  },
  {
   "cell_type": "code",
   "execution_count": 48,
   "metadata": {
    "ExecuteTime": {
     "end_time": "2021-05-11T15:43:38.931387Z",
     "start_time": "2021-05-11T15:43:38.884Z"
    }
   },
   "outputs": [
    {
     "data": {
      "text/html": [
       "<style>\n",
       ".dl-inline {width: auto; margin:0; padding: 0}\n",
       ".dl-inline>dt, .dl-inline>dd {float: none; width: auto; display: inline-block}\n",
       ".dl-inline>dt::after {content: \":\\0020\"; padding-right: .5ex}\n",
       ".dl-inline>dt:not(:first-of-type) {padding-left: .5ex}\n",
       "</style><dl class=dl-inline><dt>1</dt><dd>-879.305616937022</dd><dt>2</dt><dd>-769.975103244497</dd><dt>3</dt><dd>-665.3980901473</dd><dt>4</dt><dd>-651.137588361318</dd><dt>5</dt><dd>-589.342080622065</dd><dt>6</dt><dd>-584.588580026738</dd></dl>\n"
      ],
      "text/latex": [
       "\\begin{description*}\n",
       "\\item[1] -879.305616937022\n",
       "\\item[2] -769.975103244497\n",
       "\\item[3] -665.3980901473\n",
       "\\item[4] -651.137588361318\n",
       "\\item[5] -589.342080622065\n",
       "\\item[6] -584.588580026738\n",
       "\\end{description*}\n"
      ],
      "text/markdown": [
       "1\n",
       ":   -879.3056169370222\n",
       ":   -769.9751032444973\n",
       ":   -665.39809014734\n",
       ":   -651.1375883613185\n",
       ":   -589.3420806220656\n",
       ":   -584.588580026738\n",
       "\n"
      ],
      "text/plain": [
       "        1         2         3         4         5         6 \n",
       "-879.3056 -769.9751 -665.3981 -651.1376 -589.3421 -584.5886 "
      ]
     },
     "metadata": {},
     "output_type": "display_data"
    }
   ],
   "source": [
    "head(predict(logit))"
   ]
  },
  {
   "cell_type": "code",
   "execution_count": 49,
   "metadata": {
    "ExecuteTime": {
     "end_time": "2021-05-11T15:43:41.266436Z",
     "start_time": "2021-05-11T15:43:39.972Z"
    }
   },
   "outputs": [
    {
     "data": {
      "text/html": [
       "<style>\n",
       ".dl-inline {width: auto; margin:0; padding: 0}\n",
       ".dl-inline>dt, .dl-inline>dd {float: none; width: auto; display: inline-block}\n",
       ".dl-inline>dt::after {content: \":\\0020\"; padding-right: .5ex}\n",
       ".dl-inline>dt:not(:first-of-type) {padding-left: .5ex}\n",
       "</style><dl class=dl-inline><dt>(Intercept)</dt><dd>1283.53715393683</dd><dt>Birthweight</dt><dd>-475.350059532715</dd></dl>\n"
      ],
      "text/latex": [
       "\\begin{description*}\n",
       "\\item[(Intercept)] 1283.53715393683\n",
       "\\item[Birthweight] -475.350059532715\n",
       "\\end{description*}\n"
      ],
      "text/markdown": [
       "(Intercept)\n",
       ":   1283.53715393683Birthweight\n",
       ":   -475.350059532715\n",
       "\n"
      ],
      "text/plain": [
       "(Intercept) Birthweight \n",
       "  1283.5372   -475.3501 "
      ]
     },
     "metadata": {},
     "output_type": "display_data"
    }
   ],
   "source": [
    "coef(logit)"
   ]
  },
  {
   "cell_type": "code",
   "execution_count": 50,
   "metadata": {
    "ExecuteTime": {
     "end_time": "2021-05-11T15:43:43.591989Z",
     "start_time": "2021-05-11T15:43:42.707Z"
    }
   },
   "outputs": [],
   "source": [
    "#Linear predictor based on weight and preddiction of model\n",
    "# Linear model not good. No ha dado ni una\n",
    "\n",
    "linpred <- function (Birthweight)\n",
    "{\n",
    "    c <- coef(logit)\n",
    "    c[1]+c[2]*Birthweight\n",
    "}"
   ]
  },
  {
   "cell_type": "code",
   "execution_count": 109,
   "metadata": {
    "ExecuteTime": {
     "end_time": "2021-05-11T19:30:41.295875Z",
     "start_time": "2021-05-11T19:30:41.258Z"
    }
   },
   "outputs": [],
   "source": [
    "linpredNew <- function (Gestation, fheight, mppwt)\n",
    "{\n",
    "    c <- coef(glmNew)\n",
    "    c[1]+c[2]*Gestation + c[3]*fheight + c[4]*mppwt\n",
    "}"
   ]
  },
  {
   "cell_type": "code",
   "execution_count": 111,
   "metadata": {
    "ExecuteTime": {
     "end_time": "2021-05-11T19:31:44.882457Z",
     "start_time": "2021-05-11T19:31:44.825Z"
    }
   },
   "outputs": [
    {
     "data": {
      "text/html": [
       "<strong>(Intercept):</strong> -899.698900953272"
      ],
      "text/latex": [
       "\\textbf{(Intercept):} -899.698900953272"
      ],
      "text/markdown": [
       "**(Intercept):** -899.698900953272"
      ],
      "text/plain": [
       "(Intercept) \n",
       "  -899.6989 "
      ]
     },
     "metadata": {},
     "output_type": "display_data"
    }
   ],
   "source": [
    "linpredNew(44, 179, 57)"
   ]
  },
  {
   "cell_type": "code",
   "execution_count": null,
   "metadata": {},
   "outputs": [],
   "source": []
  },
  {
   "cell_type": "code",
   "execution_count": 52,
   "metadata": {
    "ExecuteTime": {
     "end_time": "2021-05-11T15:43:51.966296Z",
     "start_time": "2021-05-11T15:43:51.861Z"
    }
   },
   "outputs": [
    {
     "data": {
      "text/html": [
       "<table class=\"dataframe\">\n",
       "<caption>A data.frame: 20 × 16</caption>\n",
       "<thead>\n",
       "\t<tr><th></th><th scope=col>ï..ID</th><th scope=col>Length</th><th scope=col>Birthweight</th><th scope=col>Headcirc</th><th scope=col>Gestation</th><th scope=col>smoker</th><th scope=col>mage</th><th scope=col>mnocig</th><th scope=col>mheight</th><th scope=col>mppwt</th><th scope=col>fage</th><th scope=col>fedyrs</th><th scope=col>fnocig</th><th scope=col>fheight</th><th scope=col>lowbwt</th><th scope=col>mage35</th></tr>\n",
       "\t<tr><th></th><th scope=col>&lt;int&gt;</th><th scope=col>&lt;int&gt;</th><th scope=col>&lt;dbl&gt;</th><th scope=col>&lt;int&gt;</th><th scope=col>&lt;int&gt;</th><th scope=col>&lt;int&gt;</th><th scope=col>&lt;int&gt;</th><th scope=col>&lt;int&gt;</th><th scope=col>&lt;int&gt;</th><th scope=col>&lt;int&gt;</th><th scope=col>&lt;int&gt;</th><th scope=col>&lt;int&gt;</th><th scope=col>&lt;int&gt;</th><th scope=col>&lt;int&gt;</th><th scope=col>&lt;int&gt;</th><th scope=col>&lt;int&gt;</th></tr>\n",
       "</thead>\n",
       "<tbody>\n",
       "\t<tr><th scope=row>1</th><td>1360</td><td>56</td><td>4.55</td><td>34</td><td>44</td><td>0</td><td>20</td><td>0</td><td>162</td><td>57</td><td>23</td><td>10</td><td>35</td><td>179</td><td>0</td><td>0</td></tr>\n",
       "\t<tr><th scope=row>2</th><td>1016</td><td>53</td><td>4.32</td><td>36</td><td>40</td><td>0</td><td>19</td><td>0</td><td>171</td><td>62</td><td>19</td><td>12</td><td> 0</td><td>183</td><td>0</td><td>0</td></tr>\n",
       "\t<tr><th scope=row>3</th><td> 462</td><td>58</td><td>4.10</td><td>39</td><td>41</td><td>0</td><td>35</td><td>0</td><td>172</td><td>58</td><td>31</td><td>16</td><td>25</td><td>185</td><td>0</td><td>1</td></tr>\n",
       "\t<tr><th scope=row>4</th><td>1187</td><td>53</td><td>4.07</td><td>38</td><td>44</td><td>0</td><td>20</td><td>0</td><td>174</td><td>68</td><td>26</td><td>14</td><td>25</td><td>189</td><td>0</td><td>0</td></tr>\n",
       "\t<tr><th scope=row>5</th><td> 553</td><td>54</td><td>3.94</td><td>37</td><td>42</td><td>0</td><td>24</td><td>0</td><td>175</td><td>66</td><td>30</td><td>12</td><td> 0</td><td>184</td><td>0</td><td>0</td></tr>\n",
       "\t<tr><th scope=row>6</th><td>1636</td><td>51</td><td>3.93</td><td>38</td><td>38</td><td>0</td><td>29</td><td>0</td><td>165</td><td>61</td><td>31</td><td>16</td><td> 0</td><td>180</td><td>0</td><td>0</td></tr>\n",
       "\t<tr><th scope=row>7</th><td> 820</td><td>52</td><td>3.77</td><td>34</td><td>40</td><td>0</td><td>24</td><td>0</td><td>157</td><td>50</td><td>31</td><td>16</td><td> 0</td><td>173</td><td>0</td><td>0</td></tr>\n",
       "\t<tr><th scope=row>8</th><td>1191</td><td>53</td><td>3.65</td><td>33</td><td>42</td><td>0</td><td>21</td><td>0</td><td>165</td><td>61</td><td>21</td><td>10</td><td>25</td><td>185</td><td>0</td><td>0</td></tr>\n",
       "\t<tr><th scope=row>9</th><td>1081</td><td>54</td><td>3.63</td><td>38</td><td>38</td><td>0</td><td>18</td><td>0</td><td>172</td><td>50</td><td>20</td><td>12</td><td> 7</td><td>172</td><td>0</td><td>0</td></tr>\n",
       "\t<tr><th scope=row>10</th><td> 822</td><td>50</td><td>3.42</td><td>35</td><td>38</td><td>0</td><td>20</td><td>0</td><td>157</td><td>48</td><td>22</td><td>14</td><td> 0</td><td>179</td><td>0</td><td>0</td></tr>\n",
       "\t<tr><th scope=row>11</th><td>1683</td><td>53</td><td>3.35</td><td>33</td><td>41</td><td>0</td><td>27</td><td>0</td><td>164</td><td>62</td><td>37</td><td>14</td><td> 0</td><td>170</td><td>0</td><td>0</td></tr>\n",
       "\t<tr><th scope=row>12</th><td>1088</td><td>51</td><td>3.27</td><td>36</td><td>40</td><td>0</td><td>24</td><td>0</td><td>168</td><td>53</td><td>29</td><td>16</td><td> 0</td><td>181</td><td>0</td><td>0</td></tr>\n",
       "\t<tr><th scope=row>13</th><td>1107</td><td>52</td><td>3.23</td><td>36</td><td>38</td><td>0</td><td>31</td><td>0</td><td>164</td><td>57</td><td>35</td><td>16</td><td> 0</td><td>183</td><td>0</td><td>0</td></tr>\n",
       "\t<tr><th scope=row>14</th><td> 755</td><td>53</td><td>3.20</td><td>33</td><td>41</td><td>0</td><td>21</td><td>0</td><td>155</td><td>55</td><td>25</td><td>14</td><td>25</td><td>183</td><td>0</td><td>0</td></tr>\n",
       "\t<tr><th scope=row>15</th><td>1058</td><td>53</td><td>3.15</td><td>34</td><td>40</td><td>0</td><td>29</td><td>0</td><td>167</td><td>60</td><td>30</td><td>16</td><td>25</td><td>182</td><td>0</td><td>0</td></tr>\n",
       "\t<tr><th scope=row>16</th><td> 321</td><td>48</td><td>3.11</td><td>33</td><td>37</td><td>0</td><td>28</td><td>0</td><td>158</td><td>54</td><td>39</td><td>10</td><td> 0</td><td>171</td><td>0</td><td>0</td></tr>\n",
       "\t<tr><th scope=row>17</th><td> 697</td><td>48</td><td>3.03</td><td>35</td><td>39</td><td>0</td><td>27</td><td>0</td><td>162</td><td>62</td><td>27</td><td>14</td><td> 0</td><td>178</td><td>0</td><td>0</td></tr>\n",
       "\t<tr><th scope=row>18</th><td> 808</td><td>48</td><td>2.92</td><td>33</td><td>34</td><td>0</td><td>26</td><td>0</td><td>167</td><td>64</td><td>25</td><td>12</td><td>25</td><td>175</td><td>0</td><td>0</td></tr>\n",
       "\t<tr><th scope=row>19</th><td>1600</td><td>53</td><td>2.90</td><td>34</td><td>39</td><td>0</td><td>19</td><td>0</td><td>165</td><td>57</td><td>23</td><td>14</td><td> 2</td><td>193</td><td>0</td><td>0</td></tr>\n",
       "\t<tr><th scope=row>20</th><td>1313</td><td>43</td><td>2.65</td><td>32</td><td>33</td><td>0</td><td>24</td><td>0</td><td>149</td><td>45</td><td>26</td><td>16</td><td> 0</td><td>169</td><td>1</td><td>0</td></tr>\n",
       "</tbody>\n",
       "</table>\n"
      ],
      "text/latex": [
       "A data.frame: 20 × 16\n",
       "\\begin{tabular}{r|llllllllllllllll}\n",
       "  & ï..ID & Length & Birthweight & Headcirc & Gestation & smoker & mage & mnocig & mheight & mppwt & fage & fedyrs & fnocig & fheight & lowbwt & mage35\\\\\n",
       "  & <int> & <int> & <dbl> & <int> & <int> & <int> & <int> & <int> & <int> & <int> & <int> & <int> & <int> & <int> & <int> & <int>\\\\\n",
       "\\hline\n",
       "\t1 & 1360 & 56 & 4.55 & 34 & 44 & 0 & 20 & 0 & 162 & 57 & 23 & 10 & 35 & 179 & 0 & 0\\\\\n",
       "\t2 & 1016 & 53 & 4.32 & 36 & 40 & 0 & 19 & 0 & 171 & 62 & 19 & 12 &  0 & 183 & 0 & 0\\\\\n",
       "\t3 &  462 & 58 & 4.10 & 39 & 41 & 0 & 35 & 0 & 172 & 58 & 31 & 16 & 25 & 185 & 0 & 1\\\\\n",
       "\t4 & 1187 & 53 & 4.07 & 38 & 44 & 0 & 20 & 0 & 174 & 68 & 26 & 14 & 25 & 189 & 0 & 0\\\\\n",
       "\t5 &  553 & 54 & 3.94 & 37 & 42 & 0 & 24 & 0 & 175 & 66 & 30 & 12 &  0 & 184 & 0 & 0\\\\\n",
       "\t6 & 1636 & 51 & 3.93 & 38 & 38 & 0 & 29 & 0 & 165 & 61 & 31 & 16 &  0 & 180 & 0 & 0\\\\\n",
       "\t7 &  820 & 52 & 3.77 & 34 & 40 & 0 & 24 & 0 & 157 & 50 & 31 & 16 &  0 & 173 & 0 & 0\\\\\n",
       "\t8 & 1191 & 53 & 3.65 & 33 & 42 & 0 & 21 & 0 & 165 & 61 & 21 & 10 & 25 & 185 & 0 & 0\\\\\n",
       "\t9 & 1081 & 54 & 3.63 & 38 & 38 & 0 & 18 & 0 & 172 & 50 & 20 & 12 &  7 & 172 & 0 & 0\\\\\n",
       "\t10 &  822 & 50 & 3.42 & 35 & 38 & 0 & 20 & 0 & 157 & 48 & 22 & 14 &  0 & 179 & 0 & 0\\\\\n",
       "\t11 & 1683 & 53 & 3.35 & 33 & 41 & 0 & 27 & 0 & 164 & 62 & 37 & 14 &  0 & 170 & 0 & 0\\\\\n",
       "\t12 & 1088 & 51 & 3.27 & 36 & 40 & 0 & 24 & 0 & 168 & 53 & 29 & 16 &  0 & 181 & 0 & 0\\\\\n",
       "\t13 & 1107 & 52 & 3.23 & 36 & 38 & 0 & 31 & 0 & 164 & 57 & 35 & 16 &  0 & 183 & 0 & 0\\\\\n",
       "\t14 &  755 & 53 & 3.20 & 33 & 41 & 0 & 21 & 0 & 155 & 55 & 25 & 14 & 25 & 183 & 0 & 0\\\\\n",
       "\t15 & 1058 & 53 & 3.15 & 34 & 40 & 0 & 29 & 0 & 167 & 60 & 30 & 16 & 25 & 182 & 0 & 0\\\\\n",
       "\t16 &  321 & 48 & 3.11 & 33 & 37 & 0 & 28 & 0 & 158 & 54 & 39 & 10 &  0 & 171 & 0 & 0\\\\\n",
       "\t17 &  697 & 48 & 3.03 & 35 & 39 & 0 & 27 & 0 & 162 & 62 & 27 & 14 &  0 & 178 & 0 & 0\\\\\n",
       "\t18 &  808 & 48 & 2.92 & 33 & 34 & 0 & 26 & 0 & 167 & 64 & 25 & 12 & 25 & 175 & 0 & 0\\\\\n",
       "\t19 & 1600 & 53 & 2.90 & 34 & 39 & 0 & 19 & 0 & 165 & 57 & 23 & 14 &  2 & 193 & 0 & 0\\\\\n",
       "\t20 & 1313 & 43 & 2.65 & 32 & 33 & 0 & 24 & 0 & 149 & 45 & 26 & 16 &  0 & 169 & 1 & 0\\\\\n",
       "\\end{tabular}\n"
      ],
      "text/markdown": [
       "\n",
       "A data.frame: 20 × 16\n",
       "\n",
       "| <!--/--> | ï..ID &lt;int&gt; | Length &lt;int&gt; | Birthweight &lt;dbl&gt; | Headcirc &lt;int&gt; | Gestation &lt;int&gt; | smoker &lt;int&gt; | mage &lt;int&gt; | mnocig &lt;int&gt; | mheight &lt;int&gt; | mppwt &lt;int&gt; | fage &lt;int&gt; | fedyrs &lt;int&gt; | fnocig &lt;int&gt; | fheight &lt;int&gt; | lowbwt &lt;int&gt; | mage35 &lt;int&gt; |\n",
       "|---|---|---|---|---|---|---|---|---|---|---|---|---|---|---|---|---|\n",
       "| 1 | 1360 | 56 | 4.55 | 34 | 44 | 0 | 20 | 0 | 162 | 57 | 23 | 10 | 35 | 179 | 0 | 0 |\n",
       "| 2 | 1016 | 53 | 4.32 | 36 | 40 | 0 | 19 | 0 | 171 | 62 | 19 | 12 |  0 | 183 | 0 | 0 |\n",
       "| 3 |  462 | 58 | 4.10 | 39 | 41 | 0 | 35 | 0 | 172 | 58 | 31 | 16 | 25 | 185 | 0 | 1 |\n",
       "| 4 | 1187 | 53 | 4.07 | 38 | 44 | 0 | 20 | 0 | 174 | 68 | 26 | 14 | 25 | 189 | 0 | 0 |\n",
       "| 5 |  553 | 54 | 3.94 | 37 | 42 | 0 | 24 | 0 | 175 | 66 | 30 | 12 |  0 | 184 | 0 | 0 |\n",
       "| 6 | 1636 | 51 | 3.93 | 38 | 38 | 0 | 29 | 0 | 165 | 61 | 31 | 16 |  0 | 180 | 0 | 0 |\n",
       "| 7 |  820 | 52 | 3.77 | 34 | 40 | 0 | 24 | 0 | 157 | 50 | 31 | 16 |  0 | 173 | 0 | 0 |\n",
       "| 8 | 1191 | 53 | 3.65 | 33 | 42 | 0 | 21 | 0 | 165 | 61 | 21 | 10 | 25 | 185 | 0 | 0 |\n",
       "| 9 | 1081 | 54 | 3.63 | 38 | 38 | 0 | 18 | 0 | 172 | 50 | 20 | 12 |  7 | 172 | 0 | 0 |\n",
       "| 10 |  822 | 50 | 3.42 | 35 | 38 | 0 | 20 | 0 | 157 | 48 | 22 | 14 |  0 | 179 | 0 | 0 |\n",
       "| 11 | 1683 | 53 | 3.35 | 33 | 41 | 0 | 27 | 0 | 164 | 62 | 37 | 14 |  0 | 170 | 0 | 0 |\n",
       "| 12 | 1088 | 51 | 3.27 | 36 | 40 | 0 | 24 | 0 | 168 | 53 | 29 | 16 |  0 | 181 | 0 | 0 |\n",
       "| 13 | 1107 | 52 | 3.23 | 36 | 38 | 0 | 31 | 0 | 164 | 57 | 35 | 16 |  0 | 183 | 0 | 0 |\n",
       "| 14 |  755 | 53 | 3.20 | 33 | 41 | 0 | 21 | 0 | 155 | 55 | 25 | 14 | 25 | 183 | 0 | 0 |\n",
       "| 15 | 1058 | 53 | 3.15 | 34 | 40 | 0 | 29 | 0 | 167 | 60 | 30 | 16 | 25 | 182 | 0 | 0 |\n",
       "| 16 |  321 | 48 | 3.11 | 33 | 37 | 0 | 28 | 0 | 158 | 54 | 39 | 10 |  0 | 171 | 0 | 0 |\n",
       "| 17 |  697 | 48 | 3.03 | 35 | 39 | 0 | 27 | 0 | 162 | 62 | 27 | 14 |  0 | 178 | 0 | 0 |\n",
       "| 18 |  808 | 48 | 2.92 | 33 | 34 | 0 | 26 | 0 | 167 | 64 | 25 | 12 | 25 | 175 | 0 | 0 |\n",
       "| 19 | 1600 | 53 | 2.90 | 34 | 39 | 0 | 19 | 0 | 165 | 57 | 23 | 14 |  2 | 193 | 0 | 0 |\n",
       "| 20 | 1313 | 43 | 2.65 | 32 | 33 | 0 | 24 | 0 | 149 | 45 | 26 | 16 |  0 | 169 | 1 | 0 |\n",
       "\n"
      ],
      "text/plain": [
       "   ï..ID Length Birthweight Headcirc Gestation smoker mage mnocig mheight mppwt\n",
       "1  1360  56     4.55        34       44        0      20   0      162     57   \n",
       "2  1016  53     4.32        36       40        0      19   0      171     62   \n",
       "3   462  58     4.10        39       41        0      35   0      172     58   \n",
       "4  1187  53     4.07        38       44        0      20   0      174     68   \n",
       "5   553  54     3.94        37       42        0      24   0      175     66   \n",
       "6  1636  51     3.93        38       38        0      29   0      165     61   \n",
       "7   820  52     3.77        34       40        0      24   0      157     50   \n",
       "8  1191  53     3.65        33       42        0      21   0      165     61   \n",
       "9  1081  54     3.63        38       38        0      18   0      172     50   \n",
       "10  822  50     3.42        35       38        0      20   0      157     48   \n",
       "11 1683  53     3.35        33       41        0      27   0      164     62   \n",
       "12 1088  51     3.27        36       40        0      24   0      168     53   \n",
       "13 1107  52     3.23        36       38        0      31   0      164     57   \n",
       "14  755  53     3.20        33       41        0      21   0      155     55   \n",
       "15 1058  53     3.15        34       40        0      29   0      167     60   \n",
       "16  321  48     3.11        33       37        0      28   0      158     54   \n",
       "17  697  48     3.03        35       39        0      27   0      162     62   \n",
       "18  808  48     2.92        33       34        0      26   0      167     64   \n",
       "19 1600  53     2.90        34       39        0      19   0      165     57   \n",
       "20 1313  43     2.65        32       33        0      24   0      149     45   \n",
       "   fage fedyrs fnocig fheight lowbwt mage35\n",
       "1  23   10     35     179     0      0     \n",
       "2  19   12      0     183     0      0     \n",
       "3  31   16     25     185     0      1     \n",
       "4  26   14     25     189     0      0     \n",
       "5  30   12      0     184     0      0     \n",
       "6  31   16      0     180     0      0     \n",
       "7  31   16      0     173     0      0     \n",
       "8  21   10     25     185     0      0     \n",
       "9  20   12      7     172     0      0     \n",
       "10 22   14      0     179     0      0     \n",
       "11 37   14      0     170     0      0     \n",
       "12 29   16      0     181     0      0     \n",
       "13 35   16      0     183     0      0     \n",
       "14 25   14     25     183     0      0     \n",
       "15 30   16     25     182     0      0     \n",
       "16 39   10      0     171     0      0     \n",
       "17 27   14      0     178     0      0     \n",
       "18 25   12     25     175     0      0     \n",
       "19 23   14      2     193     0      0     \n",
       "20 26   16      0     169     1      0     "
      ]
     },
     "metadata": {},
     "output_type": "display_data"
    }
   ],
   "source": [
    "head(data,20)"
   ]
  },
  {
   "cell_type": "markdown",
   "metadata": {},
   "source": [
    "## Response prediction"
   ]
  },
  {
   "cell_type": "code",
   "execution_count": 85,
   "metadata": {
    "ExecuteTime": {
     "end_time": "2021-05-12T10:05:23.190752Z",
     "start_time": "2021-05-12T10:05:23.136Z"
    }
   },
   "outputs": [
    {
     "data": {
      "text/html": [
       "<style>\n",
       ".dl-inline {width: auto; margin:0; padding: 0}\n",
       ".dl-inline>dt, .dl-inline>dd {float: none; width: auto; display: inline-block}\n",
       ".dl-inline>dt::after {content: \":\\0020\"; padding-right: .5ex}\n",
       ".dl-inline>dt:not(:first-of-type) {padding-left: .5ex}\n",
       "</style><dl class=dl-inline><dt>1</dt><dd>2.22044604925031e-16</dd><dt>2</dt><dd>2.22044604925031e-16</dd><dt>3</dt><dd>2.22044604925031e-16</dd><dt>4</dt><dd>2.22044604925031e-16</dd><dt>5</dt><dd>2.22044604925031e-16</dd><dt>6</dt><dd>2.22044604925031e-16</dd></dl>\n"
      ],
      "text/latex": [
       "\\begin{description*}\n",
       "\\item[1] 2.22044604925031e-16\n",
       "\\item[2] 2.22044604925031e-16\n",
       "\\item[3] 2.22044604925031e-16\n",
       "\\item[4] 2.22044604925031e-16\n",
       "\\item[5] 2.22044604925031e-16\n",
       "\\item[6] 2.22044604925031e-16\n",
       "\\end{description*}\n"
      ],
      "text/markdown": [
       "1\n",
       ":   2.22044604925031e-162\n",
       ":   2.22044604925031e-163\n",
       ":   2.22044604925031e-164\n",
       ":   2.22044604925031e-165\n",
       ":   2.22044604925031e-166\n",
       ":   2.22044604925031e-16\n",
       "\n"
      ],
      "text/plain": [
       "           1            2            3            4            5            6 \n",
       "2.220446e-16 2.220446e-16 2.220446e-16 2.220446e-16 2.220446e-16 2.220446e-16 "
      ]
     },
     "metadata": {},
     "output_type": "display_data"
    },
    {
     "data": {
      "text/html": [
       "<style>\n",
       ".dl-inline {width: auto; margin:0; padding: 0}\n",
       ".dl-inline>dt, .dl-inline>dd {float: none; width: auto; display: inline-block}\n",
       ".dl-inline>dt::after {content: \":\\0020\"; padding-right: .5ex}\n",
       ".dl-inline>dt:not(:first-of-type) {padding-left: .5ex}\n",
       "</style><dl class=dl-inline><dt>1</dt><dd>2.22044604925031e-16</dd><dt>2</dt><dd>2.22044604925031e-16</dd><dt>3</dt><dd>2.22044604925031e-16</dd><dt>4</dt><dd>2.22044604925031e-16</dd><dt>5</dt><dd>2.22044604925031e-16</dd><dt>6</dt><dd>2.22044604925031e-16</dd></dl>\n"
      ],
      "text/latex": [
       "\\begin{description*}\n",
       "\\item[1] 2.22044604925031e-16\n",
       "\\item[2] 2.22044604925031e-16\n",
       "\\item[3] 2.22044604925031e-16\n",
       "\\item[4] 2.22044604925031e-16\n",
       "\\item[5] 2.22044604925031e-16\n",
       "\\item[6] 2.22044604925031e-16\n",
       "\\end{description*}\n"
      ],
      "text/markdown": [
       "1\n",
       ":   2.22044604925031e-162\n",
       ":   2.22044604925031e-163\n",
       ":   2.22044604925031e-164\n",
       ":   2.22044604925031e-165\n",
       ":   2.22044604925031e-166\n",
       ":   2.22044604925031e-16\n",
       "\n"
      ],
      "text/plain": [
       "           1            2            3            4            5            6 \n",
       "2.220446e-16 2.220446e-16 2.220446e-16 2.220446e-16 2.220446e-16 2.220446e-16 "
      ]
     },
     "metadata": {},
     "output_type": "display_data"
    }
   ],
   "source": [
    "head(predict(logit, type='response'))\n",
    "head(fitted(logit))"
   ]
  },
  {
   "cell_type": "code",
   "execution_count": 86,
   "metadata": {
    "ExecuteTime": {
     "end_time": "2021-05-12T10:05:24.911768Z",
     "start_time": "2021-05-12T10:05:24.729Z"
    }
   },
   "outputs": [
    {
     "data": {
      "text/html": [
       "<style>\n",
       ".dl-inline {width: auto; margin:0; padding: 0}\n",
       ".dl-inline>dt, .dl-inline>dd {float: none; width: auto; display: inline-block}\n",
       ".dl-inline>dt::after {content: \":\\0020\"; padding-right: .5ex}\n",
       ".dl-inline>dt:not(:first-of-type) {padding-left: .5ex}\n",
       "</style><dl class=dl-inline><dt>1</dt><dd>2.22044604925031e-16</dd><dt>2</dt><dd>2.22044604925031e-16</dd><dt>3</dt><dd>2.22044604925031e-16</dd><dt>4</dt><dd>2.22044604925031e-16</dd><dt>5</dt><dd>2.22044604925031e-16</dd><dt>6</dt><dd>2.22044604925031e-16</dd></dl>\n"
      ],
      "text/latex": [
       "\\begin{description*}\n",
       "\\item[1] 2.22044604925031e-16\n",
       "\\item[2] 2.22044604925031e-16\n",
       "\\item[3] 2.22044604925031e-16\n",
       "\\item[4] 2.22044604925031e-16\n",
       "\\item[5] 2.22044604925031e-16\n",
       "\\item[6] 2.22044604925031e-16\n",
       "\\end{description*}\n"
      ],
      "text/markdown": [
       "1\n",
       ":   2.22044604925031e-162\n",
       ":   2.22044604925031e-163\n",
       ":   2.22044604925031e-164\n",
       ":   2.22044604925031e-165\n",
       ":   2.22044604925031e-166\n",
       ":   2.22044604925031e-16\n",
       "\n"
      ],
      "text/plain": [
       "           1            2            3            4            5            6 \n",
       "2.220446e-16 2.220446e-16 2.220446e-16 2.220446e-16 2.220446e-16 2.220446e-16 "
      ]
     },
     "metadata": {},
     "output_type": "display_data"
    },
    {
     "data": {
      "text/html": [
       "<style>\n",
       ".dl-inline {width: auto; margin:0; padding: 0}\n",
       ".dl-inline>dt, .dl-inline>dd {float: none; width: auto; display: inline-block}\n",
       ".dl-inline>dt::after {content: \":\\0020\"; padding-right: .5ex}\n",
       ".dl-inline>dt:not(:first-of-type) {padding-left: .5ex}\n",
       "</style><dl class=dl-inline><dt>1</dt><dd>2.22044604925031e-16</dd><dt>2</dt><dd>2.22044604925031e-16</dd><dt>3</dt><dd>2.22044604925031e-16</dd><dt>4</dt><dd>2.22044604925031e-16</dd><dt>5</dt><dd>2.22044604925031e-16</dd><dt>6</dt><dd>2.22044604925031e-16</dd></dl>\n"
      ],
      "text/latex": [
       "\\begin{description*}\n",
       "\\item[1] 2.22044604925031e-16\n",
       "\\item[2] 2.22044604925031e-16\n",
       "\\item[3] 2.22044604925031e-16\n",
       "\\item[4] 2.22044604925031e-16\n",
       "\\item[5] 2.22044604925031e-16\n",
       "\\item[6] 2.22044604925031e-16\n",
       "\\end{description*}\n"
      ],
      "text/markdown": [
       "1\n",
       ":   2.22044604925031e-162\n",
       ":   2.22044604925031e-163\n",
       ":   2.22044604925031e-164\n",
       ":   2.22044604925031e-165\n",
       ":   2.22044604925031e-166\n",
       ":   2.22044604925031e-16\n",
       "\n"
      ],
      "text/plain": [
       "           1            2            3            4            5            6 \n",
       "2.220446e-16 2.220446e-16 2.220446e-16 2.220446e-16 2.220446e-16 2.220446e-16 "
      ]
     },
     "metadata": {},
     "output_type": "display_data"
    }
   ],
   "source": [
    "head(predict(glmNew, type='response'))\n",
    "head(fitted(glmNew))"
   ]
  },
  {
   "cell_type": "code",
   "execution_count": 88,
   "metadata": {
    "ExecuteTime": {
     "end_time": "2021-05-12T10:05:33.559099Z",
     "start_time": "2021-05-12T10:05:33.487Z"
    }
   },
   "outputs": [
    {
     "data": {
      "text/plain": [
       "      predicted\n",
       "actual  0  1\n",
       "     0 36  0\n",
       "     1  0  6"
      ]
     },
     "metadata": {},
     "output_type": "display_data"
    }
   ],
   "source": [
    "actual <- data2$lowbwt\n",
    "predicted <- round(fitted(logit))\n",
    "xt <- xtabs(~actual + predicted)\n",
    "xt"
   ]
  },
  {
   "cell_type": "code",
   "execution_count": null,
   "metadata": {},
   "outputs": [],
   "source": []
  },
  {
   "cell_type": "markdown",
   "metadata": {},
   "source": [
    "## Confidence Intervals for exp(B)"
   ]
  },
  {
   "cell_type": "code",
   "execution_count": 89,
   "metadata": {
    "ExecuteTime": {
     "end_time": "2021-05-12T10:05:38.616321Z",
     "start_time": "2021-05-12T10:05:38.502Z"
    }
   },
   "outputs": [
    {
     "name": "stderr",
     "output_type": "stream",
     "text": [
      "Waiting for profiling to be done...\n",
      "\n",
      "Warning message:\n",
      "\"glm.fit: fitted probabilities numerically 0 or 1 occurred\"\n",
      "Warning message:\n",
      "\"glm.fit: fitted probabilities numerically 0 or 1 occurred\"\n",
      "Warning message:\n",
      "\"glm.fit: fitted probabilities numerically 0 or 1 occurred\"\n",
      "Warning message:\n",
      "\"glm.fit: fitted probabilities numerically 0 or 1 occurred\"\n",
      "Warning message:\n",
      "\"glm.fit: fitted probabilities numerically 0 or 1 occurred\"\n",
      "Warning message:\n",
      "\"glm.fit: fitted probabilities numerically 0 or 1 occurred\"\n"
     ]
    },
    {
     "data": {
      "text/html": [
       "<table class=\"dataframe\">\n",
       "<caption>A matrix: 2 × 3 of type dbl</caption>\n",
       "<thead>\n",
       "\t<tr><th></th><th scope=col>OR</th><th scope=col>2.5 %</th><th scope=col>97.5 %</th></tr>\n",
       "</thead>\n",
       "<tbody>\n",
       "\t<tr><th scope=row>(Intercept)</th><td>          Inf</td><td>0</td><td>Inf</td></tr>\n",
       "\t<tr><th scope=row>Birthweight</th><td>3.614866e-207</td><td>0</td><td>Inf</td></tr>\n",
       "</tbody>\n",
       "</table>\n"
      ],
      "text/latex": [
       "A matrix: 2 × 3 of type dbl\n",
       "\\begin{tabular}{r|lll}\n",
       "  & OR & 2.5 \\% & 97.5 \\%\\\\\n",
       "\\hline\n",
       "\t(Intercept) &           Inf & 0 & Inf\\\\\n",
       "\tBirthweight & 3.614866e-207 & 0 & Inf\\\\\n",
       "\\end{tabular}\n"
      ],
      "text/markdown": [
       "\n",
       "A matrix: 2 × 3 of type dbl\n",
       "\n",
       "| <!--/--> | OR | 2.5 % | 97.5 % |\n",
       "|---|---|---|---|\n",
       "| (Intercept) |           Inf | 0 | Inf |\n",
       "| Birthweight | 3.614866e-207 | 0 | Inf |\n",
       "\n"
      ],
      "text/plain": [
       "            OR            2.5 % 97.5 %\n",
       "(Intercept)           Inf 0     Inf   \n",
       "Birthweight 3.614866e-207 0     Inf   "
      ]
     },
     "metadata": {},
     "output_type": "display_data"
    }
   ],
   "source": [
    "exp(cbind(OR = coef(logit), confint(logit)))"
   ]
  },
  {
   "cell_type": "code",
   "execution_count": 90,
   "metadata": {
    "ExecuteTime": {
     "end_time": "2021-05-12T10:05:44.521475Z",
     "start_time": "2021-05-12T10:05:44.471Z"
    }
   },
   "outputs": [],
   "source": [
    "pred <- function (Birthweight)\n",
    "{\n",
    "    b <- exp(linpred(Birthweight))\n",
    "    b/(1+b)   \n",
    "}\n",
    "             \n",
    "odd <- function (Birthweight)  \n",
    "{\n",
    "    b <- pred(Birthweight)\n",
    "    b/(1-b)\n",
    "}"
   ]
  },
  {
   "cell_type": "code",
   "execution_count": 127,
   "metadata": {
    "ExecuteTime": {
     "end_time": "2021-05-11T19:50:05.183953Z",
     "start_time": "2021-05-11T19:50:05.138Z"
    }
   },
   "outputs": [],
   "source": [
    "predNew <- function (Gestation, fheight, mppwt)\n",
    "{\n",
    "    b <- exp(linpredNew(Gestation, fheight, mppwt))\n",
    "    b/(1+b)   \n",
    "}\n",
    "             \n",
    "odd <- function (Gestation, fheight, mppwt)  \n",
    "{\n",
    "    b <- predNew(Gestation, fheight, mppwt)\n",
    "    b/(1-b)\n",
    "}"
   ]
  },
  {
   "cell_type": "markdown",
   "metadata": {},
   "source": [
    "## Compare against original data"
   ]
  },
  {
   "cell_type": "code",
   "execution_count": 91,
   "metadata": {
    "ExecuteTime": {
     "end_time": "2021-05-12T10:05:48.760301Z",
     "start_time": "2021-05-12T10:05:48.719Z"
    }
   },
   "outputs": [],
   "source": [
    "data_test <- data"
   ]
  },
  {
   "cell_type": "code",
   "execution_count": 115,
   "metadata": {
    "ExecuteTime": {
     "end_time": "2021-05-11T19:33:09.654894Z",
     "start_time": "2021-05-11T19:33:09.612Z"
    }
   },
   "outputs": [],
   "source": [
    "data_test2 <- data2"
   ]
  },
  {
   "cell_type": "code",
   "execution_count": 93,
   "metadata": {
    "ExecuteTime": {
     "end_time": "2021-05-12T10:06:09.452961Z",
     "start_time": "2021-05-12T10:06:09.284Z"
    }
   },
   "outputs": [
    {
     "data": {
      "text/html": [
       "<table class=\"dataframe\">\n",
       "<caption>A data.frame: 42 × 17</caption>\n",
       "<thead>\n",
       "\t<tr><th></th><th scope=col>ï..ID</th><th scope=col>Length</th><th scope=col>Birthweight</th><th scope=col>Headcirc</th><th scope=col>Gestation</th><th scope=col>smoker</th><th scope=col>mage</th><th scope=col>mnocig</th><th scope=col>mheight</th><th scope=col>mppwt</th><th scope=col>fage</th><th scope=col>fedyrs</th><th scope=col>fnocig</th><th scope=col>fheight</th><th scope=col>lowbwt</th><th scope=col>mage35</th><th scope=col>Predicted</th></tr>\n",
       "\t<tr><th></th><th scope=col>&lt;int&gt;</th><th scope=col>&lt;int&gt;</th><th scope=col>&lt;dbl&gt;</th><th scope=col>&lt;int&gt;</th><th scope=col>&lt;int&gt;</th><th scope=col>&lt;int&gt;</th><th scope=col>&lt;int&gt;</th><th scope=col>&lt;int&gt;</th><th scope=col>&lt;int&gt;</th><th scope=col>&lt;int&gt;</th><th scope=col>&lt;int&gt;</th><th scope=col>&lt;int&gt;</th><th scope=col>&lt;int&gt;</th><th scope=col>&lt;int&gt;</th><th scope=col>&lt;int&gt;</th><th scope=col>&lt;int&gt;</th><th scope=col>&lt;dbl&gt;</th></tr>\n",
       "</thead>\n",
       "<tbody>\n",
       "\t<tr><th scope=row>1</th><td>1360</td><td>56</td><td>4.55</td><td>34</td><td>44</td><td>0</td><td>20</td><td> 0</td><td>162</td><td>57</td><td>23</td><td>10</td><td>35</td><td>179</td><td>0</td><td>0</td><td>2.220446e-16</td></tr>\n",
       "\t<tr><th scope=row>2</th><td>1016</td><td>53</td><td>4.32</td><td>36</td><td>40</td><td>0</td><td>19</td><td> 0</td><td>171</td><td>62</td><td>19</td><td>12</td><td> 0</td><td>183</td><td>0</td><td>0</td><td>2.220446e-16</td></tr>\n",
       "\t<tr><th scope=row>3</th><td> 462</td><td>58</td><td>4.10</td><td>39</td><td>41</td><td>0</td><td>35</td><td> 0</td><td>172</td><td>58</td><td>31</td><td>16</td><td>25</td><td>185</td><td>0</td><td>1</td><td>2.220446e-16</td></tr>\n",
       "\t<tr><th scope=row>4</th><td>1187</td><td>53</td><td>4.07</td><td>38</td><td>44</td><td>0</td><td>20</td><td> 0</td><td>174</td><td>68</td><td>26</td><td>14</td><td>25</td><td>189</td><td>0</td><td>0</td><td>2.220446e-16</td></tr>\n",
       "\t<tr><th scope=row>5</th><td> 553</td><td>54</td><td>3.94</td><td>37</td><td>42</td><td>0</td><td>24</td><td> 0</td><td>175</td><td>66</td><td>30</td><td>12</td><td> 0</td><td>184</td><td>0</td><td>0</td><td>2.220446e-16</td></tr>\n",
       "\t<tr><th scope=row>6</th><td>1636</td><td>51</td><td>3.93</td><td>38</td><td>38</td><td>0</td><td>29</td><td> 0</td><td>165</td><td>61</td><td>31</td><td>16</td><td> 0</td><td>180</td><td>0</td><td>0</td><td>2.220446e-16</td></tr>\n",
       "\t<tr><th scope=row>7</th><td> 820</td><td>52</td><td>3.77</td><td>34</td><td>40</td><td>0</td><td>24</td><td> 0</td><td>157</td><td>50</td><td>31</td><td>16</td><td> 0</td><td>173</td><td>0</td><td>0</td><td>2.220446e-16</td></tr>\n",
       "\t<tr><th scope=row>8</th><td>1191</td><td>53</td><td>3.65</td><td>33</td><td>42</td><td>0</td><td>21</td><td> 0</td><td>165</td><td>61</td><td>21</td><td>10</td><td>25</td><td>185</td><td>0</td><td>0</td><td>2.220446e-16</td></tr>\n",
       "\t<tr><th scope=row>9</th><td>1081</td><td>54</td><td>3.63</td><td>38</td><td>38</td><td>0</td><td>18</td><td> 0</td><td>172</td><td>50</td><td>20</td><td>12</td><td> 7</td><td>172</td><td>0</td><td>0</td><td>2.220446e-16</td></tr>\n",
       "\t<tr><th scope=row>10</th><td> 822</td><td>50</td><td>3.42</td><td>35</td><td>38</td><td>0</td><td>20</td><td> 0</td><td>157</td><td>48</td><td>22</td><td>14</td><td> 0</td><td>179</td><td>0</td><td>0</td><td>2.220446e-16</td></tr>\n",
       "\t<tr><th scope=row>11</th><td>1683</td><td>53</td><td>3.35</td><td>33</td><td>41</td><td>0</td><td>27</td><td> 0</td><td>164</td><td>62</td><td>37</td><td>14</td><td> 0</td><td>170</td><td>0</td><td>0</td><td>2.220446e-16</td></tr>\n",
       "\t<tr><th scope=row>12</th><td>1088</td><td>51</td><td>3.27</td><td>36</td><td>40</td><td>0</td><td>24</td><td> 0</td><td>168</td><td>53</td><td>29</td><td>16</td><td> 0</td><td>181</td><td>0</td><td>0</td><td>2.220446e-16</td></tr>\n",
       "\t<tr><th scope=row>13</th><td>1107</td><td>52</td><td>3.23</td><td>36</td><td>38</td><td>0</td><td>31</td><td> 0</td><td>164</td><td>57</td><td>35</td><td>16</td><td> 0</td><td>183</td><td>0</td><td>0</td><td>2.220446e-16</td></tr>\n",
       "\t<tr><th scope=row>14</th><td> 755</td><td>53</td><td>3.20</td><td>33</td><td>41</td><td>0</td><td>21</td><td> 0</td><td>155</td><td>55</td><td>25</td><td>14</td><td>25</td><td>183</td><td>0</td><td>0</td><td>2.220446e-16</td></tr>\n",
       "\t<tr><th scope=row>15</th><td>1058</td><td>53</td><td>3.15</td><td>34</td><td>40</td><td>0</td><td>29</td><td> 0</td><td>167</td><td>60</td><td>30</td><td>16</td><td>25</td><td>182</td><td>0</td><td>0</td><td>2.220446e-16</td></tr>\n",
       "\t<tr><th scope=row>16</th><td> 321</td><td>48</td><td>3.11</td><td>33</td><td>37</td><td>0</td><td>28</td><td> 0</td><td>158</td><td>54</td><td>39</td><td>10</td><td> 0</td><td>171</td><td>0</td><td>0</td><td>2.220446e-16</td></tr>\n",
       "\t<tr><th scope=row>17</th><td> 697</td><td>48</td><td>3.03</td><td>35</td><td>39</td><td>0</td><td>27</td><td> 0</td><td>162</td><td>62</td><td>27</td><td>14</td><td> 0</td><td>178</td><td>0</td><td>0</td><td>2.220446e-16</td></tr>\n",
       "\t<tr><th scope=row>18</th><td> 808</td><td>48</td><td>2.92</td><td>33</td><td>34</td><td>0</td><td>26</td><td> 0</td><td>167</td><td>64</td><td>25</td><td>12</td><td>25</td><td>175</td><td>0</td><td>0</td><td>2.220446e-16</td></tr>\n",
       "\t<tr><th scope=row>19</th><td>1600</td><td>53</td><td>2.90</td><td>34</td><td>39</td><td>0</td><td>19</td><td> 0</td><td>165</td><td>57</td><td>23</td><td>14</td><td> 2</td><td>193</td><td>0</td><td>0</td><td>2.220446e-16</td></tr>\n",
       "\t<tr><th scope=row>20</th><td>1313</td><td>43</td><td>2.65</td><td>32</td><td>33</td><td>0</td><td>24</td><td> 0</td><td>149</td><td>45</td><td>26</td><td>16</td><td> 0</td><td>169</td><td>1</td><td>0</td><td>1.000000e+00</td></tr>\n",
       "\t<tr><th scope=row>21</th><td> 792</td><td>53</td><td>3.64</td><td>38</td><td>40</td><td>1</td><td>20</td><td> 2</td><td>170</td><td>59</td><td>24</td><td>12</td><td>12</td><td>185</td><td>0</td><td>0</td><td>2.220446e-16</td></tr>\n",
       "\t<tr><th scope=row>22</th><td>1388</td><td>51</td><td>3.14</td><td>33</td><td>41</td><td>1</td><td>22</td><td> 7</td><td>160</td><td>53</td><td>24</td><td>16</td><td>12</td><td>176</td><td>0</td><td>0</td><td>2.220446e-16</td></tr>\n",
       "\t<tr><th scope=row>23</th><td> 575</td><td>50</td><td>2.78</td><td>30</td><td>37</td><td>1</td><td>19</td><td> 7</td><td>165</td><td>60</td><td>20</td><td>14</td><td> 0</td><td>183</td><td>0</td><td>0</td><td>2.220446e-16</td></tr>\n",
       "\t<tr><th scope=row>24</th><td> 569</td><td>50</td><td>2.51</td><td>35</td><td>39</td><td>1</td><td>22</td><td> 7</td><td>159</td><td>52</td><td>23</td><td>14</td><td>25</td><td>200</td><td>1</td><td>0</td><td>1.000000e+00</td></tr>\n",
       "\t<tr><th scope=row>25</th><td>1363</td><td>48</td><td>2.37</td><td>30</td><td>37</td><td>1</td><td>20</td><td> 7</td><td>163</td><td>47</td><td>20</td><td>10</td><td>35</td><td>185</td><td>1</td><td>0</td><td>1.000000e+00</td></tr>\n",
       "\t<tr><th scope=row>26</th><td> 300</td><td>46</td><td>2.05</td><td>32</td><td>35</td><td>1</td><td>41</td><td> 7</td><td>166</td><td>57</td><td>37</td><td>14</td><td>25</td><td>173</td><td>1</td><td>1</td><td>1.000000e+00</td></tr>\n",
       "\t<tr><th scope=row>27</th><td> 431</td><td>48</td><td>1.92</td><td>30</td><td>33</td><td>1</td><td>20</td><td> 7</td><td>161</td><td>50</td><td>20</td><td>10</td><td>35</td><td>180</td><td>1</td><td>0</td><td>1.000000e+00</td></tr>\n",
       "\t<tr><th scope=row>28</th><td>1764</td><td>58</td><td>4.57</td><td>39</td><td>41</td><td>1</td><td>32</td><td>12</td><td>173</td><td>70</td><td>38</td><td>14</td><td>25</td><td>180</td><td>0</td><td>0</td><td>2.220446e-16</td></tr>\n",
       "\t<tr><th scope=row>29</th><td> 532</td><td>53</td><td>3.59</td><td>34</td><td>40</td><td>1</td><td>31</td><td>12</td><td>163</td><td>49</td><td>41</td><td>12</td><td>50</td><td>191</td><td>0</td><td>0</td><td>2.220446e-16</td></tr>\n",
       "\t<tr><th scope=row>30</th><td> 752</td><td>49</td><td>3.32</td><td>36</td><td>40</td><td>1</td><td>27</td><td>12</td><td>152</td><td>48</td><td>37</td><td>12</td><td>25</td><td>170</td><td>0</td><td>0</td><td>2.220446e-16</td></tr>\n",
       "\t<tr><th scope=row>31</th><td>1023</td><td>52</td><td>3.00</td><td>35</td><td>38</td><td>1</td><td>30</td><td>12</td><td>165</td><td>64</td><td>38</td><td>14</td><td>50</td><td>180</td><td>0</td><td>0</td><td>2.220446e-16</td></tr>\n",
       "\t<tr><th scope=row>32</th><td>  57</td><td>51</td><td>3.32</td><td>38</td><td>39</td><td>1</td><td>23</td><td>17</td><td>157</td><td>48</td><td>32</td><td>12</td><td>25</td><td>169</td><td>0</td><td>0</td><td>2.220446e-16</td></tr>\n",
       "\t<tr><th scope=row>33</th><td>1522</td><td>50</td><td>2.74</td><td>33</td><td>39</td><td>1</td><td>21</td><td>17</td><td>156</td><td>53</td><td>24</td><td>12</td><td> 7</td><td>179</td><td>0</td><td>0</td><td>6.057255e-09</td></tr>\n",
       "\t<tr><th scope=row>34</th><td> 223</td><td>50</td><td>3.87</td><td>33</td><td>45</td><td>1</td><td>28</td><td>25</td><td>163</td><td>54</td><td>30</td><td>16</td><td> 0</td><td>183</td><td>0</td><td>0</td><td>2.220446e-16</td></tr>\n",
       "\t<tr><th scope=row>35</th><td> 272</td><td>52</td><td>3.86</td><td>36</td><td>39</td><td>1</td><td>30</td><td>25</td><td>170</td><td>78</td><td>40</td><td>16</td><td>50</td><td>178</td><td>0</td><td>0</td><td>2.220446e-16</td></tr>\n",
       "\t<tr><th scope=row>36</th><td>  27</td><td>53</td><td>3.55</td><td>37</td><td>41</td><td>1</td><td>37</td><td>25</td><td>161</td><td>66</td><td>46</td><td>16</td><td> 0</td><td>175</td><td>0</td><td>1</td><td>2.220446e-16</td></tr>\n",
       "\t<tr><th scope=row>37</th><td> 365</td><td>52</td><td>3.53</td><td>37</td><td>40</td><td>1</td><td>26</td><td>25</td><td>170</td><td>62</td><td>30</td><td>10</td><td>25</td><td>181</td><td>0</td><td>0</td><td>2.220446e-16</td></tr>\n",
       "\t<tr><th scope=row>38</th><td> 619</td><td>52</td><td>3.41</td><td>33</td><td>39</td><td>1</td><td>23</td><td>25</td><td>181</td><td>69</td><td>23</td><td>16</td><td> 2</td><td>181</td><td>0</td><td>0</td><td>2.220446e-16</td></tr>\n",
       "\t<tr><th scope=row>39</th><td>1369</td><td>49</td><td>3.18</td><td>34</td><td>38</td><td>1</td><td>31</td><td>25</td><td>162</td><td>57</td><td>32</td><td>16</td><td>50</td><td>194</td><td>0</td><td>0</td><td>2.220446e-16</td></tr>\n",
       "\t<tr><th scope=row>40</th><td>1262</td><td>53</td><td>3.19</td><td>34</td><td>41</td><td>1</td><td>27</td><td>35</td><td>163</td><td>51</td><td>31</td><td>16</td><td>25</td><td>185</td><td>0</td><td>0</td><td>2.220446e-16</td></tr>\n",
       "\t<tr><th scope=row>41</th><td> 516</td><td>47</td><td>2.66</td><td>33</td><td>35</td><td>1</td><td>20</td><td>35</td><td>170</td><td>57</td><td>23</td><td>12</td><td>50</td><td>186</td><td>1</td><td>0</td><td>1.000000e+00</td></tr>\n",
       "\t<tr><th scope=row>42</th><td>1272</td><td>53</td><td>2.75</td><td>32</td><td>40</td><td>1</td><td>37</td><td>50</td><td>168</td><td>61</td><td>31</td><td>16</td><td> 0</td><td>173</td><td>0</td><td>1</td><td>5.222239e-11</td></tr>\n",
       "</tbody>\n",
       "</table>\n"
      ],
      "text/latex": [
       "A data.frame: 42 × 17\n",
       "\\begin{tabular}{r|lllllllllllllllll}\n",
       "  & ï..ID & Length & Birthweight & Headcirc & Gestation & smoker & mage & mnocig & mheight & mppwt & fage & fedyrs & fnocig & fheight & lowbwt & mage35 & Predicted\\\\\n",
       "  & <int> & <int> & <dbl> & <int> & <int> & <int> & <int> & <int> & <int> & <int> & <int> & <int> & <int> & <int> & <int> & <int> & <dbl>\\\\\n",
       "\\hline\n",
       "\t1 & 1360 & 56 & 4.55 & 34 & 44 & 0 & 20 &  0 & 162 & 57 & 23 & 10 & 35 & 179 & 0 & 0 & 2.220446e-16\\\\\n",
       "\t2 & 1016 & 53 & 4.32 & 36 & 40 & 0 & 19 &  0 & 171 & 62 & 19 & 12 &  0 & 183 & 0 & 0 & 2.220446e-16\\\\\n",
       "\t3 &  462 & 58 & 4.10 & 39 & 41 & 0 & 35 &  0 & 172 & 58 & 31 & 16 & 25 & 185 & 0 & 1 & 2.220446e-16\\\\\n",
       "\t4 & 1187 & 53 & 4.07 & 38 & 44 & 0 & 20 &  0 & 174 & 68 & 26 & 14 & 25 & 189 & 0 & 0 & 2.220446e-16\\\\\n",
       "\t5 &  553 & 54 & 3.94 & 37 & 42 & 0 & 24 &  0 & 175 & 66 & 30 & 12 &  0 & 184 & 0 & 0 & 2.220446e-16\\\\\n",
       "\t6 & 1636 & 51 & 3.93 & 38 & 38 & 0 & 29 &  0 & 165 & 61 & 31 & 16 &  0 & 180 & 0 & 0 & 2.220446e-16\\\\\n",
       "\t7 &  820 & 52 & 3.77 & 34 & 40 & 0 & 24 &  0 & 157 & 50 & 31 & 16 &  0 & 173 & 0 & 0 & 2.220446e-16\\\\\n",
       "\t8 & 1191 & 53 & 3.65 & 33 & 42 & 0 & 21 &  0 & 165 & 61 & 21 & 10 & 25 & 185 & 0 & 0 & 2.220446e-16\\\\\n",
       "\t9 & 1081 & 54 & 3.63 & 38 & 38 & 0 & 18 &  0 & 172 & 50 & 20 & 12 &  7 & 172 & 0 & 0 & 2.220446e-16\\\\\n",
       "\t10 &  822 & 50 & 3.42 & 35 & 38 & 0 & 20 &  0 & 157 & 48 & 22 & 14 &  0 & 179 & 0 & 0 & 2.220446e-16\\\\\n",
       "\t11 & 1683 & 53 & 3.35 & 33 & 41 & 0 & 27 &  0 & 164 & 62 & 37 & 14 &  0 & 170 & 0 & 0 & 2.220446e-16\\\\\n",
       "\t12 & 1088 & 51 & 3.27 & 36 & 40 & 0 & 24 &  0 & 168 & 53 & 29 & 16 &  0 & 181 & 0 & 0 & 2.220446e-16\\\\\n",
       "\t13 & 1107 & 52 & 3.23 & 36 & 38 & 0 & 31 &  0 & 164 & 57 & 35 & 16 &  0 & 183 & 0 & 0 & 2.220446e-16\\\\\n",
       "\t14 &  755 & 53 & 3.20 & 33 & 41 & 0 & 21 &  0 & 155 & 55 & 25 & 14 & 25 & 183 & 0 & 0 & 2.220446e-16\\\\\n",
       "\t15 & 1058 & 53 & 3.15 & 34 & 40 & 0 & 29 &  0 & 167 & 60 & 30 & 16 & 25 & 182 & 0 & 0 & 2.220446e-16\\\\\n",
       "\t16 &  321 & 48 & 3.11 & 33 & 37 & 0 & 28 &  0 & 158 & 54 & 39 & 10 &  0 & 171 & 0 & 0 & 2.220446e-16\\\\\n",
       "\t17 &  697 & 48 & 3.03 & 35 & 39 & 0 & 27 &  0 & 162 & 62 & 27 & 14 &  0 & 178 & 0 & 0 & 2.220446e-16\\\\\n",
       "\t18 &  808 & 48 & 2.92 & 33 & 34 & 0 & 26 &  0 & 167 & 64 & 25 & 12 & 25 & 175 & 0 & 0 & 2.220446e-16\\\\\n",
       "\t19 & 1600 & 53 & 2.90 & 34 & 39 & 0 & 19 &  0 & 165 & 57 & 23 & 14 &  2 & 193 & 0 & 0 & 2.220446e-16\\\\\n",
       "\t20 & 1313 & 43 & 2.65 & 32 & 33 & 0 & 24 &  0 & 149 & 45 & 26 & 16 &  0 & 169 & 1 & 0 & 1.000000e+00\\\\\n",
       "\t21 &  792 & 53 & 3.64 & 38 & 40 & 1 & 20 &  2 & 170 & 59 & 24 & 12 & 12 & 185 & 0 & 0 & 2.220446e-16\\\\\n",
       "\t22 & 1388 & 51 & 3.14 & 33 & 41 & 1 & 22 &  7 & 160 & 53 & 24 & 16 & 12 & 176 & 0 & 0 & 2.220446e-16\\\\\n",
       "\t23 &  575 & 50 & 2.78 & 30 & 37 & 1 & 19 &  7 & 165 & 60 & 20 & 14 &  0 & 183 & 0 & 0 & 2.220446e-16\\\\\n",
       "\t24 &  569 & 50 & 2.51 & 35 & 39 & 1 & 22 &  7 & 159 & 52 & 23 & 14 & 25 & 200 & 1 & 0 & 1.000000e+00\\\\\n",
       "\t25 & 1363 & 48 & 2.37 & 30 & 37 & 1 & 20 &  7 & 163 & 47 & 20 & 10 & 35 & 185 & 1 & 0 & 1.000000e+00\\\\\n",
       "\t26 &  300 & 46 & 2.05 & 32 & 35 & 1 & 41 &  7 & 166 & 57 & 37 & 14 & 25 & 173 & 1 & 1 & 1.000000e+00\\\\\n",
       "\t27 &  431 & 48 & 1.92 & 30 & 33 & 1 & 20 &  7 & 161 & 50 & 20 & 10 & 35 & 180 & 1 & 0 & 1.000000e+00\\\\\n",
       "\t28 & 1764 & 58 & 4.57 & 39 & 41 & 1 & 32 & 12 & 173 & 70 & 38 & 14 & 25 & 180 & 0 & 0 & 2.220446e-16\\\\\n",
       "\t29 &  532 & 53 & 3.59 & 34 & 40 & 1 & 31 & 12 & 163 & 49 & 41 & 12 & 50 & 191 & 0 & 0 & 2.220446e-16\\\\\n",
       "\t30 &  752 & 49 & 3.32 & 36 & 40 & 1 & 27 & 12 & 152 & 48 & 37 & 12 & 25 & 170 & 0 & 0 & 2.220446e-16\\\\\n",
       "\t31 & 1023 & 52 & 3.00 & 35 & 38 & 1 & 30 & 12 & 165 & 64 & 38 & 14 & 50 & 180 & 0 & 0 & 2.220446e-16\\\\\n",
       "\t32 &   57 & 51 & 3.32 & 38 & 39 & 1 & 23 & 17 & 157 & 48 & 32 & 12 & 25 & 169 & 0 & 0 & 2.220446e-16\\\\\n",
       "\t33 & 1522 & 50 & 2.74 & 33 & 39 & 1 & 21 & 17 & 156 & 53 & 24 & 12 &  7 & 179 & 0 & 0 & 6.057255e-09\\\\\n",
       "\t34 &  223 & 50 & 3.87 & 33 & 45 & 1 & 28 & 25 & 163 & 54 & 30 & 16 &  0 & 183 & 0 & 0 & 2.220446e-16\\\\\n",
       "\t35 &  272 & 52 & 3.86 & 36 & 39 & 1 & 30 & 25 & 170 & 78 & 40 & 16 & 50 & 178 & 0 & 0 & 2.220446e-16\\\\\n",
       "\t36 &   27 & 53 & 3.55 & 37 & 41 & 1 & 37 & 25 & 161 & 66 & 46 & 16 &  0 & 175 & 0 & 1 & 2.220446e-16\\\\\n",
       "\t37 &  365 & 52 & 3.53 & 37 & 40 & 1 & 26 & 25 & 170 & 62 & 30 & 10 & 25 & 181 & 0 & 0 & 2.220446e-16\\\\\n",
       "\t38 &  619 & 52 & 3.41 & 33 & 39 & 1 & 23 & 25 & 181 & 69 & 23 & 16 &  2 & 181 & 0 & 0 & 2.220446e-16\\\\\n",
       "\t39 & 1369 & 49 & 3.18 & 34 & 38 & 1 & 31 & 25 & 162 & 57 & 32 & 16 & 50 & 194 & 0 & 0 & 2.220446e-16\\\\\n",
       "\t40 & 1262 & 53 & 3.19 & 34 & 41 & 1 & 27 & 35 & 163 & 51 & 31 & 16 & 25 & 185 & 0 & 0 & 2.220446e-16\\\\\n",
       "\t41 &  516 & 47 & 2.66 & 33 & 35 & 1 & 20 & 35 & 170 & 57 & 23 & 12 & 50 & 186 & 1 & 0 & 1.000000e+00\\\\\n",
       "\t42 & 1272 & 53 & 2.75 & 32 & 40 & 1 & 37 & 50 & 168 & 61 & 31 & 16 &  0 & 173 & 0 & 1 & 5.222239e-11\\\\\n",
       "\\end{tabular}\n"
      ],
      "text/markdown": [
       "\n",
       "A data.frame: 42 × 17\n",
       "\n",
       "| <!--/--> | ï..ID &lt;int&gt; | Length &lt;int&gt; | Birthweight &lt;dbl&gt; | Headcirc &lt;int&gt; | Gestation &lt;int&gt; | smoker &lt;int&gt; | mage &lt;int&gt; | mnocig &lt;int&gt; | mheight &lt;int&gt; | mppwt &lt;int&gt; | fage &lt;int&gt; | fedyrs &lt;int&gt; | fnocig &lt;int&gt; | fheight &lt;int&gt; | lowbwt &lt;int&gt; | mage35 &lt;int&gt; | Predicted &lt;dbl&gt; |\n",
       "|---|---|---|---|---|---|---|---|---|---|---|---|---|---|---|---|---|---|\n",
       "| 1 | 1360 | 56 | 4.55 | 34 | 44 | 0 | 20 |  0 | 162 | 57 | 23 | 10 | 35 | 179 | 0 | 0 | 2.220446e-16 |\n",
       "| 2 | 1016 | 53 | 4.32 | 36 | 40 | 0 | 19 |  0 | 171 | 62 | 19 | 12 |  0 | 183 | 0 | 0 | 2.220446e-16 |\n",
       "| 3 |  462 | 58 | 4.10 | 39 | 41 | 0 | 35 |  0 | 172 | 58 | 31 | 16 | 25 | 185 | 0 | 1 | 2.220446e-16 |\n",
       "| 4 | 1187 | 53 | 4.07 | 38 | 44 | 0 | 20 |  0 | 174 | 68 | 26 | 14 | 25 | 189 | 0 | 0 | 2.220446e-16 |\n",
       "| 5 |  553 | 54 | 3.94 | 37 | 42 | 0 | 24 |  0 | 175 | 66 | 30 | 12 |  0 | 184 | 0 | 0 | 2.220446e-16 |\n",
       "| 6 | 1636 | 51 | 3.93 | 38 | 38 | 0 | 29 |  0 | 165 | 61 | 31 | 16 |  0 | 180 | 0 | 0 | 2.220446e-16 |\n",
       "| 7 |  820 | 52 | 3.77 | 34 | 40 | 0 | 24 |  0 | 157 | 50 | 31 | 16 |  0 | 173 | 0 | 0 | 2.220446e-16 |\n",
       "| 8 | 1191 | 53 | 3.65 | 33 | 42 | 0 | 21 |  0 | 165 | 61 | 21 | 10 | 25 | 185 | 0 | 0 | 2.220446e-16 |\n",
       "| 9 | 1081 | 54 | 3.63 | 38 | 38 | 0 | 18 |  0 | 172 | 50 | 20 | 12 |  7 | 172 | 0 | 0 | 2.220446e-16 |\n",
       "| 10 |  822 | 50 | 3.42 | 35 | 38 | 0 | 20 |  0 | 157 | 48 | 22 | 14 |  0 | 179 | 0 | 0 | 2.220446e-16 |\n",
       "| 11 | 1683 | 53 | 3.35 | 33 | 41 | 0 | 27 |  0 | 164 | 62 | 37 | 14 |  0 | 170 | 0 | 0 | 2.220446e-16 |\n",
       "| 12 | 1088 | 51 | 3.27 | 36 | 40 | 0 | 24 |  0 | 168 | 53 | 29 | 16 |  0 | 181 | 0 | 0 | 2.220446e-16 |\n",
       "| 13 | 1107 | 52 | 3.23 | 36 | 38 | 0 | 31 |  0 | 164 | 57 | 35 | 16 |  0 | 183 | 0 | 0 | 2.220446e-16 |\n",
       "| 14 |  755 | 53 | 3.20 | 33 | 41 | 0 | 21 |  0 | 155 | 55 | 25 | 14 | 25 | 183 | 0 | 0 | 2.220446e-16 |\n",
       "| 15 | 1058 | 53 | 3.15 | 34 | 40 | 0 | 29 |  0 | 167 | 60 | 30 | 16 | 25 | 182 | 0 | 0 | 2.220446e-16 |\n",
       "| 16 |  321 | 48 | 3.11 | 33 | 37 | 0 | 28 |  0 | 158 | 54 | 39 | 10 |  0 | 171 | 0 | 0 | 2.220446e-16 |\n",
       "| 17 |  697 | 48 | 3.03 | 35 | 39 | 0 | 27 |  0 | 162 | 62 | 27 | 14 |  0 | 178 | 0 | 0 | 2.220446e-16 |\n",
       "| 18 |  808 | 48 | 2.92 | 33 | 34 | 0 | 26 |  0 | 167 | 64 | 25 | 12 | 25 | 175 | 0 | 0 | 2.220446e-16 |\n",
       "| 19 | 1600 | 53 | 2.90 | 34 | 39 | 0 | 19 |  0 | 165 | 57 | 23 | 14 |  2 | 193 | 0 | 0 | 2.220446e-16 |\n",
       "| 20 | 1313 | 43 | 2.65 | 32 | 33 | 0 | 24 |  0 | 149 | 45 | 26 | 16 |  0 | 169 | 1 | 0 | 1.000000e+00 |\n",
       "| 21 |  792 | 53 | 3.64 | 38 | 40 | 1 | 20 |  2 | 170 | 59 | 24 | 12 | 12 | 185 | 0 | 0 | 2.220446e-16 |\n",
       "| 22 | 1388 | 51 | 3.14 | 33 | 41 | 1 | 22 |  7 | 160 | 53 | 24 | 16 | 12 | 176 | 0 | 0 | 2.220446e-16 |\n",
       "| 23 |  575 | 50 | 2.78 | 30 | 37 | 1 | 19 |  7 | 165 | 60 | 20 | 14 |  0 | 183 | 0 | 0 | 2.220446e-16 |\n",
       "| 24 |  569 | 50 | 2.51 | 35 | 39 | 1 | 22 |  7 | 159 | 52 | 23 | 14 | 25 | 200 | 1 | 0 | 1.000000e+00 |\n",
       "| 25 | 1363 | 48 | 2.37 | 30 | 37 | 1 | 20 |  7 | 163 | 47 | 20 | 10 | 35 | 185 | 1 | 0 | 1.000000e+00 |\n",
       "| 26 |  300 | 46 | 2.05 | 32 | 35 | 1 | 41 |  7 | 166 | 57 | 37 | 14 | 25 | 173 | 1 | 1 | 1.000000e+00 |\n",
       "| 27 |  431 | 48 | 1.92 | 30 | 33 | 1 | 20 |  7 | 161 | 50 | 20 | 10 | 35 | 180 | 1 | 0 | 1.000000e+00 |\n",
       "| 28 | 1764 | 58 | 4.57 | 39 | 41 | 1 | 32 | 12 | 173 | 70 | 38 | 14 | 25 | 180 | 0 | 0 | 2.220446e-16 |\n",
       "| 29 |  532 | 53 | 3.59 | 34 | 40 | 1 | 31 | 12 | 163 | 49 | 41 | 12 | 50 | 191 | 0 | 0 | 2.220446e-16 |\n",
       "| 30 |  752 | 49 | 3.32 | 36 | 40 | 1 | 27 | 12 | 152 | 48 | 37 | 12 | 25 | 170 | 0 | 0 | 2.220446e-16 |\n",
       "| 31 | 1023 | 52 | 3.00 | 35 | 38 | 1 | 30 | 12 | 165 | 64 | 38 | 14 | 50 | 180 | 0 | 0 | 2.220446e-16 |\n",
       "| 32 |   57 | 51 | 3.32 | 38 | 39 | 1 | 23 | 17 | 157 | 48 | 32 | 12 | 25 | 169 | 0 | 0 | 2.220446e-16 |\n",
       "| 33 | 1522 | 50 | 2.74 | 33 | 39 | 1 | 21 | 17 | 156 | 53 | 24 | 12 |  7 | 179 | 0 | 0 | 6.057255e-09 |\n",
       "| 34 |  223 | 50 | 3.87 | 33 | 45 | 1 | 28 | 25 | 163 | 54 | 30 | 16 |  0 | 183 | 0 | 0 | 2.220446e-16 |\n",
       "| 35 |  272 | 52 | 3.86 | 36 | 39 | 1 | 30 | 25 | 170 | 78 | 40 | 16 | 50 | 178 | 0 | 0 | 2.220446e-16 |\n",
       "| 36 |   27 | 53 | 3.55 | 37 | 41 | 1 | 37 | 25 | 161 | 66 | 46 | 16 |  0 | 175 | 0 | 1 | 2.220446e-16 |\n",
       "| 37 |  365 | 52 | 3.53 | 37 | 40 | 1 | 26 | 25 | 170 | 62 | 30 | 10 | 25 | 181 | 0 | 0 | 2.220446e-16 |\n",
       "| 38 |  619 | 52 | 3.41 | 33 | 39 | 1 | 23 | 25 | 181 | 69 | 23 | 16 |  2 | 181 | 0 | 0 | 2.220446e-16 |\n",
       "| 39 | 1369 | 49 | 3.18 | 34 | 38 | 1 | 31 | 25 | 162 | 57 | 32 | 16 | 50 | 194 | 0 | 0 | 2.220446e-16 |\n",
       "| 40 | 1262 | 53 | 3.19 | 34 | 41 | 1 | 27 | 35 | 163 | 51 | 31 | 16 | 25 | 185 | 0 | 0 | 2.220446e-16 |\n",
       "| 41 |  516 | 47 | 2.66 | 33 | 35 | 1 | 20 | 35 | 170 | 57 | 23 | 12 | 50 | 186 | 1 | 0 | 1.000000e+00 |\n",
       "| 42 | 1272 | 53 | 2.75 | 32 | 40 | 1 | 37 | 50 | 168 | 61 | 31 | 16 |  0 | 173 | 0 | 1 | 5.222239e-11 |\n",
       "\n"
      ],
      "text/plain": [
       "   ï..ID Length Birthweight Headcirc Gestation smoker mage mnocig mheight mppwt\n",
       "1  1360  56     4.55        34       44        0      20    0     162     57   \n",
       "2  1016  53     4.32        36       40        0      19    0     171     62   \n",
       "3   462  58     4.10        39       41        0      35    0     172     58   \n",
       "4  1187  53     4.07        38       44        0      20    0     174     68   \n",
       "5   553  54     3.94        37       42        0      24    0     175     66   \n",
       "6  1636  51     3.93        38       38        0      29    0     165     61   \n",
       "7   820  52     3.77        34       40        0      24    0     157     50   \n",
       "8  1191  53     3.65        33       42        0      21    0     165     61   \n",
       "9  1081  54     3.63        38       38        0      18    0     172     50   \n",
       "10  822  50     3.42        35       38        0      20    0     157     48   \n",
       "11 1683  53     3.35        33       41        0      27    0     164     62   \n",
       "12 1088  51     3.27        36       40        0      24    0     168     53   \n",
       "13 1107  52     3.23        36       38        0      31    0     164     57   \n",
       "14  755  53     3.20        33       41        0      21    0     155     55   \n",
       "15 1058  53     3.15        34       40        0      29    0     167     60   \n",
       "16  321  48     3.11        33       37        0      28    0     158     54   \n",
       "17  697  48     3.03        35       39        0      27    0     162     62   \n",
       "18  808  48     2.92        33       34        0      26    0     167     64   \n",
       "19 1600  53     2.90        34       39        0      19    0     165     57   \n",
       "20 1313  43     2.65        32       33        0      24    0     149     45   \n",
       "21  792  53     3.64        38       40        1      20    2     170     59   \n",
       "22 1388  51     3.14        33       41        1      22    7     160     53   \n",
       "23  575  50     2.78        30       37        1      19    7     165     60   \n",
       "24  569  50     2.51        35       39        1      22    7     159     52   \n",
       "25 1363  48     2.37        30       37        1      20    7     163     47   \n",
       "26  300  46     2.05        32       35        1      41    7     166     57   \n",
       "27  431  48     1.92        30       33        1      20    7     161     50   \n",
       "28 1764  58     4.57        39       41        1      32   12     173     70   \n",
       "29  532  53     3.59        34       40        1      31   12     163     49   \n",
       "30  752  49     3.32        36       40        1      27   12     152     48   \n",
       "31 1023  52     3.00        35       38        1      30   12     165     64   \n",
       "32   57  51     3.32        38       39        1      23   17     157     48   \n",
       "33 1522  50     2.74        33       39        1      21   17     156     53   \n",
       "34  223  50     3.87        33       45        1      28   25     163     54   \n",
       "35  272  52     3.86        36       39        1      30   25     170     78   \n",
       "36   27  53     3.55        37       41        1      37   25     161     66   \n",
       "37  365  52     3.53        37       40        1      26   25     170     62   \n",
       "38  619  52     3.41        33       39        1      23   25     181     69   \n",
       "39 1369  49     3.18        34       38        1      31   25     162     57   \n",
       "40 1262  53     3.19        34       41        1      27   35     163     51   \n",
       "41  516  47     2.66        33       35        1      20   35     170     57   \n",
       "42 1272  53     2.75        32       40        1      37   50     168     61   \n",
       "   fage fedyrs fnocig fheight lowbwt mage35 Predicted   \n",
       "1  23   10     35     179     0      0      2.220446e-16\n",
       "2  19   12      0     183     0      0      2.220446e-16\n",
       "3  31   16     25     185     0      1      2.220446e-16\n",
       "4  26   14     25     189     0      0      2.220446e-16\n",
       "5  30   12      0     184     0      0      2.220446e-16\n",
       "6  31   16      0     180     0      0      2.220446e-16\n",
       "7  31   16      0     173     0      0      2.220446e-16\n",
       "8  21   10     25     185     0      0      2.220446e-16\n",
       "9  20   12      7     172     0      0      2.220446e-16\n",
       "10 22   14      0     179     0      0      2.220446e-16\n",
       "11 37   14      0     170     0      0      2.220446e-16\n",
       "12 29   16      0     181     0      0      2.220446e-16\n",
       "13 35   16      0     183     0      0      2.220446e-16\n",
       "14 25   14     25     183     0      0      2.220446e-16\n",
       "15 30   16     25     182     0      0      2.220446e-16\n",
       "16 39   10      0     171     0      0      2.220446e-16\n",
       "17 27   14      0     178     0      0      2.220446e-16\n",
       "18 25   12     25     175     0      0      2.220446e-16\n",
       "19 23   14      2     193     0      0      2.220446e-16\n",
       "20 26   16      0     169     1      0      1.000000e+00\n",
       "21 24   12     12     185     0      0      2.220446e-16\n",
       "22 24   16     12     176     0      0      2.220446e-16\n",
       "23 20   14      0     183     0      0      2.220446e-16\n",
       "24 23   14     25     200     1      0      1.000000e+00\n",
       "25 20   10     35     185     1      0      1.000000e+00\n",
       "26 37   14     25     173     1      1      1.000000e+00\n",
       "27 20   10     35     180     1      0      1.000000e+00\n",
       "28 38   14     25     180     0      0      2.220446e-16\n",
       "29 41   12     50     191     0      0      2.220446e-16\n",
       "30 37   12     25     170     0      0      2.220446e-16\n",
       "31 38   14     50     180     0      0      2.220446e-16\n",
       "32 32   12     25     169     0      0      2.220446e-16\n",
       "33 24   12      7     179     0      0      6.057255e-09\n",
       "34 30   16      0     183     0      0      2.220446e-16\n",
       "35 40   16     50     178     0      0      2.220446e-16\n",
       "36 46   16      0     175     0      1      2.220446e-16\n",
       "37 30   10     25     181     0      0      2.220446e-16\n",
       "38 23   16      2     181     0      0      2.220446e-16\n",
       "39 32   16     50     194     0      0      2.220446e-16\n",
       "40 31   16     25     185     0      0      2.220446e-16\n",
       "41 23   12     50     186     1      0      1.000000e+00\n",
       "42 31   16      0     173     0      1      5.222239e-11"
      ]
     },
     "metadata": {},
     "output_type": "display_data"
    }
   ],
   "source": [
    "data_test['Predicted'] <- fitted(logit)\n",
    "head(data_test, 50)"
   ]
  },
  {
   "cell_type": "code",
   "execution_count": 95,
   "metadata": {
    "ExecuteTime": {
     "end_time": "2021-05-12T10:06:49.271708Z",
     "start_time": "2021-05-12T10:06:49.176Z"
    }
   },
   "outputs": [
    {
     "data": {
      "image/png": "[encoded data removed]",
      "text/plain": [
       "plot without title"
      ]
     },
     "metadata": {
      "image/png": {
       "height": 420,
       "width": 420
      }
     },
     "output_type": "display_data"
    }
   ],
   "source": [
    "plot(data_test['Predicted'] )"
   ]
  },
  {
   "cell_type": "code",
   "execution_count": 42,
   "metadata": {
    "ExecuteTime": {
     "end_time": "2021-05-12T09:22:49.213210Z",
     "start_time": "2021-05-12T09:22:49.170Z"
    }
   },
   "outputs": [],
   "source": [
    "X1_range <- seq(from=min(Birthweight), to=max(Birthweight), by=.1)"
   ]
  },
  {
   "cell_type": "code",
   "execution_count": 43,
   "metadata": {
    "ExecuteTime": {
     "end_time": "2021-05-12T09:22:50.698780Z",
     "start_time": "2021-05-12T09:22:50.652Z"
    }
   },
   "outputs": [
    {
     "data": {
      "text/html": [
       "<style>\n",
       ".list-inline {list-style: none; margin:0; padding: 0}\n",
       ".list-inline>li {display: inline-block}\n",
       ".list-inline>li:not(:last-child)::after {content: \"\\00b7\"; padding: 0 .5ex}\n",
       "</style>\n",
       "<ol class=list-inline><li>1.92</li><li>2.02</li><li>2.12</li><li>2.22</li><li>2.32</li><li>2.42</li><li>2.52</li><li>2.62</li><li>2.72</li><li>2.82</li><li>2.92</li><li>3.02</li><li>3.12</li><li>3.22</li><li>3.32</li><li>3.42</li><li>3.52</li><li>3.62</li><li>3.72</li><li>3.82</li><li>3.92</li><li>4.02</li><li>4.12</li><li>4.22</li><li>4.32</li><li>4.42</li><li>4.52</li></ol>\n"
      ],
      "text/latex": [
       "\\begin{enumerate*}\n",
       "\\item 1.92\n",
       "\\item 2.02\n",
       "\\item 2.12\n",
       "\\item 2.22\n",
       "\\item 2.32\n",
       "\\item 2.42\n",
       "\\item 2.52\n",
       "\\item 2.62\n",
       "\\item 2.72\n",
       "\\item 2.82\n",
       "\\item 2.92\n",
       "\\item 3.02\n",
       "\\item 3.12\n",
       "\\item 3.22\n",
       "\\item 3.32\n",
       "\\item 3.42\n",
       "\\item 3.52\n",
       "\\item 3.62\n",
       "\\item 3.72\n",
       "\\item 3.82\n",
       "\\item 3.92\n",
       "\\item 4.02\n",
       "\\item 4.12\n",
       "\\item 4.22\n",
       "\\item 4.32\n",
       "\\item 4.42\n",
       "\\item 4.52\n",
       "\\end{enumerate*}\n"
      ],
      "text/markdown": [
       "1. 1.92\n",
       "2. 2.02\n",
       "3. 2.12\n",
       "4. 2.22\n",
       "5. 2.32\n",
       "6. 2.42\n",
       "7. 2.52\n",
       "8. 2.62\n",
       "9. 2.72\n",
       "10. 2.82\n",
       "11. 2.92\n",
       "12. 3.02\n",
       "13. 3.12\n",
       "14. 3.22\n",
       "15. 3.32\n",
       "16. 3.42\n",
       "17. 3.52\n",
       "18. 3.62\n",
       "19. 3.72\n",
       "20. 3.82\n",
       "21. 3.92\n",
       "22. 4.02\n",
       "23. 4.12\n",
       "24. 4.22\n",
       "25. 4.32\n",
       "26. 4.42\n",
       "27. 4.52\n",
       "\n",
       "\n"
      ],
      "text/plain": [
       " [1] 1.92 2.02 2.12 2.22 2.32 2.42 2.52 2.62 2.72 2.82 2.92 3.02 3.12 3.22 3.32\n",
       "[16] 3.42 3.52 3.62 3.72 3.82 3.92 4.02 4.12 4.22 4.32 4.42 4.52"
      ]
     },
     "metadata": {},
     "output_type": "display_data"
    }
   ],
   "source": [
    "X1_range"
   ]
  },
  {
   "cell_type": "code",
   "execution_count": 44,
   "metadata": {
    "ExecuteTime": {
     "end_time": "2021-05-12T09:22:53.810168Z",
     "start_time": "2021-05-12T09:22:53.762Z"
    }
   },
   "outputs": [
    {
     "ename": "ERROR",
     "evalue": "Error in xy.coords(x, y, xlabel, ylabel, log): 'x' and 'y' lengths differ\n",
     "output_type": "error",
     "traceback": [
      "Error in xy.coords(x, y, xlabel, ylabel, log): 'x' and 'y' lengths differ\nTraceback:\n",
      "1. plot(X1_range, data_test[\"Predicted\"])",
      "2. plot.default(X1_range, data_test[\"Predicted\"])",
      "3. xy.coords(x, y, xlabel, ylabel, log)",
      "4. stop(\"'x' and 'y' lengths differ\")"
     ]
    }
   ],
   "source": [
    "plot(X1_range, data_test['Predicted'])"
   ]
  },
  {
   "cell_type": "code",
   "execution_count": 36,
   "metadata": {
    "ExecuteTime": {
     "end_time": "2021-05-12T09:20:06.632430Z",
     "start_time": "2021-05-12T09:20:06.585Z"
    }
   },
   "outputs": [
    {
     "ename": "ERROR",
     "evalue": "Error in data_test2[\"Predicted\"] <- fitted(logit): object 'data_test2' not found\n",
     "output_type": "error",
     "traceback": [
      "Error in data_test2[\"Predicted\"] <- fitted(logit): object 'data_test2' not found\nTraceback:\n"
     ]
    }
   ],
   "source": [
    "data_test2['Predicted'] <- round(fitted(glmNew), 3)\n",
    "head(data_test2, 50)"
   ]
  },
  {
   "cell_type": "code",
   "execution_count": 125,
   "metadata": {
    "ExecuteTime": {
     "end_time": "2021-05-11T19:40:01.206990Z",
     "start_time": "2021-05-11T19:40:01.151Z"
    }
   },
   "outputs": [
    {
     "data": {
      "text/html": [
       "<strong>(Intercept):</strong> 1"
      ],
      "text/latex": [
       "\\textbf{(Intercept):} 1"
      ],
      "text/markdown": [
       "**(Intercept):** 1"
      ],
      "text/plain": [
       "(Intercept) \n",
       "          1 "
      ]
     },
     "metadata": {},
     "output_type": "display_data"
    }
   ],
   "source": [
    "predNew(35,186,57)"
   ]
  },
  {
   "cell_type": "code",
   "execution_count": 128,
   "metadata": {
    "ExecuteTime": {
     "end_time": "2021-05-11T19:50:09.117254Z",
     "start_time": "2021-05-11T19:50:09.067Z"
    }
   },
   "outputs": [
    {
     "data": {
      "text/html": [
       "<strong>(Intercept):</strong> Inf"
      ],
      "text/latex": [
       "\\textbf{(Intercept):} Inf"
      ],
      "text/markdown": [
       "**(Intercept):** Inf"
      ],
      "text/plain": [
       "(Intercept) \n",
       "        Inf "
      ]
     },
     "metadata": {},
     "output_type": "display_data"
    }
   ],
   "source": [
    "odd(35,186,57)"
   ]
  },
  {
   "cell_type": "code",
   "execution_count": 59,
   "metadata": {
    "ExecuteTime": {
     "end_time": "2021-05-11T15:44:17.317151Z",
     "start_time": "2021-05-11T15:44:16.659Z"
    }
   },
   "outputs": [
    {
     "data": {
      "text/html": [
       "<strong>(Intercept):</strong> 0.522982094270321"
      ],
      "text/latex": [
       "\\textbf{(Intercept):} 0.522982094270321"
      ],
      "text/markdown": [
       "**(Intercept):** 0.522982094270321"
      ],
      "text/plain": [
       "(Intercept) \n",
       "  0.5229821 "
      ]
     },
     "metadata": {},
     "output_type": "display_data"
    }
   ],
   "source": [
    "pred(2.70)"
   ]
  },
  {
   "cell_type": "code",
   "execution_count": 65,
   "metadata": {
    "ExecuteTime": {
     "end_time": "2021-05-11T15:45:05.588181Z",
     "start_time": "2021-05-11T15:45:05.539Z"
    }
   },
   "outputs": [
    {
     "data": {
      "text/html": [
       "<strong>(Intercept):</strong> 0.992197622384634"
      ],
      "text/latex": [
       "\\textbf{(Intercept):} 0.992197622384634"
      ],
      "text/markdown": [
       "**(Intercept):** 0.992197622384634"
      ],
      "text/plain": [
       "(Intercept) \n",
       "  0.9921976 "
      ]
     },
     "metadata": {},
     "output_type": "display_data"
    }
   ],
   "source": [
    "pred(2.69)"
   ]
  },
  {
   "cell_type": "code",
   "execution_count": 205,
   "metadata": {
    "ExecuteTime": {
     "end_time": "2021-05-10T20:16:45.913642Z",
     "start_time": "2021-05-10T20:16:45.115Z"
    },
    "scrolled": false
   },
   "outputs": [
    {
     "data": {
      "image/png": "[encoded data removed]",
      "text/plain": [
       "Plot with title \"\""
      ]
     },
     "metadata": {
      "image/png": {
       "height": 420,
       "width": 420
      }
     },
     "output_type": "display_data"
    },
    {
     "data": {
      "image/png": "[encoded data removed]",
      "text/plain": [
       "Plot with title \"\""
      ]
     },
     "metadata": {
      "image/png": {
       "height": 420,
       "width": 420
      }
     },
     "output_type": "display_data"
    },
    {
     "name": "stderr",
     "output_type": "stream",
     "text": [
      "Warning message in sqrt(crit * p * (1 - hh)/hh):\n",
      "\"NaNs produced\"\n",
      "Warning message in sqrt(crit * p * (1 - hh)/hh):\n",
      "\"NaNs produced\"\n"
     ]
    },
    {
     "data": {
      "image/png": "[encoded data removed]",
      "text/plain": [
       "Plot with title \"\""
      ]
     },
     "metadata": {
      "image/png": {
       "height": 420,
       "width": 420
      }
     },
     "output_type": "display_data"
    },
    {
     "data": {
      "image/png": "[encoded data removed]",
      "text/plain": [
       "Plot with title \"\""
      ]
     },
     "metadata": {
      "image/png": {
       "height": 420,
       "width": 420
      }
     },
     "output_type": "display_data"
    }
   ],
   "source": [
    "plot(logit)"
   ]
  },
  {
   "cell_type": "code",
   "execution_count": null,
   "metadata": {},
   "outputs": [],
   "source": [
    "predicted.data <- data.frame()"
   ]
  },
  {
   "cell_type": "markdown",
   "metadata": {},
   "source": [
    "# TEST WITHOUT WEIGTH"
   ]
  },
  {
   "cell_type": "code",
   "execution_count": 55,
   "metadata": {
    "ExecuteTime": {
     "end_time": "2021-05-12T09:57:36.524693Z",
     "start_time": "2021-05-12T09:57:36.461Z"
    }
   },
   "outputs": [
    {
     "data": {
      "text/html": [
       "<table class=\"dataframe\">\n",
       "<caption>A data.frame: 6 × 16</caption>\n",
       "<thead>\n",
       "\t<tr><th></th><th scope=col>ï..ID</th><th scope=col>Length</th><th scope=col>Birthweight</th><th scope=col>Headcirc</th><th scope=col>Gestation</th><th scope=col>smoker</th><th scope=col>mage</th><th scope=col>mnocig</th><th scope=col>mheight</th><th scope=col>mppwt</th><th scope=col>fage</th><th scope=col>fedyrs</th><th scope=col>fnocig</th><th scope=col>fheight</th><th scope=col>lowbwt</th><th scope=col>mage35</th></tr>\n",
       "\t<tr><th></th><th scope=col>&lt;int&gt;</th><th scope=col>&lt;int&gt;</th><th scope=col>&lt;dbl&gt;</th><th scope=col>&lt;int&gt;</th><th scope=col>&lt;int&gt;</th><th scope=col>&lt;int&gt;</th><th scope=col>&lt;int&gt;</th><th scope=col>&lt;int&gt;</th><th scope=col>&lt;int&gt;</th><th scope=col>&lt;int&gt;</th><th scope=col>&lt;int&gt;</th><th scope=col>&lt;int&gt;</th><th scope=col>&lt;int&gt;</th><th scope=col>&lt;int&gt;</th><th scope=col>&lt;int&gt;</th><th scope=col>&lt;int&gt;</th></tr>\n",
       "</thead>\n",
       "<tbody>\n",
       "\t<tr><th scope=row>1</th><td>1360</td><td>56</td><td>4.55</td><td>34</td><td>44</td><td>0</td><td>20</td><td>0</td><td>162</td><td>57</td><td>23</td><td>10</td><td>35</td><td>179</td><td>0</td><td>0</td></tr>\n",
       "\t<tr><th scope=row>2</th><td>1016</td><td>53</td><td>4.32</td><td>36</td><td>40</td><td>0</td><td>19</td><td>0</td><td>171</td><td>62</td><td>19</td><td>12</td><td> 0</td><td>183</td><td>0</td><td>0</td></tr>\n",
       "\t<tr><th scope=row>3</th><td> 462</td><td>58</td><td>4.10</td><td>39</td><td>41</td><td>0</td><td>35</td><td>0</td><td>172</td><td>58</td><td>31</td><td>16</td><td>25</td><td>185</td><td>0</td><td>1</td></tr>\n",
       "\t<tr><th scope=row>4</th><td>1187</td><td>53</td><td>4.07</td><td>38</td><td>44</td><td>0</td><td>20</td><td>0</td><td>174</td><td>68</td><td>26</td><td>14</td><td>25</td><td>189</td><td>0</td><td>0</td></tr>\n",
       "\t<tr><th scope=row>5</th><td> 553</td><td>54</td><td>3.94</td><td>37</td><td>42</td><td>0</td><td>24</td><td>0</td><td>175</td><td>66</td><td>30</td><td>12</td><td> 0</td><td>184</td><td>0</td><td>0</td></tr>\n",
       "\t<tr><th scope=row>6</th><td>1636</td><td>51</td><td>3.93</td><td>38</td><td>38</td><td>0</td><td>29</td><td>0</td><td>165</td><td>61</td><td>31</td><td>16</td><td> 0</td><td>180</td><td>0</td><td>0</td></tr>\n",
       "</tbody>\n",
       "</table>\n"
      ],
      "text/latex": [
       "A data.frame: 6 × 16\n",
       "\\begin{tabular}{r|llllllllllllllll}\n",
       "  & ï..ID & Length & Birthweight & Headcirc & Gestation & smoker & mage & mnocig & mheight & mppwt & fage & fedyrs & fnocig & fheight & lowbwt & mage35\\\\\n",
       "  & <int> & <int> & <dbl> & <int> & <int> & <int> & <int> & <int> & <int> & <int> & <int> & <int> & <int> & <int> & <int> & <int>\\\\\n",
       "\\hline\n",
       "\t1 & 1360 & 56 & 4.55 & 34 & 44 & 0 & 20 & 0 & 162 & 57 & 23 & 10 & 35 & 179 & 0 & 0\\\\\n",
       "\t2 & 1016 & 53 & 4.32 & 36 & 40 & 0 & 19 & 0 & 171 & 62 & 19 & 12 &  0 & 183 & 0 & 0\\\\\n",
       "\t3 &  462 & 58 & 4.10 & 39 & 41 & 0 & 35 & 0 & 172 & 58 & 31 & 16 & 25 & 185 & 0 & 1\\\\\n",
       "\t4 & 1187 & 53 & 4.07 & 38 & 44 & 0 & 20 & 0 & 174 & 68 & 26 & 14 & 25 & 189 & 0 & 0\\\\\n",
       "\t5 &  553 & 54 & 3.94 & 37 & 42 & 0 & 24 & 0 & 175 & 66 & 30 & 12 &  0 & 184 & 0 & 0\\\\\n",
       "\t6 & 1636 & 51 & 3.93 & 38 & 38 & 0 & 29 & 0 & 165 & 61 & 31 & 16 &  0 & 180 & 0 & 0\\\\\n",
       "\\end{tabular}\n"
      ],
      "text/markdown": [
       "\n",
       "A data.frame: 6 × 16\n",
       "\n",
       "| <!--/--> | ï..ID &lt;int&gt; | Length &lt;int&gt; | Birthweight &lt;dbl&gt; | Headcirc &lt;int&gt; | Gestation &lt;int&gt; | smoker &lt;int&gt; | mage &lt;int&gt; | mnocig &lt;int&gt; | mheight &lt;int&gt; | mppwt &lt;int&gt; | fage &lt;int&gt; | fedyrs &lt;int&gt; | fnocig &lt;int&gt; | fheight &lt;int&gt; | lowbwt &lt;int&gt; | mage35 &lt;int&gt; |\n",
       "|---|---|---|---|---|---|---|---|---|---|---|---|---|---|---|---|---|\n",
       "| 1 | 1360 | 56 | 4.55 | 34 | 44 | 0 | 20 | 0 | 162 | 57 | 23 | 10 | 35 | 179 | 0 | 0 |\n",
       "| 2 | 1016 | 53 | 4.32 | 36 | 40 | 0 | 19 | 0 | 171 | 62 | 19 | 12 |  0 | 183 | 0 | 0 |\n",
       "| 3 |  462 | 58 | 4.10 | 39 | 41 | 0 | 35 | 0 | 172 | 58 | 31 | 16 | 25 | 185 | 0 | 1 |\n",
       "| 4 | 1187 | 53 | 4.07 | 38 | 44 | 0 | 20 | 0 | 174 | 68 | 26 | 14 | 25 | 189 | 0 | 0 |\n",
       "| 5 |  553 | 54 | 3.94 | 37 | 42 | 0 | 24 | 0 | 175 | 66 | 30 | 12 |  0 | 184 | 0 | 0 |\n",
       "| 6 | 1636 | 51 | 3.93 | 38 | 38 | 0 | 29 | 0 | 165 | 61 | 31 | 16 |  0 | 180 | 0 | 0 |\n",
       "\n"
      ],
      "text/plain": [
       "  ï..ID Length Birthweight Headcirc Gestation smoker mage mnocig mheight mppwt\n",
       "1 1360  56     4.55        34       44        0      20   0      162     57   \n",
       "2 1016  53     4.32        36       40        0      19   0      171     62   \n",
       "3  462  58     4.10        39       41        0      35   0      172     58   \n",
       "4 1187  53     4.07        38       44        0      20   0      174     68   \n",
       "5  553  54     3.94        37       42        0      24   0      175     66   \n",
       "6 1636  51     3.93        38       38        0      29   0      165     61   \n",
       "  fage fedyrs fnocig fheight lowbwt mage35\n",
       "1 23   10     35     179     0      0     \n",
       "2 19   12      0     183     0      0     \n",
       "3 31   16     25     185     0      1     \n",
       "4 26   14     25     189     0      0     \n",
       "5 30   12      0     184     0      0     \n",
       "6 31   16      0     180     0      0     "
      ]
     },
     "metadata": {},
     "output_type": "display_data"
    }
   ],
   "source": [
    "head(data)"
   ]
  },
  {
   "cell_type": "code",
   "execution_count": 56,
   "metadata": {
    "ExecuteTime": {
     "end_time": "2021-05-12T09:57:38.618402Z",
     "start_time": "2021-05-12T09:57:38.570Z"
    }
   },
   "outputs": [],
   "source": [
    "data2 <- subset(data, select=-c( ï..ID,Birthweight))"
   ]
  },
  {
   "cell_type": "code",
   "execution_count": 57,
   "metadata": {
    "ExecuteTime": {
     "end_time": "2021-05-12T09:57:41.412879Z",
     "start_time": "2021-05-12T09:57:41.341Z"
    }
   },
   "outputs": [
    {
     "data": {
      "text/html": [
       "<table class=\"dataframe\">\n",
       "<caption>A data.frame: 6 × 14</caption>\n",
       "<thead>\n",
       "\t<tr><th></th><th scope=col>Length</th><th scope=col>Headcirc</th><th scope=col>Gestation</th><th scope=col>smoker</th><th scope=col>mage</th><th scope=col>mnocig</th><th scope=col>mheight</th><th scope=col>mppwt</th><th scope=col>fage</th><th scope=col>fedyrs</th><th scope=col>fnocig</th><th scope=col>fheight</th><th scope=col>lowbwt</th><th scope=col>mage35</th></tr>\n",
       "\t<tr><th></th><th scope=col>&lt;int&gt;</th><th scope=col>&lt;int&gt;</th><th scope=col>&lt;int&gt;</th><th scope=col>&lt;int&gt;</th><th scope=col>&lt;int&gt;</th><th scope=col>&lt;int&gt;</th><th scope=col>&lt;int&gt;</th><th scope=col>&lt;int&gt;</th><th scope=col>&lt;int&gt;</th><th scope=col>&lt;int&gt;</th><th scope=col>&lt;int&gt;</th><th scope=col>&lt;int&gt;</th><th scope=col>&lt;int&gt;</th><th scope=col>&lt;int&gt;</th></tr>\n",
       "</thead>\n",
       "<tbody>\n",
       "\t<tr><th scope=row>1</th><td>56</td><td>34</td><td>44</td><td>0</td><td>20</td><td>0</td><td>162</td><td>57</td><td>23</td><td>10</td><td>35</td><td>179</td><td>0</td><td>0</td></tr>\n",
       "\t<tr><th scope=row>2</th><td>53</td><td>36</td><td>40</td><td>0</td><td>19</td><td>0</td><td>171</td><td>62</td><td>19</td><td>12</td><td> 0</td><td>183</td><td>0</td><td>0</td></tr>\n",
       "\t<tr><th scope=row>3</th><td>58</td><td>39</td><td>41</td><td>0</td><td>35</td><td>0</td><td>172</td><td>58</td><td>31</td><td>16</td><td>25</td><td>185</td><td>0</td><td>1</td></tr>\n",
       "\t<tr><th scope=row>4</th><td>53</td><td>38</td><td>44</td><td>0</td><td>20</td><td>0</td><td>174</td><td>68</td><td>26</td><td>14</td><td>25</td><td>189</td><td>0</td><td>0</td></tr>\n",
       "\t<tr><th scope=row>5</th><td>54</td><td>37</td><td>42</td><td>0</td><td>24</td><td>0</td><td>175</td><td>66</td><td>30</td><td>12</td><td> 0</td><td>184</td><td>0</td><td>0</td></tr>\n",
       "\t<tr><th scope=row>6</th><td>51</td><td>38</td><td>38</td><td>0</td><td>29</td><td>0</td><td>165</td><td>61</td><td>31</td><td>16</td><td> 0</td><td>180</td><td>0</td><td>0</td></tr>\n",
       "</tbody>\n",
       "</table>\n"
      ],
      "text/latex": [
       "A data.frame: 6 × 14\n",
       "\\begin{tabular}{r|llllllllllllll}\n",
       "  & Length & Headcirc & Gestation & smoker & mage & mnocig & mheight & mppwt & fage & fedyrs & fnocig & fheight & lowbwt & mage35\\\\\n",
       "  & <int> & <int> & <int> & <int> & <int> & <int> & <int> & <int> & <int> & <int> & <int> & <int> & <int> & <int>\\\\\n",
       "\\hline\n",
       "\t1 & 56 & 34 & 44 & 0 & 20 & 0 & 162 & 57 & 23 & 10 & 35 & 179 & 0 & 0\\\\\n",
       "\t2 & 53 & 36 & 40 & 0 & 19 & 0 & 171 & 62 & 19 & 12 &  0 & 183 & 0 & 0\\\\\n",
       "\t3 & 58 & 39 & 41 & 0 & 35 & 0 & 172 & 58 & 31 & 16 & 25 & 185 & 0 & 1\\\\\n",
       "\t4 & 53 & 38 & 44 & 0 & 20 & 0 & 174 & 68 & 26 & 14 & 25 & 189 & 0 & 0\\\\\n",
       "\t5 & 54 & 37 & 42 & 0 & 24 & 0 & 175 & 66 & 30 & 12 &  0 & 184 & 0 & 0\\\\\n",
       "\t6 & 51 & 38 & 38 & 0 & 29 & 0 & 165 & 61 & 31 & 16 &  0 & 180 & 0 & 0\\\\\n",
       "\\end{tabular}\n"
      ],
      "text/markdown": [
       "\n",
       "A data.frame: 6 × 14\n",
       "\n",
       "| <!--/--> | Length &lt;int&gt; | Headcirc &lt;int&gt; | Gestation &lt;int&gt; | smoker &lt;int&gt; | mage &lt;int&gt; | mnocig &lt;int&gt; | mheight &lt;int&gt; | mppwt &lt;int&gt; | fage &lt;int&gt; | fedyrs &lt;int&gt; | fnocig &lt;int&gt; | fheight &lt;int&gt; | lowbwt &lt;int&gt; | mage35 &lt;int&gt; |\n",
       "|---|---|---|---|---|---|---|---|---|---|---|---|---|---|---|\n",
       "| 1 | 56 | 34 | 44 | 0 | 20 | 0 | 162 | 57 | 23 | 10 | 35 | 179 | 0 | 0 |\n",
       "| 2 | 53 | 36 | 40 | 0 | 19 | 0 | 171 | 62 | 19 | 12 |  0 | 183 | 0 | 0 |\n",
       "| 3 | 58 | 39 | 41 | 0 | 35 | 0 | 172 | 58 | 31 | 16 | 25 | 185 | 0 | 1 |\n",
       "| 4 | 53 | 38 | 44 | 0 | 20 | 0 | 174 | 68 | 26 | 14 | 25 | 189 | 0 | 0 |\n",
       "| 5 | 54 | 37 | 42 | 0 | 24 | 0 | 175 | 66 | 30 | 12 |  0 | 184 | 0 | 0 |\n",
       "| 6 | 51 | 38 | 38 | 0 | 29 | 0 | 165 | 61 | 31 | 16 |  0 | 180 | 0 | 0 |\n",
       "\n"
      ],
      "text/plain": [
       "  Length Headcirc Gestation smoker mage mnocig mheight mppwt fage fedyrs fnocig\n",
       "1 56     34       44        0      20   0      162     57    23   10     35    \n",
       "2 53     36       40        0      19   0      171     62    19   12      0    \n",
       "3 58     39       41        0      35   0      172     58    31   16     25    \n",
       "4 53     38       44        0      20   0      174     68    26   14     25    \n",
       "5 54     37       42        0      24   0      175     66    30   12      0    \n",
       "6 51     38       38        0      29   0      165     61    31   16      0    \n",
       "  fheight lowbwt mage35\n",
       "1 179     0      0     \n",
       "2 183     0      0     \n",
       "3 185     0      1     \n",
       "4 189     0      0     \n",
       "5 184     0      0     \n",
       "6 180     0      0     "
      ]
     },
     "metadata": {},
     "output_type": "display_data"
    }
   ],
   "source": [
    "head(data2)"
   ]
  },
  {
   "cell_type": "code",
   "execution_count": 58,
   "metadata": {
    "ExecuteTime": {
     "end_time": "2021-05-12T09:57:44.050164Z",
     "start_time": "2021-05-12T09:57:43.996Z"
    }
   },
   "outputs": [
    {
     "data": {
      "text/plain": [
       "\n",
       "Call:\n",
       "glm(formula = lowbwt ~ 0, data = data2)\n",
       "\n",
       "Deviance Residuals: \n",
       "   Min      1Q  Median      3Q     Max  \n",
       "     0       0       0       0       1  \n",
       "\n",
       "No Coefficients\n",
       "\n",
       "(Dispersion parameter for gaussian family taken to be 0.1428571)\n",
       "\n",
       "    Null deviance: 6  on 42  degrees of freedom\n",
       "Residual deviance: 6  on 42  degrees of freedom\n",
       "AIC: 39.463\n",
       "\n",
       "Number of Fisher Scoring iterations: 0\n"
      ]
     },
     "metadata": {},
     "output_type": "display_data"
    }
   ],
   "source": [
    "lmEmpty2 <- glm(lowbwt ~ 0, data=data2)\n",
    "summary(lmEmpty2)"
   ]
  },
  {
   "cell_type": "code",
   "execution_count": 59,
   "metadata": {
    "ExecuteTime": {
     "end_time": "2021-05-12T09:57:46.058729Z",
     "start_time": "2021-05-12T09:57:45.997Z"
    }
   },
   "outputs": [
    {
     "data": {
      "text/plain": [
       "\n",
       "Call:\n",
       "glm(formula = lowbwt ~ Length + Headcirc + Gestation + mage + \n",
       "    mheight + mppwt + fage + fedyrs + fheight + mage35, data = data2)\n",
       "\n",
       "Deviance Residuals: \n",
       "     Min        1Q    Median        3Q       Max  \n",
       "-0.38900  -0.11821  -0.02827   0.07859   0.51529  \n",
       "\n",
       "Coefficients:\n",
       "             Estimate Std. Error t value Pr(>|t|)  \n",
       "(Intercept)  1.891519   1.542010   1.227   0.2292  \n",
       "Length      -0.053323   0.023817  -2.239   0.0325 *\n",
       "Headcirc    -0.011946   0.021827  -0.547   0.5881  \n",
       "Gestation   -0.039481   0.022602  -1.747   0.0906 .\n",
       "mage        -0.012089   0.020641  -0.586   0.5623  \n",
       "mheight      0.007655   0.010495   0.729   0.4712  \n",
       "mppwt       -0.009738   0.008522  -1.143   0.2619  \n",
       "fage         0.004461   0.013916   0.321   0.7507  \n",
       "fedyrs      -0.020491   0.021475  -0.954   0.3474  \n",
       "fheight      0.014784   0.006497   2.275   0.0299 *\n",
       "mage35       0.438340   0.227460   1.927   0.0632 .\n",
       "---\n",
       "Signif. codes:  0 '***' 0.001 '**' 0.01 '*' 0.05 '.' 0.1 ' ' 1\n",
       "\n",
       "(Dispersion parameter for gaussian family taken to be 0.06496896)\n",
       "\n",
       "    Null deviance: 5.1429  on 41  degrees of freedom\n",
       "Residual deviance: 2.0140  on 31  degrees of freedom\n",
       "AIC: 15.615\n",
       "\n",
       "Number of Fisher Scoring iterations: 2\n"
      ]
     },
     "metadata": {},
     "output_type": "display_data"
    }
   ],
   "source": [
    "lmAll2 <- glm(lowbwt ~ Length + Headcirc + Gestation + mage + mheight + mppwt + fage +\n",
    "             fedyrs + fheight + mage35, data=data2)\n",
    "summary(lmAll2)"
   ]
  },
  {
   "cell_type": "code",
   "execution_count": 60,
   "metadata": {
    "ExecuteTime": {
     "end_time": "2021-05-12T09:57:48.128087Z",
     "start_time": "2021-05-12T09:57:47.978Z"
    }
   },
   "outputs": [
    {
     "name": "stdout",
     "output_type": "stream",
     "text": [
      "Start:  AIC=39.46\n",
      "lowbwt ~ 0\n",
      "\n",
      "            Df Deviance    AIC\n",
      "+ fheight    1   5.1282 34.869\n",
      "+ mheight    1   5.1763 35.261\n",
      "+ mage       1   5.2478 35.837\n",
      "+ Headcirc   1   5.2701 36.014\n",
      "+ fedyrs     1   5.2812 36.103\n",
      "+ Length     1   5.2837 36.123\n",
      "+ Gestation  1   5.3064 36.303\n",
      "+ mppwt      1   5.3271 36.467\n",
      "+ fage       1   5.4003 37.040\n",
      "<none>           6.0000 39.463\n",
      "+ mage35     1   5.7500 39.675\n",
      "\n",
      "Step:  AIC=34.87\n",
      "lowbwt ~ fheight - 1\n",
      "\n",
      "            Df Deviance    AIC\n",
      "+ Gestation  1   3.1123 15.895\n",
      "+ Length     1   3.1675 16.633\n",
      "+ Headcirc   1   4.1363 27.840\n",
      "+ mppwt      1   4.4087 30.519\n",
      "+ fage       1   4.8295 34.348\n",
      "+ mheight    1   4.8367 34.410\n",
      "<none>           5.1282 34.869\n",
      "+ fedyrs     1   4.9086 35.030\n",
      "+ mage35     1   5.0757 36.437\n",
      "+ mage       1   5.0922 36.573\n",
      "\n",
      "Step:  AIC=15.89\n",
      "lowbwt ~ fheight + Gestation - 1\n",
      "\n",
      "           Df Deviance    AIC\n",
      "+ Length    1   2.8364 13.995\n",
      "+ mppwt     1   2.9112 15.089\n",
      "+ mage35    1   2.9571 15.745\n",
      "<none>          3.1124 15.895\n",
      "+ Headcirc  1   3.0011 16.366\n",
      "+ fedyrs    1   3.0748 17.385\n",
      "+ fage      1   3.1037 17.777\n",
      "+ mheight   1   3.1066 17.817\n",
      "+ mage      1   3.1092 17.852\n",
      "\n",
      "Step:  AIC=14\n",
      "lowbwt ~ fheight + Gestation + Length - 1\n",
      "\n",
      "           Df Deviance    AIC\n",
      "+ mage35    1   2.5528 11.570\n",
      "<none>          2.8364 13.995\n",
      "+ mppwt     1   2.7528 14.738\n",
      "+ mheight   1   2.7768 15.104\n",
      "+ fedyrs    1   2.8045 15.520\n",
      "+ mage      1   2.8105 15.610\n",
      "+ Headcirc  1   2.8286 15.879\n",
      "+ fage      1   2.8364 15.995\n",
      "\n",
      "Step:  AIC=11.57\n",
      "lowbwt ~ fheight + Gestation + Length + mage35 - 1\n",
      "\n",
      "           Df Deviance    AIC\n",
      "+ fedyrs    1   2.4240 11.396\n",
      "<none>          2.5528 11.570\n",
      "+ mppwt     1   2.4352 11.590\n",
      "+ mage      1   2.4801 12.358\n",
      "+ fage      1   2.5176 12.988\n",
      "+ mheight   1   2.5222 13.064\n",
      "+ Headcirc  1   2.5459 13.457\n",
      "\n",
      "Step:  AIC=11.4\n",
      "lowbwt ~ fheight + Gestation + Length + mage35 + fedyrs - 1\n",
      "\n",
      "           Df Deviance    AIC\n",
      "<none>          2.4240 11.396\n",
      "+ mppwt     1   2.3383 11.884\n",
      "+ mheight   1   2.3852 12.719\n",
      "+ mage      1   2.4040 13.048\n",
      "+ fage      1   2.4144 13.230\n",
      "+ Headcirc  1   2.4229 13.378\n"
     ]
    },
    {
     "data": {
      "text/plain": [
       "\n",
       "Call:  glm(formula = lowbwt ~ fheight + Gestation + Length + mage35 + \n",
       "    fedyrs - 1, data = data2)\n",
       "\n",
       "Coefficients:\n",
       "  fheight  Gestation     Length     mage35     fedyrs  \n",
       "  0.02498   -0.03917   -0.04863    0.35191   -0.02712  \n",
       "\n",
       "Degrees of Freedom: 42 Total (i.e. Null);  37 Residual\n",
       "Null Deviance:\t    6 \n",
       "Residual Deviance: 2.424 \tAIC: 11.4"
      ]
     },
     "metadata": {},
     "output_type": "display_data"
    }
   ],
   "source": [
    "step(lmEmpty2, direction = \"forward\", scope=formula(lmAll2))"
   ]
  },
  {
   "cell_type": "code",
   "execution_count": 61,
   "metadata": {
    "ExecuteTime": {
     "end_time": "2021-05-12T09:57:51.445003Z",
     "start_time": "2021-05-12T09:57:51.365Z"
    }
   },
   "outputs": [
    {
     "name": "stderr",
     "output_type": "stream",
     "text": [
      "Warning message:\n",
      "\"glm.fit: algorithm did not converge\"\n",
      "Warning message:\n",
      "\"glm.fit: fitted probabilities numerically 0 or 1 occurred\"\n"
     ]
    },
    {
     "data": {
      "text/plain": [
       "\n",
       "Call:\n",
       "glm(formula = lowbwt ~ Gestation + fheight + mppwt, family = \"binomial\", \n",
       "    data = data2)\n",
       "\n",
       "Deviance Residuals: \n",
       "       Min          1Q      Median          3Q         Max  \n",
       "-1.002e-04  -2.100e-08  -2.100e-08  -2.100e-08   1.141e-04  \n",
       "\n",
       "Coefficients:\n",
       "             Estimate Std. Error z value Pr(>|z|)\n",
       "(Intercept)   3215.55  813436.88   0.004    0.997\n",
       "Gestation     -109.96   28231.09  -0.004    0.997\n",
       "fheight         11.85    3425.32   0.003    0.997\n",
       "mppwt          -24.52    6270.86  -0.004    0.997\n",
       "\n",
       "(Dispersion parameter for binomial family taken to be 1)\n",
       "\n",
       "    Null deviance: 3.4450e+01  on 41  degrees of freedom\n",
       "Residual deviance: 3.2246e-08  on 38  degrees of freedom\n",
       "AIC: 8\n",
       "\n",
       "Number of Fisher Scoring iterations: 25\n"
      ]
     },
     "metadata": {},
     "output_type": "display_data"
    }
   ],
   "source": [
    "glmNew <- glm(lowbwt ~ Gestation + fheight + mppwt , data=data2, family=\"binomial\")\n",
    "summary(glmNew)"
   ]
  },
  {
   "cell_type": "code",
   "execution_count": null,
   "metadata": {},
   "outputs": [],
   "source": []
  },
  {
   "cell_type": "markdown",
   "metadata": {},
   "source": [
    "#  Classification Table\n"
   ]
  },
  {
   "cell_type": "code",
   "execution_count": 63,
   "metadata": {
    "ExecuteTime": {
     "end_time": "2021-05-12T09:58:33.747602Z",
     "start_time": "2021-05-12T09:58:33.693Z"
    }
   },
   "outputs": [
    {
     "data": {
      "text/plain": [
       "      predicted\n",
       "actual  0  1\n",
       "     0 36  0\n",
       "     1  0  6"
      ]
     },
     "metadata": {},
     "output_type": "display_data"
    }
   ],
   "source": [
    "actual <- lowbwt\n",
    "predicted <- round(fitted(glmNew))\n",
    "xt <- xtabs(~actual + predicted)\n",
    "xt"
   ]
  },
  {
   "cell_type": "code",
   "execution_count": null,
   "metadata": {},
   "outputs": [],
   "source": []
  },
  {
   "cell_type": "code",
   "execution_count": 64,
   "metadata": {
    "ExecuteTime": {
     "end_time": "2021-05-12T09:58:38.231031Z",
     "start_time": "2021-05-12T09:58:38.181Z"
    }
   },
   "outputs": [
    {
     "data": {
      "text/html": [
       "1"
      ],
      "text/latex": [
       "1"
      ],
      "text/markdown": [
       "1"
      ],
      "text/plain": [
       "[1] 1"
      ]
     },
     "metadata": {},
     "output_type": "display_data"
    }
   ],
   "source": [
    "accuracy <- (xt[1,1] + xt[2,2])/sum(xt)\n",
    "accuracy"
   ]
  },
  {
   "cell_type": "code",
   "execution_count": 65,
   "metadata": {
    "ExecuteTime": {
     "end_time": "2021-05-12T09:58:46.722060Z",
     "start_time": "2021-05-12T09:58:46.668Z"
    }
   },
   "outputs": [
    {
     "data": {
      "text/html": [
       "<style>\n",
       ".dl-inline {width: auto; margin:0; padding: 0}\n",
       ".dl-inline>dt, .dl-inline>dd {float: none; width: auto; display: inline-block}\n",
       ".dl-inline>dt::after {content: \":\\0020\"; padding-right: .5ex}\n",
       ".dl-inline>dt:not(:first-of-type) {padding-left: .5ex}\n",
       "</style><dl class=dl-inline><dt>(Intercept)</dt><dd>3215.54955615714</dd><dt>Gestation</dt><dd>-109.957705816368</dd><dt>fheight</dt><dd>11.8450490629103</dd><dt>mppwt</dt><dd>-24.5153190079156</dd></dl>\n"
      ],
      "text/latex": [
       "\\begin{description*}\n",
       "\\item[(Intercept)] 3215.54955615714\n",
       "\\item[Gestation] -109.957705816368\n",
       "\\item[fheight] 11.8450490629103\n",
       "\\item[mppwt] -24.5153190079156\n",
       "\\end{description*}\n"
      ],
      "text/markdown": [
       "(Intercept)\n",
       ":   3215.54955615714Gestation\n",
       ":   -109.957705816368fheight\n",
       ":   11.8450490629103mppwt\n",
       ":   -24.5153190079156\n",
       "\n"
      ],
      "text/plain": [
       "(Intercept)   Gestation     fheight       mppwt \n",
       " 3215.54956  -109.95771    11.84505   -24.51532 "
      ]
     },
     "metadata": {},
     "output_type": "display_data"
    }
   ],
   "source": [
    "coef(glmNew)"
   ]
  },
  {
   "cell_type": "code",
   "execution_count": 66,
   "metadata": {
    "ExecuteTime": {
     "end_time": "2021-05-12T09:58:51.907042Z",
     "start_time": "2021-05-12T09:58:51.861Z"
    }
   },
   "outputs": [
    {
     "data": {
      "text/html": [
       "<style>\n",
       ".dl-inline {width: auto; margin:0; padding: 0}\n",
       ".dl-inline>dt, .dl-inline>dd {float: none; width: auto; display: inline-block}\n",
       ".dl-inline>dt::after {content: \":\\0020\"; padding-right: .5ex}\n",
       ".dl-inline>dt:not(:first-of-type) {padding-left: .5ex}\n",
       "</style><dl class=dl-inline><dt>(Intercept)</dt><dd>Inf</dd><dt>Gestation</dt><dd>1.76187511357125e-48</dd><dt>fheight</dt><dd>139392.512413984</dd><dt>mppwt</dt><dd>2.25492568107951e-11</dd></dl>\n"
      ],
      "text/latex": [
       "\\begin{description*}\n",
       "\\item[(Intercept)] Inf\n",
       "\\item[Gestation] 1.76187511357125e-48\n",
       "\\item[fheight] 139392.512413984\n",
       "\\item[mppwt] 2.25492568107951e-11\n",
       "\\end{description*}\n"
      ],
      "text/markdown": [
       "(Intercept)\n",
       ":   InfGestation\n",
       ":   1.76187511357125e-48fheight\n",
       ":   139392.512413984mppwt\n",
       ":   2.25492568107951e-11\n",
       "\n"
      ],
      "text/plain": [
       " (Intercept)    Gestation      fheight        mppwt \n",
       "         Inf 1.761875e-48 1.393925e+05 2.254926e-11 "
      ]
     },
     "metadata": {},
     "output_type": "display_data"
    }
   ],
   "source": [
    "exp(coef(glmNew))"
   ]
  },
  {
   "cell_type": "code",
   "execution_count": 67,
   "metadata": {
    "ExecuteTime": {
     "end_time": "2021-05-12T09:58:58.616703Z",
     "start_time": "2021-05-12T09:58:58.371Z"
    }
   },
   "outputs": [
    {
     "name": "stderr",
     "output_type": "stream",
     "text": [
      "Waiting for profiling to be done...\n",
      "\n",
      "Warning message:\n",
      "\"glm.fit: fitted probabilities numerically 0 or 1 occurred\"\n",
      "Warning message:\n",
      "\"glm.fit: fitted probabilities numerically 0 or 1 occurred\"\n",
      "Warning message:\n",
      "\"glm.fit: fitted probabilities numerically 0 or 1 occurred\"\n",
      "Warning message:\n",
      "\"glm.fit: fitted probabilities numerically 0 or 1 occurred\"\n",
      "Warning message:\n",
      "\"glm.fit: fitted probabilities numerically 0 or 1 occurred\"\n",
      "Warning message:\n",
      "\"glm.fit: fitted probabilities numerically 0 or 1 occurred\"\n",
      "Warning message:\n",
      "\"glm.fit: fitted probabilities numerically 0 or 1 occurred\"\n",
      "Warning message:\n",
      "\"glm.fit: fitted probabilities numerically 0 or 1 occurred\"\n",
      "Warning message:\n",
      "\"glm.fit: fitted probabilities numerically 0 or 1 occurred\"\n",
      "Warning message:\n",
      "\"glm.fit: fitted probabilities numerically 0 or 1 occurred\"\n",
      "Warning message:\n",
      "\"glm.fit: fitted probabilities numerically 0 or 1 occurred\"\n",
      "Warning message:\n",
      "\"glm.fit: fitted probabilities numerically 0 or 1 occurred\"\n"
     ]
    },
    {
     "data": {
      "text/html": [
       "<table class=\"dataframe\">\n",
       "<caption>A matrix: 4 × 3 of type dbl</caption>\n",
       "<thead>\n",
       "\t<tr><th></th><th scope=col>OR</th><th scope=col>2.5 %</th><th scope=col>97.5 %</th></tr>\n",
       "</thead>\n",
       "<tbody>\n",
       "\t<tr><th scope=row>(Intercept)</th><td>         Inf</td><td>0</td><td>Inf</td></tr>\n",
       "\t<tr><th scope=row>Gestation</th><td>1.761875e-48</td><td>0</td><td>Inf</td></tr>\n",
       "\t<tr><th scope=row>fheight</th><td>1.393925e+05</td><td>0</td><td>Inf</td></tr>\n",
       "\t<tr><th scope=row>mppwt</th><td>2.254926e-11</td><td>0</td><td>Inf</td></tr>\n",
       "</tbody>\n",
       "</table>\n"
      ],
      "text/latex": [
       "A matrix: 4 × 3 of type dbl\n",
       "\\begin{tabular}{r|lll}\n",
       "  & OR & 2.5 \\% & 97.5 \\%\\\\\n",
       "\\hline\n",
       "\t(Intercept) &          Inf & 0 & Inf\\\\\n",
       "\tGestation & 1.761875e-48 & 0 & Inf\\\\\n",
       "\tfheight & 1.393925e+05 & 0 & Inf\\\\\n",
       "\tmppwt & 2.254926e-11 & 0 & Inf\\\\\n",
       "\\end{tabular}\n"
      ],
      "text/markdown": [
       "\n",
       "A matrix: 4 × 3 of type dbl\n",
       "\n",
       "| <!--/--> | OR | 2.5 % | 97.5 % |\n",
       "|---|---|---|---|\n",
       "| (Intercept) |          Inf | 0 | Inf |\n",
       "| Gestation | 1.761875e-48 | 0 | Inf |\n",
       "| fheight | 1.393925e+05 | 0 | Inf |\n",
       "| mppwt | 2.254926e-11 | 0 | Inf |\n",
       "\n"
      ],
      "text/plain": [
       "            OR           2.5 % 97.5 %\n",
       "(Intercept)          Inf 0     Inf   \n",
       "Gestation   1.761875e-48 0     Inf   \n",
       "fheight     1.393925e+05 0     Inf   \n",
       "mppwt       2.254926e-11 0     Inf   "
      ]
     },
     "metadata": {},
     "output_type": "display_data"
    }
   ],
   "source": [
    "exp(cbind(OR = coef(glmNew), confint(glmNew)))"
   ]
  },
  {
   "cell_type": "code",
   "execution_count": 49,
   "metadata": {
    "ExecuteTime": {
     "end_time": "2021-05-10T08:25:05.754654Z",
     "start_time": "2021-05-10T08:25:05.712Z"
    }
   },
   "outputs": [],
   "source": [
    "linpred <- function(Birthweight, Gestation)\n",
    "{\n",
    "    c <- coef(glm2)\n",
    "    c[[1]] + c[[2]] * Birthweight + c[[3]] * Gestation\n",
    "}"
   ]
  },
  {
   "cell_type": "code",
   "execution_count": 53,
   "metadata": {
    "ExecuteTime": {
     "end_time": "2021-05-10T08:28:18.283134Z",
     "start_time": "2021-05-10T08:28:18.239Z"
    }
   },
   "outputs": [],
   "source": [
    "pred <- function (Birthweight, Gestation)\n",
    "{\n",
    "    b <- exp(linpred(Birthweight, Gestation))\n",
    "    b/(1+b)   \n",
    "}"
   ]
  },
  {
   "cell_type": "code",
   "execution_count": 51,
   "metadata": {
    "ExecuteTime": {
     "end_time": "2021-05-10T08:26:43.230683Z",
     "start_time": "2021-05-10T08:26:43.145Z"
    }
   },
   "outputs": [
    {
     "data": {
      "text/html": [
       "<table class=\"dataframe\">\n",
       "<caption>A data.frame: 6 × 15</caption>\n",
       "<thead>\n",
       "\t<tr><th></th><th scope=col>Length</th><th scope=col>Birthweight</th><th scope=col>Headcirc</th><th scope=col>Gestation</th><th scope=col>smoker</th><th scope=col>mage</th><th scope=col>mnocig</th><th scope=col>mheight</th><th scope=col>mppwt</th><th scope=col>fage</th><th scope=col>fedyrs</th><th scope=col>fnocig</th><th scope=col>fheight</th><th scope=col>lowbwt</th><th scope=col>mage35</th></tr>\n",
       "\t<tr><th></th><th scope=col>&lt;int&gt;</th><th scope=col>&lt;dbl&gt;</th><th scope=col>&lt;int&gt;</th><th scope=col>&lt;int&gt;</th><th scope=col>&lt;int&gt;</th><th scope=col>&lt;int&gt;</th><th scope=col>&lt;int&gt;</th><th scope=col>&lt;int&gt;</th><th scope=col>&lt;int&gt;</th><th scope=col>&lt;int&gt;</th><th scope=col>&lt;int&gt;</th><th scope=col>&lt;int&gt;</th><th scope=col>&lt;int&gt;</th><th scope=col>&lt;int&gt;</th><th scope=col>&lt;int&gt;</th></tr>\n",
       "</thead>\n",
       "<tbody>\n",
       "\t<tr><th scope=row>1</th><td>56</td><td>4.55</td><td>34</td><td>44</td><td>0</td><td>20</td><td>0</td><td>162</td><td>57</td><td>23</td><td>10</td><td>35</td><td>179</td><td>0</td><td>0</td></tr>\n",
       "\t<tr><th scope=row>2</th><td>53</td><td>4.32</td><td>36</td><td>40</td><td>0</td><td>19</td><td>0</td><td>171</td><td>62</td><td>19</td><td>12</td><td> 0</td><td>183</td><td>0</td><td>0</td></tr>\n",
       "\t<tr><th scope=row>3</th><td>58</td><td>4.10</td><td>39</td><td>41</td><td>0</td><td>35</td><td>0</td><td>172</td><td>58</td><td>31</td><td>16</td><td>25</td><td>185</td><td>0</td><td>1</td></tr>\n",
       "\t<tr><th scope=row>4</th><td>53</td><td>4.07</td><td>38</td><td>44</td><td>0</td><td>20</td><td>0</td><td>174</td><td>68</td><td>26</td><td>14</td><td>25</td><td>189</td><td>0</td><td>0</td></tr>\n",
       "\t<tr><th scope=row>5</th><td>54</td><td>3.94</td><td>37</td><td>42</td><td>0</td><td>24</td><td>0</td><td>175</td><td>66</td><td>30</td><td>12</td><td> 0</td><td>184</td><td>0</td><td>0</td></tr>\n",
       "\t<tr><th scope=row>6</th><td>51</td><td>3.93</td><td>38</td><td>38</td><td>0</td><td>29</td><td>0</td><td>165</td><td>61</td><td>31</td><td>16</td><td> 0</td><td>180</td><td>0</td><td>0</td></tr>\n",
       "</tbody>\n",
       "</table>\n"
      ],
      "text/latex": [
       "A data.frame: 6 × 15\n",
       "\\begin{tabular}{r|lllllllllllllll}\n",
       "  & Length & Birthweight & Headcirc & Gestation & smoker & mage & mnocig & mheight & mppwt & fage & fedyrs & fnocig & fheight & lowbwt & mage35\\\\\n",
       "  & <int> & <dbl> & <int> & <int> & <int> & <int> & <int> & <int> & <int> & <int> & <int> & <int> & <int> & <int> & <int>\\\\\n",
       "\\hline\n",
       "\t1 & 56 & 4.55 & 34 & 44 & 0 & 20 & 0 & 162 & 57 & 23 & 10 & 35 & 179 & 0 & 0\\\\\n",
       "\t2 & 53 & 4.32 & 36 & 40 & 0 & 19 & 0 & 171 & 62 & 19 & 12 &  0 & 183 & 0 & 0\\\\\n",
       "\t3 & 58 & 4.10 & 39 & 41 & 0 & 35 & 0 & 172 & 58 & 31 & 16 & 25 & 185 & 0 & 1\\\\\n",
       "\t4 & 53 & 4.07 & 38 & 44 & 0 & 20 & 0 & 174 & 68 & 26 & 14 & 25 & 189 & 0 & 0\\\\\n",
       "\t5 & 54 & 3.94 & 37 & 42 & 0 & 24 & 0 & 175 & 66 & 30 & 12 &  0 & 184 & 0 & 0\\\\\n",
       "\t6 & 51 & 3.93 & 38 & 38 & 0 & 29 & 0 & 165 & 61 & 31 & 16 &  0 & 180 & 0 & 0\\\\\n",
       "\\end{tabular}\n"
      ],
      "text/markdown": [
       "\n",
       "A data.frame: 6 × 15\n",
       "\n",
       "| <!--/--> | Length &lt;int&gt; | Birthweight &lt;dbl&gt; | Headcirc &lt;int&gt; | Gestation &lt;int&gt; | smoker &lt;int&gt; | mage &lt;int&gt; | mnocig &lt;int&gt; | mheight &lt;int&gt; | mppwt &lt;int&gt; | fage &lt;int&gt; | fedyrs &lt;int&gt; | fnocig &lt;int&gt; | fheight &lt;int&gt; | lowbwt &lt;int&gt; | mage35 &lt;int&gt; |\n",
       "|---|---|---|---|---|---|---|---|---|---|---|---|---|---|---|---|\n",
       "| 1 | 56 | 4.55 | 34 | 44 | 0 | 20 | 0 | 162 | 57 | 23 | 10 | 35 | 179 | 0 | 0 |\n",
       "| 2 | 53 | 4.32 | 36 | 40 | 0 | 19 | 0 | 171 | 62 | 19 | 12 |  0 | 183 | 0 | 0 |\n",
       "| 3 | 58 | 4.10 | 39 | 41 | 0 | 35 | 0 | 172 | 58 | 31 | 16 | 25 | 185 | 0 | 1 |\n",
       "| 4 | 53 | 4.07 | 38 | 44 | 0 | 20 | 0 | 174 | 68 | 26 | 14 | 25 | 189 | 0 | 0 |\n",
       "| 5 | 54 | 3.94 | 37 | 42 | 0 | 24 | 0 | 175 | 66 | 30 | 12 |  0 | 184 | 0 | 0 |\n",
       "| 6 | 51 | 3.93 | 38 | 38 | 0 | 29 | 0 | 165 | 61 | 31 | 16 |  0 | 180 | 0 | 0 |\n",
       "\n"
      ],
      "text/plain": [
       "  Length Birthweight Headcirc Gestation smoker mage mnocig mheight mppwt fage\n",
       "1 56     4.55        34       44        0      20   0      162     57    23  \n",
       "2 53     4.32        36       40        0      19   0      171     62    19  \n",
       "3 58     4.10        39       41        0      35   0      172     58    31  \n",
       "4 53     4.07        38       44        0      20   0      174     68    26  \n",
       "5 54     3.94        37       42        0      24   0      175     66    30  \n",
       "6 51     3.93        38       38        0      29   0      165     61    31  \n",
       "  fedyrs fnocig fheight lowbwt mage35\n",
       "1 10     35     179     0      0     \n",
       "2 12      0     183     0      0     \n",
       "3 16     25     185     0      1     \n",
       "4 14     25     189     0      0     \n",
       "5 12      0     184     0      0     \n",
       "6 16      0     180     0      0     "
      ]
     },
     "metadata": {},
     "output_type": "display_data"
    }
   ],
   "source": [
    "head(data)"
   ]
  },
  {
   "cell_type": "code",
   "execution_count": 57,
   "metadata": {
    "ExecuteTime": {
     "end_time": "2021-05-10T08:39:16.387135Z",
     "start_time": "2021-05-10T08:39:16.093Z"
    }
   },
   "outputs": [
    {
     "data": {
      "text/html": [
       "0"
      ],
      "text/latex": [
       "0"
      ],
      "text/markdown": [
       "0"
      ],
      "text/plain": [
       "[1] 0"
      ]
     },
     "metadata": {},
     "output_type": "display_data"
    }
   ],
   "source": [
    "round(pred(4.55, 44))"
   ]
  },
  {
   "cell_type": "code",
   "execution_count": 56,
   "metadata": {
    "ExecuteTime": {
     "end_time": "2021-05-10T08:39:14.139158Z",
     "start_time": "2021-05-10T08:39:14.086Z"
    },
    "scrolled": true
   },
   "outputs": [
    {
     "data": {
      "text/html": [
       "1"
      ],
      "text/latex": [
       "1"
      ],
      "text/markdown": [
       "1"
      ],
      "text/plain": [
       "[1] 1"
      ]
     },
     "metadata": {},
     "output_type": "display_data"
    }
   ],
   "source": [
    "round(pred(2.65, 33))"
   ]
  },
  {
   "cell_type": "code",
   "execution_count": 62,
   "metadata": {
    "ExecuteTime": {
     "end_time": "2021-05-10T08:40:43.790961Z",
     "start_time": "2021-05-10T08:40:43.607Z"
    }
   },
   "outputs": [
    {
     "data": {
      "text/html": [
       "0.506170360492893"
      ],
      "text/latex": [
       "0.506170360492893"
      ],
      "text/markdown": [
       "0.506170360492893"
      ],
      "text/plain": [
       "[1] 0.5061704"
      ]
     },
     "metadata": {},
     "output_type": "display_data"
    }
   ],
   "source": [
    "pred(3.93, 38)"
   ]
  },
  {
   "cell_type": "code",
   "execution_count": 66,
   "metadata": {
    "ExecuteTime": {
     "end_time": "2021-05-10T08:41:52.637146Z",
     "start_time": "2021-05-10T08:41:52.590Z"
    }
   },
   "outputs": [
    {
     "data": {
      "text/html": [
       "0.46760251807164"
      ],
      "text/latex": [
       "0.46760251807164"
      ],
      "text/markdown": [
       "0.46760251807164"
      ],
      "text/plain": [
       "[1] 0.4676025"
      ]
     },
     "metadata": {},
     "output_type": "display_data"
    }
   ],
   "source": [
    "pred(3.94, 42)"
   ]
  },
  {
   "cell_type": "code",
   "execution_count": 67,
   "metadata": {
    "ExecuteTime": {
     "end_time": "2021-05-10T08:42:11.638128Z",
     "start_time": "2021-05-10T08:42:11.590Z"
    }
   },
   "outputs": [
    {
     "data": {
      "text/html": [
       "0.44026516721708"
      ],
      "text/latex": [
       "0.44026516721708"
      ],
      "text/markdown": [
       "0.44026516721708"
      ],
      "text/plain": [
       "[1] 0.4402652"
      ]
     },
     "metadata": {},
     "output_type": "display_data"
    }
   ],
   "source": [
    "pred(4.07, 44)"
   ]
  },
  {
   "cell_type": "markdown",
   "metadata": {},
   "source": [
    "# Compare against original data"
   ]
  },
  {
   "cell_type": "code",
   "execution_count": 74,
   "metadata": {
    "ExecuteTime": {
     "end_time": "2021-05-10T10:02:11.595303Z",
     "start_time": "2021-05-10T10:02:11.553Z"
    }
   },
   "outputs": [],
   "source": [
    "data['predicted'] <- round(fitted(glm2),3)"
   ]
  },
  {
   "cell_type": "code",
   "execution_count": 75,
   "metadata": {
    "ExecuteTime": {
     "end_time": "2021-05-10T10:04:39.790071Z",
     "start_time": "2021-05-10T10:04:39.592Z"
    }
   },
   "outputs": [
    {
     "data": {
      "text/html": [
       "<table class=\"dataframe\">\n",
       "<caption>A data.frame: 42 × 16</caption>\n",
       "<thead>\n",
       "\t<tr><th></th><th scope=col>Length</th><th scope=col>Birthweight</th><th scope=col>Headcirc</th><th scope=col>Gestation</th><th scope=col>smoker</th><th scope=col>mage</th><th scope=col>mnocig</th><th scope=col>mheight</th><th scope=col>mppwt</th><th scope=col>fage</th><th scope=col>fedyrs</th><th scope=col>fnocig</th><th scope=col>fheight</th><th scope=col>lowbwt</th><th scope=col>mage35</th><th scope=col>predicted</th></tr>\n",
       "\t<tr><th></th><th scope=col>&lt;int&gt;</th><th scope=col>&lt;dbl&gt;</th><th scope=col>&lt;int&gt;</th><th scope=col>&lt;int&gt;</th><th scope=col>&lt;int&gt;</th><th scope=col>&lt;int&gt;</th><th scope=col>&lt;int&gt;</th><th scope=col>&lt;int&gt;</th><th scope=col>&lt;int&gt;</th><th scope=col>&lt;int&gt;</th><th scope=col>&lt;int&gt;</th><th scope=col>&lt;int&gt;</th><th scope=col>&lt;int&gt;</th><th scope=col>&lt;int&gt;</th><th scope=col>&lt;int&gt;</th><th scope=col>&lt;dbl&gt;</th></tr>\n",
       "</thead>\n",
       "<tbody>\n",
       "\t<tr><th scope=row>1</th><td>56</td><td>4.55</td><td>34</td><td>44</td><td>0</td><td>20</td><td> 0</td><td>162</td><td>57</td><td>23</td><td>10</td><td>35</td><td>179</td><td>0</td><td>0</td><td>-0.367</td></tr>\n",
       "\t<tr><th scope=row>2</th><td>53</td><td>4.32</td><td>36</td><td>40</td><td>0</td><td>19</td><td> 0</td><td>171</td><td>62</td><td>19</td><td>12</td><td> 0</td><td>183</td><td>0</td><td>0</td><td>-0.154</td></tr>\n",
       "\t<tr><th scope=row>3</th><td>58</td><td>4.10</td><td>39</td><td>41</td><td>0</td><td>35</td><td> 0</td><td>172</td><td>58</td><td>31</td><td>16</td><td>25</td><td>185</td><td>0</td><td>1</td><td>-0.134</td></tr>\n",
       "\t<tr><th scope=row>4</th><td>53</td><td>4.07</td><td>38</td><td>44</td><td>0</td><td>20</td><td> 0</td><td>174</td><td>68</td><td>26</td><td>14</td><td>25</td><td>189</td><td>0</td><td>0</td><td>-0.240</td></tr>\n",
       "\t<tr><th scope=row>5</th><td>54</td><td>3.94</td><td>37</td><td>42</td><td>0</td><td>24</td><td> 0</td><td>175</td><td>66</td><td>30</td><td>12</td><td> 0</td><td>184</td><td>0</td><td>0</td><td>-0.130</td></tr>\n",
       "\t<tr><th scope=row>6</th><td>51</td><td>3.93</td><td>38</td><td>38</td><td>0</td><td>29</td><td> 0</td><td>165</td><td>61</td><td>31</td><td>16</td><td> 0</td><td>180</td><td>0</td><td>0</td><td> 0.025</td></tr>\n",
       "\t<tr><th scope=row>7</th><td>52</td><td>3.77</td><td>34</td><td>40</td><td>0</td><td>24</td><td> 0</td><td>157</td><td>50</td><td>31</td><td>16</td><td> 0</td><td>173</td><td>0</td><td>0</td><td>-0.009</td></tr>\n",
       "\t<tr><th scope=row>8</th><td>53</td><td>3.65</td><td>33</td><td>42</td><td>0</td><td>21</td><td> 0</td><td>165</td><td>61</td><td>21</td><td>10</td><td>25</td><td>185</td><td>0</td><td>0</td><td>-0.053</td></tr>\n",
       "\t<tr><th scope=row>9</th><td>54</td><td>3.63</td><td>38</td><td>38</td><td>0</td><td>18</td><td> 0</td><td>172</td><td>50</td><td>20</td><td>12</td><td> 7</td><td>172</td><td>0</td><td>0</td><td> 0.104</td></tr>\n",
       "\t<tr><th scope=row>10</th><td>50</td><td>3.42</td><td>35</td><td>38</td><td>0</td><td>20</td><td> 0</td><td>157</td><td>48</td><td>22</td><td>14</td><td> 0</td><td>179</td><td>0</td><td>0</td><td> 0.160</td></tr>\n",
       "\t<tr><th scope=row>11</th><td>53</td><td>3.35</td><td>33</td><td>41</td><td>0</td><td>27</td><td> 0</td><td>164</td><td>62</td><td>37</td><td>14</td><td> 0</td><td>170</td><td>0</td><td>0</td><td> 0.064</td></tr>\n",
       "\t<tr><th scope=row>12</th><td>51</td><td>3.27</td><td>36</td><td>40</td><td>0</td><td>24</td><td> 0</td><td>168</td><td>53</td><td>29</td><td>16</td><td> 0</td><td>181</td><td>0</td><td>0</td><td> 0.123</td></tr>\n",
       "\t<tr><th scope=row>13</th><td>52</td><td>3.23</td><td>36</td><td>38</td><td>0</td><td>31</td><td> 0</td><td>164</td><td>57</td><td>35</td><td>16</td><td> 0</td><td>183</td><td>0</td><td>0</td><td> 0.210</td></tr>\n",
       "\t<tr><th scope=row>14</th><td>53</td><td>3.20</td><td>33</td><td>41</td><td>0</td><td>21</td><td> 0</td><td>155</td><td>55</td><td>25</td><td>14</td><td>25</td><td>183</td><td>0</td><td>0</td><td> 0.104</td></tr>\n",
       "\t<tr><th scope=row>15</th><td>53</td><td>3.15</td><td>34</td><td>40</td><td>0</td><td>29</td><td> 0</td><td>167</td><td>60</td><td>30</td><td>16</td><td>25</td><td>182</td><td>0</td><td>0</td><td> 0.155</td></tr>\n",
       "\t<tr><th scope=row>16</th><td>48</td><td>3.11</td><td>33</td><td>37</td><td>0</td><td>28</td><td> 0</td><td>158</td><td>54</td><td>39</td><td>10</td><td> 0</td><td>171</td><td>0</td><td>0</td><td> 0.280</td></tr>\n",
       "\t<tr><th scope=row>17</th><td>48</td><td>3.03</td><td>35</td><td>39</td><td>0</td><td>27</td><td> 0</td><td>162</td><td>62</td><td>27</td><td>14</td><td> 0</td><td>178</td><td>0</td><td>0</td><td> 0.225</td></tr>\n",
       "\t<tr><th scope=row>18</th><td>48</td><td>2.92</td><td>33</td><td>34</td><td>0</td><td>26</td><td> 0</td><td>167</td><td>64</td><td>25</td><td>12</td><td>25</td><td>175</td><td>0</td><td>0</td><td> 0.444</td></tr>\n",
       "\t<tr><th scope=row>19</th><td>53</td><td>2.90</td><td>34</td><td>39</td><td>0</td><td>19</td><td> 0</td><td>165</td><td>57</td><td>23</td><td>14</td><td> 2</td><td>193</td><td>0</td><td>0</td><td> 0.259</td></tr>\n",
       "\t<tr><th scope=row>20</th><td>43</td><td>2.65</td><td>32</td><td>33</td><td>0</td><td>24</td><td> 0</td><td>149</td><td>45</td><td>26</td><td>16</td><td> 0</td><td>169</td><td>1</td><td>0</td><td> 0.553</td></tr>\n",
       "\t<tr><th scope=row>21</th><td>53</td><td>3.64</td><td>38</td><td>40</td><td>1</td><td>20</td><td> 2</td><td>170</td><td>59</td><td>24</td><td>12</td><td>12</td><td>185</td><td>0</td><td>0</td><td> 0.026</td></tr>\n",
       "\t<tr><th scope=row>22</th><td>51</td><td>3.14</td><td>33</td><td>41</td><td>1</td><td>22</td><td> 7</td><td>160</td><td>53</td><td>24</td><td>16</td><td>12</td><td>176</td><td>0</td><td>0</td><td> 0.120</td></tr>\n",
       "\t<tr><th scope=row>23</th><td>50</td><td>2.78</td><td>30</td><td>37</td><td>1</td><td>19</td><td> 7</td><td>165</td><td>60</td><td>20</td><td>14</td><td> 0</td><td>183</td><td>0</td><td>0</td><td> 0.367</td></tr>\n",
       "\t<tr><th scope=row>24</th><td>50</td><td>2.51</td><td>35</td><td>39</td><td>1</td><td>22</td><td> 7</td><td>159</td><td>52</td><td>23</td><td>14</td><td>25</td><td>200</td><td>1</td><td>0</td><td> 0.363</td></tr>\n",
       "\t<tr><th scope=row>25</th><td>48</td><td>2.37</td><td>30</td><td>37</td><td>1</td><td>20</td><td> 7</td><td>163</td><td>47</td><td>20</td><td>10</td><td>35</td><td>185</td><td>1</td><td>0</td><td> 0.476</td></tr>\n",
       "\t<tr><th scope=row>26</th><td>46</td><td>2.05</td><td>32</td><td>35</td><td>1</td><td>41</td><td> 7</td><td>166</td><td>57</td><td>37</td><td>14</td><td>25</td><td>173</td><td>1</td><td>1</td><td> 0.636</td></tr>\n",
       "\t<tr><th scope=row>27</th><td>48</td><td>1.92</td><td>30</td><td>33</td><td>1</td><td>20</td><td> 7</td><td>161</td><td>50</td><td>20</td><td>10</td><td>35</td><td>180</td><td>1</td><td>0</td><td> 0.746</td></tr>\n",
       "\t<tr><th scope=row>28</th><td>58</td><td>4.57</td><td>39</td><td>41</td><td>1</td><td>32</td><td>12</td><td>173</td><td>70</td><td>38</td><td>14</td><td>25</td><td>180</td><td>0</td><td>0</td><td>-0.259</td></tr>\n",
       "\t<tr><th scope=row>29</th><td>53</td><td>3.59</td><td>34</td><td>40</td><td>1</td><td>31</td><td>12</td><td>163</td><td>49</td><td>41</td><td>12</td><td>50</td><td>191</td><td>0</td><td>0</td><td> 0.039</td></tr>\n",
       "\t<tr><th scope=row>30</th><td>49</td><td>3.32</td><td>36</td><td>40</td><td>1</td><td>27</td><td>12</td><td>152</td><td>48</td><td>37</td><td>12</td><td>25</td><td>170</td><td>0</td><td>0</td><td> 0.110</td></tr>\n",
       "\t<tr><th scope=row>31</th><td>52</td><td>3.00</td><td>35</td><td>38</td><td>1</td><td>30</td><td>12</td><td>165</td><td>64</td><td>38</td><td>14</td><td>50</td><td>180</td><td>0</td><td>0</td><td> 0.271</td></tr>\n",
       "\t<tr><th scope=row>32</th><td>51</td><td>3.32</td><td>38</td><td>39</td><td>1</td><td>23</td><td>17</td><td>157</td><td>48</td><td>32</td><td>12</td><td>25</td><td>169</td><td>0</td><td>0</td><td> 0.148</td></tr>\n",
       "\t<tr><th scope=row>33</th><td>50</td><td>2.74</td><td>33</td><td>39</td><td>1</td><td>21</td><td>17</td><td>156</td><td>53</td><td>24</td><td>12</td><td> 7</td><td>179</td><td>0</td><td>0</td><td> 0.302</td></tr>\n",
       "\t<tr><th scope=row>34</th><td>50</td><td>3.87</td><td>33</td><td>45</td><td>1</td><td>28</td><td>25</td><td>163</td><td>54</td><td>30</td><td>16</td><td> 0</td><td>183</td><td>0</td><td>0</td><td>-0.225</td></tr>\n",
       "\t<tr><th scope=row>35</th><td>52</td><td>3.86</td><td>36</td><td>39</td><td>1</td><td>30</td><td>25</td><td>170</td><td>78</td><td>40</td><td>16</td><td>50</td><td>178</td><td>0</td><td>0</td><td> 0.005</td></tr>\n",
       "\t<tr><th scope=row>36</th><td>53</td><td>3.55</td><td>37</td><td>41</td><td>1</td><td>37</td><td>25</td><td>161</td><td>66</td><td>46</td><td>16</td><td> 0</td><td>175</td><td>0</td><td>1</td><td> 0.011</td></tr>\n",
       "\t<tr><th scope=row>37</th><td>52</td><td>3.53</td><td>37</td><td>40</td><td>1</td><td>26</td><td>25</td><td>170</td><td>62</td><td>30</td><td>10</td><td>25</td><td>181</td><td>0</td><td>0</td><td> 0.055</td></tr>\n",
       "\t<tr><th scope=row>38</th><td>52</td><td>3.41</td><td>33</td><td>39</td><td>1</td><td>23</td><td>25</td><td>181</td><td>69</td><td>23</td><td>16</td><td> 2</td><td>181</td><td>0</td><td>0</td><td> 0.124</td></tr>\n",
       "\t<tr><th scope=row>39</th><td>49</td><td>3.18</td><td>34</td><td>38</td><td>1</td><td>31</td><td>25</td><td>162</td><td>57</td><td>32</td><td>16</td><td>50</td><td>194</td><td>0</td><td>0</td><td> 0.223</td></tr>\n",
       "\t<tr><th scope=row>40</th><td>53</td><td>3.19</td><td>34</td><td>41</td><td>1</td><td>27</td><td>35</td><td>163</td><td>51</td><td>31</td><td>16</td><td>25</td><td>185</td><td>0</td><td>0</td><td> 0.107</td></tr>\n",
       "\t<tr><th scope=row>41</th><td>47</td><td>2.66</td><td>33</td><td>35</td><td>1</td><td>20</td><td>35</td><td>170</td><td>57</td><td>23</td><td>12</td><td>50</td><td>186</td><td>1</td><td>0</td><td> 0.475</td></tr>\n",
       "\t<tr><th scope=row>42</th><td>53</td><td>2.75</td><td>32</td><td>40</td><td>1</td><td>37</td><td>50</td><td>168</td><td>61</td><td>31</td><td>16</td><td> 0</td><td>173</td><td>0</td><td>1</td><td> 0.261</td></tr>\n",
       "</tbody>\n",
       "</table>\n"
      ],
      "text/latex": [
       "A data.frame: 42 × 16\n",
       "\\begin{tabular}{r|llllllllllllllll}\n",
       "  & Length & Birthweight & Headcirc & Gestation & smoker & mage & mnocig & mheight & mppwt & fage & fedyrs & fnocig & fheight & lowbwt & mage35 & predicted\\\\\n",
       "  & <int> & <dbl> & <int> & <int> & <int> & <int> & <int> & <int> & <int> & <int> & <int> & <int> & <int> & <int> & <int> & <dbl>\\\\\n",
       "\\hline\n",
       "\t1 & 56 & 4.55 & 34 & 44 & 0 & 20 &  0 & 162 & 57 & 23 & 10 & 35 & 179 & 0 & 0 & -0.367\\\\\n",
       "\t2 & 53 & 4.32 & 36 & 40 & 0 & 19 &  0 & 171 & 62 & 19 & 12 &  0 & 183 & 0 & 0 & -0.154\\\\\n",
       "\t3 & 58 & 4.10 & 39 & 41 & 0 & 35 &  0 & 172 & 58 & 31 & 16 & 25 & 185 & 0 & 1 & -0.134\\\\\n",
       "\t4 & 53 & 4.07 & 38 & 44 & 0 & 20 &  0 & 174 & 68 & 26 & 14 & 25 & 189 & 0 & 0 & -0.240\\\\\n",
       "\t5 & 54 & 3.94 & 37 & 42 & 0 & 24 &  0 & 175 & 66 & 30 & 12 &  0 & 184 & 0 & 0 & -0.130\\\\\n",
       "\t6 & 51 & 3.93 & 38 & 38 & 0 & 29 &  0 & 165 & 61 & 31 & 16 &  0 & 180 & 0 & 0 &  0.025\\\\\n",
       "\t7 & 52 & 3.77 & 34 & 40 & 0 & 24 &  0 & 157 & 50 & 31 & 16 &  0 & 173 & 0 & 0 & -0.009\\\\\n",
       "\t8 & 53 & 3.65 & 33 & 42 & 0 & 21 &  0 & 165 & 61 & 21 & 10 & 25 & 185 & 0 & 0 & -0.053\\\\\n",
       "\t9 & 54 & 3.63 & 38 & 38 & 0 & 18 &  0 & 172 & 50 & 20 & 12 &  7 & 172 & 0 & 0 &  0.104\\\\\n",
       "\t10 & 50 & 3.42 & 35 & 38 & 0 & 20 &  0 & 157 & 48 & 22 & 14 &  0 & 179 & 0 & 0 &  0.160\\\\\n",
       "\t11 & 53 & 3.35 & 33 & 41 & 0 & 27 &  0 & 164 & 62 & 37 & 14 &  0 & 170 & 0 & 0 &  0.064\\\\\n",
       "\t12 & 51 & 3.27 & 36 & 40 & 0 & 24 &  0 & 168 & 53 & 29 & 16 &  0 & 181 & 0 & 0 &  0.123\\\\\n",
       "\t13 & 52 & 3.23 & 36 & 38 & 0 & 31 &  0 & 164 & 57 & 35 & 16 &  0 & 183 & 0 & 0 &  0.210\\\\\n",
       "\t14 & 53 & 3.20 & 33 & 41 & 0 & 21 &  0 & 155 & 55 & 25 & 14 & 25 & 183 & 0 & 0 &  0.104\\\\\n",
       "\t15 & 53 & 3.15 & 34 & 40 & 0 & 29 &  0 & 167 & 60 & 30 & 16 & 25 & 182 & 0 & 0 &  0.155\\\\\n",
       "\t16 & 48 & 3.11 & 33 & 37 & 0 & 28 &  0 & 158 & 54 & 39 & 10 &  0 & 171 & 0 & 0 &  0.280\\\\\n",
       "\t17 & 48 & 3.03 & 35 & 39 & 0 & 27 &  0 & 162 & 62 & 27 & 14 &  0 & 178 & 0 & 0 &  0.225\\\\\n",
       "\t18 & 48 & 2.92 & 33 & 34 & 0 & 26 &  0 & 167 & 64 & 25 & 12 & 25 & 175 & 0 & 0 &  0.444\\\\\n",
       "\t19 & 53 & 2.90 & 34 & 39 & 0 & 19 &  0 & 165 & 57 & 23 & 14 &  2 & 193 & 0 & 0 &  0.259\\\\\n",
       "\t20 & 43 & 2.65 & 32 & 33 & 0 & 24 &  0 & 149 & 45 & 26 & 16 &  0 & 169 & 1 & 0 &  0.553\\\\\n",
       "\t21 & 53 & 3.64 & 38 & 40 & 1 & 20 &  2 & 170 & 59 & 24 & 12 & 12 & 185 & 0 & 0 &  0.026\\\\\n",
       "\t22 & 51 & 3.14 & 33 & 41 & 1 & 22 &  7 & 160 & 53 & 24 & 16 & 12 & 176 & 0 & 0 &  0.120\\\\\n",
       "\t23 & 50 & 2.78 & 30 & 37 & 1 & 19 &  7 & 165 & 60 & 20 & 14 &  0 & 183 & 0 & 0 &  0.367\\\\\n",
       "\t24 & 50 & 2.51 & 35 & 39 & 1 & 22 &  7 & 159 & 52 & 23 & 14 & 25 & 200 & 1 & 0 &  0.363\\\\\n",
       "\t25 & 48 & 2.37 & 30 & 37 & 1 & 20 &  7 & 163 & 47 & 20 & 10 & 35 & 185 & 1 & 0 &  0.476\\\\\n",
       "\t26 & 46 & 2.05 & 32 & 35 & 1 & 41 &  7 & 166 & 57 & 37 & 14 & 25 & 173 & 1 & 1 &  0.636\\\\\n",
       "\t27 & 48 & 1.92 & 30 & 33 & 1 & 20 &  7 & 161 & 50 & 20 & 10 & 35 & 180 & 1 & 0 &  0.746\\\\\n",
       "\t28 & 58 & 4.57 & 39 & 41 & 1 & 32 & 12 & 173 & 70 & 38 & 14 & 25 & 180 & 0 & 0 & -0.259\\\\\n",
       "\t29 & 53 & 3.59 & 34 & 40 & 1 & 31 & 12 & 163 & 49 & 41 & 12 & 50 & 191 & 0 & 0 &  0.039\\\\\n",
       "\t30 & 49 & 3.32 & 36 & 40 & 1 & 27 & 12 & 152 & 48 & 37 & 12 & 25 & 170 & 0 & 0 &  0.110\\\\\n",
       "\t31 & 52 & 3.00 & 35 & 38 & 1 & 30 & 12 & 165 & 64 & 38 & 14 & 50 & 180 & 0 & 0 &  0.271\\\\\n",
       "\t32 & 51 & 3.32 & 38 & 39 & 1 & 23 & 17 & 157 & 48 & 32 & 12 & 25 & 169 & 0 & 0 &  0.148\\\\\n",
       "\t33 & 50 & 2.74 & 33 & 39 & 1 & 21 & 17 & 156 & 53 & 24 & 12 &  7 & 179 & 0 & 0 &  0.302\\\\\n",
       "\t34 & 50 & 3.87 & 33 & 45 & 1 & 28 & 25 & 163 & 54 & 30 & 16 &  0 & 183 & 0 & 0 & -0.225\\\\\n",
       "\t35 & 52 & 3.86 & 36 & 39 & 1 & 30 & 25 & 170 & 78 & 40 & 16 & 50 & 178 & 0 & 0 &  0.005\\\\\n",
       "\t36 & 53 & 3.55 & 37 & 41 & 1 & 37 & 25 & 161 & 66 & 46 & 16 &  0 & 175 & 0 & 1 &  0.011\\\\\n",
       "\t37 & 52 & 3.53 & 37 & 40 & 1 & 26 & 25 & 170 & 62 & 30 & 10 & 25 & 181 & 0 & 0 &  0.055\\\\\n",
       "\t38 & 52 & 3.41 & 33 & 39 & 1 & 23 & 25 & 181 & 69 & 23 & 16 &  2 & 181 & 0 & 0 &  0.124\\\\\n",
       "\t39 & 49 & 3.18 & 34 & 38 & 1 & 31 & 25 & 162 & 57 & 32 & 16 & 50 & 194 & 0 & 0 &  0.223\\\\\n",
       "\t40 & 53 & 3.19 & 34 & 41 & 1 & 27 & 35 & 163 & 51 & 31 & 16 & 25 & 185 & 0 & 0 &  0.107\\\\\n",
       "\t41 & 47 & 2.66 & 33 & 35 & 1 & 20 & 35 & 170 & 57 & 23 & 12 & 50 & 186 & 1 & 0 &  0.475\\\\\n",
       "\t42 & 53 & 2.75 & 32 & 40 & 1 & 37 & 50 & 168 & 61 & 31 & 16 &  0 & 173 & 0 & 1 &  0.261\\\\\n",
       "\\end{tabular}\n"
      ],
      "text/markdown": [
       "\n",
       "A data.frame: 42 × 16\n",
       "\n",
       "| <!--/--> | Length &lt;int&gt; | Birthweight &lt;dbl&gt; | Headcirc &lt;int&gt; | Gestation &lt;int&gt; | smoker &lt;int&gt; | mage &lt;int&gt; | mnocig &lt;int&gt; | mheight &lt;int&gt; | mppwt &lt;int&gt; | fage &lt;int&gt; | fedyrs &lt;int&gt; | fnocig &lt;int&gt; | fheight &lt;int&gt; | lowbwt &lt;int&gt; | mage35 &lt;int&gt; | predicted &lt;dbl&gt; |\n",
       "|---|---|---|---|---|---|---|---|---|---|---|---|---|---|---|---|---|\n",
       "| 1 | 56 | 4.55 | 34 | 44 | 0 | 20 |  0 | 162 | 57 | 23 | 10 | 35 | 179 | 0 | 0 | -0.367 |\n",
       "| 2 | 53 | 4.32 | 36 | 40 | 0 | 19 |  0 | 171 | 62 | 19 | 12 |  0 | 183 | 0 | 0 | -0.154 |\n",
       "| 3 | 58 | 4.10 | 39 | 41 | 0 | 35 |  0 | 172 | 58 | 31 | 16 | 25 | 185 | 0 | 1 | -0.134 |\n",
       "| 4 | 53 | 4.07 | 38 | 44 | 0 | 20 |  0 | 174 | 68 | 26 | 14 | 25 | 189 | 0 | 0 | -0.240 |\n",
       "| 5 | 54 | 3.94 | 37 | 42 | 0 | 24 |  0 | 175 | 66 | 30 | 12 |  0 | 184 | 0 | 0 | -0.130 |\n",
       "| 6 | 51 | 3.93 | 38 | 38 | 0 | 29 |  0 | 165 | 61 | 31 | 16 |  0 | 180 | 0 | 0 |  0.025 |\n",
       "| 7 | 52 | 3.77 | 34 | 40 | 0 | 24 |  0 | 157 | 50 | 31 | 16 |  0 | 173 | 0 | 0 | -0.009 |\n",
       "| 8 | 53 | 3.65 | 33 | 42 | 0 | 21 |  0 | 165 | 61 | 21 | 10 | 25 | 185 | 0 | 0 | -0.053 |\n",
       "| 9 | 54 | 3.63 | 38 | 38 | 0 | 18 |  0 | 172 | 50 | 20 | 12 |  7 | 172 | 0 | 0 |  0.104 |\n",
       "| 10 | 50 | 3.42 | 35 | 38 | 0 | 20 |  0 | 157 | 48 | 22 | 14 |  0 | 179 | 0 | 0 |  0.160 |\n",
       "| 11 | 53 | 3.35 | 33 | 41 | 0 | 27 |  0 | 164 | 62 | 37 | 14 |  0 | 170 | 0 | 0 |  0.064 |\n",
       "| 12 | 51 | 3.27 | 36 | 40 | 0 | 24 |  0 | 168 | 53 | 29 | 16 |  0 | 181 | 0 | 0 |  0.123 |\n",
       "| 13 | 52 | 3.23 | 36 | 38 | 0 | 31 |  0 | 164 | 57 | 35 | 16 |  0 | 183 | 0 | 0 |  0.210 |\n",
       "| 14 | 53 | 3.20 | 33 | 41 | 0 | 21 |  0 | 155 | 55 | 25 | 14 | 25 | 183 | 0 | 0 |  0.104 |\n",
       "| 15 | 53 | 3.15 | 34 | 40 | 0 | 29 |  0 | 167 | 60 | 30 | 16 | 25 | 182 | 0 | 0 |  0.155 |\n",
       "| 16 | 48 | 3.11 | 33 | 37 | 0 | 28 |  0 | 158 | 54 | 39 | 10 |  0 | 171 | 0 | 0 |  0.280 |\n",
       "| 17 | 48 | 3.03 | 35 | 39 | 0 | 27 |  0 | 162 | 62 | 27 | 14 |  0 | 178 | 0 | 0 |  0.225 |\n",
       "| 18 | 48 | 2.92 | 33 | 34 | 0 | 26 |  0 | 167 | 64 | 25 | 12 | 25 | 175 | 0 | 0 |  0.444 |\n",
       "| 19 | 53 | 2.90 | 34 | 39 | 0 | 19 |  0 | 165 | 57 | 23 | 14 |  2 | 193 | 0 | 0 |  0.259 |\n",
       "| 20 | 43 | 2.65 | 32 | 33 | 0 | 24 |  0 | 149 | 45 | 26 | 16 |  0 | 169 | 1 | 0 |  0.553 |\n",
       "| 21 | 53 | 3.64 | 38 | 40 | 1 | 20 |  2 | 170 | 59 | 24 | 12 | 12 | 185 | 0 | 0 |  0.026 |\n",
       "| 22 | 51 | 3.14 | 33 | 41 | 1 | 22 |  7 | 160 | 53 | 24 | 16 | 12 | 176 | 0 | 0 |  0.120 |\n",
       "| 23 | 50 | 2.78 | 30 | 37 | 1 | 19 |  7 | 165 | 60 | 20 | 14 |  0 | 183 | 0 | 0 |  0.367 |\n",
       "| 24 | 50 | 2.51 | 35 | 39 | 1 | 22 |  7 | 159 | 52 | 23 | 14 | 25 | 200 | 1 | 0 |  0.363 |\n",
       "| 25 | 48 | 2.37 | 30 | 37 | 1 | 20 |  7 | 163 | 47 | 20 | 10 | 35 | 185 | 1 | 0 |  0.476 |\n",
       "| 26 | 46 | 2.05 | 32 | 35 | 1 | 41 |  7 | 166 | 57 | 37 | 14 | 25 | 173 | 1 | 1 |  0.636 |\n",
       "| 27 | 48 | 1.92 | 30 | 33 | 1 | 20 |  7 | 161 | 50 | 20 | 10 | 35 | 180 | 1 | 0 |  0.746 |\n",
       "| 28 | 58 | 4.57 | 39 | 41 | 1 | 32 | 12 | 173 | 70 | 38 | 14 | 25 | 180 | 0 | 0 | -0.259 |\n",
       "| 29 | 53 | 3.59 | 34 | 40 | 1 | 31 | 12 | 163 | 49 | 41 | 12 | 50 | 191 | 0 | 0 |  0.039 |\n",
       "| 30 | 49 | 3.32 | 36 | 40 | 1 | 27 | 12 | 152 | 48 | 37 | 12 | 25 | 170 | 0 | 0 |  0.110 |\n",
       "| 31 | 52 | 3.00 | 35 | 38 | 1 | 30 | 12 | 165 | 64 | 38 | 14 | 50 | 180 | 0 | 0 |  0.271 |\n",
       "| 32 | 51 | 3.32 | 38 | 39 | 1 | 23 | 17 | 157 | 48 | 32 | 12 | 25 | 169 | 0 | 0 |  0.148 |\n",
       "| 33 | 50 | 2.74 | 33 | 39 | 1 | 21 | 17 | 156 | 53 | 24 | 12 |  7 | 179 | 0 | 0 |  0.302 |\n",
       "| 34 | 50 | 3.87 | 33 | 45 | 1 | 28 | 25 | 163 | 54 | 30 | 16 |  0 | 183 | 0 | 0 | -0.225 |\n",
       "| 35 | 52 | 3.86 | 36 | 39 | 1 | 30 | 25 | 170 | 78 | 40 | 16 | 50 | 178 | 0 | 0 |  0.005 |\n",
       "| 36 | 53 | 3.55 | 37 | 41 | 1 | 37 | 25 | 161 | 66 | 46 | 16 |  0 | 175 | 0 | 1 |  0.011 |\n",
       "| 37 | 52 | 3.53 | 37 | 40 | 1 | 26 | 25 | 170 | 62 | 30 | 10 | 25 | 181 | 0 | 0 |  0.055 |\n",
       "| 38 | 52 | 3.41 | 33 | 39 | 1 | 23 | 25 | 181 | 69 | 23 | 16 |  2 | 181 | 0 | 0 |  0.124 |\n",
       "| 39 | 49 | 3.18 | 34 | 38 | 1 | 31 | 25 | 162 | 57 | 32 | 16 | 50 | 194 | 0 | 0 |  0.223 |\n",
       "| 40 | 53 | 3.19 | 34 | 41 | 1 | 27 | 35 | 163 | 51 | 31 | 16 | 25 | 185 | 0 | 0 |  0.107 |\n",
       "| 41 | 47 | 2.66 | 33 | 35 | 1 | 20 | 35 | 170 | 57 | 23 | 12 | 50 | 186 | 1 | 0 |  0.475 |\n",
       "| 42 | 53 | 2.75 | 32 | 40 | 1 | 37 | 50 | 168 | 61 | 31 | 16 |  0 | 173 | 0 | 1 |  0.261 |\n",
       "\n"
      ],
      "text/plain": [
       "   Length Birthweight Headcirc Gestation smoker mage mnocig mheight mppwt fage\n",
       "1  56     4.55        34       44        0      20    0     162     57    23  \n",
       "2  53     4.32        36       40        0      19    0     171     62    19  \n",
       "3  58     4.10        39       41        0      35    0     172     58    31  \n",
       "4  53     4.07        38       44        0      20    0     174     68    26  \n",
       "5  54     3.94        37       42        0      24    0     175     66    30  \n",
       "6  51     3.93        38       38        0      29    0     165     61    31  \n",
       "7  52     3.77        34       40        0      24    0     157     50    31  \n",
       "8  53     3.65        33       42        0      21    0     165     61    21  \n",
       "9  54     3.63        38       38        0      18    0     172     50    20  \n",
       "10 50     3.42        35       38        0      20    0     157     48    22  \n",
       "11 53     3.35        33       41        0      27    0     164     62    37  \n",
       "12 51     3.27        36       40        0      24    0     168     53    29  \n",
       "13 52     3.23        36       38        0      31    0     164     57    35  \n",
       "14 53     3.20        33       41        0      21    0     155     55    25  \n",
       "15 53     3.15        34       40        0      29    0     167     60    30  \n",
       "16 48     3.11        33       37        0      28    0     158     54    39  \n",
       "17 48     3.03        35       39        0      27    0     162     62    27  \n",
       "18 48     2.92        33       34        0      26    0     167     64    25  \n",
       "19 53     2.90        34       39        0      19    0     165     57    23  \n",
       "20 43     2.65        32       33        0      24    0     149     45    26  \n",
       "21 53     3.64        38       40        1      20    2     170     59    24  \n",
       "22 51     3.14        33       41        1      22    7     160     53    24  \n",
       "23 50     2.78        30       37        1      19    7     165     60    20  \n",
       "24 50     2.51        35       39        1      22    7     159     52    23  \n",
       "25 48     2.37        30       37        1      20    7     163     47    20  \n",
       "26 46     2.05        32       35        1      41    7     166     57    37  \n",
       "27 48     1.92        30       33        1      20    7     161     50    20  \n",
       "28 58     4.57        39       41        1      32   12     173     70    38  \n",
       "29 53     3.59        34       40        1      31   12     163     49    41  \n",
       "30 49     3.32        36       40        1      27   12     152     48    37  \n",
       "31 52     3.00        35       38        1      30   12     165     64    38  \n",
       "32 51     3.32        38       39        1      23   17     157     48    32  \n",
       "33 50     2.74        33       39        1      21   17     156     53    24  \n",
       "34 50     3.87        33       45        1      28   25     163     54    30  \n",
       "35 52     3.86        36       39        1      30   25     170     78    40  \n",
       "36 53     3.55        37       41        1      37   25     161     66    46  \n",
       "37 52     3.53        37       40        1      26   25     170     62    30  \n",
       "38 52     3.41        33       39        1      23   25     181     69    23  \n",
       "39 49     3.18        34       38        1      31   25     162     57    32  \n",
       "40 53     3.19        34       41        1      27   35     163     51    31  \n",
       "41 47     2.66        33       35        1      20   35     170     57    23  \n",
       "42 53     2.75        32       40        1      37   50     168     61    31  \n",
       "   fedyrs fnocig fheight lowbwt mage35 predicted\n",
       "1  10     35     179     0      0      -0.367   \n",
       "2  12      0     183     0      0      -0.154   \n",
       "3  16     25     185     0      1      -0.134   \n",
       "4  14     25     189     0      0      -0.240   \n",
       "5  12      0     184     0      0      -0.130   \n",
       "6  16      0     180     0      0       0.025   \n",
       "7  16      0     173     0      0      -0.009   \n",
       "8  10     25     185     0      0      -0.053   \n",
       "9  12      7     172     0      0       0.104   \n",
       "10 14      0     179     0      0       0.160   \n",
       "11 14      0     170     0      0       0.064   \n",
       "12 16      0     181     0      0       0.123   \n",
       "13 16      0     183     0      0       0.210   \n",
       "14 14     25     183     0      0       0.104   \n",
       "15 16     25     182     0      0       0.155   \n",
       "16 10      0     171     0      0       0.280   \n",
       "17 14      0     178     0      0       0.225   \n",
       "18 12     25     175     0      0       0.444   \n",
       "19 14      2     193     0      0       0.259   \n",
       "20 16      0     169     1      0       0.553   \n",
       "21 12     12     185     0      0       0.026   \n",
       "22 16     12     176     0      0       0.120   \n",
       "23 14      0     183     0      0       0.367   \n",
       "24 14     25     200     1      0       0.363   \n",
       "25 10     35     185     1      0       0.476   \n",
       "26 14     25     173     1      1       0.636   \n",
       "27 10     35     180     1      0       0.746   \n",
       "28 14     25     180     0      0      -0.259   \n",
       "29 12     50     191     0      0       0.039   \n",
       "30 12     25     170     0      0       0.110   \n",
       "31 14     50     180     0      0       0.271   \n",
       "32 12     25     169     0      0       0.148   \n",
       "33 12      7     179     0      0       0.302   \n",
       "34 16      0     183     0      0      -0.225   \n",
       "35 16     50     178     0      0       0.005   \n",
       "36 16      0     175     0      1       0.011   \n",
       "37 10     25     181     0      0       0.055   \n",
       "38 16      2     181     0      0       0.124   \n",
       "39 16     50     194     0      0       0.223   \n",
       "40 16     25     185     0      0       0.107   \n",
       "41 12     50     186     1      0       0.475   \n",
       "42 16      0     173     0      1       0.261   "
      ]
     },
     "metadata": {},
     "output_type": "display_data"
    }
   ],
   "source": [
    "data"
   ]
  },
  {
   "cell_type": "markdown",
   "metadata": {},
   "source": [
    "# Odds Ratio"
   ]
  },
  {
   "cell_type": "code",
   "execution_count": 69,
   "metadata": {
    "ExecuteTime": {
     "end_time": "2021-05-10T08:57:16.152234Z",
     "start_time": "2021-05-10T08:57:16.108Z"
    }
   },
   "outputs": [],
   "source": [
    "odds <- function(Birthweight, Gestation)\n",
    "{\n",
    "    p <- pred(Birthweight, Gestation)\n",
    "    p/(1-p)\n",
    "    \n",
    "}"
   ]
  },
  {
   "cell_type": "code",
   "execution_count": 72,
   "metadata": {
    "ExecuteTime": {
     "end_time": "2021-05-10T08:59:48.027821Z",
     "start_time": "2021-05-10T08:59:47.959Z"
    }
   },
   "outputs": [
    {
     "data": {
      "text/html": [
       "0.738859226892316"
      ],
      "text/latex": [
       "0.738859226892316"
      ],
      "text/markdown": [
       "0.738859226892316"
      ],
      "text/plain": [
       "[1] 0.7388592"
      ]
     },
     "metadata": {},
     "output_type": "display_data"
    }
   ],
   "source": [
    "odds(1,1)/odds(0,0)"
   ]
  },
  {
   "cell_type": "markdown",
   "metadata": {},
   "source": [
    "# New Analysis"
   ]
  }
 ],
 "metadata": {
  "kernelspec": {
   "display_name": "R",
   "language": "R",
   "name": "ir"
  },
  "language_info": {
   "codemirror_mode": "r",
   "file_extension": ".r",
   "mimetype": "text/x-r-source",
   "name": "R",
   "pygments_lexer": "r",
   "version": "4.0.4"
  },
  "toc": {
   "base_numbering": 1,
   "nav_menu": {},
   "number_sections": true,
   "sideBar": false,
   "skip_h1_title": false,
   "title_cell": "Table of Contents",
   "title_sidebar": "Contents",
   "toc_cell": false,
   "toc_position": {},
   "toc_section_display": true,
   "toc_window_display": false
  },
  "varInspector": {
   "cols": {
    "lenName": 16,
    "lenType": 16,
    "lenVar": 40
   },
   "kernels_config": {
    "python": {
     "delete_cmd_postfix": "",
     "delete_cmd_prefix": "del ",
     "library": "var_list.py",
     "varRefreshCmd": "print(var_dic_list())"
    },
    "r": {
     "delete_cmd_postfix": ") ",
     "delete_cmd_prefix": "rm(",
     "library": "var_list.r",
     "varRefreshCmd": "cat(var_dic_list()) "
    }
   },
   "types_to_exclude": [
    "module",
    "function",
    "builtin_function_or_method",
    "instance",
    "_Feature"
   ],
   "window_display": false
  }
 },
 "nbformat": 4,
 "nbformat_minor": 4
}
