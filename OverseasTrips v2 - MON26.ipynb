{
 "cells": [
  {
   "cell_type": "markdown",
   "metadata": {
    "ExecuteTime": {
     "end_time": "2021-04-07T09:20:42.074937Z",
     "start_time": "2021-04-07T09:20:42.029Z"
    },
    "heading_collapsed": true
   },
   "source": [
    "## Load file and check information"
   ]
  },
  {
   "cell_type": "code",
   "execution_count": 1,
   "metadata": {
    "ExecuteTime": {
     "end_time": "2021-04-26T09:44:16.930742Z",
     "start_time": "2021-04-26T09:44:16.887Z"
    },
    "hidden": true
   },
   "outputs": [],
   "source": [
    "OverseasTrips <- read.csv('OverseasTrips.csv')"
   ]
  },
  {
   "cell_type": "code",
   "execution_count": 2,
   "metadata": {
    "ExecuteTime": {
     "end_time": "2021-04-26T09:44:18.831091Z",
     "start_time": "2021-04-26T09:44:18.762Z"
    },
    "hidden": true
   },
   "outputs": [
    {
     "name": "stdout",
     "output_type": "stream",
     "text": [
      "  ï..Quarter Trips.Thousands.\n",
      "1     2012Q1           1165.1\n",
      "2     2012Q2           1817.3\n",
      "3     2012Q3           2096.7\n",
      "4     2012Q4           1438.0\n",
      "5     2013Q1           1251.7\n",
      "6     2013Q2           1893.0\n",
      "   ï..Quarter Trips.Thousands.\n",
      "27     2018Q3           3330.9\n",
      "28     2018Q4           2412.8\n",
      "29     2019Q1           2026.7\n",
      "30     2019Q2           3021.8\n",
      "31     2019Q3           3334.4\n",
      "32     2019Q4           2424.6\n"
     ]
    }
   ],
   "source": [
    "print(head(OverseasTrips))\n",
    "print(tail(OverseasTrips))"
   ]
  },
  {
   "cell_type": "code",
   "execution_count": 3,
   "metadata": {
    "ExecuteTime": {
     "end_time": "2021-04-26T09:44:20.013619Z",
     "start_time": "2021-04-26T09:44:19.954Z"
    },
    "hidden": true
   },
   "outputs": [
    {
     "data": {
      "text/html": [
       "'data.frame'"
      ],
      "text/latex": [
       "'data.frame'"
      ],
      "text/markdown": [
       "'data.frame'"
      ],
      "text/plain": [
       "[1] \"data.frame\""
      ]
     },
     "metadata": {},
     "output_type": "display_data"
    }
   ],
   "source": [
    "class(OverseasTrips)"
   ]
  },
  {
   "cell_type": "code",
   "execution_count": 4,
   "metadata": {
    "ExecuteTime": {
     "end_time": "2021-04-26T09:44:22.884612Z",
     "start_time": "2021-04-26T09:44:22.835Z"
    },
    "hidden": true
   },
   "outputs": [
    {
     "name": "stdout",
     "output_type": "stream",
     "text": [
      "'data.frame':\t32 obs. of  2 variables:\n",
      " $ ï..Quarter      : chr  \"2012Q1\" \"2012Q2\" \"2012Q3\" \"2012Q4\" ...\n",
      " $ Trips.Thousands.: num  1165 1817 2097 1438 1252 ...\n"
     ]
    }
   ],
   "source": [
    "str(OverseasTrips)\n"
   ]
  },
  {
   "cell_type": "code",
   "execution_count": 5,
   "metadata": {
    "ExecuteTime": {
     "end_time": "2021-04-26T09:44:24.105618Z",
     "start_time": "2021-04-26T09:44:23.826Z"
    },
    "hidden": true
   },
   "outputs": [
    {
     "data": {
      "text/html": [
       "<style>\n",
       ".list-inline {list-style: none; margin:0; padding: 0}\n",
       ".list-inline>li {display: inline-block}\n",
       ".list-inline>li:not(:last-child)::after {content: \"\\00b7\"; padding: 0 .5ex}\n",
       "</style>\n",
       "<ol class=list-inline><li>'2012Q1'</li><li>'2012Q2'</li><li>'2012Q3'</li><li>'2012Q4'</li><li>'2013Q1'</li><li>'2013Q2'</li><li>'2013Q3'</li><li>'2013Q4'</li><li>'2014Q1'</li><li>'2014Q2'</li><li>'2014Q3'</li><li>'2014Q4'</li><li>'2015Q1'</li><li>'2015Q2'</li><li>'2015Q3'</li><li>'2015Q4'</li><li>'2016Q1'</li><li>'2016Q2'</li><li>'2016Q3'</li><li>'2016Q4'</li><li>'2017Q1'</li><li>'2017Q2'</li><li>'2017Q3'</li><li>'2017Q4'</li><li>'2018Q1'</li><li>'2018Q2'</li><li>'2018Q3'</li><li>'2018Q4'</li><li>'2019Q1'</li><li>'2019Q2'</li><li>'2019Q3'</li><li>'2019Q4'</li></ol>\n"
      ],
      "text/latex": [
       "\\begin{enumerate*}\n",
       "\\item '2012Q1'\n",
       "\\item '2012Q2'\n",
       "\\item '2012Q3'\n",
       "\\item '2012Q4'\n",
       "\\item '2013Q1'\n",
       "\\item '2013Q2'\n",
       "\\item '2013Q3'\n",
       "\\item '2013Q4'\n",
       "\\item '2014Q1'\n",
       "\\item '2014Q2'\n",
       "\\item '2014Q3'\n",
       "\\item '2014Q4'\n",
       "\\item '2015Q1'\n",
       "\\item '2015Q2'\n",
       "\\item '2015Q3'\n",
       "\\item '2015Q4'\n",
       "\\item '2016Q1'\n",
       "\\item '2016Q2'\n",
       "\\item '2016Q3'\n",
       "\\item '2016Q4'\n",
       "\\item '2017Q1'\n",
       "\\item '2017Q2'\n",
       "\\item '2017Q3'\n",
       "\\item '2017Q4'\n",
       "\\item '2018Q1'\n",
       "\\item '2018Q2'\n",
       "\\item '2018Q3'\n",
       "\\item '2018Q4'\n",
       "\\item '2019Q1'\n",
       "\\item '2019Q2'\n",
       "\\item '2019Q3'\n",
       "\\item '2019Q4'\n",
       "\\end{enumerate*}\n"
      ],
      "text/markdown": [
       "1. '2012Q1'\n",
       "2. '2012Q2'\n",
       "3. '2012Q3'\n",
       "4. '2012Q4'\n",
       "5. '2013Q1'\n",
       "6. '2013Q2'\n",
       "7. '2013Q3'\n",
       "8. '2013Q4'\n",
       "9. '2014Q1'\n",
       "10. '2014Q2'\n",
       "11. '2014Q3'\n",
       "12. '2014Q4'\n",
       "13. '2015Q1'\n",
       "14. '2015Q2'\n",
       "15. '2015Q3'\n",
       "16. '2015Q4'\n",
       "17. '2016Q1'\n",
       "18. '2016Q2'\n",
       "19. '2016Q3'\n",
       "20. '2016Q4'\n",
       "21. '2017Q1'\n",
       "22. '2017Q2'\n",
       "23. '2017Q3'\n",
       "24. '2017Q4'\n",
       "25. '2018Q1'\n",
       "26. '2018Q2'\n",
       "27. '2018Q3'\n",
       "28. '2018Q4'\n",
       "29. '2019Q1'\n",
       "30. '2019Q2'\n",
       "31. '2019Q3'\n",
       "32. '2019Q4'\n",
       "\n",
       "\n"
      ],
      "text/plain": [
       " [1] \"2012Q1\" \"2012Q2\" \"2012Q3\" \"2012Q4\" \"2013Q1\" \"2013Q2\" \"2013Q3\" \"2013Q4\"\n",
       " [9] \"2014Q1\" \"2014Q2\" \"2014Q3\" \"2014Q4\" \"2015Q1\" \"2015Q2\" \"2015Q3\" \"2015Q4\"\n",
       "[17] \"2016Q1\" \"2016Q2\" \"2016Q3\" \"2016Q4\" \"2017Q1\" \"2017Q2\" \"2017Q3\" \"2017Q4\"\n",
       "[25] \"2018Q1\" \"2018Q2\" \"2018Q3\" \"2018Q4\" \"2019Q1\" \"2019Q2\" \"2019Q3\" \"2019Q4\""
      ]
     },
     "metadata": {},
     "output_type": "display_data"
    }
   ],
   "source": [
    "OverseasTrips$ï..Quarter"
   ]
  },
  {
   "cell_type": "code",
   "execution_count": 6,
   "metadata": {
    "ExecuteTime": {
     "end_time": "2021-04-26T09:44:25.336286Z",
     "start_time": "2021-04-26T09:44:25.284Z"
    },
    "hidden": true
   },
   "outputs": [],
   "source": [
    "names(OverseasTrips)[1] <- \"Quarter\""
   ]
  },
  {
   "cell_type": "code",
   "execution_count": 7,
   "metadata": {
    "ExecuteTime": {
     "end_time": "2021-04-26T09:44:26.017185Z",
     "start_time": "2021-04-26T09:44:25.970Z"
    },
    "hidden": true
   },
   "outputs": [
    {
     "name": "stdout",
     "output_type": "stream",
     "text": [
      "'data.frame':\t32 obs. of  2 variables:\n",
      " $ Quarter         : chr  \"2012Q1\" \"2012Q2\" \"2012Q3\" \"2012Q4\" ...\n",
      " $ Trips.Thousands.: num  1165 1817 2097 1438 1252 ...\n"
     ]
    }
   ],
   "source": [
    "str(OverseasTrips)"
   ]
  },
  {
   "cell_type": "code",
   "execution_count": 8,
   "metadata": {
    "ExecuteTime": {
     "end_time": "2021-04-26T09:44:26.760730Z",
     "start_time": "2021-04-26T09:44:26.706Z"
    },
    "hidden": true
   },
   "outputs": [
    {
     "ename": "ERROR",
     "evalue": "Error in str(NewHousesReg): object 'NewHousesReg' not found\n",
     "output_type": "error",
     "traceback": [
      "Error in str(NewHousesReg): object 'NewHousesReg' not found\nTraceback:\n",
      "1. str(NewHousesReg)"
     ]
    }
   ],
   "source": [
    "str(NewHousesReg)"
   ]
  },
  {
   "cell_type": "code",
   "execution_count": 9,
   "metadata": {
    "ExecuteTime": {
     "end_time": "2021-04-26T09:44:27.461169Z",
     "start_time": "2021-04-26T09:44:27.410Z"
    },
    "hidden": true
   },
   "outputs": [
    {
     "data": {
      "text/html": [
       "FALSE"
      ],
      "text/latex": [
       "FALSE"
      ],
      "text/markdown": [
       "FALSE"
      ],
      "text/plain": [
       "[1] FALSE"
      ]
     },
     "metadata": {},
     "output_type": "display_data"
    }
   ],
   "source": [
    "\n",
    "is.ts(OverseasTrips)"
   ]
  },
  {
   "cell_type": "markdown",
   "metadata": {},
   "source": [
    "## Create time series variables"
   ]
  },
  {
   "cell_type": "code",
   "execution_count": 34,
   "metadata": {
    "ExecuteTime": {
     "end_time": "2021-04-26T15:53:02.232064Z",
     "start_time": "2021-04-26T15:53:02.162Z"
    }
   },
   "outputs": [],
   "source": [
    "library('tseries')\n"
   ]
  },
  {
   "cell_type": "code",
   "execution_count": 10,
   "metadata": {
    "ExecuteTime": {
     "end_time": "2021-04-26T09:44:36.981550Z",
     "start_time": "2021-04-26T09:44:34.594Z"
    }
   },
   "outputs": [
    {
     "name": "stderr",
     "output_type": "stream",
     "text": [
      "Warning message:\n",
      "\"package 'fpp2' was built under R version 4.0.5\"\n",
      "Registered S3 method overwritten by 'quantmod':\n",
      "  method            from\n",
      "  as.zoo.data.frame zoo \n",
      "\n",
      "-- \u001b[1mAttaching packages\u001b[22m ---------------------------------------------- fpp2 2.4 --\n",
      "\n",
      "\u001b[32mv\u001b[39m \u001b[34mggplot2  \u001b[39m 3.3.3     \u001b[32mv\u001b[39m \u001b[34mfma      \u001b[39m 2.4  \n",
      "\u001b[32mv\u001b[39m \u001b[34mforecast \u001b[39m 8.14      \u001b[32mv\u001b[39m \u001b[34mexpsmooth\u001b[39m 2.3  \n",
      "\n",
      "\n",
      "\n"
     ]
    }
   ],
   "source": [
    "library('fpp2')\n",
    "library('ggplot2')"
   ]
  },
  {
   "cell_type": "code",
   "execution_count": 11,
   "metadata": {
    "ExecuteTime": {
     "end_time": "2021-04-26T09:44:38.366055Z",
     "start_time": "2021-04-26T09:44:38.320Z"
    }
   },
   "outputs": [],
   "source": [
    "trips <- ts(OverseasTrips[,2], start=c(2012,1), frequency=4)"
   ]
  },
  {
   "cell_type": "code",
   "execution_count": 12,
   "metadata": {
    "ExecuteTime": {
     "end_time": "2021-04-26T09:44:41.087611Z",
     "start_time": "2021-04-26T09:44:41.034Z"
    }
   },
   "outputs": [
    {
     "data": {
      "text/html": [
       "4"
      ],
      "text/latex": [
       "4"
      ],
      "text/markdown": [
       "4"
      ],
      "text/plain": [
       "[1] 4"
      ]
     },
     "metadata": {},
     "output_type": "display_data"
    }
   ],
   "source": [
    "frequency(trips)"
   ]
  },
  {
   "cell_type": "code",
   "execution_count": 13,
   "metadata": {
    "ExecuteTime": {
     "end_time": "2021-04-26T09:44:42.671066Z",
     "start_time": "2021-04-26T09:44:42.610Z"
    }
   },
   "outputs": [
    {
     "data": {
      "text/html": [
       "<style>\n",
       ".list-inline {list-style: none; margin:0; padding: 0}\n",
       ".list-inline>li {display: inline-block}\n",
       ".list-inline>li:not(:last-child)::after {content: \"\\00b7\"; padding: 0 .5ex}\n",
       "</style>\n",
       "<ol class=list-inline><li>2012</li><li>1</li></ol>\n"
      ],
      "text/latex": [
       "\\begin{enumerate*}\n",
       "\\item 2012\n",
       "\\item 1\n",
       "\\end{enumerate*}\n"
      ],
      "text/markdown": [
       "1. 2012\n",
       "2. 1\n",
       "\n",
       "\n"
      ],
      "text/plain": [
       "[1] 2012    1"
      ]
     },
     "metadata": {},
     "output_type": "display_data"
    }
   ],
   "source": [
    "start(trips)"
   ]
  },
  {
   "cell_type": "code",
   "execution_count": 14,
   "metadata": {
    "ExecuteTime": {
     "end_time": "2021-04-26T09:44:43.417001Z",
     "start_time": "2021-04-26T09:44:43.369Z"
    }
   },
   "outputs": [
    {
     "data": {
      "text/html": [
       "<style>\n",
       ".list-inline {list-style: none; margin:0; padding: 0}\n",
       ".list-inline>li {display: inline-block}\n",
       ".list-inline>li:not(:last-child)::after {content: \"\\00b7\"; padding: 0 .5ex}\n",
       "</style>\n",
       "<ol class=list-inline><li>2019</li><li>4</li></ol>\n"
      ],
      "text/latex": [
       "\\begin{enumerate*}\n",
       "\\item 2019\n",
       "\\item 4\n",
       "\\end{enumerate*}\n"
      ],
      "text/markdown": [
       "1. 2019\n",
       "2. 4\n",
       "\n",
       "\n"
      ],
      "text/plain": [
       "[1] 2019    4"
      ]
     },
     "metadata": {},
     "output_type": "display_data"
    }
   ],
   "source": [
    "end(trips)"
   ]
  },
  {
   "cell_type": "code",
   "execution_count": 15,
   "metadata": {
    "ExecuteTime": {
     "end_time": "2021-04-26T09:44:46.017802Z",
     "start_time": "2021-04-26T09:44:45.954Z"
    }
   },
   "outputs": [
    {
     "data": {
      "text/html": [
       "<table class=\"dataframe\">\n",
       "<caption>A Time Series: 8 × 4</caption>\n",
       "<thead>\n",
       "\t<tr><th></th><th scope=col>Qtr1</th><th scope=col>Qtr2</th><th scope=col>Qtr3</th><th scope=col>Qtr4</th></tr>\n",
       "</thead>\n",
       "<tbody>\n",
       "\t<tr><th scope=row>2012</th><td>1</td><td>2</td><td>3</td><td>4</td></tr>\n",
       "\t<tr><th scope=row>2013</th><td>1</td><td>2</td><td>3</td><td>4</td></tr>\n",
       "\t<tr><th scope=row>2014</th><td>1</td><td>2</td><td>3</td><td>4</td></tr>\n",
       "\t<tr><th scope=row>2015</th><td>1</td><td>2</td><td>3</td><td>4</td></tr>\n",
       "\t<tr><th scope=row>2016</th><td>1</td><td>2</td><td>3</td><td>4</td></tr>\n",
       "\t<tr><th scope=row>2017</th><td>1</td><td>2</td><td>3</td><td>4</td></tr>\n",
       "\t<tr><th scope=row>2018</th><td>1</td><td>2</td><td>3</td><td>4</td></tr>\n",
       "\t<tr><th scope=row>2019</th><td>1</td><td>2</td><td>3</td><td>4</td></tr>\n",
       "</tbody>\n",
       "</table>\n"
      ],
      "text/latex": [
       "A Time Series: 8 × 4\n",
       "\\begin{tabular}{r|llll}\n",
       "  & Qtr1 & Qtr2 & Qtr3 & Qtr4\\\\\n",
       "\\hline\n",
       "\t2012 & 1 & 2 & 3 & 4\\\\\n",
       "\t2013 & 1 & 2 & 3 & 4\\\\\n",
       "\t2014 & 1 & 2 & 3 & 4\\\\\n",
       "\t2015 & 1 & 2 & 3 & 4\\\\\n",
       "\t2016 & 1 & 2 & 3 & 4\\\\\n",
       "\t2017 & 1 & 2 & 3 & 4\\\\\n",
       "\t2018 & 1 & 2 & 3 & 4\\\\\n",
       "\t2019 & 1 & 2 & 3 & 4\\\\\n",
       "\\end{tabular}\n"
      ],
      "text/markdown": [
       "\n",
       "A Time Series: 8 × 4\n",
       "\n",
       "| <!--/--> | Qtr1 | Qtr2 | Qtr3 | Qtr4 |\n",
       "|---|---|---|---|---|\n",
       "| 2012 | 1 | 2 | 3 | 4 |\n",
       "| 2013 | 1 | 2 | 3 | 4 |\n",
       "| 2014 | 1 | 2 | 3 | 4 |\n",
       "| 2015 | 1 | 2 | 3 | 4 |\n",
       "| 2016 | 1 | 2 | 3 | 4 |\n",
       "| 2017 | 1 | 2 | 3 | 4 |\n",
       "| 2018 | 1 | 2 | 3 | 4 |\n",
       "| 2019 | 1 | 2 | 3 | 4 |\n",
       "\n"
      ],
      "text/plain": [
       "     Qtr1 Qtr2 Qtr3 Qtr4\n",
       "2012 1    2    3    4   \n",
       "2013 1    2    3    4   \n",
       "2014 1    2    3    4   \n",
       "2015 1    2    3    4   \n",
       "2016 1    2    3    4   \n",
       "2017 1    2    3    4   \n",
       "2018 1    2    3    4   \n",
       "2019 1    2    3    4   "
      ]
     },
     "metadata": {},
     "output_type": "display_data"
    }
   ],
   "source": [
    "cycle(trips)"
   ]
  },
  {
   "cell_type": "code",
   "execution_count": 16,
   "metadata": {
    "ExecuteTime": {
     "end_time": "2021-04-26T09:44:47.651761Z",
     "start_time": "2021-04-26T09:44:47.570Z"
    }
   },
   "outputs": [
    {
     "data": {
      "text/html": [
       "<table class=\"dataframe\">\n",
       "<caption>A Time Series: 8 × 4</caption>\n",
       "<thead>\n",
       "\t<tr><th></th><th scope=col>Qtr1</th><th scope=col>Qtr2</th><th scope=col>Qtr3</th><th scope=col>Qtr4</th></tr>\n",
       "</thead>\n",
       "<tbody>\n",
       "\t<tr><th scope=row>2012</th><td>1165</td><td>1817</td><td>2096</td><td>1438</td></tr>\n",
       "\t<tr><th scope=row>2013</th><td>1251</td><td>1893</td><td>2261</td><td>1580</td></tr>\n",
       "\t<tr><th scope=row>2014</th><td>1342</td><td>2126</td><td>2440</td><td>1694</td></tr>\n",
       "\t<tr><th scope=row>2015</th><td>1531</td><td>2344</td><td>2770</td><td>1995</td></tr>\n",
       "\t<tr><th scope=row>2016</th><td>1784</td><td>2598</td><td>3061</td><td>2139</td></tr>\n",
       "\t<tr><th scope=row>2017</th><td>1796</td><td>2769</td><td>3095</td><td>2270</td></tr>\n",
       "\t<tr><th scope=row>2018</th><td>1920</td><td>2951</td><td>3330</td><td>2412</td></tr>\n",
       "\t<tr><th scope=row>2019</th><td>2026</td><td>3021</td><td>3334</td><td>2424</td></tr>\n",
       "</tbody>\n",
       "</table>\n"
      ],
      "text/latex": [
       "A Time Series: 8 × 4\n",
       "\\begin{tabular}{r|llll}\n",
       "  & Qtr1 & Qtr2 & Qtr3 & Qtr4\\\\\n",
       "\\hline\n",
       "\t2012 & 1165 & 1817 & 2096 & 1438\\\\\n",
       "\t2013 & 1251 & 1893 & 2261 & 1580\\\\\n",
       "\t2014 & 1342 & 2126 & 2440 & 1694\\\\\n",
       "\t2015 & 1531 & 2344 & 2770 & 1995\\\\\n",
       "\t2016 & 1784 & 2598 & 3061 & 2139\\\\\n",
       "\t2017 & 1796 & 2769 & 3095 & 2270\\\\\n",
       "\t2018 & 1920 & 2951 & 3330 & 2412\\\\\n",
       "\t2019 & 2026 & 3021 & 3334 & 2424\\\\\n",
       "\\end{tabular}\n"
      ],
      "text/markdown": [
       "\n",
       "A Time Series: 8 × 4\n",
       "\n",
       "| <!--/--> | Qtr1 | Qtr2 | Qtr3 | Qtr4 |\n",
       "|---|---|---|---|---|\n",
       "| 2012 | 1165 | 1817 | 2096 | 1438 |\n",
       "| 2013 | 1251 | 1893 | 2261 | 1580 |\n",
       "| 2014 | 1342 | 2126 | 2440 | 1694 |\n",
       "| 2015 | 1531 | 2344 | 2770 | 1995 |\n",
       "| 2016 | 1784 | 2598 | 3061 | 2139 |\n",
       "| 2017 | 1796 | 2769 | 3095 | 2270 |\n",
       "| 2018 | 1920 | 2951 | 3330 | 2412 |\n",
       "| 2019 | 2026 | 3021 | 3334 | 2424 |\n",
       "\n"
      ],
      "text/plain": [
       "     Qtr1 Qtr2 Qtr3 Qtr4\n",
       "2012 1165 1817 2096 1438\n",
       "2013 1251 1893 2261 1580\n",
       "2014 1342 2126 2440 1694\n",
       "2015 1531 2344 2770 1995\n",
       "2016 1784 2598 3061 2139\n",
       "2017 1796 2769 3095 2270\n",
       "2018 1920 2951 3330 2412\n",
       "2019 2026 3021 3334 2424"
      ]
     },
     "metadata": {},
     "output_type": "display_data"
    }
   ],
   "source": [
    "floor(trips)"
   ]
  },
  {
   "cell_type": "code",
   "execution_count": 17,
   "metadata": {
    "ExecuteTime": {
     "end_time": "2021-04-26T09:44:49.020536Z",
     "start_time": "2021-04-26T09:44:48.369Z"
    }
   },
   "outputs": [],
   "source": [
    "?floor"
   ]
  },
  {
   "cell_type": "code",
   "execution_count": 31,
   "metadata": {
    "ExecuteTime": {
     "end_time": "2021-04-17T14:01:44.346653Z",
     "start_time": "2021-04-17T14:01:44.287Z"
    }
   },
   "outputs": [
    {
     "data": {
      "text/html": [
       "<table class=\"dataframe\">\n",
       "<caption>A Time Series: 8 × 4</caption>\n",
       "<thead>\n",
       "\t<tr><th></th><th scope=col>Qtr1</th><th scope=col>Qtr2</th><th scope=col>Qtr3</th><th scope=col>Qtr4</th></tr>\n",
       "</thead>\n",
       "<tbody>\n",
       "\t<tr><th scope=row>2012</th><td>2012.00</td><td>2012.25</td><td>2012.50</td><td>2012.75</td></tr>\n",
       "\t<tr><th scope=row>2013</th><td>2013.00</td><td>2013.25</td><td>2013.50</td><td>2013.75</td></tr>\n",
       "\t<tr><th scope=row>2014</th><td>2014.00</td><td>2014.25</td><td>2014.50</td><td>2014.75</td></tr>\n",
       "\t<tr><th scope=row>2015</th><td>2015.00</td><td>2015.25</td><td>2015.50</td><td>2015.75</td></tr>\n",
       "\t<tr><th scope=row>2016</th><td>2016.00</td><td>2016.25</td><td>2016.50</td><td>2016.75</td></tr>\n",
       "\t<tr><th scope=row>2017</th><td>2017.00</td><td>2017.25</td><td>2017.50</td><td>2017.75</td></tr>\n",
       "\t<tr><th scope=row>2018</th><td>2018.00</td><td>2018.25</td><td>2018.50</td><td>2018.75</td></tr>\n",
       "\t<tr><th scope=row>2019</th><td>2019.00</td><td>2019.25</td><td>2019.50</td><td>2019.75</td></tr>\n",
       "</tbody>\n",
       "</table>\n"
      ],
      "text/latex": [
       "A Time Series: 8 × 4\n",
       "\\begin{tabular}{r|llll}\n",
       "  & Qtr1 & Qtr2 & Qtr3 & Qtr4\\\\\n",
       "\\hline\n",
       "\t2012 & 2012.00 & 2012.25 & 2012.50 & 2012.75\\\\\n",
       "\t2013 & 2013.00 & 2013.25 & 2013.50 & 2013.75\\\\\n",
       "\t2014 & 2014.00 & 2014.25 & 2014.50 & 2014.75\\\\\n",
       "\t2015 & 2015.00 & 2015.25 & 2015.50 & 2015.75\\\\\n",
       "\t2016 & 2016.00 & 2016.25 & 2016.50 & 2016.75\\\\\n",
       "\t2017 & 2017.00 & 2017.25 & 2017.50 & 2017.75\\\\\n",
       "\t2018 & 2018.00 & 2018.25 & 2018.50 & 2018.75\\\\\n",
       "\t2019 & 2019.00 & 2019.25 & 2019.50 & 2019.75\\\\\n",
       "\\end{tabular}\n"
      ],
      "text/markdown": [
       "\n",
       "A Time Series: 8 × 4\n",
       "\n",
       "| <!--/--> | Qtr1 | Qtr2 | Qtr3 | Qtr4 |\n",
       "|---|---|---|---|---|\n",
       "| 2012 | 2012.00 | 2012.25 | 2012.50 | 2012.75 |\n",
       "| 2013 | 2013.00 | 2013.25 | 2013.50 | 2013.75 |\n",
       "| 2014 | 2014.00 | 2014.25 | 2014.50 | 2014.75 |\n",
       "| 2015 | 2015.00 | 2015.25 | 2015.50 | 2015.75 |\n",
       "| 2016 | 2016.00 | 2016.25 | 2016.50 | 2016.75 |\n",
       "| 2017 | 2017.00 | 2017.25 | 2017.50 | 2017.75 |\n",
       "| 2018 | 2018.00 | 2018.25 | 2018.50 | 2018.75 |\n",
       "| 2019 | 2019.00 | 2019.25 | 2019.50 | 2019.75 |\n",
       "\n"
      ],
      "text/plain": [
       "     Qtr1    Qtr2    Qtr3    Qtr4   \n",
       "2012 2012.00 2012.25 2012.50 2012.75\n",
       "2013 2013.00 2013.25 2013.50 2013.75\n",
       "2014 2014.00 2014.25 2014.50 2014.75\n",
       "2015 2015.00 2015.25 2015.50 2015.75\n",
       "2016 2016.00 2016.25 2016.50 2016.75\n",
       "2017 2017.00 2017.25 2017.50 2017.75\n",
       "2018 2018.00 2018.25 2018.50 2018.75\n",
       "2019 2019.00 2019.25 2019.50 2019.75"
      ]
     },
     "metadata": {},
     "output_type": "display_data"
    }
   ],
   "source": [
    "time(trips)"
   ]
  },
  {
   "cell_type": "code",
   "execution_count": 18,
   "metadata": {
    "ExecuteTime": {
     "end_time": "2021-04-26T09:44:55.849945Z",
     "start_time": "2021-04-26T09:44:55.546Z"
    }
   },
   "outputs": [],
   "source": [
    "?time"
   ]
  },
  {
   "cell_type": "code",
   "execution_count": 19,
   "metadata": {
    "ExecuteTime": {
     "end_time": "2021-04-26T09:45:00.329483Z",
     "start_time": "2021-04-26T09:45:00.275Z"
    }
   },
   "outputs": [
    {
     "data": {
      "text/html": [
       "A Time Series:<br><style>\n",
       ".list-inline {list-style: none; margin:0; padding: 0}\n",
       ".list-inline>li {display: inline-block}\n",
       ".list-inline>li:not(:last-child)::after {content: \"\\00b7\"; padding: 0 .5ex}\n",
       "</style>\n",
       "<ol class=list-inline><li>1629.275</li><li>1746.45</li><li>1901.1</li><li>2160.75</li><li>2396.075</li><li>2483</li><li>2654.075</li><li>2701.875</li></ol>\n"
      ],
      "text/latex": [
       "A Time Series:\\\\\\begin{enumerate*}\n",
       "\\item 1629.275\n",
       "\\item 1746.45\n",
       "\\item 1901.1\n",
       "\\item 2160.75\n",
       "\\item 2396.075\n",
       "\\item 2483\n",
       "\\item 2654.075\n",
       "\\item 2701.875\n",
       "\\end{enumerate*}\n"
      ],
      "text/markdown": [
       "A Time Series:  \n",
       "1. 1629.275\n",
       "2. 1746.45\n",
       "3. 1901.1\n",
       "4. 2160.75\n",
       "5. 2396.075\n",
       "6. 2483\n",
       "7. 2654.075\n",
       "8. 2701.875\n",
       "\n",
       "\n"
      ],
      "text/plain": [
       "A Time Series:\n",
       "[1] 1629.275 1746.450 1901.100 2160.750 2396.075 2483.000 2654.075 2701.875"
      ]
     },
     "metadata": {},
     "output_type": "display_data"
    }
   ],
   "source": [
    "# Technique that allows to aggregate values. Descriptive parameters\n",
    "\n",
    "trips_agg <- aggregate(trips, FUN=mean)\n",
    "trips_agg\n"
   ]
  },
  {
   "cell_type": "code",
   "execution_count": 20,
   "metadata": {
    "ExecuteTime": {
     "end_time": "2021-04-26T09:45:02.295522Z",
     "start_time": "2021-04-26T09:45:02.148Z"
    }
   },
   "outputs": [
    {
     "data": {
      "image/png": "[encoded data removed]",
      "text/plain": [
       "plot without title"
      ]
     },
     "metadata": {
      "image/png": {
       "height": 420,
       "width": 420
      }
     },
     "output_type": "display_data"
    }
   ],
   "source": [
    "\n",
    "plot(trips)\n",
    "lines(trips_agg, col='blue', lw=4)\n"
   ]
  },
  {
   "cell_type": "code",
   "execution_count": 21,
   "metadata": {
    "ExecuteTime": {
     "end_time": "2021-04-26T09:45:13.977333Z",
     "start_time": "2021-04-26T09:45:13.498Z"
    }
   },
   "outputs": [],
   "source": [
    "# Watch out, aggregate function starts at the beguining but misses some data at the end\n",
    "?aggregate"
   ]
  },
  {
   "cell_type": "code",
   "execution_count": 22,
   "metadata": {
    "ExecuteTime": {
     "end_time": "2021-04-26T09:45:18.865591Z",
     "start_time": "2021-04-26T09:45:18.666Z"
    }
   },
   "outputs": [
    {
     "data": {
      "image/png": "[encoded data removed]",
      "text/plain": [
       "plot without title"
      ]
     },
     "metadata": {
      "image/png": {
       "height": 420,
       "width": 420
      }
     },
     "output_type": "display_data"
    },
    {
     "data": {
      "image/png": "[encoded data removed]",
      "text/plain": [
       "plot without title"
      ]
     },
     "metadata": {
      "image/png": {
       "height": 420,
       "width": 420
      }
     },
     "output_type": "display_data"
    }
   ],
   "source": [
    "# Analyse in which particular quarter are more flights \n",
    "\n",
    "boxplot(trips ~ cycle(trips)) # Trips per quarter\n",
    "boxplot(trips ~ floor(time(trips)), col='grey') # Trips per year"
   ]
  },
  {
   "cell_type": "code",
   "execution_count": 23,
   "metadata": {
    "ExecuteTime": {
     "end_time": "2021-04-26T10:46:07.592645Z",
     "start_time": "2021-04-26T10:46:07.451Z"
    }
   },
   "outputs": [
    {
     "data": {
      "image/png": "[encoded data removed]",
      "text/plain": [
       "Plot with title \"Series  trips\""
      ]
     },
     "metadata": {
      "image/png": {
       "height": 420,
       "width": 420
      }
     },
     "output_type": "display_data"
    }
   ],
   "source": [
    "acf(trips)"
   ]
  },
  {
   "cell_type": "code",
   "execution_count": 25,
   "metadata": {
    "ExecuteTime": {
     "end_time": "2021-04-26T10:47:56.587246Z",
     "start_time": "2021-04-26T10:47:56.545Z"
    }
   },
   "outputs": [],
   "source": [
    "library('forecast')"
   ]
  },
  {
   "cell_type": "code",
   "execution_count": 26,
   "metadata": {
    "ExecuteTime": {
     "end_time": "2021-04-26T10:47:58.606275Z",
     "start_time": "2021-04-26T10:47:58.560Z"
    }
   },
   "outputs": [
    {
     "ename": "ERROR",
     "evalue": "Error in adf.test(trips, k = 0): could not find function \"adf.test\"\n",
     "output_type": "error",
     "traceback": [
      "Error in adf.test(trips, k = 0): could not find function \"adf.test\"\nTraceback:\n"
     ]
    }
   ],
   "source": [
    "adf.test(trips, k=0)"
   ]
  },
  {
   "cell_type": "markdown",
   "metadata": {
    "heading_collapsed": true
   },
   "source": [
    "## Linear model"
   ]
  },
  {
   "cell_type": "code",
   "execution_count": 44,
   "metadata": {
    "ExecuteTime": {
     "end_time": "2021-04-17T14:17:07.542315Z",
     "start_time": "2021-04-17T14:17:07.377Z"
    },
    "hidden": true
   },
   "outputs": [
    {
     "data": {
      "image/png": "[encoded data removed]",
      "text/plain": [
       "plot without title"
      ]
     },
     "metadata": {
      "image/png": {
       "height": 420,
       "width": 420
      }
     },
     "output_type": "display_data"
    }
   ],
   "source": [
    "# TimePlot\n",
    "\n",
    "plot(trips, xlab = \"Time\", ylab = \"Trips in thousands\", type='o' )\n",
    "axis(1, at=2012:2020);axis(2);box()\n",
    "\n",
    "# Linear model\n",
    "trips_lm <- lm(trips~time(trips))\n",
    "\n",
    "x <- as.vector(time(trips))\n",
    "y <- predict.lm(trips_lm)\n",
    "lines(x,y, col='red', lw=4)\n",
    "\n",
    "lines(aggregate(trips, FUN=mean), col='blue', lw=4)\n",
    "\n",
    "y <- ma(trips, order=6)\n",
    "lines(x,y, col='dark green', lw=4)\n"
   ]
  },
  {
   "cell_type": "markdown",
   "metadata": {
    "hidden": true
   },
   "source": [
    "Data has a strong positive trend. Number of trips have increased over time. There might some seasonal patterm Similar patter over the same time on each year. \n",
    "\n",
    "Linear trend - red avarage of the mean\n",
    "\n",
    "Because it has a strong trend, we will investigate transformations. In order to manipulate (forecast) the data need to be flat or stationary (Mean is cconstant over series and other parameters like variance and autocorrelation)\n"
   ]
  },
  {
   "cell_type": "markdown",
   "metadata": {
    "ExecuteTime": {
     "end_time": "2021-04-11T15:08:55.968525Z",
     "start_time": "2021-04-11T15:08:55.931Z"
    },
    "heading_collapsed": true
   },
   "source": [
    "## Moving Averages"
   ]
  },
  {
   "cell_type": "code",
   "execution_count": 45,
   "metadata": {
    "ExecuteTime": {
     "end_time": "2021-04-17T14:17:37.273755Z",
     "start_time": "2021-04-17T14:17:37.232Z"
    },
    "hidden": true
   },
   "outputs": [],
   "source": [
    "library(forecast)"
   ]
  },
  {
   "cell_type": "code",
   "execution_count": 54,
   "metadata": {
    "ExecuteTime": {
     "end_time": "2021-04-17T14:20:19.893511Z",
     "start_time": "2021-04-17T14:20:19.752Z"
    },
    "hidden": true
   },
   "outputs": [
    {
     "data": {
      "image/png": "[encoded data removed]",
      "text/plain": [
       "plot without title"
      ]
     },
     "metadata": {
      "image/png": {
       "height": 420,
       "width": 420
      }
     },
     "output_type": "display_data"
    }
   ],
   "source": [
    "plot(trips, col='blue')\n",
    "\n",
    "x <- as.vector(time(trips))\n",
    "\n",
    "y <- ma(trips, order=2)\n",
    "lines(x, y, col='red', lw=4)\n",
    "y <- ma(trips, order=4)\n",
    "lines(x, y, col='green', lw=4)\n",
    "y <- ma(trips, order=6)\n",
    "lines(x, y, col='orange', lw=4)\n",
    "y <- ma(trips, order=8)\n",
    "lines(x, y, col='black', lw=4)"
   ]
  },
  {
   "cell_type": "code",
   "execution_count": null,
   "metadata": {
    "hidden": true
   },
   "outputs": [],
   "source": []
  },
  {
   "cell_type": "code",
   "execution_count": 52,
   "metadata": {
    "ExecuteTime": {
     "end_time": "2021-04-08T10:27:51.378369Z",
     "start_time": "2021-04-08T10:27:51.279Z"
    },
    "hidden": true
   },
   "outputs": [
    {
     "data": {
      "image/png": "[encoded data removed]",
      "text/plain": [
       "plot without title"
      ]
     },
     "metadata": {
      "image/png": {
       "height": 420,
       "width": 420
      }
     },
     "output_type": "display_data"
    }
   ],
   "source": [
    "# Check general trend\n",
    "plot(aggregate(Y, FUN=mean))"
   ]
  },
  {
   "cell_type": "code",
   "execution_count": 28,
   "metadata": {
    "ExecuteTime": {
     "end_time": "2021-04-11T15:05:18.519304Z",
     "start_time": "2021-04-11T15:05:18.285Z"
    },
    "hidden": true
   },
   "outputs": [
    {
     "data": {
      "image/png": "[encoded data removed]",
      "text/plain": [
       "plot without title"
      ]
     },
     "metadata": {
      "image/png": {
       "height": 420,
       "width": 420
      }
     },
     "output_type": "display_data"
    },
    {
     "data": {
      "image/png": "[encoded data removed]",
      "text/plain": [
       "plot without title"
      ]
     },
     "metadata": {
      "image/png": {
       "height": 420,
       "width": 420
      }
     },
     "output_type": "display_data"
    },
    {
     "data": {
      "image/png": "[encoded data removed]",
      "text/plain": [
       "Plot with title \"Seasonal plot: Y\""
      ]
     },
     "metadata": {
      "image/png": {
       "height": 420,
       "width": 420
      }
     },
     "output_type": "display_data"
    }
   ],
   "source": [
    "plot(Y)\n",
    "monthplot(Y)\n",
    "seasonplot(Y)"
   ]
  },
  {
   "cell_type": "markdown",
   "metadata": {
    "ExecuteTime": {
     "end_time": "2021-04-11T15:12:39.741997Z",
     "start_time": "2021-04-11T15:12:39.700Z"
    },
    "heading_collapsed": true
   },
   "source": [
    "## Decomposition"
   ]
  },
  {
   "cell_type": "markdown",
   "metadata": {
    "heading_collapsed": true,
    "hidden": true
   },
   "source": [
    "### Multiplicative Linear Decomposition"
   ]
  },
  {
   "cell_type": "code",
   "execution_count": 56,
   "metadata": {
    "ExecuteTime": {
     "end_time": "2021-04-17T14:21:09.490808Z",
     "start_time": "2021-04-17T14:21:09.385Z"
    },
    "hidden": true
   },
   "outputs": [
    {
     "data": {
      "image/png": "[encoded data removed]",
      "text/plain": [
       "plot without title"
      ]
     },
     "metadata": {
      "image/png": {
       "height": 420,
       "width": 420
      }
     },
     "output_type": "display_data"
    }
   ],
   "source": [
    "monthplot(trips)"
   ]
  },
  {
   "cell_type": "code",
   "execution_count": 57,
   "metadata": {
    "ExecuteTime": {
     "end_time": "2021-04-17T14:21:47.038777Z",
     "start_time": "2021-04-17T14:21:46.910Z"
    },
    "hidden": true
   },
   "outputs": [
    {
     "data": {
      "image/png": "[encoded data removed]",
      "text/plain": [
       "Plot with title \"Seasonal plot: trips\""
      ]
     },
     "metadata": {
      "image/png": {
       "height": 420,
       "width": 420
      }
     },
     "output_type": "display_data"
    }
   ],
   "source": [
    "seasonplot(trips)"
   ]
  },
  {
   "cell_type": "code",
   "execution_count": 59,
   "metadata": {
    "ExecuteTime": {
     "end_time": "2021-04-17T14:22:41.581614Z",
     "start_time": "2021-04-17T14:22:41.385Z"
    },
    "hidden": true
   },
   "outputs": [
    {
     "data": {
      "text/plain": [
       "$x\n",
       "       Qtr1   Qtr2   Qtr3   Qtr4\n",
       "2012 1165.1 1817.3 2096.7 1438.0\n",
       "2013 1251.7 1893.0 2261.0 1580.1\n",
       "2014 1342.5 2126.6 2440.4 1694.9\n",
       "2015 1531.3 2344.9 2770.9 1995.9\n",
       "2016 1784.7 2598.9 3061.5 2139.2\n",
       "2017 1796.1 2769.4 3095.6 2270.9\n",
       "2018 1920.7 2951.9 3330.9 2412.8\n",
       "2019 2026.7 3021.8 3334.4 2424.6\n",
       "\n",
       "$seasonal\n",
       "          Qtr1      Qtr2      Qtr3      Qtr4\n",
       "2012 0.7439227 1.1109252 1.2651479 0.8800042\n",
       "2013 0.7439227 1.1109252 1.2651479 0.8800042\n",
       "2014 0.7439227 1.1109252 1.2651479 0.8800042\n",
       "2015 0.7439227 1.1109252 1.2651479 0.8800042\n",
       "2016 0.7439227 1.1109252 1.2651479 0.8800042\n",
       "2017 0.7439227 1.1109252 1.2651479 0.8800042\n",
       "2018 0.7439227 1.1109252 1.2651479 0.8800042\n",
       "2019 0.7439227 1.1109252 1.2651479 0.8800042\n",
       "\n",
       "$trend\n",
       "         Qtr1     Qtr2     Qtr3     Qtr4\n",
       "2012       NA       NA 1640.100 1660.387\n",
       "2013 1690.387 1728.688 1757.800 1798.350\n",
       "2014 1849.975 1886.750 1924.700 1975.587\n",
       "2015 2044.188 2123.125 2192.425 2255.850\n",
       "2016 2323.925 2378.163 2397.500 2420.238\n",
       "2017 2445.812 2466.538 2498.575 2536.963\n",
       "2018 2589.188 2636.338 2667.325 2689.313\n",
       "2019 2698.488 2700.400       NA       NA\n",
       "\n",
       "$random\n",
       "          Qtr1      Qtr2      Qtr3      Qtr4\n",
       "2012        NA        NA 1.0104729 0.9841577\n",
       "2013 0.9953737 0.9857103 1.0166929 0.9984483\n",
       "2014 0.9754851 1.0145808 1.0022053 0.9749067\n",
       "2015 1.0069589 0.9941775 0.9989755 1.0054114\n",
       "2016 1.0323223 0.9837012 1.0093327 1.0044045\n",
       "2017 0.9871418 1.0106788 0.9792896 1.0171833\n",
       "2018 0.9971678 1.0078962 0.9870619 1.0195189\n",
       "2019 1.0095812 1.0072860        NA        NA\n",
       "\n",
       "$figure\n",
       "[1] 0.7439227 1.1109252 1.2651479 0.8800042\n",
       "\n",
       "$type\n",
       "[1] \"multiplicative\"\n",
       "\n",
       "attr(,\"class\")\n",
       "[1] \"decomposed.ts\""
      ]
     },
     "metadata": {},
     "output_type": "display_data"
    },
    {
     "data": {
      "image/png": "[encoded data removed]",
      "text/plain": [
       "plot without title"
      ]
     },
     "metadata": {
      "image/png": {
       "height": 420,
       "width": 420
      }
     },
     "output_type": "display_data"
    }
   ],
   "source": [
    "# Seasonal decomposition using decompose() - multiplicative\n",
    "fit.decmult <- decompose(trips, type=\"multiplicative\")\n",
    "fit.decmult\n",
    "plot(fit.decmult)\n",
    "\n",
    "# Values Ploted: fit.decmult$trend\n",
    "# Trend\n",
    "# Season: normalised at variates around 1. Around 25% up and down\n",
    "# random: it looks arbitrary which is fine"
   ]
  },
  {
   "cell_type": "code",
   "execution_count": 61,
   "metadata": {
    "ExecuteTime": {
     "end_time": "2021-04-17T14:47:46.627079Z",
     "start_time": "2021-04-17T14:47:46.568Z"
    },
    "hidden": true
   },
   "outputs": [
    {
     "data": {
      "text/html": [
       "<style>\n",
       ".list-inline {list-style: none; margin:0; padding: 0}\n",
       ".list-inline>li {display: inline-block}\n",
       ".list-inline>li:not(:last-child)::after {content: \"\\00b7\"; padding: 0 .5ex}\n",
       "</style>\n",
       "<ol class=list-inline><li>'x'</li><li>'seasonal'</li><li>'trend'</li><li>'random'</li><li>'figure'</li><li>'type'</li></ol>\n"
      ],
      "text/latex": [
       "\\begin{enumerate*}\n",
       "\\item 'x'\n",
       "\\item 'seasonal'\n",
       "\\item 'trend'\n",
       "\\item 'random'\n",
       "\\item 'figure'\n",
       "\\item 'type'\n",
       "\\end{enumerate*}\n"
      ],
      "text/markdown": [
       "1. 'x'\n",
       "2. 'seasonal'\n",
       "3. 'trend'\n",
       "4. 'random'\n",
       "5. 'figure'\n",
       "6. 'type'\n",
       "\n",
       "\n"
      ],
      "text/plain": [
       "[1] \"x\"        \"seasonal\" \"trend\"    \"random\"   \"figure\"   \"type\"    "
      ]
     },
     "metadata": {},
     "output_type": "display_data"
    }
   ],
   "source": [
    "names(fit.decmult)"
   ]
  },
  {
   "cell_type": "code",
   "execution_count": 63,
   "metadata": {
    "ExecuteTime": {
     "end_time": "2021-04-17T14:48:58.592917Z",
     "start_time": "2021-04-17T14:48:58.538Z"
    },
    "hidden": true
   },
   "outputs": [
    {
     "data": {
      "text/html": [
       "1"
      ],
      "text/latex": [
       "1"
      ],
      "text/markdown": [
       "1"
      ],
      "text/plain": [
       "[1] 1"
      ]
     },
     "metadata": {},
     "output_type": "display_data"
    }
   ],
   "source": [
    "mean(fit.decmult$seasonal)"
   ]
  },
  {
   "cell_type": "code",
   "execution_count": 64,
   "metadata": {
    "ExecuteTime": {
     "end_time": "2021-04-17T14:49:03.513123Z",
     "start_time": "2021-04-17T14:49:03.453Z"
    },
    "hidden": true
   },
   "outputs": [
    {
     "data": {
      "text/html": [
       "1.00057582821215"
      ],
      "text/latex": [
       "1.00057582821215"
      ],
      "text/markdown": [
       "1.00057582821215"
      ],
      "text/plain": [
       "[1] 1.000576"
      ]
     },
     "metadata": {},
     "output_type": "display_data"
    }
   ],
   "source": [
    "mean(fit.decmult$random, na.rm=TRUE)"
   ]
  },
  {
   "cell_type": "code",
   "execution_count": 67,
   "metadata": {
    "ExecuteTime": {
     "end_time": "2021-04-17T14:50:03.680862Z",
     "start_time": "2021-04-17T14:50:03.590Z"
    },
    "hidden": true
   },
   "outputs": [
    {
     "data": {
      "text/html": [
       "<table class=\"dataframe\">\n",
       "<caption>A Time Series: 8 × 4</caption>\n",
       "<thead>\n",
       "\t<tr><th></th><th scope=col>Qtr1</th><th scope=col>Qtr2</th><th scope=col>Qtr3</th><th scope=col>Qtr4</th></tr>\n",
       "</thead>\n",
       "<tbody>\n",
       "\t<tr><th scope=row>2012</th><td>    NA</td><td>    NA</td><td>2096.7</td><td>1438.0</td></tr>\n",
       "\t<tr><th scope=row>2013</th><td>1251.7</td><td>1893.0</td><td>2261.0</td><td>1580.1</td></tr>\n",
       "\t<tr><th scope=row>2014</th><td>1342.5</td><td>2126.6</td><td>2440.4</td><td>1694.9</td></tr>\n",
       "\t<tr><th scope=row>2015</th><td>1531.3</td><td>2344.9</td><td>2770.9</td><td>1995.9</td></tr>\n",
       "\t<tr><th scope=row>2016</th><td>1784.7</td><td>2598.9</td><td>3061.5</td><td>2139.2</td></tr>\n",
       "\t<tr><th scope=row>2017</th><td>1796.1</td><td>2769.4</td><td>3095.6</td><td>2270.9</td></tr>\n",
       "\t<tr><th scope=row>2018</th><td>1920.7</td><td>2951.9</td><td>3330.9</td><td>2412.8</td></tr>\n",
       "\t<tr><th scope=row>2019</th><td>2026.7</td><td>3021.8</td><td>    NA</td><td>    NA</td></tr>\n",
       "</tbody>\n",
       "</table>\n"
      ],
      "text/latex": [
       "A Time Series: 8 × 4\n",
       "\\begin{tabular}{r|llll}\n",
       "  & Qtr1 & Qtr2 & Qtr3 & Qtr4\\\\\n",
       "\\hline\n",
       "\t2012 &     NA &     NA & 2096.7 & 1438.0\\\\\n",
       "\t2013 & 1251.7 & 1893.0 & 2261.0 & 1580.1\\\\\n",
       "\t2014 & 1342.5 & 2126.6 & 2440.4 & 1694.9\\\\\n",
       "\t2015 & 1531.3 & 2344.9 & 2770.9 & 1995.9\\\\\n",
       "\t2016 & 1784.7 & 2598.9 & 3061.5 & 2139.2\\\\\n",
       "\t2017 & 1796.1 & 2769.4 & 3095.6 & 2270.9\\\\\n",
       "\t2018 & 1920.7 & 2951.9 & 3330.9 & 2412.8\\\\\n",
       "\t2019 & 2026.7 & 3021.8 &     NA &     NA\\\\\n",
       "\\end{tabular}\n"
      ],
      "text/markdown": [
       "\n",
       "A Time Series: 8 × 4\n",
       "\n",
       "| <!--/--> | Qtr1 | Qtr2 | Qtr3 | Qtr4 |\n",
       "|---|---|---|---|---|\n",
       "| 2012 |     NA |     NA | 2096.7 | 1438.0 |\n",
       "| 2013 | 1251.7 | 1893.0 | 2261.0 | 1580.1 |\n",
       "| 2014 | 1342.5 | 2126.6 | 2440.4 | 1694.9 |\n",
       "| 2015 | 1531.3 | 2344.9 | 2770.9 | 1995.9 |\n",
       "| 2016 | 1784.7 | 2598.9 | 3061.5 | 2139.2 |\n",
       "| 2017 | 1796.1 | 2769.4 | 3095.6 | 2270.9 |\n",
       "| 2018 | 1920.7 | 2951.9 | 3330.9 | 2412.8 |\n",
       "| 2019 | 2026.7 | 3021.8 |     NA |     NA |\n",
       "\n"
      ],
      "text/plain": [
       "     Qtr1   Qtr2   Qtr3   Qtr4  \n",
       "2012     NA     NA 2096.7 1438.0\n",
       "2013 1251.7 1893.0 2261.0 1580.1\n",
       "2014 1342.5 2126.6 2440.4 1694.9\n",
       "2015 1531.3 2344.9 2770.9 1995.9\n",
       "2016 1784.7 2598.9 3061.5 2139.2\n",
       "2017 1796.1 2769.4 3095.6 2270.9\n",
       "2018 1920.7 2951.9 3330.9 2412.8\n",
       "2019 2026.7 3021.8     NA     NA"
      ]
     },
     "metadata": {},
     "output_type": "display_data"
    }
   ],
   "source": [
    "fit.decmult$trend * fit.decmult$seasonal * fit.decmult$random "
   ]
  },
  {
   "cell_type": "code",
   "execution_count": 72,
   "metadata": {
    "ExecuteTime": {
     "end_time": "2021-04-17T10:06:33.754007Z",
     "start_time": "2021-04-17T10:06:33.680Z"
    },
    "hidden": true
   },
   "outputs": [
    {
     "data": {
      "text/html": [
       "<table class=\"dataframe\">\n",
       "<caption>A Time Series: 8 × 4</caption>\n",
       "<thead>\n",
       "\t<tr><th></th><th scope=col>Qtr1</th><th scope=col>Qtr2</th><th scope=col>Qtr3</th><th scope=col>Qtr4</th></tr>\n",
       "</thead>\n",
       "<tbody>\n",
       "\t<tr><th scope=row>2012</th><td>1165.1</td><td>1817.3</td><td>2096.7</td><td>1438.0</td></tr>\n",
       "\t<tr><th scope=row>2013</th><td>1251.7</td><td>1893.0</td><td>2261.0</td><td>1580.1</td></tr>\n",
       "\t<tr><th scope=row>2014</th><td>1342.5</td><td>2126.6</td><td>2440.4</td><td>1694.9</td></tr>\n",
       "\t<tr><th scope=row>2015</th><td>1531.3</td><td>2344.9</td><td>2770.9</td><td>1995.9</td></tr>\n",
       "\t<tr><th scope=row>2016</th><td>1784.7</td><td>2598.9</td><td>3061.5</td><td>2139.2</td></tr>\n",
       "\t<tr><th scope=row>2017</th><td>1796.1</td><td>2769.4</td><td>3095.6</td><td>2270.9</td></tr>\n",
       "\t<tr><th scope=row>2018</th><td>1920.7</td><td>2951.9</td><td>3330.9</td><td>2412.8</td></tr>\n",
       "\t<tr><th scope=row>2019</th><td>2026.7</td><td>3021.8</td><td>3334.4</td><td>2424.6</td></tr>\n",
       "</tbody>\n",
       "</table>\n"
      ],
      "text/latex": [
       "A Time Series: 8 × 4\n",
       "\\begin{tabular}{r|llll}\n",
       "  & Qtr1 & Qtr2 & Qtr3 & Qtr4\\\\\n",
       "\\hline\n",
       "\t2012 & 1165.1 & 1817.3 & 2096.7 & 1438.0\\\\\n",
       "\t2013 & 1251.7 & 1893.0 & 2261.0 & 1580.1\\\\\n",
       "\t2014 & 1342.5 & 2126.6 & 2440.4 & 1694.9\\\\\n",
       "\t2015 & 1531.3 & 2344.9 & 2770.9 & 1995.9\\\\\n",
       "\t2016 & 1784.7 & 2598.9 & 3061.5 & 2139.2\\\\\n",
       "\t2017 & 1796.1 & 2769.4 & 3095.6 & 2270.9\\\\\n",
       "\t2018 & 1920.7 & 2951.9 & 3330.9 & 2412.8\\\\\n",
       "\t2019 & 2026.7 & 3021.8 & 3334.4 & 2424.6\\\\\n",
       "\\end{tabular}\n"
      ],
      "text/markdown": [
       "\n",
       "A Time Series: 8 × 4\n",
       "\n",
       "| <!--/--> | Qtr1 | Qtr2 | Qtr3 | Qtr4 |\n",
       "|---|---|---|---|---|\n",
       "| 2012 | 1165.1 | 1817.3 | 2096.7 | 1438.0 |\n",
       "| 2013 | 1251.7 | 1893.0 | 2261.0 | 1580.1 |\n",
       "| 2014 | 1342.5 | 2126.6 | 2440.4 | 1694.9 |\n",
       "| 2015 | 1531.3 | 2344.9 | 2770.9 | 1995.9 |\n",
       "| 2016 | 1784.7 | 2598.9 | 3061.5 | 2139.2 |\n",
       "| 2017 | 1796.1 | 2769.4 | 3095.6 | 2270.9 |\n",
       "| 2018 | 1920.7 | 2951.9 | 3330.9 | 2412.8 |\n",
       "| 2019 | 2026.7 | 3021.8 | 3334.4 | 2424.6 |\n",
       "\n"
      ],
      "text/plain": [
       "     Qtr1   Qtr2   Qtr3   Qtr4  \n",
       "2012 1165.1 1817.3 2096.7 1438.0\n",
       "2013 1251.7 1893.0 2261.0 1580.1\n",
       "2014 1342.5 2126.6 2440.4 1694.9\n",
       "2015 1531.3 2344.9 2770.9 1995.9\n",
       "2016 1784.7 2598.9 3061.5 2139.2\n",
       "2017 1796.1 2769.4 3095.6 2270.9\n",
       "2018 1920.7 2951.9 3330.9 2412.8\n",
       "2019 2026.7 3021.8 3334.4 2424.6"
      ]
     },
     "metadata": {},
     "output_type": "display_data"
    }
   ],
   "source": [
    "fit.decmult$x"
   ]
  },
  {
   "cell_type": "code",
   "execution_count": 68,
   "metadata": {
    "ExecuteTime": {
     "end_time": "2021-04-17T14:50:22.943895Z",
     "start_time": "2021-04-17T14:50:22.068Z"
    },
    "hidden": true
   },
   "outputs": [
    {
     "name": "stderr",
     "output_type": "stream",
     "text": [
      "Warning message in modeldf.default(object):\n",
      "\"Could not find appropriate degrees of freedom for this model.\"\n"
     ]
    },
    {
     "data": {
      "image/png": "[encoded data removed]",
      "text/plain": [
       "plot without title"
      ]
     },
     "metadata": {
      "image/png": {
       "height": 420,
       "width": 420
      }
     },
     "output_type": "display_data"
    }
   ],
   "source": [
    "checkresiduals(remainder(fit.decmult))"
   ]
  },
  {
   "cell_type": "code",
   "execution_count": 70,
   "metadata": {
    "ExecuteTime": {
     "end_time": "2021-04-17T14:50:38.774622Z",
     "start_time": "2021-04-17T14:50:38.308Z"
    },
    "hidden": true
   },
   "outputs": [],
   "source": [
    "?acf"
   ]
  },
  {
   "cell_type": "code",
   "execution_count": 41,
   "metadata": {
    "ExecuteTime": {
     "end_time": "2021-04-17T08:24:40.926891Z",
     "start_time": "2021-04-17T08:24:40.143Z"
    },
    "hidden": true
   },
   "outputs": [],
   "source": [
    "?acf"
   ]
  },
  {
   "cell_type": "markdown",
   "metadata": {
    "ExecuteTime": {
     "end_time": "2021-04-11T15:16:43.405400Z",
     "start_time": "2021-04-11T15:16:43.373Z"
    },
    "heading_collapsed": true,
    "hidden": true
   },
   "source": [
    "### Additive linear decomposition"
   ]
  },
  {
   "cell_type": "code",
   "execution_count": 78,
   "metadata": {
    "ExecuteTime": {
     "end_time": "2021-04-17T14:54:59.013832Z",
     "start_time": "2021-04-17T14:54:58.829Z"
    },
    "hidden": true
   },
   "outputs": [
    {
     "data": {
      "text/plain": [
       "$x\n",
       "       Qtr1   Qtr2   Qtr3   Qtr4\n",
       "2012 1165.1 1817.3 2096.7 1438.0\n",
       "2013 1251.7 1893.0 2261.0 1580.1\n",
       "2014 1342.5 2126.6 2440.4 1694.9\n",
       "2015 1531.3 2344.9 2770.9 1995.9\n",
       "2016 1784.7 2598.9 3061.5 2139.2\n",
       "2017 1796.1 2769.4 3095.6 2270.9\n",
       "2018 1920.7 2951.9 3330.9 2412.8\n",
       "2019 2026.7 3021.8 3334.4 2424.6\n",
       "\n",
       "$seasonal\n",
       "          Qtr1      Qtr2      Qtr3      Qtr4\n",
       "2012 -568.7491  256.2170  569.3705 -256.8384\n",
       "2013 -568.7491  256.2170  569.3705 -256.8384\n",
       "2014 -568.7491  256.2170  569.3705 -256.8384\n",
       "2015 -568.7491  256.2170  569.3705 -256.8384\n",
       "2016 -568.7491  256.2170  569.3705 -256.8384\n",
       "2017 -568.7491  256.2170  569.3705 -256.8384\n",
       "2018 -568.7491  256.2170  569.3705 -256.8384\n",
       "2019 -568.7491  256.2170  569.3705 -256.8384\n",
       "\n",
       "$trend\n",
       "         Qtr1     Qtr2     Qtr3     Qtr4\n",
       "2012       NA       NA 1640.100 1660.387\n",
       "2013 1690.387 1728.688 1757.800 1798.350\n",
       "2014 1849.975 1886.750 1924.700 1975.587\n",
       "2015 2044.188 2123.125 2192.425 2255.850\n",
       "2016 2323.925 2378.163 2397.500 2420.238\n",
       "2017 2445.812 2466.538 2498.575 2536.963\n",
       "2018 2589.188 2636.338 2667.325 2689.313\n",
       "2019 2698.488 2700.400       NA       NA\n",
       "\n",
       "$random\n",
       "            Qtr1        Qtr2        Qtr3        Qtr4\n",
       "2012          NA          NA -112.770536   34.450893\n",
       "2013  130.061607  -91.904464  -66.170536   38.588393\n",
       "2014   61.274107  -16.366964  -53.670536  -23.849107\n",
       "2015   55.861607  -34.441964    9.104464   -3.111607\n",
       "2016   29.524107  -35.479464   94.629464  -24.199107\n",
       "2017  -80.963393   46.645536   27.654464   -9.224107\n",
       "2018  -99.738393   59.345536   94.204464  -19.674107\n",
       "2019 -103.038393   65.183036          NA          NA\n",
       "\n",
       "$figure\n",
       "[1] -568.7491  256.2170  569.3705 -256.8384\n",
       "\n",
       "$type\n",
       "[1] \"additive\"\n",
       "\n",
       "attr(,\"class\")\n",
       "[1] \"decomposed.ts\""
      ]
     },
     "metadata": {},
     "output_type": "display_data"
    },
    {
     "data": {
      "image/png": "[encoded data removed]",
      "text/plain": [
       "plot without title"
      ]
     },
     "metadata": {
      "image/png": {
       "height": 420,
       "width": 420
      }
     },
     "output_type": "display_data"
    }
   ],
   "source": [
    "# Seasonal decomposition using decompose() - additive\n",
    "fit.decadd <- decompose(trips, type=\"additive\")\n",
    "fit.decadd\n",
    "plot(fit.decadd)"
   ]
  },
  {
   "cell_type": "markdown",
   "metadata": {
    "hidden": true
   },
   "source": [
    "To get the season nice an cte in sieze there is some compoensantion comming from random variable."
   ]
  },
  {
   "cell_type": "code",
   "execution_count": 79,
   "metadata": {
    "ExecuteTime": {
     "end_time": "2021-04-17T14:55:14.478169Z",
     "start_time": "2021-04-17T14:55:14.380Z"
    },
    "hidden": true
   },
   "outputs": [
    {
     "data": {
      "text/html": [
       "<table class=\"dataframe\">\n",
       "<caption>A Time Series: 8 × 4</caption>\n",
       "<thead>\n",
       "\t<tr><th></th><th scope=col>Qtr1</th><th scope=col>Qtr2</th><th scope=col>Qtr3</th><th scope=col>Qtr4</th></tr>\n",
       "</thead>\n",
       "<tbody>\n",
       "\t<tr><th scope=row>2012</th><td>      NA</td><td>      NA</td><td>1640.100</td><td>1660.387</td></tr>\n",
       "\t<tr><th scope=row>2013</th><td>1690.387</td><td>1728.688</td><td>1757.800</td><td>1798.350</td></tr>\n",
       "\t<tr><th scope=row>2014</th><td>1849.975</td><td>1886.750</td><td>1924.700</td><td>1975.587</td></tr>\n",
       "\t<tr><th scope=row>2015</th><td>2044.188</td><td>2123.125</td><td>2192.425</td><td>2255.850</td></tr>\n",
       "\t<tr><th scope=row>2016</th><td>2323.925</td><td>2378.163</td><td>2397.500</td><td>2420.238</td></tr>\n",
       "\t<tr><th scope=row>2017</th><td>2445.812</td><td>2466.538</td><td>2498.575</td><td>2536.963</td></tr>\n",
       "\t<tr><th scope=row>2018</th><td>2589.188</td><td>2636.338</td><td>2667.325</td><td>2689.313</td></tr>\n",
       "\t<tr><th scope=row>2019</th><td>2698.488</td><td>2700.400</td><td>      NA</td><td>      NA</td></tr>\n",
       "</tbody>\n",
       "</table>\n"
      ],
      "text/latex": [
       "A Time Series: 8 × 4\n",
       "\\begin{tabular}{r|llll}\n",
       "  & Qtr1 & Qtr2 & Qtr3 & Qtr4\\\\\n",
       "\\hline\n",
       "\t2012 &       NA &       NA & 1640.100 & 1660.387\\\\\n",
       "\t2013 & 1690.387 & 1728.688 & 1757.800 & 1798.350\\\\\n",
       "\t2014 & 1849.975 & 1886.750 & 1924.700 & 1975.587\\\\\n",
       "\t2015 & 2044.188 & 2123.125 & 2192.425 & 2255.850\\\\\n",
       "\t2016 & 2323.925 & 2378.163 & 2397.500 & 2420.238\\\\\n",
       "\t2017 & 2445.812 & 2466.538 & 2498.575 & 2536.963\\\\\n",
       "\t2018 & 2589.188 & 2636.338 & 2667.325 & 2689.313\\\\\n",
       "\t2019 & 2698.488 & 2700.400 &       NA &       NA\\\\\n",
       "\\end{tabular}\n"
      ],
      "text/markdown": [
       "\n",
       "A Time Series: 8 × 4\n",
       "\n",
       "| <!--/--> | Qtr1 | Qtr2 | Qtr3 | Qtr4 |\n",
       "|---|---|---|---|---|\n",
       "| 2012 |       NA |       NA | 1640.100 | 1660.387 |\n",
       "| 2013 | 1690.387 | 1728.688 | 1757.800 | 1798.350 |\n",
       "| 2014 | 1849.975 | 1886.750 | 1924.700 | 1975.587 |\n",
       "| 2015 | 2044.188 | 2123.125 | 2192.425 | 2255.850 |\n",
       "| 2016 | 2323.925 | 2378.163 | 2397.500 | 2420.238 |\n",
       "| 2017 | 2445.812 | 2466.538 | 2498.575 | 2536.963 |\n",
       "| 2018 | 2589.188 | 2636.338 | 2667.325 | 2689.313 |\n",
       "| 2019 | 2698.488 | 2700.400 |       NA |       NA |\n",
       "\n"
      ],
      "text/plain": [
       "     Qtr1     Qtr2     Qtr3     Qtr4    \n",
       "2012       NA       NA 1640.100 1660.387\n",
       "2013 1690.387 1728.688 1757.800 1798.350\n",
       "2014 1849.975 1886.750 1924.700 1975.587\n",
       "2015 2044.188 2123.125 2192.425 2255.850\n",
       "2016 2323.925 2378.163 2397.500 2420.238\n",
       "2017 2445.812 2466.538 2498.575 2536.963\n",
       "2018 2589.188 2636.338 2667.325 2689.313\n",
       "2019 2698.488 2700.400       NA       NA"
      ]
     },
     "metadata": {},
     "output_type": "display_data"
    }
   ],
   "source": [
    "head(fit.decadd$trend, 36)"
   ]
  },
  {
   "cell_type": "code",
   "execution_count": 80,
   "metadata": {
    "ExecuteTime": {
     "end_time": "2021-04-17T14:55:15.927684Z",
     "start_time": "2021-04-17T14:55:15.850Z"
    },
    "hidden": true
   },
   "outputs": [
    {
     "data": {
      "text/html": [
       "<table class=\"dataframe\">\n",
       "<caption>A Time Series: 8 × 4</caption>\n",
       "<thead>\n",
       "\t<tr><th></th><th scope=col>Qtr1</th><th scope=col>Qtr2</th><th scope=col>Qtr3</th><th scope=col>Qtr4</th></tr>\n",
       "</thead>\n",
       "<tbody>\n",
       "\t<tr><th scope=row>2012</th><td>-568.7491</td><td> 256.2170</td><td> 569.3705</td><td>-256.8384</td></tr>\n",
       "\t<tr><th scope=row>2013</th><td>-568.7491</td><td> 256.2170</td><td> 569.3705</td><td>-256.8384</td></tr>\n",
       "\t<tr><th scope=row>2014</th><td>-568.7491</td><td> 256.2170</td><td> 569.3705</td><td>-256.8384</td></tr>\n",
       "\t<tr><th scope=row>2015</th><td>-568.7491</td><td> 256.2170</td><td> 569.3705</td><td>-256.8384</td></tr>\n",
       "\t<tr><th scope=row>2016</th><td>-568.7491</td><td> 256.2170</td><td> 569.3705</td><td>-256.8384</td></tr>\n",
       "\t<tr><th scope=row>2017</th><td>-568.7491</td><td> 256.2170</td><td> 569.3705</td><td>-256.8384</td></tr>\n",
       "\t<tr><th scope=row>2018</th><td>-568.7491</td><td> 256.2170</td><td> 569.3705</td><td>-256.8384</td></tr>\n",
       "\t<tr><th scope=row>2019</th><td>-568.7491</td><td> 256.2170</td><td> 569.3705</td><td>-256.8384</td></tr>\n",
       "</tbody>\n",
       "</table>\n"
      ],
      "text/latex": [
       "A Time Series: 8 × 4\n",
       "\\begin{tabular}{r|llll}\n",
       "  & Qtr1 & Qtr2 & Qtr3 & Qtr4\\\\\n",
       "\\hline\n",
       "\t2012 & -568.7491 &  256.2170 &  569.3705 & -256.8384\\\\\n",
       "\t2013 & -568.7491 &  256.2170 &  569.3705 & -256.8384\\\\\n",
       "\t2014 & -568.7491 &  256.2170 &  569.3705 & -256.8384\\\\\n",
       "\t2015 & -568.7491 &  256.2170 &  569.3705 & -256.8384\\\\\n",
       "\t2016 & -568.7491 &  256.2170 &  569.3705 & -256.8384\\\\\n",
       "\t2017 & -568.7491 &  256.2170 &  569.3705 & -256.8384\\\\\n",
       "\t2018 & -568.7491 &  256.2170 &  569.3705 & -256.8384\\\\\n",
       "\t2019 & -568.7491 &  256.2170 &  569.3705 & -256.8384\\\\\n",
       "\\end{tabular}\n"
      ],
      "text/markdown": [
       "\n",
       "A Time Series: 8 × 4\n",
       "\n",
       "| <!--/--> | Qtr1 | Qtr2 | Qtr3 | Qtr4 |\n",
       "|---|---|---|---|---|\n",
       "| 2012 | -568.7491 |  256.2170 |  569.3705 | -256.8384 |\n",
       "| 2013 | -568.7491 |  256.2170 |  569.3705 | -256.8384 |\n",
       "| 2014 | -568.7491 |  256.2170 |  569.3705 | -256.8384 |\n",
       "| 2015 | -568.7491 |  256.2170 |  569.3705 | -256.8384 |\n",
       "| 2016 | -568.7491 |  256.2170 |  569.3705 | -256.8384 |\n",
       "| 2017 | -568.7491 |  256.2170 |  569.3705 | -256.8384 |\n",
       "| 2018 | -568.7491 |  256.2170 |  569.3705 | -256.8384 |\n",
       "| 2019 | -568.7491 |  256.2170 |  569.3705 | -256.8384 |\n",
       "\n"
      ],
      "text/plain": [
       "     Qtr1      Qtr2      Qtr3      Qtr4     \n",
       "2012 -568.7491  256.2170  569.3705 -256.8384\n",
       "2013 -568.7491  256.2170  569.3705 -256.8384\n",
       "2014 -568.7491  256.2170  569.3705 -256.8384\n",
       "2015 -568.7491  256.2170  569.3705 -256.8384\n",
       "2016 -568.7491  256.2170  569.3705 -256.8384\n",
       "2017 -568.7491  256.2170  569.3705 -256.8384\n",
       "2018 -568.7491  256.2170  569.3705 -256.8384\n",
       "2019 -568.7491  256.2170  569.3705 -256.8384"
      ]
     },
     "metadata": {},
     "output_type": "display_data"
    }
   ],
   "source": [
    "fit.decadd$seasonal"
   ]
  },
  {
   "cell_type": "code",
   "execution_count": 85,
   "metadata": {
    "ExecuteTime": {
     "end_time": "2021-04-17T15:08:43.476295Z",
     "start_time": "2021-04-17T15:08:43.401Z"
    },
    "hidden": true
   },
   "outputs": [
    {
     "data": {
      "text/html": [
       "<table class=\"dataframe\">\n",
       "<caption>A Time Series: 8 × 4</caption>\n",
       "<thead>\n",
       "\t<tr><th></th><th scope=col>Qtr1</th><th scope=col>Qtr2</th><th scope=col>Qtr3</th><th scope=col>Qtr4</th></tr>\n",
       "</thead>\n",
       "<tbody>\n",
       "\t<tr><th scope=row>2012</th><td>         NA</td><td>         NA</td><td>-112.770536</td><td>  34.450893</td></tr>\n",
       "\t<tr><th scope=row>2013</th><td> 130.061607</td><td> -91.904464</td><td> -66.170536</td><td>  38.588393</td></tr>\n",
       "\t<tr><th scope=row>2014</th><td>  61.274107</td><td> -16.366964</td><td> -53.670536</td><td> -23.849107</td></tr>\n",
       "\t<tr><th scope=row>2015</th><td>  55.861607</td><td> -34.441964</td><td>   9.104464</td><td>  -3.111607</td></tr>\n",
       "\t<tr><th scope=row>2016</th><td>  29.524107</td><td> -35.479464</td><td>  94.629464</td><td> -24.199107</td></tr>\n",
       "\t<tr><th scope=row>2017</th><td> -80.963393</td><td>  46.645536</td><td>  27.654464</td><td>  -9.224107</td></tr>\n",
       "\t<tr><th scope=row>2018</th><td> -99.738393</td><td>  59.345536</td><td>  94.204464</td><td> -19.674107</td></tr>\n",
       "\t<tr><th scope=row>2019</th><td>-103.038393</td><td>  65.183036</td><td>         NA</td><td>         NA</td></tr>\n",
       "</tbody>\n",
       "</table>\n"
      ],
      "text/latex": [
       "A Time Series: 8 × 4\n",
       "\\begin{tabular}{r|llll}\n",
       "  & Qtr1 & Qtr2 & Qtr3 & Qtr4\\\\\n",
       "\\hline\n",
       "\t2012 &          NA &          NA & -112.770536 &   34.450893\\\\\n",
       "\t2013 &  130.061607 &  -91.904464 &  -66.170536 &   38.588393\\\\\n",
       "\t2014 &   61.274107 &  -16.366964 &  -53.670536 &  -23.849107\\\\\n",
       "\t2015 &   55.861607 &  -34.441964 &    9.104464 &   -3.111607\\\\\n",
       "\t2016 &   29.524107 &  -35.479464 &   94.629464 &  -24.199107\\\\\n",
       "\t2017 &  -80.963393 &   46.645536 &   27.654464 &   -9.224107\\\\\n",
       "\t2018 &  -99.738393 &   59.345536 &   94.204464 &  -19.674107\\\\\n",
       "\t2019 & -103.038393 &   65.183036 &          NA &          NA\\\\\n",
       "\\end{tabular}\n"
      ],
      "text/markdown": [
       "\n",
       "A Time Series: 8 × 4\n",
       "\n",
       "| <!--/--> | Qtr1 | Qtr2 | Qtr3 | Qtr4 |\n",
       "|---|---|---|---|---|\n",
       "| 2012 |          NA |          NA | -112.770536 |   34.450893 |\n",
       "| 2013 |  130.061607 |  -91.904464 |  -66.170536 |   38.588393 |\n",
       "| 2014 |   61.274107 |  -16.366964 |  -53.670536 |  -23.849107 |\n",
       "| 2015 |   55.861607 |  -34.441964 |    9.104464 |   -3.111607 |\n",
       "| 2016 |   29.524107 |  -35.479464 |   94.629464 |  -24.199107 |\n",
       "| 2017 |  -80.963393 |   46.645536 |   27.654464 |   -9.224107 |\n",
       "| 2018 |  -99.738393 |   59.345536 |   94.204464 |  -19.674107 |\n",
       "| 2019 | -103.038393 |   65.183036 |          NA |          NA |\n",
       "\n"
      ],
      "text/plain": [
       "     Qtr1        Qtr2        Qtr3        Qtr4       \n",
       "2012          NA          NA -112.770536   34.450893\n",
       "2013  130.061607  -91.904464  -66.170536   38.588393\n",
       "2014   61.274107  -16.366964  -53.670536  -23.849107\n",
       "2015   55.861607  -34.441964    9.104464   -3.111607\n",
       "2016   29.524107  -35.479464   94.629464  -24.199107\n",
       "2017  -80.963393   46.645536   27.654464   -9.224107\n",
       "2018  -99.738393   59.345536   94.204464  -19.674107\n",
       "2019 -103.038393   65.183036          NA          NA"
      ]
     },
     "metadata": {},
     "output_type": "display_data"
    }
   ],
   "source": [
    "head(fit.decadd$random, 36)"
   ]
  },
  {
   "cell_type": "code",
   "execution_count": 82,
   "metadata": {
    "ExecuteTime": {
     "end_time": "2021-04-17T14:55:22.255654Z",
     "start_time": "2021-04-17T14:55:22.203Z"
    },
    "hidden": true
   },
   "outputs": [
    {
     "data": {
      "text/html": [
       "-1.003"
      ],
      "text/latex": [
       "-1.003"
      ],
      "text/markdown": [
       "-1.003"
      ],
      "text/plain": [
       "[1] -1.003"
      ]
     },
     "metadata": {},
     "output_type": "display_data"
    }
   ],
   "source": [
    "round(mean(fit.decadd$random, na.rm=TRUE),3)"
   ]
  },
  {
   "cell_type": "code",
   "execution_count": 93,
   "metadata": {
    "ExecuteTime": {
     "end_time": "2021-04-17T15:10:33.463402Z",
     "start_time": "2021-04-17T15:10:33.387Z"
    },
    "hidden": true
   },
   "outputs": [
    {
     "data": {
      "text/html": [
       "<table class=\"dataframe\">\n",
       "<caption>A Time Series: 8 × 4</caption>\n",
       "<thead>\n",
       "\t<tr><th></th><th scope=col>Qtr1</th><th scope=col>Qtr2</th><th scope=col>Qtr3</th><th scope=col>Qtr4</th></tr>\n",
       "</thead>\n",
       "<tbody>\n",
       "\t<tr><th scope=row>2012</th><td>NA</td><td>NA</td><td> 0</td><td> 0</td></tr>\n",
       "\t<tr><th scope=row>2013</th><td> 0</td><td> 0</td><td> 0</td><td> 0</td></tr>\n",
       "\t<tr><th scope=row>2014</th><td> 0</td><td> 0</td><td> 0</td><td> 0</td></tr>\n",
       "\t<tr><th scope=row>2015</th><td> 0</td><td> 0</td><td> 0</td><td> 0</td></tr>\n",
       "\t<tr><th scope=row>2016</th><td> 0</td><td> 0</td><td> 0</td><td> 0</td></tr>\n",
       "\t<tr><th scope=row>2017</th><td> 0</td><td> 0</td><td> 0</td><td> 0</td></tr>\n",
       "\t<tr><th scope=row>2018</th><td> 0</td><td> 0</td><td> 0</td><td> 0</td></tr>\n",
       "\t<tr><th scope=row>2019</th><td> 0</td><td> 0</td><td>NA</td><td>NA</td></tr>\n",
       "</tbody>\n",
       "</table>\n"
      ],
      "text/latex": [
       "A Time Series: 8 × 4\n",
       "\\begin{tabular}{r|llll}\n",
       "  & Qtr1 & Qtr2 & Qtr3 & Qtr4\\\\\n",
       "\\hline\n",
       "\t2012 & NA & NA &  0 &  0\\\\\n",
       "\t2013 &  0 &  0 &  0 &  0\\\\\n",
       "\t2014 &  0 &  0 &  0 &  0\\\\\n",
       "\t2015 &  0 &  0 &  0 &  0\\\\\n",
       "\t2016 &  0 &  0 &  0 &  0\\\\\n",
       "\t2017 &  0 &  0 &  0 &  0\\\\\n",
       "\t2018 &  0 &  0 &  0 &  0\\\\\n",
       "\t2019 &  0 &  0 & NA & NA\\\\\n",
       "\\end{tabular}\n"
      ],
      "text/markdown": [
       "\n",
       "A Time Series: 8 × 4\n",
       "\n",
       "| <!--/--> | Qtr1 | Qtr2 | Qtr3 | Qtr4 |\n",
       "|---|---|---|---|---|\n",
       "| 2012 | NA | NA |  0 |  0 |\n",
       "| 2013 |  0 |  0 |  0 |  0 |\n",
       "| 2014 |  0 |  0 |  0 |  0 |\n",
       "| 2015 |  0 |  0 |  0 |  0 |\n",
       "| 2016 |  0 |  0 |  0 |  0 |\n",
       "| 2017 |  0 |  0 |  0 |  0 |\n",
       "| 2018 |  0 |  0 |  0 |  0 |\n",
       "| 2019 |  0 |  0 | NA | NA |\n",
       "\n"
      ],
      "text/plain": [
       "     Qtr1 Qtr2 Qtr3 Qtr4\n",
       "2012 NA   NA    0    0  \n",
       "2013  0    0    0    0  \n",
       "2014  0    0    0    0  \n",
       "2015  0    0    0    0  \n",
       "2016  0    0    0    0  \n",
       "2017  0    0    0    0  \n",
       "2018  0    0    0    0  \n",
       "2019  0    0   NA   NA  "
      ]
     },
     "metadata": {},
     "output_type": "display_data"
    }
   ],
   "source": [
    "round((fit.decadd$trend + fit.decadd$seasonal + fit.decadd$random) - fit.decadd$x, 4)"
   ]
  },
  {
   "cell_type": "markdown",
   "metadata": {
    "hidden": true
   },
   "source": []
  },
  {
   "cell_type": "code",
   "execution_count": 37,
   "metadata": {
    "ExecuteTime": {
     "end_time": "2021-04-16T15:05:51.697061Z",
     "start_time": "2021-04-16T15:05:50.944Z"
    },
    "hidden": true
   },
   "outputs": [
    {
     "name": "stderr",
     "output_type": "stream",
     "text": [
      "Warning message in modeldf.default(object):\n",
      "\"Could not find appropriate degrees of freedom for this model.\"\n"
     ]
    },
    {
     "data": {
      "image/png": "[encoded data removed]",
      "text/plain": [
       "plot without title"
      ]
     },
     "metadata": {
      "image/png": {
       "height": 420,
       "width": 420
      }
     },
     "output_type": "display_data"
    }
   ],
   "source": [
    "checkresiduals(remainder(fit.decadd))"
   ]
  },
  {
   "cell_type": "markdown",
   "metadata": {
    "heading_collapsed": true,
    "hidden": true
   },
   "source": [
    "### Additive logarithmic decomposition"
   ]
  },
  {
   "cell_type": "code",
   "execution_count": 94,
   "metadata": {
    "ExecuteTime": {
     "end_time": "2021-04-17T15:11:06.165218Z",
     "start_time": "2021-04-17T15:11:06.124Z"
    },
    "hidden": true
   },
   "outputs": [],
   "source": [
    "ltrips <- log(trips)"
   ]
  },
  {
   "cell_type": "code",
   "execution_count": 96,
   "metadata": {
    "ExecuteTime": {
     "end_time": "2021-04-17T15:13:05.741920Z",
     "start_time": "2021-04-17T15:13:05.671Z"
    },
    "hidden": true
   },
   "outputs": [],
   "source": [
    "trips_logmod <- lm(ltrips~time(trips))"
   ]
  },
  {
   "cell_type": "code",
   "execution_count": 97,
   "metadata": {
    "ExecuteTime": {
     "end_time": "2021-04-17T15:15:09.712928Z",
     "start_time": "2021-04-17T15:15:09.566Z"
    },
    "hidden": true
   },
   "outputs": [
    {
     "data": {
      "image/png": "[encoded data removed]",
      "text/plain": [
       "plot without title"
      ]
     },
     "metadata": {
      "image/png": {
       "height": 420,
       "width": 420
      }
     },
     "output_type": "display_data"
    }
   ],
   "source": [
    "plot(ltrips, col='blue')\n",
    "x <- as.vector(time(trips))\n",
    "y <- predict.lm(trips_logmod)\n",
    "lines(x, y, col='red', lw=4)"
   ]
  },
  {
   "cell_type": "code",
   "execution_count": 99,
   "metadata": {
    "ExecuteTime": {
     "end_time": "2021-04-17T15:16:23.116127Z",
     "start_time": "2021-04-17T15:16:23.060Z"
    },
    "hidden": true
   },
   "outputs": [],
   "source": [
    "fit.logadd <- decompose(ltrips, type='additive')"
   ]
  },
  {
   "cell_type": "code",
   "execution_count": 102,
   "metadata": {
    "ExecuteTime": {
     "end_time": "2021-04-17T15:16:34.140170Z",
     "start_time": "2021-04-17T15:16:34.010Z"
    },
    "hidden": true
   },
   "outputs": [
    {
     "data": {
      "image/png": "[encoded data removed]",
      "text/plain": [
       "plot without title"
      ]
     },
     "metadata": {
      "image/png": {
       "height": 420,
       "width": 420
      }
     },
     "output_type": "display_data"
    }
   ],
   "source": [
    "plot(fit.logadd)"
   ]
  },
  {
   "cell_type": "code",
   "execution_count": 104,
   "metadata": {
    "ExecuteTime": {
     "end_time": "2021-04-17T15:19:17.569696Z",
     "start_time": "2021-04-17T15:19:17.509Z"
    },
    "hidden": true
   },
   "outputs": [
    {
     "data": {
      "text/html": [
       "<style>\n",
       ".list-inline {list-style: none; margin:0; padding: 0}\n",
       ".list-inline>li {display: inline-block}\n",
       ".list-inline>li:not(:last-child)::after {content: \"\\00b7\"; padding: 0 .5ex}\n",
       "</style>\n",
       "<ol class=list-inline><li>'x'</li><li>'seasonal'</li><li>'trend'</li><li>'random'</li><li>'figure'</li><li>'type'</li></ol>\n"
      ],
      "text/latex": [
       "\\begin{enumerate*}\n",
       "\\item 'x'\n",
       "\\item 'seasonal'\n",
       "\\item 'trend'\n",
       "\\item 'random'\n",
       "\\item 'figure'\n",
       "\\item 'type'\n",
       "\\end{enumerate*}\n"
      ],
      "text/markdown": [
       "1. 'x'\n",
       "2. 'seasonal'\n",
       "3. 'trend'\n",
       "4. 'random'\n",
       "5. 'figure'\n",
       "6. 'type'\n",
       "\n",
       "\n"
      ],
      "text/plain": [
       "[1] \"x\"        \"seasonal\" \"trend\"    \"random\"   \"figure\"   \"type\"    "
      ]
     },
     "metadata": {},
     "output_type": "display_data"
    }
   ],
   "source": [
    "names(fit.logadd)"
   ]
  },
  {
   "cell_type": "code",
   "execution_count": 105,
   "metadata": {
    "ExecuteTime": {
     "end_time": "2021-04-17T15:22:26.684731Z",
     "start_time": "2021-04-17T15:22:26.591Z"
    },
    "hidden": true
   },
   "outputs": [
    {
     "data": {
      "text/html": [
       "<table class=\"dataframe\">\n",
       "<caption>A Time Series: 8 × 4</caption>\n",
       "<thead>\n",
       "\t<tr><th></th><th scope=col>Qtr1</th><th scope=col>Qtr2</th><th scope=col>Qtr3</th><th scope=col>Qtr4</th></tr>\n",
       "</thead>\n",
       "<tbody>\n",
       "\t<tr><th scope=row>2012</th><td>      NA</td><td>      NA</td><td>1603.849</td><td>1626.563</td></tr>\n",
       "\t<tr><th scope=row>2013</th><td>1650.373</td><td>1685.750</td><td>1720.722</td><td>1761.284</td></tr>\n",
       "\t<tr><th scope=row>2014</th><td>1804.228</td><td>1837.570</td><td>1884.493</td><td>1939.289</td></tr>\n",
       "\t<tr><th scope=row>2015</th><td>1994.538</td><td>2068.291</td><td>2151.786</td><td>2221.751</td></tr>\n",
       "\t<tr><th scope=row>2016</th><td>2278.730</td><td>2327.400</td><td>2349.529</td><td>2370.151</td></tr>\n",
       "\t<tr><th scope=row>2017</th><td>2392.361</td><td>2413.634</td><td>2452.200</td><td>2492.651</td></tr>\n",
       "\t<tr><th scope=row>2018</th><td>2535.731</td><td>2578.521</td><td>2615.636</td><td>2640.973</td></tr>\n",
       "\t<tr><th scope=row>2019</th><td>2649.058</td><td>2651.022</td><td>      NA</td><td>      NA</td></tr>\n",
       "</tbody>\n",
       "</table>\n"
      ],
      "text/latex": [
       "A Time Series: 8 × 4\n",
       "\\begin{tabular}{r|llll}\n",
       "  & Qtr1 & Qtr2 & Qtr3 & Qtr4\\\\\n",
       "\\hline\n",
       "\t2012 &       NA &       NA & 1603.849 & 1626.563\\\\\n",
       "\t2013 & 1650.373 & 1685.750 & 1720.722 & 1761.284\\\\\n",
       "\t2014 & 1804.228 & 1837.570 & 1884.493 & 1939.289\\\\\n",
       "\t2015 & 1994.538 & 2068.291 & 2151.786 & 2221.751\\\\\n",
       "\t2016 & 2278.730 & 2327.400 & 2349.529 & 2370.151\\\\\n",
       "\t2017 & 2392.361 & 2413.634 & 2452.200 & 2492.651\\\\\n",
       "\t2018 & 2535.731 & 2578.521 & 2615.636 & 2640.973\\\\\n",
       "\t2019 & 2649.058 & 2651.022 &       NA &       NA\\\\\n",
       "\\end{tabular}\n"
      ],
      "text/markdown": [
       "\n",
       "A Time Series: 8 × 4\n",
       "\n",
       "| <!--/--> | Qtr1 | Qtr2 | Qtr3 | Qtr4 |\n",
       "|---|---|---|---|---|\n",
       "| 2012 |       NA |       NA | 1603.849 | 1626.563 |\n",
       "| 2013 | 1650.373 | 1685.750 | 1720.722 | 1761.284 |\n",
       "| 2014 | 1804.228 | 1837.570 | 1884.493 | 1939.289 |\n",
       "| 2015 | 1994.538 | 2068.291 | 2151.786 | 2221.751 |\n",
       "| 2016 | 2278.730 | 2327.400 | 2349.529 | 2370.151 |\n",
       "| 2017 | 2392.361 | 2413.634 | 2452.200 | 2492.651 |\n",
       "| 2018 | 2535.731 | 2578.521 | 2615.636 | 2640.973 |\n",
       "| 2019 | 2649.058 | 2651.022 |       NA |       NA |\n",
       "\n"
      ],
      "text/plain": [
       "     Qtr1     Qtr2     Qtr3     Qtr4    \n",
       "2012       NA       NA 1603.849 1626.563\n",
       "2013 1650.373 1685.750 1720.722 1761.284\n",
       "2014 1804.228 1837.570 1884.493 1939.289\n",
       "2015 1994.538 2068.291 2151.786 2221.751\n",
       "2016 2278.730 2327.400 2349.529 2370.151\n",
       "2017 2392.361 2413.634 2452.200 2492.651\n",
       "2018 2535.731 2578.521 2615.636 2640.973\n",
       "2019 2649.058 2651.022       NA       NA"
      ]
     },
     "metadata": {},
     "output_type": "display_data"
    }
   ],
   "source": [
    "head(exp(fit.logadd$trend), 36)"
   ]
  },
  {
   "cell_type": "code",
   "execution_count": 106,
   "metadata": {
    "ExecuteTime": {
     "end_time": "2021-04-17T15:22:36.657243Z",
     "start_time": "2021-04-17T15:22:36.585Z"
    },
    "hidden": true
   },
   "outputs": [
    {
     "data": {
      "text/html": [
       "<table class=\"dataframe\">\n",
       "<caption>A Time Series: 8 × 4</caption>\n",
       "<thead>\n",
       "\t<tr><th></th><th scope=col>Qtr1</th><th scope=col>Qtr2</th><th scope=col>Qtr3</th><th scope=col>Qtr4</th></tr>\n",
       "</thead>\n",
       "<tbody>\n",
       "\t<tr><th scope=row>2012</th><td>0.7603141</td><td>1.1366136</td><td>1.2907689</td><td>0.8964903</td></tr>\n",
       "\t<tr><th scope=row>2013</th><td>0.7603141</td><td>1.1366136</td><td>1.2907689</td><td>0.8964903</td></tr>\n",
       "\t<tr><th scope=row>2014</th><td>0.7603141</td><td>1.1366136</td><td>1.2907689</td><td>0.8964903</td></tr>\n",
       "\t<tr><th scope=row>2015</th><td>0.7603141</td><td>1.1366136</td><td>1.2907689</td><td>0.8964903</td></tr>\n",
       "\t<tr><th scope=row>2016</th><td>0.7603141</td><td>1.1366136</td><td>1.2907689</td><td>0.8964903</td></tr>\n",
       "\t<tr><th scope=row>2017</th><td>0.7603141</td><td>1.1366136</td><td>1.2907689</td><td>0.8964903</td></tr>\n",
       "\t<tr><th scope=row>2018</th><td>0.7603141</td><td>1.1366136</td><td>1.2907689</td><td>0.8964903</td></tr>\n",
       "\t<tr><th scope=row>2019</th><td>0.7603141</td><td>1.1366136</td><td>1.2907689</td><td>0.8964903</td></tr>\n",
       "</tbody>\n",
       "</table>\n"
      ],
      "text/latex": [
       "A Time Series: 8 × 4\n",
       "\\begin{tabular}{r|llll}\n",
       "  & Qtr1 & Qtr2 & Qtr3 & Qtr4\\\\\n",
       "\\hline\n",
       "\t2012 & 0.7603141 & 1.1366136 & 1.2907689 & 0.8964903\\\\\n",
       "\t2013 & 0.7603141 & 1.1366136 & 1.2907689 & 0.8964903\\\\\n",
       "\t2014 & 0.7603141 & 1.1366136 & 1.2907689 & 0.8964903\\\\\n",
       "\t2015 & 0.7603141 & 1.1366136 & 1.2907689 & 0.8964903\\\\\n",
       "\t2016 & 0.7603141 & 1.1366136 & 1.2907689 & 0.8964903\\\\\n",
       "\t2017 & 0.7603141 & 1.1366136 & 1.2907689 & 0.8964903\\\\\n",
       "\t2018 & 0.7603141 & 1.1366136 & 1.2907689 & 0.8964903\\\\\n",
       "\t2019 & 0.7603141 & 1.1366136 & 1.2907689 & 0.8964903\\\\\n",
       "\\end{tabular}\n"
      ],
      "text/markdown": [
       "\n",
       "A Time Series: 8 × 4\n",
       "\n",
       "| <!--/--> | Qtr1 | Qtr2 | Qtr3 | Qtr4 |\n",
       "|---|---|---|---|---|\n",
       "| 2012 | 0.7603141 | 1.1366136 | 1.2907689 | 0.8964903 |\n",
       "| 2013 | 0.7603141 | 1.1366136 | 1.2907689 | 0.8964903 |\n",
       "| 2014 | 0.7603141 | 1.1366136 | 1.2907689 | 0.8964903 |\n",
       "| 2015 | 0.7603141 | 1.1366136 | 1.2907689 | 0.8964903 |\n",
       "| 2016 | 0.7603141 | 1.1366136 | 1.2907689 | 0.8964903 |\n",
       "| 2017 | 0.7603141 | 1.1366136 | 1.2907689 | 0.8964903 |\n",
       "| 2018 | 0.7603141 | 1.1366136 | 1.2907689 | 0.8964903 |\n",
       "| 2019 | 0.7603141 | 1.1366136 | 1.2907689 | 0.8964903 |\n",
       "\n"
      ],
      "text/plain": [
       "     Qtr1      Qtr2      Qtr3      Qtr4     \n",
       "2012 0.7603141 1.1366136 1.2907689 0.8964903\n",
       "2013 0.7603141 1.1366136 1.2907689 0.8964903\n",
       "2014 0.7603141 1.1366136 1.2907689 0.8964903\n",
       "2015 0.7603141 1.1366136 1.2907689 0.8964903\n",
       "2016 0.7603141 1.1366136 1.2907689 0.8964903\n",
       "2017 0.7603141 1.1366136 1.2907689 0.8964903\n",
       "2018 0.7603141 1.1366136 1.2907689 0.8964903\n",
       "2019 0.7603141 1.1366136 1.2907689 0.8964903"
      ]
     },
     "metadata": {},
     "output_type": "display_data"
    }
   ],
   "source": [
    "head(exp(fit.logadd$seasonal), 36)"
   ]
  },
  {
   "cell_type": "code",
   "execution_count": 107,
   "metadata": {
    "ExecuteTime": {
     "end_time": "2021-04-17T15:22:49.317533Z",
     "start_time": "2021-04-17T15:22:49.243Z"
    },
    "hidden": true
   },
   "outputs": [
    {
     "data": {
      "text/html": [
       "<table class=\"dataframe\">\n",
       "<caption>A Time Series: 8 × 4</caption>\n",
       "<thead>\n",
       "\t<tr><th></th><th scope=col>Qtr1</th><th scope=col>Qtr2</th><th scope=col>Qtr3</th><th scope=col>Qtr4</th></tr>\n",
       "</thead>\n",
       "<tbody>\n",
       "\t<tr><th scope=row>2012</th><td>       NA</td><td>       NA</td><td>1.0128017</td><td>0.9861485</td></tr>\n",
       "\t<tr><th scope=row>2013</th><td>0.9975281</td><td>0.9879716</td><td>1.0179848</td><td>1.0007131</td></tr>\n",
       "\t<tr><th scope=row>2014</th><td>0.9786555</td><td>1.0181906</td><td>1.0032703</td><td>0.9748906</td></tr>\n",
       "\t<tr><th scope=row>2015</th><td>1.0097755</td><td>0.9974698</td><td>0.9976384</td><td>1.0020693</td></tr>\n",
       "\t<tr><th scope=row>2016</th><td>1.0301000</td><td>0.9824392</td><td>1.0094969</td><td>1.0067691</td></tr>\n",
       "\t<tr><th scope=row>2017</th><td>0.9874399</td><td>1.0094886</td><td>0.9780036</td><td>1.0162275</td></tr>\n",
       "\t<tr><th scope=row>2018</th><td>0.9962386</td><td>1.0072057</td><td>0.9865880</td><td>1.0190881</td></tr>\n",
       "\t<tr><th scope=row>2019</th><td>1.0062476</td><td>1.0028581</td><td>       NA</td><td>       NA</td></tr>\n",
       "</tbody>\n",
       "</table>\n"
      ],
      "text/latex": [
       "A Time Series: 8 × 4\n",
       "\\begin{tabular}{r|llll}\n",
       "  & Qtr1 & Qtr2 & Qtr3 & Qtr4\\\\\n",
       "\\hline\n",
       "\t2012 &        NA &        NA & 1.0128017 & 0.9861485\\\\\n",
       "\t2013 & 0.9975281 & 0.9879716 & 1.0179848 & 1.0007131\\\\\n",
       "\t2014 & 0.9786555 & 1.0181906 & 1.0032703 & 0.9748906\\\\\n",
       "\t2015 & 1.0097755 & 0.9974698 & 0.9976384 & 1.0020693\\\\\n",
       "\t2016 & 1.0301000 & 0.9824392 & 1.0094969 & 1.0067691\\\\\n",
       "\t2017 & 0.9874399 & 1.0094886 & 0.9780036 & 1.0162275\\\\\n",
       "\t2018 & 0.9962386 & 1.0072057 & 0.9865880 & 1.0190881\\\\\n",
       "\t2019 & 1.0062476 & 1.0028581 &        NA &        NA\\\\\n",
       "\\end{tabular}\n"
      ],
      "text/markdown": [
       "\n",
       "A Time Series: 8 × 4\n",
       "\n",
       "| <!--/--> | Qtr1 | Qtr2 | Qtr3 | Qtr4 |\n",
       "|---|---|---|---|---|\n",
       "| 2012 |        NA |        NA | 1.0128017 | 0.9861485 |\n",
       "| 2013 | 0.9975281 | 0.9879716 | 1.0179848 | 1.0007131 |\n",
       "| 2014 | 0.9786555 | 1.0181906 | 1.0032703 | 0.9748906 |\n",
       "| 2015 | 1.0097755 | 0.9974698 | 0.9976384 | 1.0020693 |\n",
       "| 2016 | 1.0301000 | 0.9824392 | 1.0094969 | 1.0067691 |\n",
       "| 2017 | 0.9874399 | 1.0094886 | 0.9780036 | 1.0162275 |\n",
       "| 2018 | 0.9962386 | 1.0072057 | 0.9865880 | 1.0190881 |\n",
       "| 2019 | 1.0062476 | 1.0028581 |        NA |        NA |\n",
       "\n"
      ],
      "text/plain": [
       "     Qtr1      Qtr2      Qtr3      Qtr4     \n",
       "2012        NA        NA 1.0128017 0.9861485\n",
       "2013 0.9975281 0.9879716 1.0179848 1.0007131\n",
       "2014 0.9786555 1.0181906 1.0032703 0.9748906\n",
       "2015 1.0097755 0.9974698 0.9976384 1.0020693\n",
       "2016 1.0301000 0.9824392 1.0094969 1.0067691\n",
       "2017 0.9874399 1.0094886 0.9780036 1.0162275\n",
       "2018 0.9962386 1.0072057 0.9865880 1.0190881\n",
       "2019 1.0062476 1.0028581        NA        NA"
      ]
     },
     "metadata": {},
     "output_type": "display_data"
    }
   ],
   "source": [
    "head(exp(fit.logadd$random), 36)"
   ]
  },
  {
   "cell_type": "code",
   "execution_count": 110,
   "metadata": {
    "ExecuteTime": {
     "end_time": "2021-04-17T15:23:51.435982Z",
     "start_time": "2021-04-17T15:23:51.352Z"
    },
    "hidden": true
   },
   "outputs": [
    {
     "data": {
      "text/html": [
       "<table class=\"dataframe\">\n",
       "<caption>A Time Series: 8 × 4</caption>\n",
       "<thead>\n",
       "\t<tr><th></th><th scope=col>Qtr1</th><th scope=col>Qtr2</th><th scope=col>Qtr3</th><th scope=col>Qtr4</th></tr>\n",
       "</thead>\n",
       "<tbody>\n",
       "\t<tr><th scope=row>2012</th><td>    NA</td><td>    NA</td><td>2096.7</td><td>1438.0</td></tr>\n",
       "\t<tr><th scope=row>2013</th><td>1251.7</td><td>1893.0</td><td>2261.0</td><td>1580.1</td></tr>\n",
       "\t<tr><th scope=row>2014</th><td>1342.5</td><td>2126.6</td><td>2440.4</td><td>1694.9</td></tr>\n",
       "\t<tr><th scope=row>2015</th><td>1531.3</td><td>2344.9</td><td>2770.9</td><td>1995.9</td></tr>\n",
       "\t<tr><th scope=row>2016</th><td>1784.7</td><td>2598.9</td><td>3061.5</td><td>2139.2</td></tr>\n",
       "\t<tr><th scope=row>2017</th><td>1796.1</td><td>2769.4</td><td>3095.6</td><td>2270.9</td></tr>\n",
       "\t<tr><th scope=row>2018</th><td>1920.7</td><td>2951.9</td><td>3330.9</td><td>2412.8</td></tr>\n",
       "\t<tr><th scope=row>2019</th><td>2026.7</td><td>3021.8</td><td>    NA</td><td>    NA</td></tr>\n",
       "</tbody>\n",
       "</table>\n"
      ],
      "text/latex": [
       "A Time Series: 8 × 4\n",
       "\\begin{tabular}{r|llll}\n",
       "  & Qtr1 & Qtr2 & Qtr3 & Qtr4\\\\\n",
       "\\hline\n",
       "\t2012 &     NA &     NA & 2096.7 & 1438.0\\\\\n",
       "\t2013 & 1251.7 & 1893.0 & 2261.0 & 1580.1\\\\\n",
       "\t2014 & 1342.5 & 2126.6 & 2440.4 & 1694.9\\\\\n",
       "\t2015 & 1531.3 & 2344.9 & 2770.9 & 1995.9\\\\\n",
       "\t2016 & 1784.7 & 2598.9 & 3061.5 & 2139.2\\\\\n",
       "\t2017 & 1796.1 & 2769.4 & 3095.6 & 2270.9\\\\\n",
       "\t2018 & 1920.7 & 2951.9 & 3330.9 & 2412.8\\\\\n",
       "\t2019 & 2026.7 & 3021.8 &     NA &     NA\\\\\n",
       "\\end{tabular}\n"
      ],
      "text/markdown": [
       "\n",
       "A Time Series: 8 × 4\n",
       "\n",
       "| <!--/--> | Qtr1 | Qtr2 | Qtr3 | Qtr4 |\n",
       "|---|---|---|---|---|\n",
       "| 2012 |     NA |     NA | 2096.7 | 1438.0 |\n",
       "| 2013 | 1251.7 | 1893.0 | 2261.0 | 1580.1 |\n",
       "| 2014 | 1342.5 | 2126.6 | 2440.4 | 1694.9 |\n",
       "| 2015 | 1531.3 | 2344.9 | 2770.9 | 1995.9 |\n",
       "| 2016 | 1784.7 | 2598.9 | 3061.5 | 2139.2 |\n",
       "| 2017 | 1796.1 | 2769.4 | 3095.6 | 2270.9 |\n",
       "| 2018 | 1920.7 | 2951.9 | 3330.9 | 2412.8 |\n",
       "| 2019 | 2026.7 | 3021.8 |     NA |     NA |\n",
       "\n"
      ],
      "text/plain": [
       "     Qtr1   Qtr2   Qtr3   Qtr4  \n",
       "2012     NA     NA 2096.7 1438.0\n",
       "2013 1251.7 1893.0 2261.0 1580.1\n",
       "2014 1342.5 2126.6 2440.4 1694.9\n",
       "2015 1531.3 2344.9 2770.9 1995.9\n",
       "2016 1784.7 2598.9 3061.5 2139.2\n",
       "2017 1796.1 2769.4 3095.6 2270.9\n",
       "2018 1920.7 2951.9 3330.9 2412.8\n",
       "2019 2026.7 3021.8     NA     NA"
      ]
     },
     "metadata": {},
     "output_type": "display_data"
    }
   ],
   "source": [
    "head(exp(fit.logadd$trend) * exp(fit.logadd$seasonal) * exp(fit.logadd$random), 36)"
   ]
  },
  {
   "cell_type": "code",
   "execution_count": 111,
   "metadata": {
    "ExecuteTime": {
     "end_time": "2021-04-17T15:24:08.060101Z",
     "start_time": "2021-04-17T15:24:07.999Z"
    },
    "hidden": true
   },
   "outputs": [
    {
     "data": {
      "text/html": [
       "<table class=\"dataframe\">\n",
       "<caption>A Time Series: 8 × 4</caption>\n",
       "<thead>\n",
       "\t<tr><th></th><th scope=col>Qtr1</th><th scope=col>Qtr2</th><th scope=col>Qtr3</th><th scope=col>Qtr4</th></tr>\n",
       "</thead>\n",
       "<tbody>\n",
       "\t<tr><th scope=row>2012</th><td>1165.1</td><td>1817.3</td><td>2096.7</td><td>1438.0</td></tr>\n",
       "\t<tr><th scope=row>2013</th><td>1251.7</td><td>1893.0</td><td>2261.0</td><td>1580.1</td></tr>\n",
       "\t<tr><th scope=row>2014</th><td>1342.5</td><td>2126.6</td><td>2440.4</td><td>1694.9</td></tr>\n",
       "\t<tr><th scope=row>2015</th><td>1531.3</td><td>2344.9</td><td>2770.9</td><td>1995.9</td></tr>\n",
       "\t<tr><th scope=row>2016</th><td>1784.7</td><td>2598.9</td><td>3061.5</td><td>2139.2</td></tr>\n",
       "\t<tr><th scope=row>2017</th><td>1796.1</td><td>2769.4</td><td>3095.6</td><td>2270.9</td></tr>\n",
       "\t<tr><th scope=row>2018</th><td>1920.7</td><td>2951.9</td><td>3330.9</td><td>2412.8</td></tr>\n",
       "\t<tr><th scope=row>2019</th><td>2026.7</td><td>3021.8</td><td>3334.4</td><td>2424.6</td></tr>\n",
       "</tbody>\n",
       "</table>\n"
      ],
      "text/latex": [
       "A Time Series: 8 × 4\n",
       "\\begin{tabular}{r|llll}\n",
       "  & Qtr1 & Qtr2 & Qtr3 & Qtr4\\\\\n",
       "\\hline\n",
       "\t2012 & 1165.1 & 1817.3 & 2096.7 & 1438.0\\\\\n",
       "\t2013 & 1251.7 & 1893.0 & 2261.0 & 1580.1\\\\\n",
       "\t2014 & 1342.5 & 2126.6 & 2440.4 & 1694.9\\\\\n",
       "\t2015 & 1531.3 & 2344.9 & 2770.9 & 1995.9\\\\\n",
       "\t2016 & 1784.7 & 2598.9 & 3061.5 & 2139.2\\\\\n",
       "\t2017 & 1796.1 & 2769.4 & 3095.6 & 2270.9\\\\\n",
       "\t2018 & 1920.7 & 2951.9 & 3330.9 & 2412.8\\\\\n",
       "\t2019 & 2026.7 & 3021.8 & 3334.4 & 2424.6\\\\\n",
       "\\end{tabular}\n"
      ],
      "text/markdown": [
       "\n",
       "A Time Series: 8 × 4\n",
       "\n",
       "| <!--/--> | Qtr1 | Qtr2 | Qtr3 | Qtr4 |\n",
       "|---|---|---|---|---|\n",
       "| 2012 | 1165.1 | 1817.3 | 2096.7 | 1438.0 |\n",
       "| 2013 | 1251.7 | 1893.0 | 2261.0 | 1580.1 |\n",
       "| 2014 | 1342.5 | 2126.6 | 2440.4 | 1694.9 |\n",
       "| 2015 | 1531.3 | 2344.9 | 2770.9 | 1995.9 |\n",
       "| 2016 | 1784.7 | 2598.9 | 3061.5 | 2139.2 |\n",
       "| 2017 | 1796.1 | 2769.4 | 3095.6 | 2270.9 |\n",
       "| 2018 | 1920.7 | 2951.9 | 3330.9 | 2412.8 |\n",
       "| 2019 | 2026.7 | 3021.8 | 3334.4 | 2424.6 |\n",
       "\n"
      ],
      "text/plain": [
       "     Qtr1   Qtr2   Qtr3   Qtr4  \n",
       "2012 1165.1 1817.3 2096.7 1438.0\n",
       "2013 1251.7 1893.0 2261.0 1580.1\n",
       "2014 1342.5 2126.6 2440.4 1694.9\n",
       "2015 1531.3 2344.9 2770.9 1995.9\n",
       "2016 1784.7 2598.9 3061.5 2139.2\n",
       "2017 1796.1 2769.4 3095.6 2270.9\n",
       "2018 1920.7 2951.9 3330.9 2412.8\n",
       "2019 2026.7 3021.8 3334.4 2424.6"
      ]
     },
     "metadata": {},
     "output_type": "display_data"
    }
   ],
   "source": [
    "head(exp(fit.logadd$x), 36)"
   ]
  },
  {
   "cell_type": "code",
   "execution_count": 112,
   "metadata": {
    "ExecuteTime": {
     "end_time": "2021-04-17T15:26:24.674931Z",
     "start_time": "2021-04-17T15:26:23.856Z"
    },
    "hidden": true
   },
   "outputs": [
    {
     "name": "stderr",
     "output_type": "stream",
     "text": [
      "Warning message in modeldf.default(object):\n",
      "\"Could not find appropriate degrees of freedom for this model.\"\n"
     ]
    },
    {
     "data": {
      "image/png": "[encoded data removed]",
      "text/plain": [
       "plot without title"
      ]
     },
     "metadata": {
      "image/png": {
       "height": 420,
       "width": 420
      }
     },
     "output_type": "display_data"
    }
   ],
   "source": [
    "checkresiduals(remainder(fit.logadd))"
   ]
  },
  {
   "cell_type": "markdown",
   "metadata": {
    "hidden": true
   },
   "source": [
    "Additive log log decomposition"
   ]
  },
  {
   "cell_type": "code",
   "execution_count": 115,
   "metadata": {
    "ExecuteTime": {
     "end_time": "2021-04-17T15:27:48.273366Z",
     "start_time": "2021-04-17T15:27:48.230Z"
    },
    "hidden": true
   },
   "outputs": [],
   "source": [
    "trips_loglogmod <- lm(ltrips~log(time(trips)))"
   ]
  },
  {
   "cell_type": "code",
   "execution_count": 118,
   "metadata": {
    "ExecuteTime": {
     "end_time": "2021-04-17T15:31:21.606327Z",
     "start_time": "2021-04-17T15:31:21.409Z"
    },
    "hidden": true
   },
   "outputs": [
    {
     "data": {
      "image/png": "[encoded data removed]",
      "text/plain": [
       "plot without title"
      ]
     },
     "metadata": {
      "image/png": {
       "height": 420,
       "width": 420
      }
     },
     "output_type": "display_data"
    },
    {
     "data": {
      "image/png": "[encoded data removed]",
      "text/plain": [
       "plot without title"
      ]
     },
     "metadata": {
      "image/png": {
       "height": 420,
       "width": 420
      }
     },
     "output_type": "display_data"
    }
   ],
   "source": [
    "plot(trips, col='blue')\n",
    "x <- as.vector(time(trips))\n",
    "y <- exp(predict.lm(trips_logmod))\n",
    "lines(x, y, col='red', lw=4)\n",
    "\n",
    "plot(trips, col='blue')\n",
    "x <- as.vector(time(trips))\n",
    "y <- exp(predict.lm(trips_loglogmod))\n",
    "lines(x, y, col='red', lw=4)"
   ]
  },
  {
   "cell_type": "code",
   "execution_count": 120,
   "metadata": {
    "ExecuteTime": {
     "end_time": "2021-04-17T15:32:57.609240Z",
     "start_time": "2021-04-17T15:32:57.448Z"
    },
    "hidden": true
   },
   "outputs": [
    {
     "data": {
      "image/png": "[encoded data removed]",
      "text/plain": [
       "plot without title"
      ]
     },
     "metadata": {
      "image/png": {
       "height": 420,
       "width": 420
      }
     },
     "output_type": "display_data"
    }
   ],
   "source": [
    "plot(trips, col='blue')\n",
    "x <- as.vector(time(trips))\n",
    "y <- exp(predict.lm(trips_logmod))\n",
    "lines(x, y, col='red', lw=9)\n",
    "\n",
    "y <- exp(predict.lm(trips_loglogmod))\n",
    "lines(x, y, col='darkgreen', lw=2)"
   ]
  },
  {
   "cell_type": "markdown",
   "metadata": {
    "hidden": true
   },
   "source": [
    "log y = b x >>equivalent>> y = exp(b x) --> it grows faster"
   ]
  },
  {
   "cell_type": "code",
   "execution_count": null,
   "metadata": {
    "hidden": true
   },
   "outputs": [],
   "source": [
    "y = x^b >>equivalent>> log y = b log x --> it grow less than exponential"
   ]
  },
  {
   "cell_type": "code",
   "execution_count": null,
   "metadata": {
    "hidden": true
   },
   "outputs": [],
   "source": [
    "y = b x --> linear"
   ]
  },
  {
   "cell_type": "markdown",
   "metadata": {
    "hidden": true
   },
   "source": [
    "sqrt (y) = b sqrt(x)\n",
    "y = b^2x\n",
    "\n",
    "sqrt(y) = b x\n",
    "y = b^2 x^2"
   ]
  },
  {
   "cell_type": "markdown",
   "metadata": {
    "hidden": true
   },
   "source": [
    " ### STL - Loess"
   ]
  },
  {
   "cell_type": "markdown",
   "metadata": {
    "ExecuteTime": {
     "end_time": "2021-04-17T15:51:11.754717Z",
     "start_time": "2021-04-17T15:51:11.708Z"
    },
    "hidden": true
   },
   "source": [
    "Locally estimated scatterplot smoothing"
   ]
  },
  {
   "cell_type": "code",
   "execution_count": 124,
   "metadata": {
    "ExecuteTime": {
     "end_time": "2021-04-17T15:51:55.068603Z",
     "start_time": "2021-04-17T15:51:54.848Z"
    },
    "hidden": true
   },
   "outputs": [
    {
     "data": {
      "text/html": [
       "<table class=\"dataframe\">\n",
       "<caption>A Time Series: 32 × 3</caption>\n",
       "<thead>\n",
       "\t<tr><th></th><th scope=col>seasonal</th><th scope=col>trend</th><th scope=col>remainder</th></tr>\n",
       "</thead>\n",
       "<tbody>\n",
       "\t<tr><th scope=row>2012 Q1</th><td>-0.2787037</td><td>7.351133</td><td>-0.0118669189</td></tr>\n",
       "\t<tr><th scope=row>2012 Q2</th><td> 0.1279108</td><td>7.365498</td><td> 0.0116978963</td></tr>\n",
       "\t<tr><th scope=row>2012 Q3</th><td> 0.2543035</td><td>7.379835</td><td> 0.0139811900</td></tr>\n",
       "\t<tr><th scope=row>2012 Q4</th><td>-0.1035106</td><td>7.393429</td><td>-0.0189098880</td></tr>\n",
       "\t<tr><th scope=row>2013 Q1</th><td>-0.2787037</td><td>7.407542</td><td> 0.0034193432</td></tr>\n",
       "\t<tr><th scope=row>2013 Q2</th><td> 0.1279108</td><td>7.430067</td><td>-0.0120599762</td></tr>\n",
       "\t<tr><th scope=row>2013 Q3</th><td> 0.2543035</td><td>7.451330</td><td> 0.0179285850</td></tr>\n",
       "\t<tr><th scope=row>2013 Q4</th><td>-0.1035106</td><td>7.473509</td><td>-0.0047548438</td></tr>\n",
       "\t<tr><th scope=row>2014 Q1</th><td>-0.2787037</td><td>7.496831</td><td>-0.0158388778</td></tr>\n",
       "\t<tr><th scope=row>2014 Q2</th><td> 0.1279108</td><td>7.517454</td><td> 0.0169146535</td></tr>\n",
       "\t<tr><th scope=row>2014 Q3</th><td> 0.2543035</td><td>7.541241</td><td> 0.0043727740</td></tr>\n",
       "\t<tr><th scope=row>2014 Q4</th><td>-0.1035106</td><td>7.568378</td><td>-0.0294885427</td></tr>\n",
       "\t<tr><th scope=row>2015 Q1</th><td>-0.2787037</td><td>7.597995</td><td> 0.0145814742</td></tr>\n",
       "\t<tr><th scope=row>2015 Q2</th><td> 0.1279108</td><td>7.635184</td><td>-0.0030970307</td></tr>\n",
       "\t<tr><th scope=row>2015 Q3</th><td> 0.2543035</td><td>7.673161</td><td>-0.0005366110</td></tr>\n",
       "\t<tr><th scope=row>2015 Q4</th><td>-0.1035106</td><td>7.707206</td><td>-0.0048451971</td></tr>\n",
       "\t<tr><th scope=row>2016 Q1</th><td>-0.2787037</td><td>7.732929</td><td> 0.0327806708</td></tr>\n",
       "\t<tr><th scope=row>2016 Q2</th><td> 0.1279108</td><td>7.752838</td><td>-0.0179052268</td></tr>\n",
       "\t<tr><th scope=row>2016 Q3</th><td> 0.2543035</td><td>7.761900</td><td> 0.0104570682</td></tr>\n",
       "\t<tr><th scope=row>2016 Q4</th><td>-0.1035106</td><td>7.770965</td><td> 0.0007332869</td></tr>\n",
       "\t<tr><th scope=row>2017 Q1</th><td>-0.2787037</td><td>7.779912</td><td>-0.0078354481</td></tr>\n",
       "\t<tr><th scope=row>2017 Q2</th><td> 0.1279108</td><td>7.788470</td><td> 0.0100053254</td></tr>\n",
       "\t<tr><th scope=row>2017 Q3</th><td> 0.2543035</td><td>7.804037</td><td>-0.0206033928</td></tr>\n",
       "\t<tr><th scope=row>2017 Q4</th><td>-0.1035106</td><td>7.820898</td><td> 0.0105445817</td></tr>\n",
       "\t<tr><th scope=row>2018 Q1</th><td>-0.2787037</td><td>7.839288</td><td>-0.0001391479</td></tr>\n",
       "\t<tr><th scope=row>2018 Q2</th><td> 0.1279108</td><td>7.854815</td><td> 0.0074786619</td></tr>\n",
       "\t<tr><th scope=row>2018 Q3</th><td> 0.2543035</td><td>7.869059</td><td>-0.0123650225</td></tr>\n",
       "\t<tr><th scope=row>2018 Q4</th><td>-0.1035106</td><td>7.879583</td><td> 0.0124706487</td></tr>\n",
       "\t<tr><th scope=row>2019 Q1</th><td>-0.2787037</td><td>7.883687</td><td> 0.0091806984</td></tr>\n",
       "\t<tr><th scope=row>2019 Q2</th><td> 0.1279108</td><td>7.882451</td><td> 0.0032463662</td></tr>\n",
       "\t<tr><th scope=row>2019 Q3</th><td> 0.2543035</td><td>7.882537</td><td>-0.0247927756</td></tr>\n",
       "\t<tr><th scope=row>2019 Q4</th><td>-0.1035106</td><td>7.881943</td><td> 0.0149898619</td></tr>\n",
       "</tbody>\n",
       "</table>\n"
      ],
      "text/latex": [
       "A Time Series: 32 × 3\n",
       "\\begin{tabular}{r|lll}\n",
       "  & seasonal & trend & remainder\\\\\n",
       "\\hline\n",
       "\t2012 Q1 & -0.2787037 & 7.351133 & -0.0118669189\\\\\n",
       "\t2012 Q2 &  0.1279108 & 7.365498 &  0.0116978963\\\\\n",
       "\t2012 Q3 &  0.2543035 & 7.379835 &  0.0139811900\\\\\n",
       "\t2012 Q4 & -0.1035106 & 7.393429 & -0.0189098880\\\\\n",
       "\t2013 Q1 & -0.2787037 & 7.407542 &  0.0034193432\\\\\n",
       "\t2013 Q2 &  0.1279108 & 7.430067 & -0.0120599762\\\\\n",
       "\t2013 Q3 &  0.2543035 & 7.451330 &  0.0179285850\\\\\n",
       "\t2013 Q4 & -0.1035106 & 7.473509 & -0.0047548438\\\\\n",
       "\t2014 Q1 & -0.2787037 & 7.496831 & -0.0158388778\\\\\n",
       "\t2014 Q2 &  0.1279108 & 7.517454 &  0.0169146535\\\\\n",
       "\t2014 Q3 &  0.2543035 & 7.541241 &  0.0043727740\\\\\n",
       "\t2014 Q4 & -0.1035106 & 7.568378 & -0.0294885427\\\\\n",
       "\t2015 Q1 & -0.2787037 & 7.597995 &  0.0145814742\\\\\n",
       "\t2015 Q2 &  0.1279108 & 7.635184 & -0.0030970307\\\\\n",
       "\t2015 Q3 &  0.2543035 & 7.673161 & -0.0005366110\\\\\n",
       "\t2015 Q4 & -0.1035106 & 7.707206 & -0.0048451971\\\\\n",
       "\t2016 Q1 & -0.2787037 & 7.732929 &  0.0327806708\\\\\n",
       "\t2016 Q2 &  0.1279108 & 7.752838 & -0.0179052268\\\\\n",
       "\t2016 Q3 &  0.2543035 & 7.761900 &  0.0104570682\\\\\n",
       "\t2016 Q4 & -0.1035106 & 7.770965 &  0.0007332869\\\\\n",
       "\t2017 Q1 & -0.2787037 & 7.779912 & -0.0078354481\\\\\n",
       "\t2017 Q2 &  0.1279108 & 7.788470 &  0.0100053254\\\\\n",
       "\t2017 Q3 &  0.2543035 & 7.804037 & -0.0206033928\\\\\n",
       "\t2017 Q4 & -0.1035106 & 7.820898 &  0.0105445817\\\\\n",
       "\t2018 Q1 & -0.2787037 & 7.839288 & -0.0001391479\\\\\n",
       "\t2018 Q2 &  0.1279108 & 7.854815 &  0.0074786619\\\\\n",
       "\t2018 Q3 &  0.2543035 & 7.869059 & -0.0123650225\\\\\n",
       "\t2018 Q4 & -0.1035106 & 7.879583 &  0.0124706487\\\\\n",
       "\t2019 Q1 & -0.2787037 & 7.883687 &  0.0091806984\\\\\n",
       "\t2019 Q2 &  0.1279108 & 7.882451 &  0.0032463662\\\\\n",
       "\t2019 Q3 &  0.2543035 & 7.882537 & -0.0247927756\\\\\n",
       "\t2019 Q4 & -0.1035106 & 7.881943 &  0.0149898619\\\\\n",
       "\\end{tabular}\n"
      ],
      "text/markdown": [
       "\n",
       "A Time Series: 32 × 3\n",
       "\n",
       "| <!--/--> | seasonal | trend | remainder |\n",
       "|---|---|---|---|\n",
       "| 2012 Q1 | -0.2787037 | 7.351133 | -0.0118669189 |\n",
       "| 2012 Q2 |  0.1279108 | 7.365498 |  0.0116978963 |\n",
       "| 2012 Q3 |  0.2543035 | 7.379835 |  0.0139811900 |\n",
       "| 2012 Q4 | -0.1035106 | 7.393429 | -0.0189098880 |\n",
       "| 2013 Q1 | -0.2787037 | 7.407542 |  0.0034193432 |\n",
       "| 2013 Q2 |  0.1279108 | 7.430067 | -0.0120599762 |\n",
       "| 2013 Q3 |  0.2543035 | 7.451330 |  0.0179285850 |\n",
       "| 2013 Q4 | -0.1035106 | 7.473509 | -0.0047548438 |\n",
       "| 2014 Q1 | -0.2787037 | 7.496831 | -0.0158388778 |\n",
       "| 2014 Q2 |  0.1279108 | 7.517454 |  0.0169146535 |\n",
       "| 2014 Q3 |  0.2543035 | 7.541241 |  0.0043727740 |\n",
       "| 2014 Q4 | -0.1035106 | 7.568378 | -0.0294885427 |\n",
       "| 2015 Q1 | -0.2787037 | 7.597995 |  0.0145814742 |\n",
       "| 2015 Q2 |  0.1279108 | 7.635184 | -0.0030970307 |\n",
       "| 2015 Q3 |  0.2543035 | 7.673161 | -0.0005366110 |\n",
       "| 2015 Q4 | -0.1035106 | 7.707206 | -0.0048451971 |\n",
       "| 2016 Q1 | -0.2787037 | 7.732929 |  0.0327806708 |\n",
       "| 2016 Q2 |  0.1279108 | 7.752838 | -0.0179052268 |\n",
       "| 2016 Q3 |  0.2543035 | 7.761900 |  0.0104570682 |\n",
       "| 2016 Q4 | -0.1035106 | 7.770965 |  0.0007332869 |\n",
       "| 2017 Q1 | -0.2787037 | 7.779912 | -0.0078354481 |\n",
       "| 2017 Q2 |  0.1279108 | 7.788470 |  0.0100053254 |\n",
       "| 2017 Q3 |  0.2543035 | 7.804037 | -0.0206033928 |\n",
       "| 2017 Q4 | -0.1035106 | 7.820898 |  0.0105445817 |\n",
       "| 2018 Q1 | -0.2787037 | 7.839288 | -0.0001391479 |\n",
       "| 2018 Q2 |  0.1279108 | 7.854815 |  0.0074786619 |\n",
       "| 2018 Q3 |  0.2543035 | 7.869059 | -0.0123650225 |\n",
       "| 2018 Q4 | -0.1035106 | 7.879583 |  0.0124706487 |\n",
       "| 2019 Q1 | -0.2787037 | 7.883687 |  0.0091806984 |\n",
       "| 2019 Q2 |  0.1279108 | 7.882451 |  0.0032463662 |\n",
       "| 2019 Q3 |  0.2543035 | 7.882537 | -0.0247927756 |\n",
       "| 2019 Q4 | -0.1035106 | 7.881943 |  0.0149898619 |\n",
       "\n"
      ],
      "text/plain": [
       "        seasonal   trend    remainder    \n",
       "2012 Q1 -0.2787037 7.351133 -0.0118669189\n",
       "2012 Q2  0.1279108 7.365498  0.0116978963\n",
       "2012 Q3  0.2543035 7.379835  0.0139811900\n",
       "2012 Q4 -0.1035106 7.393429 -0.0189098880\n",
       "2013 Q1 -0.2787037 7.407542  0.0034193432\n",
       "2013 Q2  0.1279108 7.430067 -0.0120599762\n",
       "2013 Q3  0.2543035 7.451330  0.0179285850\n",
       "2013 Q4 -0.1035106 7.473509 -0.0047548438\n",
       "2014 Q1 -0.2787037 7.496831 -0.0158388778\n",
       "2014 Q2  0.1279108 7.517454  0.0169146535\n",
       "2014 Q3  0.2543035 7.541241  0.0043727740\n",
       "2014 Q4 -0.1035106 7.568378 -0.0294885427\n",
       "2015 Q1 -0.2787037 7.597995  0.0145814742\n",
       "2015 Q2  0.1279108 7.635184 -0.0030970307\n",
       "2015 Q3  0.2543035 7.673161 -0.0005366110\n",
       "2015 Q4 -0.1035106 7.707206 -0.0048451971\n",
       "2016 Q1 -0.2787037 7.732929  0.0327806708\n",
       "2016 Q2  0.1279108 7.752838 -0.0179052268\n",
       "2016 Q3  0.2543035 7.761900  0.0104570682\n",
       "2016 Q4 -0.1035106 7.770965  0.0007332869\n",
       "2017 Q1 -0.2787037 7.779912 -0.0078354481\n",
       "2017 Q2  0.1279108 7.788470  0.0100053254\n",
       "2017 Q3  0.2543035 7.804037 -0.0206033928\n",
       "2017 Q4 -0.1035106 7.820898  0.0105445817\n",
       "2018 Q1 -0.2787037 7.839288 -0.0001391479\n",
       "2018 Q2  0.1279108 7.854815  0.0074786619\n",
       "2018 Q3  0.2543035 7.869059 -0.0123650225\n",
       "2018 Q4 -0.1035106 7.879583  0.0124706487\n",
       "2019 Q1 -0.2787037 7.883687  0.0091806984\n",
       "2019 Q2  0.1279108 7.882451  0.0032463662\n",
       "2019 Q3  0.2543035 7.882537 -0.0247927756\n",
       "2019 Q4 -0.1035106 7.881943  0.0149898619"
      ]
     },
     "metadata": {},
     "output_type": "display_data"
    },
    {
     "data": {
      "image/png": "[encoded data removed]",
      "text/plain": [
       "plot without title"
      ]
     },
     "metadata": {
      "image/png": {
       "height": 420,
       "width": 420
      }
     },
     "output_type": "display_data"
    }
   ],
   "source": [
    "stl_desc <- stl(ltrips, s.window='periodic')\n",
    "stl_desc$time.series\n",
    "plot(stl_desc)\n"
   ]
  },
  {
   "cell_type": "code",
   "execution_count": 130,
   "metadata": {
    "ExecuteTime": {
     "end_time": "2021-04-17T15:54:32.824444Z",
     "start_time": "2021-04-17T15:54:32.725Z"
    },
    "hidden": true
   },
   "outputs": [
    {
     "data": {
      "text/html": [
       "<table class=\"dataframe\">\n",
       "<caption>A Time Series: 32 × 3</caption>\n",
       "<thead>\n",
       "\t<tr><th></th><th scope=col>seasonal</th><th scope=col>trend</th><th scope=col>remainder</th></tr>\n",
       "</thead>\n",
       "<tbody>\n",
       "\t<tr><th scope=row>2012 Q1</th><td>0.7567641</td><td>1557.960</td><td>0.9882032</td></tr>\n",
       "\t<tr><th scope=row>2012 Q2</th><td>1.1364516</td><td>1580.503</td><td>1.0117666</td></tr>\n",
       "\t<tr><th scope=row>2012 Q3</th><td>1.2895631</td><td>1603.326</td><td>1.0140794</td></tr>\n",
       "\t<tr><th scope=row>2012 Q4</th><td>0.9016664</td><td>1625.270</td><td>0.9812678</td></tr>\n",
       "\t<tr><th scope=row>2013 Q1</th><td>0.7567641</td><td>1648.370</td><td>1.0034252</td></tr>\n",
       "\t<tr><th scope=row>2013 Q2</th><td>1.1364516</td><td>1685.921</td><td>0.9880125</td></tr>\n",
       "\t<tr><th scope=row>2013 Q3</th><td>1.2895631</td><td>1722.153</td><td>1.0180903</td></tr>\n",
       "\t<tr><th scope=row>2013 Q4</th><td>0.9016664</td><td>1760.774</td><td>0.9952564</td></tr>\n",
       "\t<tr><th scope=row>2014 Q1</th><td>0.7567641</td><td>1802.322</td><td>0.9842859</td></tr>\n",
       "\t<tr><th scope=row>2014 Q2</th><td>1.1364516</td><td>1839.878</td><td>1.0170585</td></tr>\n",
       "\t<tr><th scope=row>2014 Q3</th><td>1.2895631</td><td>1884.167</td><td>1.0043823</td></tr>\n",
       "\t<tr><th scope=row>2014 Q4</th><td>0.9016664</td><td>1935.998</td><td>0.9709420</td></tr>\n",
       "\t<tr><th scope=row>2015 Q1</th><td>0.7567641</td><td>1994.193</td><td>1.0146883</td></tr>\n",
       "\t<tr><th scope=row>2015 Q2</th><td>1.1364516</td><td>2069.752</td><td>0.9969078</td></tr>\n",
       "\t<tr><th scope=row>2015 Q3</th><td>1.2895631</td><td>2149.866</td><td>0.9994635</td></tr>\n",
       "\t<tr><th scope=row>2015 Q4</th><td>0.9016664</td><td>2224.319</td><td>0.9951665</td></tr>\n",
       "\t<tr><th scope=row>2016 Q1</th><td>0.7567641</td><td>2282.276</td><td>1.0333239</td></tr>\n",
       "\t<tr><th scope=row>2016 Q2</th><td>1.1364516</td><td>2328.170</td><td>0.9822541</td></tr>\n",
       "\t<tr><th scope=row>2016 Q3</th><td>1.2895631</td><td>2349.363</td><td>1.0105119</td></tr>\n",
       "\t<tr><th scope=row>2016 Q4</th><td>0.9016664</td><td>2370.757</td><td>1.0007336</td></tr>\n",
       "\t<tr><th scope=row>2017 Q1</th><td>0.7567641</td><td>2392.064</td><td>0.9921952</td></tr>\n",
       "\t<tr><th scope=row>2017 Q2</th><td>1.1364516</td><td>2412.623</td><td>1.0100555</td></tr>\n",
       "\t<tr><th scope=row>2017 Q3</th><td>1.2895631</td><td>2450.474</td><td>0.9796074</td></tr>\n",
       "\t<tr><th scope=row>2017 Q4</th><td>0.9016664</td><td>2492.141</td><td>1.0106004</td></tr>\n",
       "\t<tr><th scope=row>2018 Q1</th><td>0.7567641</td><td>2538.396</td><td>0.9998609</td></tr>\n",
       "\t<tr><th scope=row>2018 Q2</th><td>1.1364516</td><td>2578.118</td><td>1.0075067</td></tr>\n",
       "\t<tr><th scope=row>2018 Q3</th><td>1.2895631</td><td>2615.105</td><td>0.9877111</td></tr>\n",
       "\t<tr><th scope=row>2018 Q4</th><td>0.9016664</td><td>2642.771</td><td>1.0125487</td></tr>\n",
       "\t<tr><th scope=row>2019 Q1</th><td>0.7567641</td><td>2653.639</td><td>1.0092230</td></tr>\n",
       "\t<tr><th scope=row>2019 Q2</th><td>1.1364516</td><td>2650.360</td><td>1.0032516</td></tr>\n",
       "\t<tr><th scope=row>2019 Q3</th><td>1.2895631</td><td>2650.589</td><td>0.9755120</td></tr>\n",
       "\t<tr><th scope=row>2019 Q4</th><td>0.9016664</td><td>2649.014</td><td>1.0151028</td></tr>\n",
       "</tbody>\n",
       "</table>\n"
      ],
      "text/latex": [
       "A Time Series: 32 × 3\n",
       "\\begin{tabular}{r|lll}\n",
       "  & seasonal & trend & remainder\\\\\n",
       "\\hline\n",
       "\t2012 Q1 & 0.7567641 & 1557.960 & 0.9882032\\\\\n",
       "\t2012 Q2 & 1.1364516 & 1580.503 & 1.0117666\\\\\n",
       "\t2012 Q3 & 1.2895631 & 1603.326 & 1.0140794\\\\\n",
       "\t2012 Q4 & 0.9016664 & 1625.270 & 0.9812678\\\\\n",
       "\t2013 Q1 & 0.7567641 & 1648.370 & 1.0034252\\\\\n",
       "\t2013 Q2 & 1.1364516 & 1685.921 & 0.9880125\\\\\n",
       "\t2013 Q3 & 1.2895631 & 1722.153 & 1.0180903\\\\\n",
       "\t2013 Q4 & 0.9016664 & 1760.774 & 0.9952564\\\\\n",
       "\t2014 Q1 & 0.7567641 & 1802.322 & 0.9842859\\\\\n",
       "\t2014 Q2 & 1.1364516 & 1839.878 & 1.0170585\\\\\n",
       "\t2014 Q3 & 1.2895631 & 1884.167 & 1.0043823\\\\\n",
       "\t2014 Q4 & 0.9016664 & 1935.998 & 0.9709420\\\\\n",
       "\t2015 Q1 & 0.7567641 & 1994.193 & 1.0146883\\\\\n",
       "\t2015 Q2 & 1.1364516 & 2069.752 & 0.9969078\\\\\n",
       "\t2015 Q3 & 1.2895631 & 2149.866 & 0.9994635\\\\\n",
       "\t2015 Q4 & 0.9016664 & 2224.319 & 0.9951665\\\\\n",
       "\t2016 Q1 & 0.7567641 & 2282.276 & 1.0333239\\\\\n",
       "\t2016 Q2 & 1.1364516 & 2328.170 & 0.9822541\\\\\n",
       "\t2016 Q3 & 1.2895631 & 2349.363 & 1.0105119\\\\\n",
       "\t2016 Q4 & 0.9016664 & 2370.757 & 1.0007336\\\\\n",
       "\t2017 Q1 & 0.7567641 & 2392.064 & 0.9921952\\\\\n",
       "\t2017 Q2 & 1.1364516 & 2412.623 & 1.0100555\\\\\n",
       "\t2017 Q3 & 1.2895631 & 2450.474 & 0.9796074\\\\\n",
       "\t2017 Q4 & 0.9016664 & 2492.141 & 1.0106004\\\\\n",
       "\t2018 Q1 & 0.7567641 & 2538.396 & 0.9998609\\\\\n",
       "\t2018 Q2 & 1.1364516 & 2578.118 & 1.0075067\\\\\n",
       "\t2018 Q3 & 1.2895631 & 2615.105 & 0.9877111\\\\\n",
       "\t2018 Q4 & 0.9016664 & 2642.771 & 1.0125487\\\\\n",
       "\t2019 Q1 & 0.7567641 & 2653.639 & 1.0092230\\\\\n",
       "\t2019 Q2 & 1.1364516 & 2650.360 & 1.0032516\\\\\n",
       "\t2019 Q3 & 1.2895631 & 2650.589 & 0.9755120\\\\\n",
       "\t2019 Q4 & 0.9016664 & 2649.014 & 1.0151028\\\\\n",
       "\\end{tabular}\n"
      ],
      "text/markdown": [
       "\n",
       "A Time Series: 32 × 3\n",
       "\n",
       "| <!--/--> | seasonal | trend | remainder |\n",
       "|---|---|---|---|\n",
       "| 2012 Q1 | 0.7567641 | 1557.960 | 0.9882032 |\n",
       "| 2012 Q2 | 1.1364516 | 1580.503 | 1.0117666 |\n",
       "| 2012 Q3 | 1.2895631 | 1603.326 | 1.0140794 |\n",
       "| 2012 Q4 | 0.9016664 | 1625.270 | 0.9812678 |\n",
       "| 2013 Q1 | 0.7567641 | 1648.370 | 1.0034252 |\n",
       "| 2013 Q2 | 1.1364516 | 1685.921 | 0.9880125 |\n",
       "| 2013 Q3 | 1.2895631 | 1722.153 | 1.0180903 |\n",
       "| 2013 Q4 | 0.9016664 | 1760.774 | 0.9952564 |\n",
       "| 2014 Q1 | 0.7567641 | 1802.322 | 0.9842859 |\n",
       "| 2014 Q2 | 1.1364516 | 1839.878 | 1.0170585 |\n",
       "| 2014 Q3 | 1.2895631 | 1884.167 | 1.0043823 |\n",
       "| 2014 Q4 | 0.9016664 | 1935.998 | 0.9709420 |\n",
       "| 2015 Q1 | 0.7567641 | 1994.193 | 1.0146883 |\n",
       "| 2015 Q2 | 1.1364516 | 2069.752 | 0.9969078 |\n",
       "| 2015 Q3 | 1.2895631 | 2149.866 | 0.9994635 |\n",
       "| 2015 Q4 | 0.9016664 | 2224.319 | 0.9951665 |\n",
       "| 2016 Q1 | 0.7567641 | 2282.276 | 1.0333239 |\n",
       "| 2016 Q2 | 1.1364516 | 2328.170 | 0.9822541 |\n",
       "| 2016 Q3 | 1.2895631 | 2349.363 | 1.0105119 |\n",
       "| 2016 Q4 | 0.9016664 | 2370.757 | 1.0007336 |\n",
       "| 2017 Q1 | 0.7567641 | 2392.064 | 0.9921952 |\n",
       "| 2017 Q2 | 1.1364516 | 2412.623 | 1.0100555 |\n",
       "| 2017 Q3 | 1.2895631 | 2450.474 | 0.9796074 |\n",
       "| 2017 Q4 | 0.9016664 | 2492.141 | 1.0106004 |\n",
       "| 2018 Q1 | 0.7567641 | 2538.396 | 0.9998609 |\n",
       "| 2018 Q2 | 1.1364516 | 2578.118 | 1.0075067 |\n",
       "| 2018 Q3 | 1.2895631 | 2615.105 | 0.9877111 |\n",
       "| 2018 Q4 | 0.9016664 | 2642.771 | 1.0125487 |\n",
       "| 2019 Q1 | 0.7567641 | 2653.639 | 1.0092230 |\n",
       "| 2019 Q2 | 1.1364516 | 2650.360 | 1.0032516 |\n",
       "| 2019 Q3 | 1.2895631 | 2650.589 | 0.9755120 |\n",
       "| 2019 Q4 | 0.9016664 | 2649.014 | 1.0151028 |\n",
       "\n"
      ],
      "text/plain": [
       "        seasonal  trend    remainder\n",
       "2012 Q1 0.7567641 1557.960 0.9882032\n",
       "2012 Q2 1.1364516 1580.503 1.0117666\n",
       "2012 Q3 1.2895631 1603.326 1.0140794\n",
       "2012 Q4 0.9016664 1625.270 0.9812678\n",
       "2013 Q1 0.7567641 1648.370 1.0034252\n",
       "2013 Q2 1.1364516 1685.921 0.9880125\n",
       "2013 Q3 1.2895631 1722.153 1.0180903\n",
       "2013 Q4 0.9016664 1760.774 0.9952564\n",
       "2014 Q1 0.7567641 1802.322 0.9842859\n",
       "2014 Q2 1.1364516 1839.878 1.0170585\n",
       "2014 Q3 1.2895631 1884.167 1.0043823\n",
       "2014 Q4 0.9016664 1935.998 0.9709420\n",
       "2015 Q1 0.7567641 1994.193 1.0146883\n",
       "2015 Q2 1.1364516 2069.752 0.9969078\n",
       "2015 Q3 1.2895631 2149.866 0.9994635\n",
       "2015 Q4 0.9016664 2224.319 0.9951665\n",
       "2016 Q1 0.7567641 2282.276 1.0333239\n",
       "2016 Q2 1.1364516 2328.170 0.9822541\n",
       "2016 Q3 1.2895631 2349.363 1.0105119\n",
       "2016 Q4 0.9016664 2370.757 1.0007336\n",
       "2017 Q1 0.7567641 2392.064 0.9921952\n",
       "2017 Q2 1.1364516 2412.623 1.0100555\n",
       "2017 Q3 1.2895631 2450.474 0.9796074\n",
       "2017 Q4 0.9016664 2492.141 1.0106004\n",
       "2018 Q1 0.7567641 2538.396 0.9998609\n",
       "2018 Q2 1.1364516 2578.118 1.0075067\n",
       "2018 Q3 1.2895631 2615.105 0.9877111\n",
       "2018 Q4 0.9016664 2642.771 1.0125487\n",
       "2019 Q1 0.7567641 2653.639 1.0092230\n",
       "2019 Q2 1.1364516 2650.360 1.0032516\n",
       "2019 Q3 1.2895631 2650.589 0.9755120\n",
       "2019 Q4 0.9016664 2649.014 1.0151028"
      ]
     },
     "metadata": {},
     "output_type": "display_data"
    }
   ],
   "source": [
    "head(exp(stl_desc$time.series), 40)"
   ]
  },
  {
   "cell_type": "code",
   "execution_count": 125,
   "metadata": {
    "ExecuteTime": {
     "end_time": "2021-04-17T15:52:24.138581Z",
     "start_time": "2021-04-17T15:52:24.050Z"
    },
    "hidden": true
   },
   "outputs": [
    {
     "data": {
      "text/plain": [
       "    seasonal          trend        remainder     \n",
       " Min.   :0.7568   Min.   :1558   Min.   :0.9709  \n",
       " 1st Qu.:0.8654   1st Qu.:1792   1st Qu.:0.9882  \n",
       " Median :1.0191   Median :2253   Median :1.0020  \n",
       " Mean   :1.0211   Mean   :2161   Mean   :1.0004  \n",
       " 3rd Qu.:1.1747   3rd Qu.:2504   3rd Qu.:1.0109  \n",
       " Max.   :1.2896   Max.   :2654   Max.   :1.0333  "
      ]
     },
     "metadata": {},
     "output_type": "display_data"
    }
   ],
   "source": [
    "summary(exp(stl_desc$time.series))"
   ]
  },
  {
   "cell_type": "code",
   "execution_count": 131,
   "metadata": {
    "ExecuteTime": {
     "end_time": "2021-04-17T15:56:48.181148Z",
     "start_time": "2021-04-17T15:56:47.429Z"
    },
    "hidden": true
   },
   "outputs": [
    {
     "name": "stderr",
     "output_type": "stream",
     "text": [
      "Warning message in modeldf.default(object):\n",
      "\"Could not find appropriate degrees of freedom for this model.\"\n"
     ]
    },
    {
     "data": {
      "image/png": "[encoded data removed]",
      "text/plain": [
       "plot without title"
      ]
     },
     "metadata": {
      "image/png": {
       "height": 420,
       "width": 420
      }
     },
     "output_type": "display_data"
    }
   ],
   "source": [
    "checkresiduals(remainder(stl_desc))"
   ]
  },
  {
   "cell_type": "markdown",
   "metadata": {
    "ExecuteTime": {
     "end_time": "2021-04-07T09:53:17.738152Z",
     "start_time": "2021-04-07T09:53:17.686Z"
    }
   },
   "source": [
    "## First difference"
   ]
  },
  {
   "cell_type": "markdown",
   "metadata": {},
   "source": [
    "Transform the data using \"First difference\" to remove the trend"
   ]
  },
  {
   "cell_type": "code",
   "execution_count": 139,
   "metadata": {
    "ExecuteTime": {
     "end_time": "2021-04-17T16:04:59.552120Z",
     "start_time": "2021-04-17T16:04:59.231Z"
    }
   },
   "outputs": [],
   "source": [
    "?diff"
   ]
  },
  {
   "cell_type": "code",
   "execution_count": 27,
   "metadata": {
    "ExecuteTime": {
     "end_time": "2021-04-26T15:46:38.572984Z",
     "start_time": "2021-04-26T15:46:38.481Z"
    }
   },
   "outputs": [
    {
     "data": {
      "text/html": [
       "1"
      ],
      "text/latex": [
       "1"
      ],
      "text/markdown": [
       "1"
      ],
      "text/plain": [
       "[1] 1"
      ]
     },
     "metadata": {},
     "output_type": "display_data"
    }
   ],
   "source": [
    "ndiffs(trips)"
   ]
  },
  {
   "cell_type": "code",
   "execution_count": 28,
   "metadata": {
    "ExecuteTime": {
     "end_time": "2021-04-26T15:47:02.087543Z",
     "start_time": "2021-04-26T15:47:01.967Z"
    }
   },
   "outputs": [],
   "source": [
    "trips_diff <- diff(trips)\n",
    "DYLog <- diff(log(trips))"
   ]
  },
  {
   "cell_type": "code",
   "execution_count": 29,
   "metadata": {
    "ExecuteTime": {
     "end_time": "2021-04-26T15:47:04.348187Z",
     "start_time": "2021-04-26T15:47:03.391Z"
    }
   },
   "outputs": [
    {
     "data": {
      "image/png": "[encoded data removed]",
      "text/plain": [
       "plot without title"
      ]
     },
     "metadata": {
      "image/png": {
       "height": 420,
       "width": 420
      }
     },
     "output_type": "display_data"
    },
    {
     "data": {
      "image/png": "[encoded data removed]",
      "text/plain": [
       "plot without title"
      ]
     },
     "metadata": {
      "image/png": {
       "height": 420,
       "width": 420
      }
     },
     "output_type": "display_data"
    }
   ],
   "source": [
    "# Change from Quarter to quarter\n",
    "autoplot(trips_diff) + ggtitle(\"Time Plot: Change in Quaterly time series of overseas trips to Ireland by Non-Residents\") +\n",
    "ylab(\"Thousand of trips\")\n",
    "\n",
    "autoplot(DYLog) + ggtitle(\"Time Plot: LOG Change in Quaterly time series of overseas trips to Ireland by Non-Residents\") +\n",
    "ylab(\"Thousand of trips\")"
   ]
  },
  {
   "cell_type": "markdown",
   "metadata": {},
   "source": [
    "Trend has been removed. Investigate the Fluctuation. Does the irrgularities observed happen on the same quarter every year?"
   ]
  },
  {
   "cell_type": "code",
   "execution_count": 136,
   "metadata": {
    "ExecuteTime": {
     "end_time": "2021-04-17T16:03:58.791692Z",
     "start_time": "2021-04-17T16:03:58.546Z"
    }
   },
   "outputs": [
    {
     "data": {
      "image/png": "[encoded data removed]",
      "text/plain": [
       "plot without title"
      ]
     },
     "metadata": {
      "image/png": {
       "height": 420,
       "width": 420
      }
     },
     "output_type": "display_data"
    },
    {
     "data": {
      "image/png": "[encoded data removed]",
      "text/plain": [
       "plot without title"
      ]
     },
     "metadata": {
      "image/png": {
       "height": 420,
       "width": 420
      }
     },
     "output_type": "display_data"
    },
    {
     "data": {
      "image/png": "[encoded data removed]",
      "text/plain": [
       "plot without title"
      ]
     },
     "metadata": {
      "image/png": {
       "height": 420,
       "width": 420
      }
     },
     "output_type": "display_data"
    }
   ],
   "source": [
    "\n",
    "plot(trips)\n",
    "plot(log(trips)) # Variance will all be equal. Before it was increasing\n",
    "plot(diff(log(trips))) # Mean will be 0"
   ]
  },
  {
   "cell_type": "code",
   "execution_count": 137,
   "metadata": {
    "ExecuteTime": {
     "end_time": "2021-04-17T16:04:25.105421Z",
     "start_time": "2021-04-17T16:04:24.113Z"
    }
   },
   "outputs": [
    {
     "data": {
      "image/png": "[encoded data removed]",
      "text/plain": [
       "plot without title"
      ]
     },
     "metadata": {
      "image/png": {
       "height": 420,
       "width": 420
      }
     },
     "output_type": "display_data"
    },
    {
     "data": {
      "image/png": "[encoded data removed]",
      "text/plain": [
       "plot without title"
      ]
     },
     "metadata": {
      "image/png": {
       "height": 420,
       "width": 420
      }
     },
     "output_type": "display_data"
    }
   ],
   "source": [
    "ggseasonplot(trips_diff) + \n",
    "ggtitle(\"Seasonal Plot: Change in number pf overseas trips per quarter\") + \n",
    "ylab(\"Thousand of trips\")\n",
    "\n",
    "\n",
    "ggseasonplot(DYLog) + \n",
    "ggtitle(\"Seasonal Plot: Change in number pf overseas trips per quarter\") + \n",
    "ylab(\"Thousand of trips\")"
   ]
  },
  {
   "cell_type": "code",
   "execution_count": 138,
   "metadata": {
    "ExecuteTime": {
     "end_time": "2021-04-17T16:04:32.934067Z",
     "start_time": "2021-04-17T16:04:32.327Z"
    }
   },
   "outputs": [
    {
     "data": {
      "image/png": "[encoded data removed]",
      "text/plain": [
       "plot without title"
      ]
     },
     "metadata": {
      "image/png": {
       "height": 420,
       "width": 420
      }
     },
     "output_type": "display_data"
    },
    {
     "data": {
      "image/png": "[encoded data removed]",
      "text/plain": [
       "plot without title"
      ]
     },
     "metadata": {
      "image/png": {
       "height": 420,
       "width": 420
      }
     },
     "output_type": "display_data"
    }
   ],
   "source": [
    "## Another seasonal plot. Subseries plot\n",
    "ggsubseriesplot(trips_diff)\n",
    "ggsubseriesplot(DYLog)\n"
   ]
  },
  {
   "cell_type": "markdown",
   "metadata": {},
   "source": [
    "Average change from one quarter observed on differen years . From Q1 to to Q2 is positive"
   ]
  },
  {
   "cell_type": "code",
   "execution_count": 43,
   "metadata": {
    "ExecuteTime": {
     "end_time": "2021-04-26T17:19:32.724956Z",
     "start_time": "2021-04-26T17:19:32.666Z"
    }
   },
   "outputs": [
    {
     "data": {
      "text/plain": [
       "\n",
       "Call:\n",
       "arima(x = DYLog, order = c(0, 1, 1))\n",
       "\n",
       "Coefficients:\n",
       "         ma1\n",
       "      0.6713\n",
       "s.e.  0.1147\n",
       "\n",
       "sigma^2 estimated as 0.1345:  log likelihood = -12.77,  aic = 29.55"
      ]
     },
     "metadata": {},
     "output_type": "display_data"
    }
   ],
   "source": [
    "fit0 <- arima(DYLog, order=c(0,1,1))\n",
    "fit0"
   ]
  },
  {
   "cell_type": "code",
   "execution_count": 44,
   "metadata": {
    "ExecuteTime": {
     "end_time": "2021-04-26T17:19:35.512466Z",
     "start_time": "2021-04-26T17:19:35.441Z"
    }
   },
   "outputs": [
    {
     "data": {
      "text/plain": [
       "\n",
       "Call:\n",
       "arima(x = DYLog, order = c(1, 1, 1))\n",
       "\n",
       "Coefficients:\n",
       "         ar1      ma1\n",
       "      0.0329  -1.0000\n",
       "s.e.  0.1938   0.0897\n",
       "\n",
       "sigma^2 estimated as 0.08939:  log likelihood = -8.03,  aic = 22.07"
      ]
     },
     "metadata": {},
     "output_type": "display_data"
    }
   ],
   "source": [
    "fit1 <- arima(DYLog, order=c(1,1,1))\n",
    "fit1"
   ]
  },
  {
   "cell_type": "code",
   "execution_count": 45,
   "metadata": {
    "ExecuteTime": {
     "end_time": "2021-04-26T17:19:42.505628Z",
     "start_time": "2021-04-26T17:19:42.375Z"
    }
   },
   "outputs": [
    {
     "data": {
      "image/png": "[encoded data removed]",
      "text/plain": [
       "Plot with title \"Normal Q-Q Plot\""
      ]
     },
     "metadata": {
      "image/png": {
       "height": 420,
       "width": 420
      }
     },
     "output_type": "display_data"
    }
   ],
   "source": [
    "qqnorm(fit0$residuals)\n",
    "qqline(fit0$residuals)"
   ]
  },
  {
   "cell_type": "code",
   "execution_count": 46,
   "metadata": {
    "ExecuteTime": {
     "end_time": "2021-04-26T17:20:00.684509Z",
     "start_time": "2021-04-26T17:20:00.561Z"
    }
   },
   "outputs": [
    {
     "data": {
      "image/png": "[encoded data removed]",
      "text/plain": [
       "Plot with title \"Normal Q-Q Plot\""
      ]
     },
     "metadata": {
      "image/png": {
       "height": 420,
       "width": 420
      }
     },
     "output_type": "display_data"
    }
   ],
   "source": [
    "qqnorm(fit0$residuals)\n",
    "qqline(fit0$residuals)"
   ]
  },
  {
   "cell_type": "code",
   "execution_count": 47,
   "metadata": {
    "ExecuteTime": {
     "end_time": "2021-04-26T17:20:08.723391Z",
     "start_time": "2021-04-26T17:20:07.816Z"
    }
   },
   "outputs": [
    {
     "data": {
      "text/plain": [
       "Series: DYLog \n",
       "ARIMA(1,0,0)(0,1,1)[4] \n",
       "\n",
       "Coefficients:\n",
       "          ar1     sma1\n",
       "      -0.3600  -0.5209\n",
       "s.e.   0.1791   0.1797\n",
       "\n",
       "sigma^2 estimated as 0.0008094:  log likelihood=58.14\n",
       "AIC=-110.29   AICc=-109.24   BIC=-106.4"
      ]
     },
     "metadata": {},
     "output_type": "display_data"
    }
   ],
   "source": [
    "auto.arima(DYLog)"
   ]
  },
  {
   "cell_type": "markdown",
   "metadata": {
    "ExecuteTime": {
     "end_time": "2021-04-07T10:10:08.059201Z",
     "start_time": "2021-04-07T10:10:08.014Z"
    },
    "heading_collapsed": true
   },
   "source": [
    "## Forecasting"
   ]
  },
  {
   "cell_type": "code",
   "execution_count": null,
   "metadata": {
    "hidden": true
   },
   "outputs": [],
   "source": [
    "# Forecast with various methods"
   ]
  },
  {
   "cell_type": "code",
   "execution_count": null,
   "metadata": {
    "hidden": true
   },
   "outputs": [],
   "source": [
    "# Benchmark to forecast might not work well as it uses the mean\n",
    "# Lets try with naive method - Is there a strong sesonality??"
   ]
  },
  {
   "cell_type": "markdown",
   "metadata": {
    "heading_collapsed": true,
    "hidden": true
   },
   "source": [
    "### Seasonal Naive"
   ]
  },
  {
   "cell_type": "markdown",
   "metadata": {
    "hidden": true
   },
   "source": [
    "Raw data has a trend. We need to use the first difference data"
   ]
  },
  {
   "cell_type": "code",
   "execution_count": 156,
   "metadata": {
    "ExecuteTime": {
     "end_time": "2021-04-17T16:13:58.105426Z",
     "start_time": "2021-04-17T16:13:57.358Z"
    },
    "hidden": true
   },
   "outputs": [
    {
     "name": "stdout",
     "output_type": "stream",
     "text": [
      "\n",
      "Forecast method: Seasonal naive method\n",
      "\n",
      "Model Information:\n",
      "Call: snaive(y = trips_diff) \n",
      "\n",
      "Residual sd: 80.8587 \n",
      "\n",
      "Error measures:\n",
      "                   ME    RMSE      MAE      MPE    MAPE MASE       ACF1\n",
      "Training set -2.77037 80.8587 66.47407 4.009981 14.6496    1 -0.3017789\n",
      "\n",
      "Forecasts:\n",
      "        Point Forecast      Lo 80     Hi 80       Lo 95     Hi 95\n",
      "2020 Q1         -386.1  -489.7246 -282.4754  -544.58013 -227.6199\n",
      "2020 Q2          995.1   891.4754 1098.7246   836.61987 1153.5801\n",
      "2020 Q3          312.6   208.9754  416.2246   154.11987  471.0801\n",
      "2020 Q4         -909.8 -1013.4246 -806.1754 -1068.28013 -751.3199\n",
      "2021 Q1         -386.1  -532.6473 -239.5527  -610.22475 -161.9752\n",
      "2021 Q2          995.1   848.5527 1141.6473   770.97525 1219.2248\n",
      "2021 Q3          312.6   166.0527  459.1473    88.47525  536.7248\n",
      "2021 Q4         -909.8 -1056.3473 -763.2527 -1133.92475 -685.6752\n",
      "        Point Forecast      Lo 80     Hi 80       Lo 95     Hi 95\n",
      "2020 Q1         -386.1  -489.7246 -282.4754  -544.58013 -227.6199\n",
      "2020 Q2          995.1   891.4754 1098.7246   836.61987 1153.5801\n",
      "2020 Q3          312.6   208.9754  416.2246   154.11987  471.0801\n",
      "2020 Q4         -909.8 -1013.4246 -806.1754 -1068.28013 -751.3199\n",
      "2021 Q1         -386.1  -532.6473 -239.5527  -610.22475 -161.9752\n",
      "2021 Q2          995.1   848.5527 1141.6473   770.97525 1219.2248\n",
      "2021 Q3          312.6   166.0527  459.1473    88.47525  536.7248\n",
      "2021 Q4         -909.8 -1056.3473 -763.2527 -1133.92475 -685.6752\n",
      "\n",
      "\tLjung-Box test\n",
      "\n",
      "data:  Residuals from Seasonal naive method\n",
      "Q* = 7.2518, df = 6, p-value = 0.2982\n",
      "\n",
      "Model df: 0.   Total lags used: 6\n",
      "\n"
     ]
    },
    {
     "data": {
      "image/png": "[encoded data removed]",
      "text/plain": [
       "plot without title"
      ]
     },
     "metadata": {
      "image/png": {
       "height": 420,
       "width": 420
      }
     },
     "output_type": "display_data"
    }
   ],
   "source": [
    "fit <- snaive(trips_diff) \n",
    "print(summary(fit))\n",
    "checkresiduals(fit)"
   ]
  },
  {
   "cell_type": "code",
   "execution_count": 50,
   "metadata": {
    "ExecuteTime": {
     "end_time": "2021-04-08T09:27:18.997477Z",
     "start_time": "2021-04-08T09:27:18.207Z"
    },
    "hidden": true
   },
   "outputs": [
    {
     "name": "stdout",
     "output_type": "stream",
     "text": [
      "\n",
      "Forecast method: Seasonal naive method\n",
      "\n",
      "Model Information:\n",
      "Call: snaive(y = DYLog) \n",
      "\n",
      "Residual sd: 0.0343 \n",
      "\n",
      "Error measures:\n",
      "                       ME       RMSE        MAE       MPE     MAPE MASE\n",
      "Training set -0.002474705 0.03426858 0.02865224 -3.325866 14.16389    1\n",
      "                   ACF1\n",
      "Training set -0.3761935\n",
      "\n",
      "Forecasts:\n",
      "        Point Forecast       Lo 80      Hi 80        Lo 95       Hi 95\n",
      "2020 Q1    -0.17437904 -0.21829599 -0.1304621 -0.241544218 -0.10721387\n",
      "2020 Q2     0.39944383  0.35552688  0.4433608  0.332278652  0.46660900\n",
      "2020 Q3     0.09844007  0.05452313  0.1423570  0.031274899  0.16560525\n",
      "2020 Q4    -0.31862619 -0.36254314 -0.2747092 -0.385791365 -0.25146102\n",
      "2021 Q1    -0.17437904 -0.23648699 -0.1122711 -0.269364944 -0.07939314\n",
      "2021 Q2     0.39944383  0.33733588  0.4615518  0.304457926  0.49442973\n",
      "2021 Q3     0.09844007  0.03633213  0.1605480  0.003454173  0.19342597\n",
      "2021 Q4    -0.31862619 -0.38073413 -0.2565182 -0.413612091 -0.22364029\n",
      "        Point Forecast       Lo 80      Hi 80        Lo 95       Hi 95\n",
      "2020 Q1    -0.17437904 -0.21829599 -0.1304621 -0.241544218 -0.10721387\n",
      "2020 Q2     0.39944383  0.35552688  0.4433608  0.332278652  0.46660900\n",
      "2020 Q3     0.09844007  0.05452313  0.1423570  0.031274899  0.16560525\n",
      "2020 Q4    -0.31862619 -0.36254314 -0.2747092 -0.385791365 -0.25146102\n",
      "2021 Q1    -0.17437904 -0.23648699 -0.1122711 -0.269364944 -0.07939314\n",
      "2021 Q2     0.39944383  0.33733588  0.4615518  0.304457926  0.49442973\n",
      "2021 Q3     0.09844007  0.03633213  0.1605480  0.003454173  0.19342597\n",
      "2021 Q4    -0.31862619 -0.38073413 -0.2565182 -0.413612091 -0.22364029\n",
      "\n",
      "\tLjung-Box test\n",
      "\n",
      "data:  Residuals from Seasonal naive method\n",
      "Q* = 13.206, df = 6, p-value = 0.03987\n",
      "\n",
      "Model df: 0.   Total lags used: 6\n",
      "\n"
     ]
    },
    {
     "data": {
      "image/png": "[encoded data removed]",
      "text/plain": [
       "plot without title"
      ]
     },
     "metadata": {
      "image/png": {
       "height": 420,
       "width": 420
      }
     },
     "output_type": "display_data"
    }
   ],
   "source": [
    "fitLog <- snaive(DYLog) \n",
    "print(summary(fitLog))\n",
    "checkresiduals(fitLog)"
   ]
  },
  {
   "cell_type": "markdown",
   "metadata": {
    "hidden": true
   },
   "source": [
    "Residuals SD = 80.8587"
   ]
  },
  {
   "cell_type": "code",
   "execution_count": 58,
   "metadata": {
    "ExecuteTime": {
     "end_time": "2021-04-07T10:25:54.314320Z",
     "start_time": "2021-04-07T10:25:54.258Z"
    },
    "hidden": true
   },
   "outputs": [
    {
     "data": {
      "text/plain": [
       "        Point Forecast      Lo 80     Hi 80       Lo 95     Hi 95\n",
       "2020 Q1         -386.1  -489.7246 -282.4754  -544.58013 -227.6199\n",
       "2020 Q2          995.1   891.4754 1098.7246   836.61987 1153.5801\n",
       "2020 Q3          312.6   208.9754  416.2246   154.11987  471.0801\n",
       "2020 Q4         -909.8 -1013.4246 -806.1754 -1068.28013 -751.3199\n",
       "2021 Q1         -386.1  -532.6473 -239.5527  -610.22475 -161.9752\n",
       "2021 Q2          995.1   848.5527 1141.6473   770.97525 1219.2248\n",
       "2021 Q3          312.6   166.0527  459.1473    88.47525  536.7248\n",
       "2021 Q4         -909.8 -1056.3473 -763.2527 -1133.92475 -685.6752"
      ]
     },
     "metadata": {},
     "output_type": "display_data"
    }
   ],
   "source": [
    "fit"
   ]
  },
  {
   "cell_type": "markdown",
   "metadata": {
    "heading_collapsed": true,
    "hidden": true
   },
   "source": [
    "### FIT ETS Method"
   ]
  },
  {
   "cell_type": "code",
   "execution_count": 157,
   "metadata": {
    "ExecuteTime": {
     "end_time": "2021-04-17T16:15:05.108227Z",
     "start_time": "2021-04-17T16:15:04.829Z"
    },
    "hidden": true
   },
   "outputs": [],
   "source": [
    "fit_ets <- ets(trips)"
   ]
  },
  {
   "cell_type": "code",
   "execution_count": 158,
   "metadata": {
    "ExecuteTime": {
     "end_time": "2021-04-17T16:15:09.280433Z",
     "start_time": "2021-04-17T16:15:08.516Z"
    },
    "hidden": true
   },
   "outputs": [
    {
     "name": "stdout",
     "output_type": "stream",
     "text": [
      "ETS(M,A,M) \n",
      "\n",
      "Call:\n",
      " ets(y = trips) \n",
      "\n",
      "  Smoothing parameters:\n",
      "    alpha = 0.6696 \n",
      "    beta  = 0.0119 \n",
      "    gamma = 1e-04 \n",
      "\n",
      "  Initial states:\n",
      "    l = 1534.679 \n",
      "    b = 42.6526 \n",
      "    s = 0.8794 1.2604 1.1155 0.7447\n",
      "\n",
      "  sigma:  0.0269\n",
      "\n",
      "     AIC     AICc      BIC \n",
      "378.8267 387.0085 392.0183 \n",
      "\n",
      "Training set error measures:\n",
      "                   ME     RMSE      MAE        MPE     MAPE      MASE\n",
      "Training set -7.22914 54.69822 44.54334 -0.3013343 2.017642 0.2906987\n",
      "                    ACF1\n",
      "Training set -0.05187753\n",
      "                   ME     RMSE      MAE        MPE     MAPE      MASE\n",
      "Training set -7.22914 54.69822 44.54334 -0.3013343 2.017642 0.2906987\n",
      "                    ACF1\n",
      "Training set -0.05187753\n",
      "\n",
      "\tLjung-Box test\n",
      "\n",
      "data:  Residuals from ETS(M,A,M)\n",
      "Q* = 3.1329, df = 3, p-value = 0.3716\n",
      "\n",
      "Model df: 8.   Total lags used: 11\n",
      "\n"
     ]
    },
    {
     "data": {
      "image/png": "[encoded data removed]",
      "text/plain": [
       "plot without title"
      ]
     },
     "metadata": {
      "image/png": {
       "height": 420,
       "width": 420
      }
     },
     "output_type": "display_data"
    }
   ],
   "source": [
    "print(summary(fit_ets))\n",
    "checkresiduals(fit_ets)\n",
    "              "
   ]
  },
  {
   "cell_type": "markdown",
   "metadata": {
    "heading_collapsed": true,
    "hidden": true
   },
   "source": [
    "### FIT an ARIMA"
   ]
  },
  {
   "cell_type": "code",
   "execution_count": 159,
   "metadata": {
    "ExecuteTime": {
     "end_time": "2021-04-17T16:15:51.859662Z",
     "start_time": "2021-04-17T16:15:51.482Z"
    },
    "hidden": true
   },
   "outputs": [
    {
     "data": {
      "image/png": "[encoded data removed]",
      "text/plain": [
       "Plot with title \"Series  trips\""
      ]
     },
     "metadata": {
      "image/png": {
       "height": 420,
       "width": 420
      }
     },
     "output_type": "display_data"
    },
    {
     "data": {
      "image/png": "[encoded data removed]",
      "text/plain": [
       "Plot with title \"Series  diff(log(trips))\""
      ]
     },
     "metadata": {
      "image/png": {
       "height": 420,
       "width": 420
      }
     },
     "output_type": "display_data"
    },
    {
     "data": {
      "image/png": "[encoded data removed]",
      "text/plain": [
       "Plot with title \"Series  diff(log(trips))\""
      ]
     },
     "metadata": {
      "image/png": {
       "height": 420,
       "width": 420
      }
     },
     "output_type": "display_data"
    },
    {
     "data": {
      "image/png": "[encoded data removed]",
      "text/plain": [
       "plot without title"
      ]
     },
     "metadata": {
      "image/png": {
       "height": 420,
       "width": 420
      }
     },
     "output_type": "display_data"
    }
   ],
   "source": [
    "acf(trips)\n",
    "acf(diff(log(trips)))\n",
    "pacf(diff(log(trips)))\n",
    "plot(diff(log(trips)))"
   ]
  },
  {
   "cell_type": "code",
   "execution_count": 160,
   "metadata": {
    "ExecuteTime": {
     "end_time": "2021-04-17T16:16:07.980480Z",
     "start_time": "2021-04-17T16:16:05.137Z"
    },
    "hidden": true
   },
   "outputs": [
    {
     "name": "stdout",
     "output_type": "stream",
     "text": [
      "\n",
      " ARIMA(0,1,0)(0,1,0)[4]                    : -103.3878\n",
      " ARIMA(0,1,0)(0,1,1)[4]                    : -108.0205\n",
      " ARIMA(0,1,0)(0,1,2)[4]                    : -105.6066\n",
      " ARIMA(0,1,0)(1,1,0)[4]                    : -106.1052\n",
      " ARIMA(0,1,0)(1,1,1)[4]                    : -105.5464\n",
      " ARIMA(0,1,0)(1,1,2)[4]                    : Inf\n",
      " ARIMA(0,1,0)(2,1,0)[4]                    : -106.792\n",
      " ARIMA(0,1,0)(2,1,1)[4]                    : -104.5201\n",
      " ARIMA(0,1,0)(2,1,2)[4]                    : Inf\n",
      " ARIMA(0,1,1)(0,1,0)[4]                    : -104.4739\n",
      " ARIMA(0,1,1)(0,1,1)[4]                    : -108.3743\n",
      " ARIMA(0,1,1)(0,1,2)[4]                    : -105.7771\n",
      " ARIMA(0,1,1)(1,1,0)[4]                    : -107.0122\n",
      " ARIMA(0,1,1)(1,1,1)[4]                    : -105.7109\n",
      " ARIMA(0,1,1)(1,1,2)[4]                    : Inf\n",
      " ARIMA(0,1,1)(2,1,0)[4]                    : -106.5111\n",
      " ARIMA(0,1,1)(2,1,1)[4]                    : -103.8479\n",
      " ARIMA(0,1,1)(2,1,2)[4]                    : Inf\n",
      " ARIMA(0,1,2)(0,1,0)[4]                    : Inf\n",
      " ARIMA(0,1,2)(0,1,1)[4]                    : Inf\n",
      " ARIMA(0,1,2)(0,1,2)[4]                    : Inf\n",
      " ARIMA(0,1,2)(1,1,0)[4]                    : Inf\n",
      " ARIMA(0,1,2)(1,1,1)[4]                    : Inf\n",
      " ARIMA(0,1,2)(1,1,2)[4]                    : Inf\n",
      " ARIMA(0,1,2)(2,1,0)[4]                    : Inf\n",
      " ARIMA(0,1,2)(2,1,1)[4]                    : Inf\n",
      " ARIMA(0,1,3)(0,1,0)[4]                    : Inf\n",
      " ARIMA(0,1,3)(0,1,1)[4]                    : Inf\n",
      " ARIMA(0,1,3)(0,1,2)[4]                    : Inf\n",
      " ARIMA(0,1,3)(1,1,0)[4]                    : Inf\n",
      " ARIMA(0,1,3)(1,1,1)[4]                    : Inf\n",
      " ARIMA(0,1,3)(2,1,0)[4]                    : Inf\n",
      " ARIMA(1,1,0)(0,1,0)[4]                    : -105.0278\n",
      " ARIMA(1,1,0)(0,1,1)[4]                    : -109.2439\n",
      " ARIMA(1,1,0)(0,1,2)[4]                    : -106.8357\n",
      " ARIMA(1,1,0)(1,1,0)[4]                    : -108.1081\n",
      " ARIMA(1,1,0)(1,1,1)[4]                    : -106.6948\n",
      " ARIMA(1,1,0)(1,1,2)[4]                    : -103.92\n",
      " ARIMA(1,1,0)(2,1,0)[4]                    : -107.4684\n",
      " ARIMA(1,1,0)(2,1,1)[4]                    : -104.7996\n",
      " ARIMA(1,1,0)(2,1,2)[4]                    : Inf\n",
      " ARIMA(1,1,1)(0,1,0)[4]                    : -102.5213\n",
      " ARIMA(1,1,1)(0,1,1)[4]                    : -106.495\n",
      " ARIMA(1,1,1)(0,1,2)[4]                    : -103.8715\n",
      " ARIMA(1,1,1)(1,1,0)[4]                    : -105.3377\n",
      " ARIMA(1,1,1)(1,1,1)[4]                    : -103.7024\n",
      " ARIMA(1,1,1)(1,1,2)[4]                    : -100.683\n",
      " ARIMA(1,1,1)(2,1,0)[4]                    : -104.5844\n",
      " ARIMA(1,1,1)(2,1,1)[4]                    : -101.6277\n",
      " ARIMA(1,1,2)(0,1,0)[4]                    : Inf\n",
      " ARIMA(1,1,2)(0,1,1)[4]                    : Inf\n",
      " ARIMA(1,1,2)(0,1,2)[4]                    : Inf\n",
      " ARIMA(1,1,2)(1,1,0)[4]                    : Inf\n",
      " ARIMA(1,1,2)(1,1,1)[4]                    : Inf\n",
      " ARIMA(1,1,2)(2,1,0)[4]                    : Inf\n",
      " ARIMA(1,1,3)(0,1,0)[4]                    : Inf\n",
      " ARIMA(1,1,3)(0,1,1)[4]                    : Inf\n",
      " ARIMA(1,1,3)(1,1,0)[4]                    : Inf\n",
      " ARIMA(2,1,0)(0,1,0)[4]                    : -102.5924\n",
      " ARIMA(2,1,0)(0,1,1)[4]                    : -106.5288\n",
      " ARIMA(2,1,0)(0,1,2)[4]                    : -103.9761\n",
      " ARIMA(2,1,0)(1,1,0)[4]                    : -105.3444\n",
      " ARIMA(2,1,0)(1,1,1)[4]                    : -103.7631\n",
      " ARIMA(2,1,0)(1,1,2)[4]                    : -100.85\n",
      " ARIMA(2,1,0)(2,1,0)[4]                    : -104.7672\n",
      " ARIMA(2,1,0)(2,1,1)[4]                    : -101.8382\n",
      " ARIMA(2,1,1)(0,1,0)[4]                    : Inf\n",
      " ARIMA(2,1,1)(0,1,1)[4]                    : -103.9844\n",
      " ARIMA(2,1,1)(0,1,2)[4]                    : -101.6341\n",
      " ARIMA(2,1,1)(1,1,0)[4]                    : -102.8161\n",
      " ARIMA(2,1,1)(1,1,1)[4]                    : -101.1325\n",
      " ARIMA(2,1,1)(2,1,0)[4]                    : -102.2789\n",
      " ARIMA(2,1,2)(0,1,0)[4]                    : Inf\n",
      " ARIMA(2,1,2)(0,1,1)[4]                    : Inf\n",
      " ARIMA(2,1,2)(1,1,0)[4]                    : Inf\n",
      " ARIMA(2,1,3)(0,1,0)[4]                    : Inf\n",
      " ARIMA(3,1,0)(0,1,0)[4]                    : -104.0097\n",
      " ARIMA(3,1,0)(0,1,1)[4]                    : -105.3985\n",
      " ARIMA(3,1,0)(0,1,2)[4]                    : -102.5999\n",
      " ARIMA(3,1,0)(1,1,0)[4]                    : -105.0956\n",
      " ARIMA(3,1,0)(1,1,1)[4]                    : -102.3276\n",
      " ARIMA(3,1,0)(2,1,0)[4]                    : -102.7975\n",
      " ARIMA(3,1,1)(0,1,0)[4]                    : -101.4593\n",
      " ARIMA(3,1,1)(0,1,1)[4]                    : -102.0732\n",
      " ARIMA(3,1,1)(1,1,0)[4]                    : -101.7867\n",
      " ARIMA(3,1,2)(0,1,0)[4]                    : Inf\n",
      "\n",
      "\n",
      "\n",
      " Best model: ARIMA(1,1,0)(0,1,1)[4]                    \n",
      "\n",
      "Series: log(trips) \n",
      "ARIMA(1,1,0)(0,1,1)[4] \n",
      "\n",
      "Coefficients:\n",
      "          ar1     sma1\n",
      "      -0.3599  -0.5209\n",
      "s.e.   0.1791   0.1797\n",
      "\n",
      "sigma^2 estimated as 0.00082:  log likelihood=58.14\n",
      "AIC=-110.29   AICc=-109.24   BIC=-106.4\n",
      "\n",
      "Training set error measures:\n",
      "                       ME       RMSE        MAE         MPE      MAPE     MASE\n",
      "Training set -0.003313338 0.02530987 0.01921141 -0.03997991 0.2504446 0.262599\n",
      "                  ACF1\n",
      "Training set 0.0173941\n",
      "                       ME       RMSE        MAE         MPE      MAPE     MASE\n",
      "Training set -0.003313338 0.02530987 0.01921141 -0.03997991 0.2504446 0.262599\n",
      "                  ACF1\n",
      "Training set 0.0173941\n",
      "\n",
      "\tLjung-Box test\n",
      "\n",
      "data:  Residuals from ARIMA(1,1,0)(0,1,1)[4]\n",
      "Q* = 2.9674, df = 4, p-value = 0.5633\n",
      "\n",
      "Model df: 2.   Total lags used: 6\n",
      "\n"
     ]
    },
    {
     "data": {
      "image/png": "[encoded data removed]",
      "text/plain": [
       "plot without title"
      ]
     },
     "metadata": {
      "image/png": {
       "height": 420,
       "width": 420
      }
     },
     "output_type": "display_data"
    }
   ],
   "source": [
    "fit_arima_log <- auto.arima(log(trips), d=1, D=1, stepwise=FALSE, approximation=FALSE, trace=TRUE )\n",
    "print(summary(fit_arima_log))\n",
    "checkresiduals(fit_arima_log)"
   ]
  },
  {
   "cell_type": "code",
   "execution_count": 161,
   "metadata": {
    "ExecuteTime": {
     "end_time": "2021-04-17T16:16:24.076975Z",
     "start_time": "2021-04-17T16:16:21.481Z"
    },
    "hidden": true
   },
   "outputs": [
    {
     "name": "stdout",
     "output_type": "stream",
     "text": [
      "\n",
      " ARIMA(0,1,0)(0,1,0)[4]                    : 315.9887\n",
      " ARIMA(0,1,0)(0,1,1)[4]                    : 317.7796\n",
      " ARIMA(0,1,0)(0,1,2)[4]                    : 318.6819\n",
      " ARIMA(0,1,0)(1,1,0)[4]                    : 317.62\n",
      " ARIMA(0,1,0)(1,1,1)[4]                    : 320.0879\n",
      " ARIMA(0,1,0)(1,1,2)[4]                    : 319.64\n",
      " ARIMA(0,1,0)(2,1,0)[4]                    : 319.8007\n",
      " ARIMA(0,1,0)(2,1,1)[4]                    : Inf\n",
      " ARIMA(0,1,0)(2,1,2)[4]                    : Inf\n",
      " ARIMA(0,1,1)(0,1,0)[4]                    : 315.4824\n",
      " ARIMA(0,1,1)(0,1,1)[4]                    : 317.5143\n",
      " ARIMA(0,1,1)(0,1,2)[4]                    : 318.142\n",
      " ARIMA(0,1,1)(1,1,0)[4]                    : 317.3272\n",
      " ARIMA(0,1,1)(1,1,1)[4]                    : 319.9583\n",
      " ARIMA(0,1,1)(1,1,2)[4]                    : 319.528\n",
      " ARIMA(0,1,1)(2,1,0)[4]                    : 319.4374\n",
      " ARIMA(0,1,1)(2,1,1)[4]                    : 321.1285\n",
      " ARIMA(0,1,1)(2,1,2)[4]                    : Inf\n",
      " ARIMA(0,1,2)(0,1,0)[4]                    : 318.0258\n",
      " ARIMA(0,1,2)(0,1,1)[4]                    : 320.2116\n",
      " ARIMA(0,1,2)(0,1,2)[4]                    : 320.8175\n",
      " ARIMA(0,1,2)(1,1,0)[4]                    : 320.0159\n",
      " ARIMA(0,1,2)(1,1,1)[4]                    : 322.9517\n",
      " ARIMA(0,1,2)(1,1,2)[4]                    : Inf\n",
      " ARIMA(0,1,2)(2,1,0)[4]                    : 322.3732\n",
      " ARIMA(0,1,2)(2,1,1)[4]                    : 323.7001\n",
      " ARIMA(0,1,3)(0,1,0)[4]                    : Inf\n",
      " ARIMA(0,1,3)(0,1,1)[4]                    : Inf\n",
      " ARIMA(0,1,3)(0,1,2)[4]                    : Inf\n",
      " ARIMA(0,1,3)(1,1,0)[4]                    : Inf\n",
      " ARIMA(0,1,3)(1,1,1)[4]                    : Inf\n",
      " ARIMA(0,1,3)(2,1,0)[4]                    : Inf\n",
      " ARIMA(1,1,0)(0,1,0)[4]                    : 315.8662\n",
      " ARIMA(1,1,0)(0,1,1)[4]                    : 318.1049\n",
      " ARIMA(1,1,0)(0,1,2)[4]                    : 318.0858\n",
      " ARIMA(1,1,0)(1,1,0)[4]                    : 317.9772\n",
      " ARIMA(1,1,0)(1,1,1)[4]                    : Inf\n",
      " ARIMA(1,1,0)(1,1,2)[4]                    : Inf\n",
      " ARIMA(1,1,0)(2,1,0)[4]                    : 319.6355\n",
      " ARIMA(1,1,0)(2,1,1)[4]                    : 320.8849\n",
      " ARIMA(1,1,0)(2,1,2)[4]                    : Inf\n",
      " ARIMA(1,1,1)(0,1,0)[4]                    : 318.0258\n",
      " ARIMA(1,1,1)(0,1,1)[4]                    : 320.2471\n",
      " ARIMA(1,1,1)(0,1,2)[4]                    : 321.0096\n",
      " ARIMA(1,1,1)(1,1,0)[4]                    : 320.0566\n",
      " ARIMA(1,1,1)(1,1,1)[4]                    : Inf\n",
      " ARIMA(1,1,1)(1,1,2)[4]                    : Inf\n",
      " ARIMA(1,1,1)(2,1,0)[4]                    : 322.4429\n",
      " ARIMA(1,1,1)(2,1,1)[4]                    : 324.2091\n",
      " ARIMA(1,1,2)(0,1,0)[4]                    : 319.816\n",
      " ARIMA(1,1,2)(0,1,1)[4]                    : 322.5726\n",
      " ARIMA(1,1,2)(0,1,2)[4]                    : Inf\n",
      " ARIMA(1,1,2)(1,1,0)[4]                    : 322.4583\n",
      " ARIMA(1,1,2)(1,1,1)[4]                    : Inf\n",
      " ARIMA(1,1,2)(2,1,0)[4]                    : 325.5118\n",
      " ARIMA(1,1,3)(0,1,0)[4]                    : 321.6411\n",
      " ARIMA(1,1,3)(0,1,1)[4]                    : Inf\n",
      " ARIMA(1,1,3)(1,1,0)[4]                    : Inf\n",
      " ARIMA(2,1,0)(0,1,0)[4]                    : 317.726\n",
      " ARIMA(2,1,0)(0,1,1)[4]                    : 319.819\n",
      " ARIMA(2,1,0)(0,1,2)[4]                    : 320.9562\n",
      " ARIMA(2,1,0)(1,1,0)[4]                    : 319.6098\n",
      " ARIMA(2,1,0)(1,1,1)[4]                    : 322.5772\n",
      " ARIMA(2,1,0)(1,1,2)[4]                    : Inf\n",
      " ARIMA(2,1,0)(2,1,0)[4]                    : 322.259\n",
      " ARIMA(2,1,0)(2,1,1)[4]                    : 324.1907\n",
      " ARIMA(2,1,1)(0,1,0)[4]                    : 319.4503\n",
      " ARIMA(2,1,1)(0,1,1)[4]                    : 322.4627\n",
      " ARIMA(2,1,1)(0,1,2)[4]                    : Inf\n",
      " ARIMA(2,1,1)(1,1,0)[4]                    : 322.6386\n",
      " ARIMA(2,1,1)(1,1,1)[4]                    : 325.9037\n",
      " ARIMA(2,1,1)(2,1,0)[4]                    : Inf\n",
      " ARIMA(2,1,2)(0,1,0)[4]                    : Inf\n",
      " ARIMA(2,1,2)(0,1,1)[4]                    : Inf\n",
      " ARIMA(2,1,2)(1,1,0)[4]                    : Inf\n",
      " ARIMA(2,1,3)(0,1,0)[4]                    : Inf\n",
      " ARIMA(3,1,0)(0,1,0)[4]                    : 320.0036\n",
      " ARIMA(3,1,0)(0,1,1)[4]                    : 322.7715\n",
      " ARIMA(3,1,0)(0,1,2)[4]                    : 324.2295\n",
      " ARIMA(3,1,0)(1,1,0)[4]                    : 322.6271\n",
      " ARIMA(3,1,0)(1,1,1)[4]                    : Inf\n",
      " ARIMA(3,1,0)(2,1,0)[4]                    : 325.3226\n",
      " ARIMA(3,1,1)(0,1,0)[4]                    : 322.4862\n",
      " ARIMA(3,1,1)(0,1,1)[4]                    : 326.1041\n",
      " ARIMA(3,1,1)(1,1,0)[4]                    : 325.6854\n",
      " ARIMA(3,1,2)(0,1,0)[4]                    : Inf\n",
      "\n",
      "\n",
      "\n",
      " Best model: ARIMA(0,1,1)(0,1,0)[4]                    \n",
      "\n"
     ]
    }
   ],
   "source": [
    "fit_arima <- auto.arima(trips, d=1, D=1, stepwise=FALSE, approximation=FALSE, trace=TRUE) "
   ]
  },
  {
   "cell_type": "code",
   "execution_count": 162,
   "metadata": {
    "ExecuteTime": {
     "end_time": "2021-04-17T16:16:34.558401Z",
     "start_time": "2021-04-17T16:16:33.200Z"
    },
    "hidden": true
   },
   "outputs": [
    {
     "name": "stdout",
     "output_type": "stream",
     "text": [
      "Series: trips \n",
      "ARIMA(0,1,1)(0,1,0)[4] \n",
      "\n",
      "Coefficients:\n",
      "          ma1\n",
      "      -0.3294\n",
      "s.e.   0.1848\n",
      "\n",
      "sigma^2 estimated as 6085:  log likelihood=-155.49\n",
      "AIC=314.98   AICc=315.48   BIC=317.57\n",
      "\n",
      "Training set error measures:\n",
      "                    ME     RMSE      MAE        MPE     MAPE      MASE\n",
      "Training set -3.227264 70.31281 53.43007 -0.2903749 2.370922 0.3486952\n",
      "                    ACF1\n",
      "Training set -0.01268497\n",
      "                    ME     RMSE      MAE        MPE     MAPE      MASE\n",
      "Training set -3.227264 70.31281 53.43007 -0.2903749 2.370922 0.3486952\n",
      "                    ACF1\n",
      "Training set -0.01268497\n",
      "\n",
      "\tLjung-Box test\n",
      "\n",
      "data:  Residuals from ARIMA(0,1,1)(0,1,0)[4]\n",
      "Q* = 6.0507, df = 5, p-value = 0.3013\n",
      "\n",
      "Model df: 1.   Total lags used: 6\n",
      "\n"
     ]
    },
    {
     "data": {
      "image/png": "[encoded data removed]",
      "text/plain": [
       "plot without title"
      ]
     },
     "metadata": {
      "image/png": {
       "height": 420,
       "width": 420
      }
     },
     "output_type": "display_data"
    }
   ],
   "source": [
    "\n",
    "print(summary(fit_arima))\n",
    "checkresiduals(fit_arima)"
   ]
  },
  {
   "cell_type": "code",
   "execution_count": 163,
   "metadata": {
    "ExecuteTime": {
     "end_time": "2021-04-17T16:16:41.216916Z",
     "start_time": "2021-04-17T16:16:41.172Z"
    },
    "hidden": true
   },
   "outputs": [
    {
     "data": {
      "text/html": [
       "78.0064099930256"
      ],
      "text/latex": [
       "78.0064099930256"
      ],
      "text/markdown": [
       "78.0064099930256"
      ],
      "text/plain": [
       "[1] 78.00641"
      ]
     },
     "metadata": {},
     "output_type": "display_data"
    }
   ],
   "source": [
    "sqrt(6085)"
   ]
  },
  {
   "cell_type": "code",
   "execution_count": 36,
   "metadata": {
    "ExecuteTime": {
     "end_time": "2021-04-01T14:33:43.987728Z",
     "start_time": "2021-04-01T14:33:43.937Z"
    },
    "hidden": true
   },
   "outputs": [],
   "source": [
    "## Lets FORECAST"
   ]
  },
  {
   "cell_type": "code",
   "execution_count": 164,
   "metadata": {
    "ExecuteTime": {
     "end_time": "2021-04-17T16:16:44.324878Z",
     "start_time": "2021-04-17T16:16:43.919Z"
    },
    "hidden": true
   },
   "outputs": [
    {
     "data": {
      "image/png": "[encoded data removed]",
      "text/plain": [
       "plot without title"
      ]
     },
     "metadata": {
      "image/png": {
       "height": 420,
       "width": 420
      }
     },
     "output_type": "display_data"
    }
   ],
   "source": [
    "fcst <- forecast(fit_arima, h=8)\n",
    "autoplot(fcst)"
   ]
  },
  {
   "cell_type": "markdown",
   "metadata": {
    "hidden": true
   },
   "source": [
    "We can say that it make sense. Visualy inspecting, it capturing the seasonal patter, looks lke data is going to keep growing. "
   ]
  },
  {
   "cell_type": "code",
   "execution_count": 165,
   "metadata": {
    "ExecuteTime": {
     "end_time": "2021-04-17T16:16:50.272113Z",
     "start_time": "2021-04-17T16:16:50.222Z"
    },
    "hidden": true
   },
   "outputs": [
    {
     "name": "stdout",
     "output_type": "stream",
     "text": [
      "\n",
      "Forecast method: ARIMA(0,1,1)(0,1,0)[4]\n",
      "\n",
      "Model Information:\n",
      "Series: trips \n",
      "ARIMA(0,1,1)(0,1,0)[4] \n",
      "\n",
      "Coefficients:\n",
      "          ma1\n",
      "      -0.3294\n",
      "s.e.   0.1848\n",
      "\n",
      "sigma^2 estimated as 6085:  log likelihood=-155.49\n",
      "AIC=314.98   AICc=315.48   BIC=317.57\n",
      "\n",
      "Error measures:\n",
      "                    ME     RMSE      MAE        MPE     MAPE      MASE\n",
      "Training set -3.227264 70.31281 53.43007 -0.2903749 2.370922 0.3486952\n",
      "                    ACF1\n",
      "Training set -0.01268497\n",
      "\n",
      "Forecasts:\n",
      "        Point Forecast    Lo 80    Hi 80    Lo 95    Hi 95\n",
      "2020 Q1       2044.954 1944.986 2144.921 1892.067 2197.841\n",
      "2020 Q2       3040.054 2919.691 3160.417 2855.975 3224.133\n",
      "2020 Q3       3352.654 3214.883 3490.425 3141.951 3563.357\n",
      "2020 Q4       2442.854 2289.640 2596.068 2208.533 2677.175\n",
      "2021 Q1       2063.208 1836.570 2289.845 1716.596 2409.819\n",
      "2021 Q2       3058.308 2794.984 3321.631 2655.589 3461.026\n",
      "2021 Q3       3370.908 3075.418 3666.397 2918.996 3822.820\n",
      "2021 Q4       2461.108 2136.625 2785.590 1964.855 2957.361\n"
     ]
    }
   ],
   "source": [
    "summary(fcst)"
   ]
  }
 ],
 "metadata": {
  "kernelspec": {
   "display_name": "R",
   "language": "R",
   "name": "ir"
  },
  "language_info": {
   "codemirror_mode": "r",
   "file_extension": ".r",
   "mimetype": "text/x-r-source",
   "name": "R",
   "pygments_lexer": "r",
   "version": "4.0.4"
  },
  "toc": {
   "base_numbering": 1,
   "nav_menu": {},
   "number_sections": true,
   "sideBar": true,
   "skip_h1_title": false,
   "title_cell": "Table of Contents",
   "title_sidebar": "Contents",
   "toc_cell": false,
   "toc_position": {
    "height": "calc(100% - 180px)",
    "left": "10px",
    "top": "150px",
    "width": "180px"
   },
   "toc_section_display": true,
   "toc_window_display": true
  },
  "varInspector": {
   "cols": {
    "lenName": 16,
    "lenType": 16,
    "lenVar": 40
   },
   "kernels_config": {
    "python": {
     "delete_cmd_postfix": "",
     "delete_cmd_prefix": "del ",
     "library": "var_list.py",
     "varRefreshCmd": "print(var_dic_list())"
    },
    "r": {
     "delete_cmd_postfix": ") ",
     "delete_cmd_prefix": "rm(",
     "library": "var_list.r",
     "varRefreshCmd": "cat(var_dic_list()) "
    }
   },
   "types_to_exclude": [
    "module",
    "function",
    "builtin_function_or_method",
    "instance",
    "_Feature"
   ],
   "window_display": false
  }
 },
 "nbformat": 4,
 "nbformat_minor": 4
}
